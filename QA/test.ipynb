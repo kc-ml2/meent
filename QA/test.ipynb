{
 "cells": [
  {
   "cell_type": "code",
   "execution_count": 1,
   "metadata": {
    "collapsed": true
   },
   "outputs": [],
   "source": [
    "import jax\n",
    "import jax.numpy as jnp\n",
    "jax.config.update('jax_enable_x64', True)\n"
   ]
  },
  {
   "cell_type": "code",
   "execution_count": 2,
   "outputs": [],
   "source": [
    "a = jnp.array([\n",
    "    [[0, 0, 0, 1, 1, 1, 1, 0, 0, 0, ]],\n",
    "    [[1, 1, 1, 1, 0, 1, 1, 1, 1, 1, ]],\n",
    "]) * 4 + 1 + 0j  # refractive index\n"
   ],
   "metadata": {
    "collapsed": false
   }
  },
  {
   "cell_type": "code",
   "execution_count": 4,
   "outputs": [
    {
     "name": "stdout",
     "output_type": "stream",
     "text": [
      "1.93 µs ± 129 ns per loop (mean ± std. dev. of 7 runs, 1,000,000 loops each)\n"
     ]
    }
   ],
   "source": [
    "%timeit aa=a.conj()"
   ],
   "metadata": {
    "collapsed": false
   }
  },
  {
   "cell_type": "code",
   "execution_count": 3,
   "outputs": [
    {
     "name": "stdout",
     "output_type": "stream",
     "text": [
      "9.54 µs ± 24.1 ns per loop (mean ± std. dev. of 7 runs, 100,000 loops each)\n"
     ]
    }
   ],
   "source": [
    "%timeit aa = a.real + a.imag * -1j"
   ],
   "metadata": {
    "collapsed": false
   }
  },
  {
   "cell_type": "code",
   "execution_count": 4,
   "outputs": [
    {
     "name": "stdout",
     "output_type": "stream",
     "text": [
      "1.91 µs ± 93.4 ns per loop (mean ± std. dev. of 7 runs, 1,000,000 loops each)\n"
     ]
    }
   ],
   "source": [
    "%timeit aa=a.conj()"
   ],
   "metadata": {
    "collapsed": false
   }
  },
  {
   "cell_type": "code",
   "execution_count": 5,
   "outputs": [
    {
     "name": "stdout",
     "output_type": "stream",
     "text": [
      "9.61 µs ± 17 ns per loop (mean ± std. dev. of 7 runs, 100,000 loops each)\n"
     ]
    }
   ],
   "source": [
    "%timeit aa = a.real + a.imag * -1j"
   ],
   "metadata": {
    "collapsed": false
   }
  },
  {
   "cell_type": "code",
   "execution_count": 2,
   "outputs": [],
   "source": [
    "import jax\n",
    "import optax\n",
    "import jax.numpy as jnp\n",
    "\n",
    "from tqdm import tqdm"
   ],
   "metadata": {
    "collapsed": false
   }
  },
  {
   "cell_type": "code",
   "execution_count": 8,
   "outputs": [],
   "source": [
    "def _grad(params, forward, loss_fn):\n",
    "\n",
    "    def forward_pass(params, forward, loss):\n",
    "        result = forward(**params)\n",
    "        loss_value = loss(result)\n",
    "        return loss_value\n",
    "\n",
    "    loss_value, grads = jax.value_and_grad(forward_pass)(params, forward, loss_fn)\n",
    "    return loss_value, grads\n",
    "\n",
    "def grad(self, pois, forward, loss_fn):\n",
    "    params = {poi: (getattr(self, poi)) for poi in pois}\n",
    "    _, grads = self._grad(params, forward, loss_fn)\n",
    "    [setattr(self, poi, params[poi]) for poi in pois]\n",
    "\n",
    "    return grads\n",
    "\n",
    "def fit(self, pois, forward, loss_fn, optimizer, iteration=1):\n",
    "    params = {poi: (getattr(self, poi)) for poi in pois}\n",
    "    opt_state = optimizer.init(params)\n",
    "\n",
    "    @jax.jit\n",
    "    def step(params, opt_state):\n",
    "        loss_value, grads = self._grad(params, forward, loss_fn)\n",
    "        grads = {k: v.conj() for k, v in grads.items()}\n",
    "        updates, opt_state = optimizer.update(grads, opt_state, params)\n",
    "        params = optax.apply_updates(params, updates)\n",
    "        return params, opt_state, loss_value\n",
    "\n",
    "    for _ in tqdm(range(iteration)):\n",
    "        params, opt_state, loss_value = step(params, opt_state)\n",
    "\n",
    "    [setattr(self, poi, params[poi]) for poi in pois]\n",
    "\n",
    "    return params"
   ],
   "metadata": {
    "collapsed": false
   }
  },
  {
   "cell_type": "code",
   "execution_count": 3,
   "outputs": [],
   "source": [
    "\n",
    "@jax.grad\n",
    "def grad_loss(ucell):\n",
    "    loss = ucell.conj()[0,0]\n",
    "    return loss.real\n",
    "\n",
    "ucell = jnp.array([\n",
    "    [0, 0, 0, 1, 1, 1, 1, 0, 0, 0, ],\n",
    "    [1, 1, 1, 1, 0, 1, 1, 1, 1, 1, ],\n",
    "]) * 4 + 1 + 3j  # refractive index\n",
    "\n",
    "grad_ad = grad_loss(ucell)\n"
   ],
   "metadata": {
    "collapsed": false
   }
  },
  {
   "cell_type": "code",
   "execution_count": 4,
   "outputs": [
    {
     "data": {
      "text/plain": "Array([[1.-0.j, 0.-0.j, 0.-0.j, 0.-0.j, 0.-0.j, 0.-0.j, 0.-0.j, 0.-0.j,\n        0.-0.j, 0.-0.j],\n       [0.-0.j, 0.-0.j, 0.-0.j, 0.-0.j, 0.-0.j, 0.-0.j, 0.-0.j, 0.-0.j,\n        0.-0.j, 0.-0.j]], dtype=complex128)"
     },
     "execution_count": 4,
     "metadata": {},
     "output_type": "execute_result"
    }
   ],
   "source": [
    "grad_ad"
   ],
   "metadata": {
    "collapsed": false
   }
  },
  {
   "cell_type": "code",
   "execution_count": 30,
   "outputs": [],
   "source": [
    "@jax.jit\n",
    "def ff(arr):\n",
    "    res = arr.conj()\n",
    "    return res"
   ],
   "metadata": {
    "collapsed": false
   }
  },
  {
   "cell_type": "code",
   "execution_count": 31,
   "outputs": [],
   "source": [
    "def grad(ucell, forward):\n",
    "\n",
    "    def forward_pass(ucell, forward):\n",
    "        res = forward(ucell)\n",
    "        res = res.real[0,0]\n",
    "        return res\n",
    "\n",
    "    loss_value, grads = jax.value_and_grad(forward_pass)(ucell, forward)\n",
    "    return loss_value, grads\n"
   ],
   "metadata": {
    "collapsed": false
   }
  },
  {
   "cell_type": "code",
   "execution_count": 38,
   "outputs": [],
   "source": [
    "ucell = jnp.array([\n",
    "    [0, 0, 0, 1, 1, 1, 1, 0, 0, 0, ],\n",
    "    [1, 1, 1, 1, 0, 1, 1, 1, 1, 1, ],\n",
    "]) * 4 + 1 + 3j  # refractive index\n"
   ],
   "metadata": {
    "collapsed": false
   }
  },
  {
   "cell_type": "code",
   "execution_count": 39,
   "outputs": [
    {
     "data": {
      "text/plain": "(Array(1., dtype=float64, weak_type=True),\n Array([[1.-0.j, 0.-0.j, 0.-0.j, 0.-0.j, 0.-0.j, 0.-0.j, 0.-0.j, 0.-0.j,\n         0.-0.j, 0.-0.j],\n        [0.-0.j, 0.-0.j, 0.-0.j, 0.-0.j, 0.-0.j, 0.-0.j, 0.-0.j, 0.-0.j,\n         0.-0.j, 0.-0.j]], dtype=complex128))"
     },
     "execution_count": 39,
     "metadata": {},
     "output_type": "execute_result"
    }
   ],
   "source": [
    "grad(ucell, ff)"
   ],
   "metadata": {
    "collapsed": false
   }
  },
  {
   "cell_type": "code",
   "execution_count": null,
   "outputs": [],
   "source": [],
   "metadata": {
    "collapsed": false
   }
  }
 ],
 "metadata": {
  "kernelspec": {
   "display_name": "Python 3",
   "language": "python",
   "name": "python3"
  },
  "language_info": {
   "codemirror_mode": {
    "name": "ipython",
    "version": 2
   },
   "file_extension": ".py",
   "mimetype": "text/x-python",
   "name": "python",
   "nbconvert_exporter": "python",
   "pygments_lexer": "ipython2",
   "version": "2.7.6"
  }
 },
 "nbformat": 4,
 "nbformat_minor": 0
}
