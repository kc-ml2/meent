{
 "cells": [
  {
   "cell_type": "markdown",
   "metadata": {
    "collapsed": true
   },
   "source": [
    "# Meent Tutorial 3\n",
    "Device - CPU and GPU"
   ]
  },
  {
   "cell_type": "code",
   "execution_count": 1,
   "metadata": {
    "ExecuteTime": {
     "start_time": "2023-04-17T20:56:52.161568Z",
     "end_time": "2023-04-17T20:56:52.649404Z"
    }
   },
   "outputs": [],
   "source": [
    "import os\n",
    "\n",
    "os.environ[\"CUDA_DEVICE_ORDER\"] = \"PCI_BUS_ID\"\n",
    "os.environ[\"CUDA_VISIBLE_DEVICES\"] = '2'\n",
    "\n",
    "import time\n",
    "import numpy as np\n",
    "\n",
    "import meent"
   ]
  },
  {
   "cell_type": "code",
   "execution_count": 2,
   "metadata": {},
   "outputs": [],
   "source": [
    "# experiment options\n",
    "grating_type = 2\n",
    "pol = 0  # 0: TE, 1: TM\n",
    "\n",
    "n_I = 1  # n_incidence\n",
    "n_II = 1  # n_transmission\n",
    "\n",
    "theta = 20 * np.pi / 180\n",
    "phi = 50 * np.pi / 180\n",
    "\n",
    "wavelength = 900\n",
    "\n",
    "thickness = [500]\n",
    "period = [1000, 1000]\n",
    "\n",
    "fourier_order = [15, 15]\n",
    "res_x, res_y, res_z = 20, 20, 20\n",
    "\n",
    "ucell = np.array([\n",
    "            [\n",
    "                [0, 0, 0, 1, 1, 1, 1, 1, 1, 1, ],\n",
    "                [0, 0, 0, 1, 1, 1, 1, 1, 1, 1, ],\n",
    "                [0, 0, 0, 1, 1, 1, 1, 1, 1, 1, ],\n",
    "                [0, 0, 0, 1, 1, 1, 1, 1, 1, 1, ],\n",
    "                [0, 0, 0, 1, 1, 1, 1, 1, 1, 1, ],\n",
    "                [0, 0, 0, 1, 1, 0, 0, 0, 0, 0, ],\n",
    "                [0, 0, 0, 1, 1, 0, 0, 0, 0, 0, ],\n",
    "                [0, 0, 0, 1, 1, 0, 0, 0, 0, 0, ],\n",
    "                [0, 0, 0, 1, 1, 0, 0, 0, 0, 0, ],\n",
    "                [0, 0, 0, 1, 1, 0, 0, 0, 0, 0, ],\n",
    "            ],\n",
    "        ]) * 4 + 1"
   ]
  },
  {
   "cell_type": "markdown",
   "metadata": {},
   "source": [
    "## set device"
   ]
  },
  {
   "cell_type": "markdown",
   "metadata": {},
   "source": [
    "1. at initialization"
   ]
  },
  {
   "cell_type": "code",
   "execution_count": 3,
   "metadata": {},
   "outputs": [],
   "source": [
    "backend = 2  # TorchMeent\n",
    "device = 0 # CPU;\n",
    "dtype = 0\n",
    "mee = meent.call_mee(backend=backend, grating_type=grating_type, pol=pol, n_I=n_I, n_II=n_II, theta=theta, phi=phi,\n",
    "                     fourier_order=fourier_order, wavelength=wavelength, period=period, ucell=ucell,\n",
    "                     thickness=thickness, device=device, type_complex=dtype)\n",
    "\n",
    "    "
   ]
  },
  {
   "cell_type": "markdown",
   "metadata": {},
   "source": [
    "2. after initialization"
   ]
  },
  {
   "cell_type": "code",
   "execution_count": 4,
   "metadata": {},
   "outputs": [],
   "source": [
    "backend = 2  # TorchMeent\n",
    "\n",
    "mee = meent.call_mee(backend=backend, grating_type=grating_type, pol=pol, n_I=n_I, n_II=n_II, theta=theta, phi=phi,\n",
    "                     fourier_order=fourier_order, wavelength=wavelength, period=period, ucell=ucell,\n",
    "                     thickness=thickness, type_complex=dtype)\n",
    "mee.device = 0"
   ]
  },
  {
   "cell_type": "markdown",
   "metadata": {},
   "source": [
    "# Test"
   ]
  },
  {
   "cell_type": "markdown",
   "source": [
    "## PyTorch"
   ],
   "metadata": {
    "collapsed": false
   }
  },
  {
   "cell_type": "markdown",
   "source": [
    "### CPU, 64 bit"
   ],
   "metadata": {
    "collapsed": false
   }
  },
  {
   "cell_type": "code",
   "execution_count": 5,
   "outputs": [
    {
     "name": "stderr",
     "output_type": "stream",
     "text": [
      "/home/yongha/meent/meent/on_torch/emsolver/convolution_matrix.py:262: UserWarning: To copy construct from a tensor, it is recommended to use sourceTensor.clone().detach() or sourceTensor.clone().detach().requires_grad_(True), rather than torch.tensor(sourceTensor).\n",
      "  n = torch.tensor(n, device=device)\n",
      "/home/yongha/meent/meent/on_torch/emsolver/convolution_matrix.py:266: UserWarning: To copy construct from a tensor, it is recommended to use sourceTensor.clone().detach() or sourceTensor.clone().detach().requires_grad_(True), rather than torch.tensor(sourceTensor).\n",
      "  n = torch.tensor(n, device=device)\n",
      "/home/yongha/meent/meent/on_torch/emsolver/convolution_matrix.py:272: UserWarning: To copy construct from a tensor, it is recommended to use sourceTensor.clone().detach() or sourceTensor.clone().detach().requires_grad_(True), rather than torch.tensor(sourceTensor).\n",
      "  center = torch.tensor(center, device=device)\n"
     ]
    },
    {
     "name": "stdout",
     "output_type": "stream",
     "text": [
      "time for efficiency, 1st:  11.721152782440186\n",
      "time for efficiency, 2nd:  11.067322969436646\n",
      "time for field, 1st:  2.1146485805511475\n",
      "time for field, 2nd:  2.440572738647461\n",
      "time for efficiency and field in one step, 1st:  14.128047704696655\n",
      "time for efficiency and field in one step, 2nd:  13.695040941238403\n"
     ]
    }
   ],
   "source": [
    "backend = 2  # TorchMeent\n",
    "device = 0 # CPU;\n",
    "dtype = 0\n",
    "mee = meent.call_mee(backend=backend, grating_type=grating_type, pol=pol, n_I=n_I, n_II=n_II, theta=theta, phi=phi,\n",
    "                     fourier_order=fourier_order, wavelength=wavelength, period=period, ucell=ucell,\n",
    "                     thickness=thickness, device=device, type_complex=dtype)\n",
    "\n",
    "t0 = time.time()\n",
    "de_ri, de_ti = mee.conv_solve()\n",
    "print(f'time for efficiency, 1st: ', time.time() - t0)\n",
    "\n",
    "t0 = time.time()\n",
    "de_ri, de_ti = mee.conv_solve()\n",
    "print(f'time for efficiency, 2nd: ', time.time() - t0)\n",
    "\n",
    "t0 = time.time()\n",
    "field_cell = mee.calculate_field(res_x=res_x, res_y=res_y, res_z=res_z)\n",
    "print(f'time for field, 1st: ', time.time() - t0)\n",
    "\n",
    "t0 = time.time()\n",
    "field_cell = mee.calculate_field(res_x=res_x, res_y=res_y, res_z=res_z)\n",
    "print(f'time for field, 2nd: ', time.time() - t0)\n",
    "\n",
    "t0 = time.time()\n",
    "de_ri, de_ti, field_cell = mee.conv_solve_field(res_x=res_x, res_y=res_y, res_z=res_z)\n",
    "print(f'time for efficiency and field in one step, 1st: ', time.time() - t0)\n",
    "\n",
    "t0 = time.time()\n",
    "de_ri, de_ti, field_cell = mee.conv_solve_field(res_x=res_x, res_y=res_y, res_z=res_z)\n",
    "print(f'time for efficiency and field in one step, 2nd: ', time.time() - t0)\n"
   ],
   "metadata": {
    "collapsed": false
   }
  },
  {
   "cell_type": "markdown",
   "source": [
    "### GPU, 64 bit"
   ],
   "metadata": {
    "collapsed": false
   }
  },
  {
   "cell_type": "code",
   "execution_count": null,
   "outputs": [
    {
     "name": "stdout",
     "output_type": "stream",
     "text": [
      "time for efficiency, 1st:  11.287609577178955\n",
      "time for efficiency, 2nd:  10.698942422866821\n",
      "time for field, 1st:  0.27138710021972656\n",
      "time for field, 2nd:  0.37567734718322754\n",
      "time for efficiency and field in one step, 1st:  10.758961915969849\n"
     ]
    }
   ],
   "source": [
    "backend = 2  # TorchMeent\n",
    "device = 1 # GPU;\n",
    "dtype = 0\n",
    "mee = meent.call_mee(backend=backend, grating_type=grating_type, pol=pol, n_I=n_I, n_II=n_II, theta=theta, phi=phi,\n",
    "                     fourier_order=fourier_order, wavelength=wavelength, period=period, ucell=ucell,\n",
    "                     thickness=thickness, device=device, type_complex=dtype)\n",
    "\n",
    "t0 = time.time()\n",
    "de_ri, de_ti = mee.conv_solve()\n",
    "print(f'time for efficiency, 1st: ', time.time() - t0)\n",
    "\n",
    "t0 = time.time()\n",
    "de_ri, de_ti = mee.conv_solve()\n",
    "print(f'time for efficiency, 2nd: ', time.time() - t0)\n",
    "\n",
    "t0 = time.time()\n",
    "field_cell = mee.calculate_field(res_x=res_x, res_y=res_y, res_z=res_z)\n",
    "print(f'time for field, 1st: ', time.time() - t0)\n",
    "\n",
    "t0 = time.time()\n",
    "field_cell = mee.calculate_field(res_x=res_x, res_y=res_y, res_z=res_z)\n",
    "print(f'time for field, 2nd: ', time.time() - t0)\n",
    "\n",
    "t0 = time.time()\n",
    "de_ri, de_ti, field_cell = mee.conv_solve_field(res_x=res_x, res_y=res_y, res_z=res_z)\n",
    "print(f'time for efficiency and field in one step, 1st: ', time.time() - t0)\n",
    "\n",
    "t0 = time.time()\n",
    "de_ri, de_ti, field_cell = mee.conv_solve_field(res_x=res_x, res_y=res_y, res_z=res_z)\n",
    "print(f'time for efficiency and field in one step, 2nd: ', time.time() - t0)\n"
   ],
   "metadata": {
    "collapsed": false,
    "pycharm": {
     "is_executing": true
    }
   }
  },
  {
   "cell_type": "markdown",
   "source": [
    "### CPU, 32 bit"
   ],
   "metadata": {
    "collapsed": false
   }
  },
  {
   "cell_type": "code",
   "execution_count": null,
   "outputs": [],
   "source": [
    "backend = 2  # TorchMeent\n",
    "device = 0  # CPU;\n",
    "dtype = 1  # 32bit\n",
    "mee = meent.call_mee(backend=backend, grating_type=grating_type, pol=pol, n_I=n_I, n_II=n_II, theta=theta, phi=phi,\n",
    "                     fourier_order=fourier_order, wavelength=wavelength, period=period, ucell=ucell,\n",
    "                     thickness=thickness, device=device, type_complex=dtype)\n",
    "\n",
    "t0 = time.time()\n",
    "de_ri, de_ti = mee.conv_solve()\n",
    "print(f'time for efficiency, 1st: ', time.time() - t0)\n",
    "\n",
    "t0 = time.time()\n",
    "de_ri, de_ti = mee.conv_solve()\n",
    "print(f'time for efficiency, 2nd: ', time.time() - t0)\n",
    "\n",
    "t0 = time.time()\n",
    "field_cell = mee.calculate_field(res_x=res_x, res_y=res_y, res_z=res_z)\n",
    "print(f'time for field, 1st: ', time.time() - t0)\n",
    "\n",
    "t0 = time.time()\n",
    "field_cell = mee.calculate_field(res_x=res_x, res_y=res_y, res_z=res_z)\n",
    "print(f'time for field, 2nd: ', time.time() - t0)\n",
    "\n",
    "t0 = time.time()\n",
    "de_ri, de_ti, field_cell = mee.conv_solve_field(res_x=res_x, res_y=res_y, res_z=res_z)\n",
    "print(f'time for efficiency and field in one step, 1st: ', time.time() - t0)\n",
    "\n",
    "t0 = time.time()\n",
    "de_ri, de_ti, field_cell = mee.conv_solve_field(res_x=res_x, res_y=res_y, res_z=res_z)\n",
    "print(f'time for efficiency and field in one step, 2nd: ', time.time() - t0)\n"
   ],
   "metadata": {
    "collapsed": false,
    "pycharm": {
     "is_executing": true
    }
   }
  },
  {
   "cell_type": "markdown",
   "source": [
    "### GPU, 32 bit"
   ],
   "metadata": {
    "collapsed": false
   }
  },
  {
   "cell_type": "code",
   "execution_count": null,
   "outputs": [],
   "source": [
    "backend = 2  # TorchMeent\n",
    "device = 1  # CPU;\n",
    "dtype = 1  # 32bit\n",
    "mee = meent.call_mee(backend=backend, grating_type=grating_type, pol=pol, n_I=n_I, n_II=n_II, theta=theta, phi=phi,\n",
    "                     fourier_order=fourier_order, wavelength=wavelength, period=period, ucell=ucell,\n",
    "                     thickness=thickness, device=device, type_complex=dtype)\n",
    "\n",
    "t0 = time.time()\n",
    "de_ri, de_ti = mee.conv_solve()\n",
    "print(f'time for efficiency, 1st: ', time.time() - t0)\n",
    "\n",
    "t0 = time.time()\n",
    "de_ri, de_ti = mee.conv_solve()\n",
    "print(f'time for efficiency, 2nd: ', time.time() - t0)\n",
    "\n",
    "t0 = time.time()\n",
    "field_cell = mee.calculate_field(res_x=res_x, res_y=res_y, res_z=res_z)\n",
    "print(f'time for field, 1st: ', time.time() - t0)\n",
    "\n",
    "t0 = time.time()\n",
    "field_cell = mee.calculate_field(res_x=res_x, res_y=res_y, res_z=res_z)\n",
    "print(f'time for field, 2nd: ', time.time() - t0)\n",
    "\n",
    "t0 = time.time()\n",
    "de_ri, de_ti, field_cell = mee.conv_solve_field(res_x=res_x, res_y=res_y, res_z=res_z)\n",
    "print(f'time for efficiency and field in one step, 1st: ', time.time() - t0)\n",
    "\n",
    "t0 = time.time()\n",
    "de_ri, de_ti, field_cell = mee.conv_solve_field(res_x=res_x, res_y=res_y, res_z=res_z)\n",
    "print(f'time for efficiency and field in one step, 2nd: ', time.time() - t0)\n"
   ],
   "metadata": {
    "collapsed": false,
    "pycharm": {
     "is_executing": true
    }
   }
  },
  {
   "cell_type": "code",
   "execution_count": null,
   "outputs": [],
   "source": [],
   "metadata": {
    "collapsed": false,
    "pycharm": {
     "is_executing": true
    }
   }
  }
 ],
 "metadata": {
  "kernelspec": {
   "display_name": "Python 3 (ipykernel)",
   "language": "python",
   "name": "python3"
  },
  "language_info": {
   "codemirror_mode": {
    "name": "ipython",
    "version": 3
   },
   "file_extension": ".py",
   "mimetype": "text/x-python",
   "name": "python",
   "nbconvert_exporter": "python",
   "pygments_lexer": "ipython3",
   "version": "3.10.10"
  }
 },
 "nbformat": 4,
 "nbformat_minor": 1
}
