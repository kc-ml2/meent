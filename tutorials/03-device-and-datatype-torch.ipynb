{
 "cells": [
  {
   "cell_type": "markdown",
   "metadata": {
    "collapsed": true
   },
   "source": [
    "# Meent Tutorial 3\n",
    "Device - CPU and GPU"
   ]
  },
  {
   "cell_type": "code",
   "execution_count": 1,
   "metadata": {
    "ExecuteTime": {
     "end_time": "2023-04-17T20:56:52.649404Z",
     "start_time": "2023-04-17T20:56:52.161568Z"
    }
   },
   "outputs": [],
   "source": [
    "import os\n",
    "\n",
    "os.environ[\"CUDA_DEVICE_ORDER\"] = \"PCI_BUS_ID\"\n",
    "os.environ[\"CUDA_VISIBLE_DEVICES\"] = '0'\n",
    "\n",
    "import time\n",
    "import numpy as np\n",
    "\n",
    "import meent"
   ]
  },
  {
   "cell_type": "code",
   "execution_count": 2,
   "metadata": {},
   "outputs": [],
   "source": [
    "# experiment options\n",
    "pol = 0  # 0: TE, 1: TM\n",
    "\n",
    "n_top = 1  # n_topncidence\n",
    "n_bot = 1  # n_transmission\n",
    "\n",
    "theta = 20 * np.pi / 180\n",
    "phi = 50 * np.pi / 180\n",
    "\n",
    "wavelength = 900\n",
    "\n",
    "thickness = [500]\n",
    "period = [1000, 1000]\n",
    "\n",
    "fto = [15, 15]\n",
    "res_x, res_y, res_z = 20, 20, 20\n",
    "\n",
    "ucell = np.array([\n",
    "            [\n",
    "                [0, 0, 0, 1, 1, 1, 1, 1, 1, 1, ],\n",
    "                [0, 0, 0, 1, 1, 1, 1, 1, 1, 1, ],\n",
    "                [0, 0, 0, 1, 1, 1, 1, 1, 1, 1, ],\n",
    "                [0, 0, 0, 1, 1, 1, 1, 1, 1, 1, ],\n",
    "                [0, 0, 0, 1, 1, 1, 1, 1, 1, 1, ],\n",
    "                [0, 0, 0, 1, 1, 0, 0, 0, 0, 0, ],\n",
    "                [0, 0, 0, 1, 1, 0, 0, 0, 0, 0, ],\n",
    "                [0, 0, 0, 1, 1, 0, 0, 0, 0, 0, ],\n",
    "                [0, 0, 0, 1, 1, 0, 0, 0, 0, 0, ],\n",
    "                [0, 0, 0, 1, 1, 0, 0, 0, 0, 0, ],\n",
    "            ],\n",
    "        ]) * 4 + 1"
   ]
  },
  {
   "cell_type": "markdown",
   "metadata": {},
   "source": [
    "## set device"
   ]
  },
  {
   "cell_type": "markdown",
   "metadata": {},
   "source": [
    "1. at initialization"
   ]
  },
  {
   "cell_type": "code",
   "execution_count": 3,
   "metadata": {},
   "outputs": [],
   "source": [
    "backend = 2  # TorchMeent\n",
    "device = 0 # CPU;\n",
    "dtype = 0\n",
    "mee = meent.call_mee(backend=backend, pol=pol, n_top=n_top, n_bot=n_bot, theta=theta, phi=phi,\n",
    "                     fto=fto, wavelength=wavelength, period=period, ucell=ucell,\n",
    "                     thickness=thickness, device=device, type_complex=dtype)\n",
    "\n",
    "    "
   ]
  },
  {
   "cell_type": "markdown",
   "metadata": {},
   "source": [
    "2. after initialization"
   ]
  },
  {
   "cell_type": "code",
   "execution_count": 4,
   "metadata": {},
   "outputs": [],
   "source": [
    "backend = 2  # TorchMeent\n",
    "\n",
    "mee = meent.call_mee(backend=backend, pol=pol, n_top=n_top, n_bot=n_bot, theta=theta, phi=phi,\n",
    "                     fto=fto, wavelength=wavelength, period=period, ucell=ucell,\n",
    "                     thickness=thickness, type_complex=dtype)\n",
    "mee.device = 0"
   ]
  },
  {
   "cell_type": "markdown",
   "metadata": {},
   "source": [
    "# Test"
   ]
  },
  {
   "cell_type": "markdown",
   "metadata": {
    "collapsed": false
   },
   "source": [
    "## PyTorch"
   ]
  },
  {
   "cell_type": "markdown",
   "metadata": {
    "collapsed": false
   },
   "source": [
    "### CPU, 64 bit"
   ]
  },
  {
   "cell_type": "code",
   "execution_count": 5,
   "metadata": {
    "collapsed": false
   },
   "outputs": [
    {
     "name": "stderr",
     "output_type": "stream",
     "text": [
      "/home/yongha/meent/meent/on_torch/emsolver/convolution_matrix.py:262: UserWarning: To copy construct from a tensor, it is recommended to use sourceTensor.clone().detach() or sourceTensor.clone().detach().requires_grad_(True), rather than torch.tensor(sourceTensor).\n",
      "  n = torch.tensor(n, device=device)\n",
      "/home/yongha/meent/meent/on_torch/emsolver/convolution_matrix.py:266: UserWarning: To copy construct from a tensor, it is recommended to use sourceTensor.clone().detach() or sourceTensor.clone().detach().requires_grad_(True), rather than torch.tensor(sourceTensor).\n",
      "  n = torch.tensor(n, device=device)\n",
      "/home/yongha/meent/meent/on_torch/emsolver/convolution_matrix.py:272: UserWarning: To copy construct from a tensor, it is recommended to use sourceTensor.clone().detach() or sourceTensor.clone().detach().requires_grad_(True), rather than torch.tensor(sourceTensor).\n",
      "  center = torch.tensor(center, device=device)\n"
     ]
    },
    {
     "name": "stdout",
     "output_type": "stream",
     "text": [
      "time for efficiency, 1st:  10.62068796157837\n",
      "time for efficiency, 2nd:  11.160445928573608\n",
      "time for field, 1st:  2.2909114360809326\n",
      "time for field, 2nd:  2.246786117553711\n",
      "time for efficiency and field in one step, 1st:  11.363512992858887\n",
      "time for efficiency and field in one step, 2nd:  13.186446905136108\n"
     ]
    }
   ],
   "source": [
    "backend = 2  # TorchMeent\n",
    "device = 0 # CPU;\n",
    "dtype = 0\n",
    "mee = meent.call_mee(backend=backend, pol=pol, n_top=n_top, n_bot=n_bot, theta=theta, phi=phi,\n",
    "                     fto=fto, wavelength=wavelength, period=period, ucell=ucell,\n",
    "                     thickness=thickness, device=device, type_complex=dtype)\n",
    "\n",
    "t0 = time.time()\n",
    "mee.conv_solve()\n",
    "print(f'time for efficiency, 1st: ', time.time() - t0)\n",
    "\n",
    "t0 = time.time()\n",
    "mee.conv_solve()\n",
    "print(f'time for efficiency, 2nd: ', time.time() - t0)\n",
    "\n",
    "t0 = time.time()\n",
    "mee.calculate_field(res_x=res_x, res_y=res_y, res_z=res_z)\n",
    "print(f'time for field, 1st: ', time.time() - t0)\n",
    "\n",
    "t0 = time.time()\n",
    "mee.calculate_field(res_x=res_x, res_y=res_y, res_z=res_z)\n",
    "print(f'time for field, 2nd: ', time.time() - t0)\n",
    "\n",
    "t0 = time.time()\n",
    "mee.conv_solve_field(res_x=res_x, res_y=res_y, res_z=res_z)\n",
    "print(f'time for efficiency and field in one step, 1st: ', time.time() - t0)\n",
    "\n",
    "t0 = time.time()\n",
    "mee.conv_solve_field(res_x=res_x, res_y=res_y, res_z=res_z)\n",
    "print(f'time for efficiency and field in one step, 2nd: ', time.time() - t0)\n"
   ]
  },
  {
   "cell_type": "markdown",
   "metadata": {
    "collapsed": false
   },
   "source": [
    "### GPU, 64 bit"
   ]
  },
  {
   "cell_type": "code",
   "execution_count": 6,
   "metadata": {
    "collapsed": false
   },
   "outputs": [
    {
     "name": "stdout",
     "output_type": "stream",
     "text": [
      "time for efficiency, 1st:  11.453850507736206\n",
      "time for efficiency, 2nd:  10.205169916152954\n",
      "time for field, 1st:  0.2730429172515869\n",
      "time for field, 2nd:  0.37608838081359863\n",
      "time for efficiency and field in one step, 1st:  10.453550815582275\n",
      "time for efficiency and field in one step, 2nd:  10.50816559791565\n"
     ]
    }
   ],
   "source": [
    "backend = 2  # TorchMeent\n",
    "device = 1 # GPU;\n",
    "dtype = 0\n",
    "mee = meent.call_mee(backend=backend, pol=pol, n_top=n_top, n_bot=n_bot, theta=theta, phi=phi,\n",
    "                     fto=fto, wavelength=wavelength, period=period, ucell=ucell,\n",
    "                     thickness=thickness, device=device, type_complex=dtype)\n",
    "\n",
    "t0 = time.time()\n",
    "mee.conv_solve()\n",
    "print(f'time for efficiency, 1st: ', time.time() - t0)\n",
    "\n",
    "t0 = time.time()\n",
    "mee.conv_solve()\n",
    "print(f'time for efficiency, 2nd: ', time.time() - t0)\n",
    "\n",
    "t0 = time.time()\n",
    "mee.calculate_field(res_x=res_x, res_y=res_y, res_z=res_z)\n",
    "print(f'time for field, 1st: ', time.time() - t0)\n",
    "\n",
    "t0 = time.time()\n",
    "mee.calculate_field(res_x=res_x, res_y=res_y, res_z=res_z)\n",
    "print(f'time for field, 2nd: ', time.time() - t0)\n",
    "\n",
    "t0 = time.time()\n",
    "mee.conv_solve_field(res_x=res_x, res_y=res_y, res_z=res_z)\n",
    "print(f'time for efficiency and field in one step, 1st: ', time.time() - t0)\n",
    "\n",
    "t0 = time.time()\n",
    "mee.conv_solve_field(res_x=res_x, res_y=res_y, res_z=res_z)\n",
    "print(f'time for efficiency and field in one step, 2nd: ', time.time() - t0)\n"
   ]
  },
  {
   "cell_type": "markdown",
   "metadata": {
    "collapsed": false
   },
   "source": [
    "### CPU, 32 bit"
   ]
  },
  {
   "cell_type": "code",
   "execution_count": 7,
   "metadata": {
    "collapsed": false
   },
   "outputs": [
    {
     "name": "stdout",
     "output_type": "stream",
     "text": [
      "time for efficiency, 1st:  12.741153955459595\n",
      "time for efficiency, 2nd:  12.88903021812439\n",
      "time for field, 1st:  0.3924534320831299\n",
      "time for field, 2nd:  0.43109703063964844\n",
      "time for efficiency and field in one step, 1st:  14.301433086395264\n",
      "time for efficiency and field in one step, 2nd:  13.814810276031494\n"
     ]
    }
   ],
   "source": [
    "backend = 2  # TorchMeent\n",
    "device = 0  # CPU;\n",
    "dtype = 1  # 32bit\n",
    "mee = meent.call_mee(backend=backend, pol=pol, n_top=n_top, n_bot=n_bot, theta=theta, phi=phi,\n",
    "                     fto=fto, wavelength=wavelength, period=period, ucell=ucell,\n",
    "                     thickness=thickness, device=device, type_complex=dtype)\n",
    "\n",
    "t0 = time.time()\n",
    "mee.conv_solve()\n",
    "print(f'time for efficiency, 1st: ', time.time() - t0)\n",
    "\n",
    "t0 = time.time()\n",
    "mee.conv_solve()\n",
    "print(f'time for efficiency, 2nd: ', time.time() - t0)\n",
    "\n",
    "t0 = time.time()\n",
    "mee.calculate_field(res_x=res_x, res_y=res_y, res_z=res_z)\n",
    "print(f'time for field, 1st: ', time.time() - t0)\n",
    "\n",
    "t0 = time.time()\n",
    "mee.calculate_field(res_x=res_x, res_y=res_y, res_z=res_z)\n",
    "print(f'time for field, 2nd: ', time.time() - t0)\n",
    "\n",
    "t0 = time.time()\n",
    "mee.conv_solve_field(res_x=res_x, res_y=res_y, res_z=res_z)\n",
    "print(f'time for efficiency and field in one step, 1st: ', time.time() - t0)\n",
    "\n",
    "t0 = time.time()\n",
    "mee.conv_solve_field(res_x=res_x, res_y=res_y, res_z=res_z)\n",
    "print(f'time for efficiency and field in one step, 2nd: ', time.time() - t0)\n"
   ]
  },
  {
   "cell_type": "markdown",
   "metadata": {
    "collapsed": false
   },
   "source": [
    "### GPU, 32 bit"
   ]
  },
  {
   "cell_type": "code",
   "execution_count": 8,
   "metadata": {
    "collapsed": false
   },
   "outputs": [
    {
     "name": "stdout",
     "output_type": "stream",
     "text": [
      "time for efficiency, 1st:  3.8784255981445312\n",
      "time for efficiency, 2nd:  4.061480283737183\n",
      "time for field, 1st:  0.03484749794006348\n",
      "time for field, 2nd:  0.03699755668640137\n",
      "time for efficiency and field in one step, 1st:  3.9686903953552246\n",
      "time for efficiency and field in one step, 2nd:  3.844003438949585\n"
     ]
    }
   ],
   "source": [
    "backend = 2  # TorchMeent\n",
    "device = 1  # CPU;\n",
    "dtype = 1  # 32bit\n",
    "mee = meent.call_mee(backend=backend, pol=pol, n_top=n_top, n_bot=n_bot, theta=theta, phi=phi,\n",
    "                     fto=fto, wavelength=wavelength, period=period, ucell=ucell,\n",
    "                     thickness=thickness, device=device, type_complex=dtype)\n",
    "\n",
    "t0 = time.time()\n",
    "mee.conv_solve()\n",
    "print(f'time for efficiency, 1st: ', time.time() - t0)\n",
    "\n",
    "t0 = time.time()\n",
    "mee.conv_solve()\n",
    "print(f'time for efficiency, 2nd: ', time.time() - t0)\n",
    "\n",
    "t0 = time.time()\n",
    "mee.calculate_field(res_x=res_x, res_y=res_y, res_z=res_z)\n",
    "print(f'time for field, 1st: ', time.time() - t0)\n",
    "\n",
    "t0 = time.time()\n",
    "mee.calculate_field(res_x=res_x, res_y=res_y, res_z=res_z)\n",
    "print(f'time for field, 2nd: ', time.time() - t0)\n",
    "\n",
    "t0 = time.time()\n",
    "mee.conv_solve_field(res_x=res_x, res_y=res_y, res_z=res_z)\n",
    "print(f'time for efficiency and field in one step, 1st: ', time.time() - t0)\n",
    "\n",
    "t0 = time.time()\n",
    "mee.conv_solve_field(res_x=res_x, res_y=res_y, res_z=res_z)\n",
    "print(f'time for efficiency and field in one step, 2nd: ', time.time() - t0)\n"
   ]
  },
  {
   "cell_type": "code",
   "execution_count": 8,
   "metadata": {
    "collapsed": false
   },
   "outputs": [],
   "source": []
  }
 ],
 "metadata": {
  "kernelspec": {
   "display_name": "Python 3 (ipykernel)",
   "language": "python",
   "name": "python3"
  },
  "language_info": {
   "codemirror_mode": {
    "name": "ipython",
    "version": 3
   },
   "file_extension": ".py",
   "mimetype": "text/x-python",
   "name": "python",
   "nbconvert_exporter": "python",
   "pygments_lexer": "ipython3",
   "version": "3.10.10"
  }
 },
 "nbformat": 4,
 "nbformat_minor": 1
}
