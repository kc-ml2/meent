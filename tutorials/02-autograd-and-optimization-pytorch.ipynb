{
 "cells": [
  {
   "cell_type": "markdown",
   "metadata": {
    "collapsed": false
   },
   "source": [
    "# Meent Tutorial 2\n",
    "## Gradient and Optimization with [PyTorch](https://pytorch.org/)"
   ]
  },
  {
   "cell_type": "code",
   "execution_count": 2,
   "metadata": {
    "collapsed": false
   },
   "outputs": [],
   "source": [
    "import torch\n",
    "\n",
    "import meent\n",
    "# from meent.on_torch.optimizer.loss import LossDeflector\n",
    "from meent.on_torch.optimizer.optimizer import OptimizerTorch"
   ]
  },
  {
   "cell_type": "code",
   "execution_count": 3,
   "metadata": {
    "collapsed": false
   },
   "outputs": [],
   "source": [
    "backend = 2  # Torch\n",
    "\n",
    "pol = 0  # 0: TE, 1: TM\n",
    "\n",
    "n_top = 1  # n_topncidence\n",
    "n_bot = 1  # n_transmission\n",
    "\n",
    "theta = 0 * torch.pi / 180  # angle of incidence\n",
    "# phi = 0 * torch.pi / 180  # angle of rotation\n",
    "\n",
    "wavelength = 900\n",
    "\n",
    "thickness = torch.tensor([500., 1000.])  # thickness of each layer, from top to bottom.\n",
    "period = torch.tensor([1000.])  # length of the unit cell. Here it's 1D.\n",
    "\n",
    "fto = [10]\n",
    "\n",
    "type_complex = torch.complex128\n",
    "device = torch.device('cpu')"
   ]
  },
  {
   "cell_type": "code",
   "execution_count": 4,
   "metadata": {
    "collapsed": false
   },
   "outputs": [],
   "source": [
    "ucell_1d_m = torch.tensor([\n",
    "    [[0, 0, 0, 1, 1, 1, 1, 0, 0, 0, ]],\n",
    "    [[1, 1, 1, 1, 0, 1, 1, 1, 1, 1, ]],\n",
    "    ]) * 4 + 1.  # refractive index"
   ]
  },
  {
   "cell_type": "markdown",
   "metadata": {
    "collapsed": false
   },
   "source": [
    "## 2.1 Gradient\n",
    "Gradient can be calculated with the help of `torch.autograd` function.\n",
    "Read this for further information: [A GENTLE INTRODUCTION TO TORCH.AUTOGRAD](https://pytorch.org/tutorials/beginner/blitz/autograd_tutorial.html)\n",
    "\n",
    "Gradient can be utilized to solve optimization problems. Here are examples that show couple of ways to get gradient or optimized values with or without predefined functions of meent."
   ]
  },
  {
   "cell_type": "markdown",
   "metadata": {
    "collapsed": false
   },
   "source": [
    "### 2.1.1 Examples"
   ]
  },
  {
   "cell_type": "markdown",
   "metadata": {
    "collapsed": false
   },
   "source": [
    "Example 1: manually get gradient\n"
   ]
  },
  {
   "cell_type": "code",
   "execution_count": 5,
   "metadata": {
    "collapsed": false
   },
   "outputs": [
    {
     "name": "stdout",
     "output_type": "stream",
     "text": [
      "ucell gradient:\n",
      "tensor([[[-0.0511, -0.0253, -0.0073,  0.0787, -0.0184,  0.0945,  0.0878,\n",
      "          -0.0012, -0.0364, -0.0478]],\n",
      "\n",
      "        [[-0.1796, -0.0861, -0.2223, -0.1939,  0.0898,  0.0556, -0.0458,\n",
      "          -0.1360, -0.2984,  0.1287]]], dtype=torch.float64)\n",
      "thickness gradient:\n",
      "tensor([ 0.0022, -0.0067], dtype=torch.float64)\n"
     ]
    }
   ],
   "source": [
    "mee = meent.call_mee(backend=backend, pol=pol, n_top=n_top, n_bot=n_bot, theta=theta,\n",
    "                      fto=fto, wavelength=wavelength, period=period, ucell=ucell_1d_m, \n",
    "                      thickness=thickness, type_complex=type_complex, device=device)\n",
    "\n",
    "mee.ucell.requires_grad = True\n",
    "mee.thickness.requires_grad = True\n",
    "\n",
    "result = mee.conv_solve()\n",
    "res = result.res\n",
    "de_ri, de_ti = res.de_ri, res.de_ti\n",
    "loss = de_ti[de_ti.shape[0] // 2, de_ti.shape[1] // 2 + 1]\n",
    "\n",
    "loss.backward()\n",
    "print('ucell gradient:')\n",
    "print(mee.ucell.grad)\n",
    "print('thickness gradient:')\n",
    "print(mee.thickness.grad)"
   ]
  },
  {
   "cell_type": "markdown",
   "metadata": {
    "collapsed": false
   },
   "source": [
    "Example 2: using predefined 'grad' function in meent"
   ]
  },
  {
   "cell_type": "code",
   "execution_count": 6,
   "metadata": {},
   "outputs": [],
   "source": [
    "class Loss:\n",
    "    def __call__(self, meent_result, *args, **kwargs):\n",
    "        res_psi, res_te, res_ti = meent_result.res, meent_result.res_te_inc, meent_result.res_tm_inc\n",
    "        de_ti = res_psi.de_ti\n",
    "        center = [a // 2 for a in de_ti.shape]\n",
    "        res = de_ti[center[0], center[1]+1]\n",
    "\n",
    "        return res\n",
    "\n",
    "\n",
    "loss_fn = Loss()"
   ]
  },
  {
   "cell_type": "code",
   "execution_count": 7,
   "metadata": {
    "collapsed": false
   },
   "outputs": [
    {
     "name": "stdout",
     "output_type": "stream",
     "text": [
      "ucell gradient:\n",
      "tensor([[[-0.0511, -0.0253, -0.0073,  0.0787, -0.0184,  0.0945,  0.0878,\n",
      "          -0.0012, -0.0364, -0.0478]],\n",
      "\n",
      "        [[-0.1796, -0.0861, -0.2223, -0.1939,  0.0898,  0.0556, -0.0458,\n",
      "          -0.1360, -0.2984,  0.1287]]], dtype=torch.float64)\n",
      "thickness gradient:\n",
      "tensor([ 0.0022, -0.0067], dtype=torch.float64)\n"
     ]
    }
   ],
   "source": [
    "mee = meent.call_mee(backend=backend, pol=pol, n_top=n_top, n_bot=n_bot, theta=theta,\n",
    "                      fto=fto, wavelength=wavelength, period=period, ucell=ucell_1d_m, \n",
    "                      thickness=thickness, type_complex=type_complex, device=device)\n",
    "\n",
    "pois = ['ucell', 'thickness']  # Parameter Of Interests\n",
    "\n",
    "forward = mee.conv_solve\n",
    "\n",
    "grad = mee.grad(pois, forward, loss_fn)\n",
    "print('ucell gradient:')\n",
    "print(grad['ucell'])\n",
    "print('thickness gradient:')\n",
    "print(grad['thickness'])"
   ]
  },
  {
   "cell_type": "markdown",
   "metadata": {
    "collapsed": false
   },
   "source": [
    "## 2.2 Optimization"
   ]
  },
  {
   "cell_type": "markdown",
   "metadata": {
    "collapsed": false
   },
   "source": [
    "### 2.2.1 Examples"
   ]
  },
  {
   "cell_type": "markdown",
   "metadata": {
    "collapsed": false
   },
   "source": [
    "Example 1"
   ]
  },
  {
   "cell_type": "code",
   "execution_count": 8,
   "metadata": {
    "collapsed": false
   },
   "outputs": [
    {
     "name": "stdout",
     "output_type": "stream",
     "text": [
      "ucell final:\n",
      "tensor([[[1.0029, 1.0015, 1.0005, 4.9967, 5.0018, 4.9958, 4.9962, 1.0002,\n",
      "          1.0021, 1.0028]],\n",
      "\n",
      "        [[5.0054, 4.9999, 5.0082, 5.0065, 0.9933, 4.9925, 4.9984, 5.0037,\n",
      "          5.0133, 4.9886]]], dtype=torch.float64, requires_grad=True)\n",
      "thickness final:\n",
      "tensor([ 499.9999, 1000.0004], dtype=torch.float64, requires_grad=True)\n"
     ]
    }
   ],
   "source": [
    "mee = meent.call_mee(backend=backend, pol=pol, n_top=n_top, n_bot=n_bot, theta=theta,\n",
    "                      fto=fto, wavelength=wavelength, period=period, ucell=ucell_1d_m, \n",
    "                      thickness=thickness, type_complex=type_complex, device=device)\n",
    "\n",
    "mee.ucell.requires_grad = True\n",
    "mee.thickness.requires_grad = True\n",
    "opt = torch.optim.SGD([mee.ucell, mee.thickness], lr=1E-2, momentum=0.9)\n",
    "\n",
    "for _ in range(3):\n",
    "    result = mee.conv_solve()\n",
    "    res = result.res\n",
    "    de_ri, de_ti = res.de_ri, res.de_ti\n",
    "\n",
    "    center = de_ti.shape[1] // 2\n",
    "    loss = de_ti[0, center + 1]\n",
    "\n",
    "    loss.backward()\n",
    "    opt.step()\n",
    "    opt.zero_grad()\n",
    "\n",
    "print('ucell final:')\n",
    "print(mee.ucell)\n",
    "print('thickness final:')\n",
    "print(mee.thickness)"
   ]
  },
  {
   "cell_type": "markdown",
   "metadata": {
    "collapsed": false
   },
   "source": [
    "Example 2"
   ]
  },
  {
   "cell_type": "code",
   "execution_count": 9,
   "metadata": {
    "collapsed": false
   },
   "outputs": [
    {
     "name": "stderr",
     "output_type": "stream",
     "text": [
      "100%|██████████| 3/3 [00:00<00:00, 169.86it/s]"
     ]
    },
    {
     "name": "stdout",
     "output_type": "stream",
     "text": [
      "ucell final:\n",
      "tensor([[[1.0029, 1.0015, 1.0005, 4.9967, 5.0018, 4.9958, 4.9962, 1.0002,\n",
      "          1.0021, 1.0028]],\n",
      "\n",
      "        [[5.0054, 4.9999, 5.0082, 5.0065, 0.9933, 4.9925, 4.9984, 5.0037,\n",
      "          5.0133, 4.9886]]], dtype=torch.float64, requires_grad=True)\n",
      "thickness final:\n",
      "tensor([ 499.9999, 1000.0004], dtype=torch.float64, requires_grad=True)\n"
     ]
    },
    {
     "name": "stderr",
     "output_type": "stream",
     "text": [
      "\n"
     ]
    }
   ],
   "source": [
    "mee = meent.call_mee(backend=backend, pol=pol, n_top=n_top, n_bot=n_bot, theta=theta,\n",
    "                     fto=fto, wavelength=wavelength, period=period, ucell=ucell_1d_m, \n",
    "                     thickness=thickness, type_complex=type_complex, device=device)\n",
    "\n",
    "\n",
    "def forward_fn():\n",
    "\n",
    "    result = mee.conv_solve()\n",
    "    res = result.res\n",
    "    de_ri, de_ti = res.de_ri, res.de_ti\n",
    "\n",
    "    center = de_ti.shape[1] // 2\n",
    "    loss = de_ti[0, center + 1]\n",
    "    return loss\n",
    "\n",
    "pois = ['ucell', 'thickness']\n",
    "forward = forward_fn\n",
    "loss_fn = lambda x: x\n",
    "opt_torch = torch.optim.SGD\n",
    "opt_options = {'lr': 1E-2,\n",
    "               'momentum': 0.9,\n",
    "               }\n",
    "\n",
    "res = mee.fit(pois, forward, loss_fn, opt_torch, opt_options, iteration=3)\n",
    "\n",
    "print('ucell final:')\n",
    "print(res[0])\n",
    "print('thickness final:')\n",
    "print(res[1])"
   ]
  },
  {
   "cell_type": "markdown",
   "metadata": {
    "collapsed": false
   },
   "source": [
    "Example 3"
   ]
  },
  {
   "cell_type": "code",
   "execution_count": 10,
   "metadata": {
    "collapsed": false
   },
   "outputs": [
    {
     "name": "stderr",
     "output_type": "stream",
     "text": [
      "100%|██████████| 3/3 [00:00<00:00, 163.67it/s]"
     ]
    },
    {
     "name": "stdout",
     "output_type": "stream",
     "text": [
      "ucell final:\n",
      "tensor([[[1.0029, 1.0015, 1.0005, 4.9967, 5.0018, 4.9958, 4.9962, 1.0002,\n",
      "          1.0021, 1.0028]],\n",
      "\n",
      "        [[5.0054, 4.9999, 5.0082, 5.0065, 0.9933, 4.9925, 4.9984, 5.0037,\n",
      "          5.0133, 4.9886]]], dtype=torch.float64, requires_grad=True)\n",
      "thickness final:\n",
      "tensor([ 499.9999, 1000.0004], dtype=torch.float64, requires_grad=True)\n"
     ]
    },
    {
     "name": "stderr",
     "output_type": "stream",
     "text": [
      "\n"
     ]
    }
   ],
   "source": [
    "mee = meent.call_mee(backend=backend, pol=pol, n_top=n_top, n_bot=n_bot, theta=theta, \n",
    "                     fto=fto, wavelength=wavelength, period=period, ucell=ucell_1d_m, \n",
    "                     thickness=thickness, type_complex=type_complex, device=device)\n",
    "\n",
    "pois = ['ucell', 'thickness']\n",
    "\n",
    "forward = mee.conv_solve\n",
    "loss_fn = Loss()\n",
    "opt_torch = torch.optim.SGD\n",
    "opt_options = {'lr': 1E-2,\n",
    "               'momentum': 0.9,\n",
    "               }\n",
    "\n",
    "res = mee.fit(pois, forward, loss_fn, opt_torch, opt_options, iteration=3)\n",
    "\n",
    "print('ucell final:')\n",
    "print(res[0])\n",
    "print('thickness final:')\n",
    "print(res[1])"
   ]
  }
 ],
 "metadata": {
  "kernelspec": {
   "display_name": "Python 3",
   "language": "python",
   "name": "python3"
  },
  "language_info": {
   "codemirror_mode": {
    "name": "ipython",
    "version": 3
   },
   "file_extension": ".py",
   "mimetype": "text/x-python",
   "name": "python",
   "nbconvert_exporter": "python",
   "pygments_lexer": "ipython3",
   "version": "3.10.10"
  }
 },
 "nbformat": 4,
 "nbformat_minor": 0
}
