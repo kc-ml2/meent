{
 "cells": [
  {
   "cell_type": "markdown",
   "metadata": {},
   "source": [
    "# Meent Tutorial 2\n",
    "## Gradient and Optimization with [JAX](https://jax.readthedocs.io) and [Optax](https://optax.readthedocs.io/)"
   ]
  },
  {
   "cell_type": "code",
   "execution_count": 2,
   "metadata": {},
   "outputs": [
    {
     "name": "stderr",
     "output_type": "stream",
     "text": [
      "/Users/yongha/miniconda3/envs/meent/lib/python3.10/site-packages/jax/_src/api_util.py:190: SyntaxWarning: Jitted function has static_argnums=(1, 2, 3, 4), but only accepts 4 positional arguments. This warning will be replaced by an error after 2022-08-20 at the earliest.\n",
      "  warnings.warn(f\"Jitted function has {argnums_name}={argnums}, \"\n"
     ]
    }
   ],
   "source": [
    "import jax\n",
    "import optax\n",
    "\n",
    "import jax.numpy as jnp\n",
    "\n",
    "import meent\n",
    "from meent.on_jax.optimizer.loss import LossDeflector"
   ]
  },
  {
   "cell_type": "code",
   "execution_count": 3,
   "metadata": {},
   "outputs": [],
   "source": [
    "backend = 1  # JAX\n",
    "\n",
    "# common\n",
    "pol = 0  # 0: TE, 1: TM\n",
    "\n",
    "n_top = 1  # n_topncidence\n",
    "n_bot = 1  # n_transmission\n",
    "\n",
    "theta = 0 * jnp.pi / 180  # angle of incidence\n",
    "phi = 0 * jnp.pi / 180  # angle of rotation\n",
    "\n",
    "wavelength = 900\n",
    "\n",
    "thickness = [500., 1000.]  # thickness of each layer, from top to bottom.\n",
    "period = [1000.]  # length of the unit cell. Here it's 1D.\n",
    "\n",
    "fto = [10]\n",
    "\n",
    "type_complex = jnp.complex128"
   ]
  },
  {
   "cell_type": "code",
   "execution_count": 4,
   "metadata": {},
   "outputs": [],
   "source": [
    "ucell_1d_m = jnp.array([\n",
    "    [[0, 0, 0, 1, 1, 1, 1, 0, 0, 0, ]],\n",
    "    [[1, 1, 1, 1, 0, 1, 1, 1, 1, 1, ]],\n",
    "    ]) * 4. + 1.  # refractive index"
   ]
  },
  {
   "cell_type": "markdown",
   "metadata": {},
   "source": [
    "## 2.1 Gradient\n",
    "\n",
    "Gradient can be calculated with the help of `jax.value_and_grad` function.\n",
    "Read this for further information: [Automatic Differentiation](https://jax.readthedocs.io/en/latest/jax-101/04-advanced-autodiff.html)\n",
    "\n",
    "Optax is used for optimization. Like PyTorch, Optax also provides various loss functions and optimizers so users easily can utilize well-established implementations. Refer this tutorial: [Learn Optax](https://optax.readthedocs.io/en/latest/optax-101.html)\n",
    "\n",
    "\n",
    "Gradient can be utilized to solve optimization problems. Here are examples that show couple of ways to get gradient or optimized values with or without predefined functions of meent."
   ]
  },
  {
   "cell_type": "markdown",
   "metadata": {},
   "source": [
    "### 2.1.1 Examples"
   ]
  },
  {
   "cell_type": "code",
   "execution_count": 5,
   "metadata": {},
   "outputs": [
    {
     "name": "stdout",
     "output_type": "stream",
     "text": [
      "ucell gradient:\n",
      "[[[-0.05114874 -0.02533636 -0.00729883  0.07873582 -0.01841166\n",
      "    0.09447967  0.08779338 -0.0012304  -0.03640632 -0.04779842]]\n",
      "\n",
      " [[-0.17959986 -0.08614187 -0.22233491 -0.19389416  0.08978906\n",
      "    0.05564021 -0.04575985 -0.13595162 -0.29835993  0.12867445]]]\n",
      "thickness gradient:\n",
      "[ 0.00222043 -0.00671415]\n"
     ]
    }
   ],
   "source": [
    "mee = meent.call_mee(backend=backend, pol=pol, n_top=n_top, n_bot=n_bot, theta=theta, phi=phi, fto=fto, wavelength=wavelength, period=period, ucell=ucell_1d_m, thickness=thickness, type_complex=type_complex)\n",
    "\n",
    "pois = ['ucell', 'thickness']\n",
    "forward = mee.conv_solve\n",
    "loss_fn = LossDeflector(x_order=1, y_order=0)\n",
    "\n",
    "# case 1: Gradient\n",
    "grad = mee.grad(pois, forward, loss_fn)\n",
    "\n",
    "print('ucell gradient:')\n",
    "print(grad['ucell'])\n",
    "print('thickness gradient:')\n",
    "print(grad['thickness'])"
   ]
  },
  {
   "cell_type": "markdown",
   "metadata": {},
   "source": [
    "## 2.2 Optimization"
   ]
  },
  {
   "cell_type": "markdown",
   "metadata": {},
   "source": [
    "### 2.2.1 Examples"
   ]
  },
  {
   "cell_type": "markdown",
   "metadata": {},
   "source": [
    "Example 1"
   ]
  },
  {
   "cell_type": "code",
   "execution_count": 6,
   "metadata": {},
   "outputs": [
    {
     "name": "stderr",
     "output_type": "stream",
     "text": [
      "100%|██████████| 3/3 [00:05<00:00,  1.90s/it]"
     ]
    },
    {
     "name": "stdout",
     "output_type": "stream",
     "text": [
      "ucell final:\n",
      "[[[1.00286423 1.00145549 1.00050169 4.99666797 5.00175318 4.99580863\n",
      "   4.99617526 1.00015109 1.00214635 1.00275083]]\n",
      "\n",
      " [[5.0054235  4.99990456 5.00824621 5.0065062  0.99325253 4.99254125\n",
      "   4.99835018 5.00367578 5.01333396 4.9885967 ]]]\n",
      "thickness final:\n",
      "[ 499.99989253 1000.00039487]\n"
     ]
    },
    {
     "name": "stderr",
     "output_type": "stream",
     "text": [
      "\n"
     ]
    }
   ],
   "source": [
    "mee = meent.call_mee(backend=backend, pol=pol, n_top=n_top, n_bot=n_bot, theta=theta, phi=phi, fto=fto, wavelength=wavelength, period=period, ucell=ucell_1d_m, thickness=thickness, type_complex=type_complex)\n",
    "\n",
    "pois = ['ucell', 'thickness']\n",
    "forward = mee.conv_solve\n",
    "loss_fn = LossDeflector(x_order=1, y_order=0)\n",
    "\n",
    "# case 2: SGD\n",
    "optimizer = optax.sgd(learning_rate=1e-2, momentum=0.9)\n",
    "res = mee.fit(pois, forward, loss_fn, optimizer, iteration=3)\n",
    "\n",
    "print('ucell final:')\n",
    "print(res['ucell'])\n",
    "print('thickness final:')\n",
    "print(res['thickness'])"
   ]
  }
 ],
 "metadata": {
  "kernelspec": {
   "display_name": "Python 3 (ipykernel)",
   "language": "python",
   "name": "python3"
  },
  "language_info": {
   "codemirror_mode": {
    "name": "ipython",
    "version": 3
   },
   "file_extension": ".py",
   "mimetype": "text/x-python",
   "name": "python",
   "nbconvert_exporter": "python",
   "pygments_lexer": "ipython3",
   "version": "3.10.10"
  }
 },
 "nbformat": 4,
 "nbformat_minor": 1
}
