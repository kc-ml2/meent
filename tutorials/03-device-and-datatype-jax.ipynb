{
 "cells": [
  {
   "cell_type": "markdown",
   "metadata": {
    "collapsed": true
   },
   "source": [
    "# Meent Tutorial 3\n",
    "Device - CPU and GPU"
   ]
  },
  {
   "cell_type": "code",
   "execution_count": 1,
   "metadata": {
    "ExecuteTime": {
     "start_time": "2023-04-17T20:56:52.161568Z",
     "end_time": "2023-04-17T20:56:52.649404Z"
    }
   },
   "outputs": [],
   "source": [
    "import os\n",
    "\n",
    "os.environ[\"CUDA_DEVICE_ORDER\"] = \"PCI_BUS_ID\"\n",
    "os.environ[\"CUDA_VISIBLE_DEVICES\"] = '1'\n",
    "\n",
    "import time\n",
    "import numpy as np\n",
    "\n",
    "import meent"
   ]
  },
  {
   "cell_type": "code",
   "execution_count": 2,
   "metadata": {},
   "outputs": [],
   "source": [
    "# experiment options\n",
    "grating_type = 2\n",
    "pol = 0  # 0: TE, 1: TM\n",
    "\n",
    "n_I = 1  # n_incidence\n",
    "n_II = 1  # n_transmission\n",
    "\n",
    "theta = 20 * np.pi / 180\n",
    "phi = 50 * np.pi / 180\n",
    "\n",
    "wavelength = 900\n",
    "\n",
    "thickness = [500]\n",
    "period = [1000, 1000]\n",
    "\n",
    "fourier_order = [15, 15]\n",
    "res_x, res_y, res_z = 20, 20, 20\n",
    "\n",
    "ucell = np.array([\n",
    "            [\n",
    "                [0, 0, 0, 1, 1, 1, 1, 1, 1, 1, ],\n",
    "                [0, 0, 0, 1, 1, 1, 1, 1, 1, 1, ],\n",
    "                [0, 0, 0, 1, 1, 1, 1, 1, 1, 1, ],\n",
    "                [0, 0, 0, 1, 1, 1, 1, 1, 1, 1, ],\n",
    "                [0, 0, 0, 1, 1, 1, 1, 1, 1, 1, ],\n",
    "                [0, 0, 0, 1, 1, 0, 0, 0, 0, 0, ],\n",
    "                [0, 0, 0, 1, 1, 0, 0, 0, 0, 0, ],\n",
    "                [0, 0, 0, 1, 1, 0, 0, 0, 0, 0, ],\n",
    "                [0, 0, 0, 1, 1, 0, 0, 0, 0, 0, ],\n",
    "                [0, 0, 0, 1, 1, 0, 0, 0, 0, 0, ],\n",
    "            ],\n",
    "        ]) * 4 + 1"
   ]
  },
  {
   "cell_type": "markdown",
   "metadata": {},
   "source": [
    "## set device"
   ]
  },
  {
   "cell_type": "markdown",
   "metadata": {},
   "source": [
    "1. at initialization"
   ]
  },
  {
   "cell_type": "code",
   "execution_count": 3,
   "metadata": {},
   "outputs": [],
   "source": [
    "backend = 1  # JaxMeent\n",
    "device = 0 # CPU;\n",
    "dtype = 0\n",
    "mee = meent.call_mee(backend=backend, grating_type=grating_type, pol=pol, n_I=n_I, n_II=n_II, theta=theta, phi=phi,\n",
    "                     fourier_order=fourier_order, wavelength=wavelength, period=period, ucell=ucell,\n",
    "                     thickness=thickness, device=device, type_complex=dtype)\n",
    "\n",
    "    "
   ]
  },
  {
   "cell_type": "markdown",
   "metadata": {},
   "source": [
    "2. after initialization"
   ]
  },
  {
   "cell_type": "code",
   "execution_count": 4,
   "metadata": {},
   "outputs": [],
   "source": [
    "backend = 1  # JaxMeent\n",
    "\n",
    "mee = meent.call_mee(backend=backend, grating_type=grating_type, pol=pol, n_I=n_I, n_II=n_II, theta=theta, phi=phi,\n",
    "                     fourier_order=fourier_order, wavelength=wavelength, period=period, ucell=ucell,\n",
    "                     thickness=thickness, type_complex=dtype)\n",
    "mee.device = 0"
   ]
  },
  {
   "cell_type": "markdown",
   "metadata": {},
   "source": [
    "# Test"
   ]
  },
  {
   "cell_type": "markdown",
   "source": [
    "## JAX"
   ],
   "metadata": {
    "collapsed": false
   }
  },
  {
   "cell_type": "markdown",
   "metadata": {},
   "source": [
    "### CPU, 64 bit"
   ]
  },
  {
   "cell_type": "code",
   "execution_count": 5,
   "metadata": {},
   "outputs": [
    {
     "name": "stderr",
     "output_type": "stream",
     "text": [
      "/home/yongha/anaconda3/envs/meent/lib/python3.10/site-packages/numpy/core/getlimits.py:500: UserWarning: The value of the smallest subnormal for <class 'numpy.float64'> type is zero.\n",
      "  setattr(self, word, getattr(machar, word).flat[0])\n",
      "/home/yongha/anaconda3/envs/meent/lib/python3.10/site-packages/numpy/core/getlimits.py:89: UserWarning: The value of the smallest subnormal for <class 'numpy.float64'> type is zero.\n",
      "  return self._float_to_str(self.smallest_subnormal)\n"
     ]
    },
    {
     "name": "stdout",
     "output_type": "stream",
     "text": [
      "time for efficiency, 1st:  16.21108341217041\n",
      "time for efficiency, 2nd:  12.845912218093872\n",
      "time for field, 1st:  10.160243511199951\n",
      "time for field, 2nd:  8.411385774612427\n",
      "time for efficiency and field in one step, 1st:  19.478633165359497\n",
      "time for efficiency and field in one step, 2nd:  9.776233911514282\n"
     ]
    }
   ],
   "source": [
    "backend = 1  # JaxMeent\n",
    "device = 0 # CPU;\n",
    "dtype = 0\n",
    "mee = meent.call_mee(backend=backend, grating_type=grating_type, pol=pol, n_I=n_I, n_II=n_II, theta=theta, phi=phi,\n",
    "                     fourier_order=fourier_order, wavelength=wavelength, period=period, ucell=ucell,\n",
    "                     thickness=thickness, device=device, type_complex=dtype)\n",
    "\n",
    "t0 = time.time()\n",
    "de_ri, de_ti = mee.conv_solve()\n",
    "print(f'time for efficiency, 1st: ', time.time() - t0)\n",
    "\n",
    "t0 = time.time()\n",
    "de_ri, de_ti = mee.conv_solve()\n",
    "print(f'time for efficiency, 2nd: ', time.time() - t0)\n",
    "\n",
    "t0 = time.time()\n",
    "field_cell = mee.calculate_field(res_x=res_x, res_y=res_y, res_z=res_z)\n",
    "print(f'time for field, 1st: ', time.time() - t0)\n",
    "\n",
    "t0 = time.time()\n",
    "field_cell = mee.calculate_field(res_x=res_x, res_y=res_y, res_z=res_z)\n",
    "print(f'time for field, 2nd: ', time.time() - t0)\n",
    "\n",
    "t0 = time.time()\n",
    "de_ri, de_ti, field_cell = mee.conv_solve_field(res_x=res_x, res_y=res_y, res_z=res_z)\n",
    "print(f'time for efficiency and field in one step, 1st: ', time.time() - t0)\n",
    "\n",
    "t0 = time.time()\n",
    "de_ri, de_ti, field_cell = mee.conv_solve_field(res_x=res_x, res_y=res_y, res_z=res_z)\n",
    "print(f'time for efficiency and field in one step, 2nd: ', time.time() - t0)\n"
   ]
  },
  {
   "cell_type": "markdown",
   "metadata": {},
   "source": [
    "### GPU, 64 bit"
   ]
  },
  {
   "cell_type": "code",
   "execution_count": 6,
   "metadata": {},
   "outputs": [
    {
     "name": "stdout",
     "output_type": "stream",
     "text": [
      "time for efficiency, 1st:  15.77546501159668\n",
      "time for efficiency, 2nd:  9.386536359786987\n",
      "time for field, 1st:  8.56520938873291\n",
      "time for field, 2nd:  0.47307538986206055\n",
      "time for efficiency and field in one step, 1st:  15.82214903831482\n",
      "time for efficiency and field in one step, 2nd:  9.904550552368164\n"
     ]
    }
   ],
   "source": [
    "backend = 1  # JaxMeent\n",
    "device = 1 # GPU;\n",
    "dtype = 0\n",
    "mee = meent.call_mee(backend=backend, grating_type=grating_type, pol=pol, n_I=n_I, n_II=n_II, theta=theta, phi=phi,\n",
    "                     fourier_order=fourier_order, wavelength=wavelength, period=period, ucell=ucell,\n",
    "                     thickness=thickness, device=device, type_complex=dtype)\n",
    "\n",
    "t0 = time.time()\n",
    "de_ri, de_ti = mee.conv_solve()\n",
    "print(f'time for efficiency, 1st: ', time.time() - t0)\n",
    "\n",
    "t0 = time.time()\n",
    "de_ri, de_ti = mee.conv_solve()\n",
    "print(f'time for efficiency, 2nd: ', time.time() - t0)\n",
    "\n",
    "t0 = time.time()\n",
    "field_cell = mee.calculate_field(res_x=res_x, res_y=res_y, res_z=res_z)\n",
    "print(f'time for field, 1st: ', time.time() - t0)\n",
    "\n",
    "t0 = time.time()\n",
    "field_cell = mee.calculate_field(res_x=res_x, res_y=res_y, res_z=res_z)\n",
    "print(f'time for field, 2nd: ', time.time() - t0)\n",
    "\n",
    "t0 = time.time()\n",
    "de_ri, de_ti, field_cell = mee.conv_solve_field(res_x=res_x, res_y=res_y, res_z=res_z)\n",
    "print(f'time for efficiency and field in one step, 1st: ', time.time() - t0)\n",
    "\n",
    "t0 = time.time()\n",
    "de_ri, de_ti, field_cell = mee.conv_solve_field(res_x=res_x, res_y=res_y, res_z=res_z)\n",
    "print(f'time for efficiency and field in one step, 2nd: ', time.time() - t0)\n"
   ]
  },
  {
   "cell_type": "markdown",
   "source": [
    "### CPU, 32 bit"
   ],
   "metadata": {
    "collapsed": false
   }
  },
  {
   "cell_type": "code",
   "execution_count": 7,
   "outputs": [
    {
     "name": "stderr",
     "output_type": "stream",
     "text": [
      "/home/yongha/anaconda3/envs/meent/lib/python3.10/site-packages/numpy/core/getlimits.py:500: UserWarning: The value of the smallest subnormal for <class 'numpy.float32'> type is zero.\n",
      "  setattr(self, word, getattr(machar, word).flat[0])\n",
      "/home/yongha/anaconda3/envs/meent/lib/python3.10/site-packages/numpy/core/getlimits.py:89: UserWarning: The value of the smallest subnormal for <class 'numpy.float32'> type is zero.\n",
      "  return self._float_to_str(self.smallest_subnormal)\n"
     ]
    },
    {
     "name": "stdout",
     "output_type": "stream",
     "text": [
      "time for efficiency, 1st:  10.005456686019897\n",
      "time for efficiency, 2nd:  6.000088214874268\n",
      "time for field, 1st:  5.97424578666687\n",
      "time for field, 2nd:  4.574015855789185\n",
      "time for efficiency and field in one step, 1st:  8.750998258590698\n",
      "time for efficiency and field in one step, 2nd:  3.5224642753601074\n"
     ]
    }
   ],
   "source": [
    "backend = 1  # JaxMeent\n",
    "device = 0  # CPU;\n",
    "dtype = 1  # 32bit\n",
    "mee = meent.call_mee(backend=backend, grating_type=grating_type, pol=pol, n_I=n_I, n_II=n_II, theta=theta, phi=phi,\n",
    "                     fourier_order=fourier_order, wavelength=wavelength, period=period, ucell=ucell,\n",
    "                     thickness=thickness, device=device, type_complex=dtype)\n",
    "\n",
    "t0 = time.time()\n",
    "de_ri, de_ti = mee.conv_solve()\n",
    "print(f'time for efficiency, 1st: ', time.time() - t0)\n",
    "\n",
    "t0 = time.time()\n",
    "de_ri, de_ti = mee.conv_solve()\n",
    "print(f'time for efficiency, 2nd: ', time.time() - t0)\n",
    "\n",
    "t0 = time.time()\n",
    "field_cell = mee.calculate_field(res_x=res_x, res_y=res_y, res_z=res_z)\n",
    "print(f'time for field, 1st: ', time.time() - t0)\n",
    "\n",
    "t0 = time.time()\n",
    "field_cell = mee.calculate_field(res_x=res_x, res_y=res_y, res_z=res_z)\n",
    "print(f'time for field, 2nd: ', time.time() - t0)\n",
    "\n",
    "t0 = time.time()\n",
    "de_ri, de_ti, field_cell = mee.conv_solve_field(res_x=res_x, res_y=res_y, res_z=res_z)\n",
    "print(f'time for efficiency and field in one step, 1st: ', time.time() - t0)\n",
    "\n",
    "t0 = time.time()\n",
    "de_ri, de_ti, field_cell = mee.conv_solve_field(res_x=res_x, res_y=res_y, res_z=res_z)\n",
    "print(f'time for efficiency and field in one step, 2nd: ', time.time() - t0)\n"
   ],
   "metadata": {
    "collapsed": false
   }
  },
  {
   "cell_type": "markdown",
   "source": [
    "### GPU, 32 bit"
   ],
   "metadata": {
    "collapsed": false
   }
  },
  {
   "cell_type": "code",
   "execution_count": 8,
   "outputs": [
    {
     "name": "stdout",
     "output_type": "stream",
     "text": [
      "time for efficiency, 1st:  7.128875970840454\n",
      "time for efficiency, 2nd:  3.257530927658081\n",
      "time for field, 1st:  5.928041696548462\n",
      "time for field, 2nd:  0.19466495513916016\n",
      "time for efficiency and field in one step, 1st:  7.241229057312012\n",
      "time for efficiency and field in one step, 2nd:  3.2755908966064453\n"
     ]
    }
   ],
   "source": [
    "backend = 1  # JaxMeent\n",
    "device = 1  # CPU;\n",
    "dtype = 1  # 32bit\n",
    "mee = meent.call_mee(backend=backend, grating_type=grating_type, pol=pol, n_I=n_I, n_II=n_II, theta=theta, phi=phi,\n",
    "                     fourier_order=fourier_order, wavelength=wavelength, period=period, ucell=ucell,\n",
    "                     thickness=thickness, device=device, type_complex=dtype)\n",
    "\n",
    "t0 = time.time()\n",
    "de_ri, de_ti = mee.conv_solve()\n",
    "print(f'time for efficiency, 1st: ', time.time() - t0)\n",
    "\n",
    "t0 = time.time()\n",
    "de_ri, de_ti = mee.conv_solve()\n",
    "print(f'time for efficiency, 2nd: ', time.time() - t0)\n",
    "\n",
    "t0 = time.time()\n",
    "field_cell = mee.calculate_field(res_x=res_x, res_y=res_y, res_z=res_z)\n",
    "print(f'time for field, 1st: ', time.time() - t0)\n",
    "\n",
    "t0 = time.time()\n",
    "field_cell = mee.calculate_field(res_x=res_x, res_y=res_y, res_z=res_z)\n",
    "print(f'time for field, 2nd: ', time.time() - t0)\n",
    "\n",
    "t0 = time.time()\n",
    "de_ri, de_ti, field_cell = mee.conv_solve_field(res_x=res_x, res_y=res_y, res_z=res_z)\n",
    "print(f'time for efficiency and field in one step, 1st: ', time.time() - t0)\n",
    "\n",
    "t0 = time.time()\n",
    "de_ri, de_ti, field_cell = mee.conv_solve_field(res_x=res_x, res_y=res_y, res_z=res_z)\n",
    "print(f'time for efficiency and field in one step, 2nd: ', time.time() - t0)\n"
   ],
   "metadata": {
    "collapsed": false
   }
  },
  {
   "cell_type": "markdown",
   "source": [
    "## PyTorch"
   ],
   "metadata": {
    "collapsed": false
   }
  },
  {
   "cell_type": "markdown",
   "source": [
    "### CPU, 64 bit"
   ],
   "metadata": {
    "collapsed": false
   }
  },
  {
   "cell_type": "code",
   "execution_count": 9,
   "outputs": [
    {
     "name": "stdout",
     "output_type": "stream",
     "text": [
      "time for efficiency, 1st:  11.440239191055298\n",
      "time for efficiency, 2nd:  11.485627174377441\n",
      "time for field, 1st:  2.230933427810669\n",
      "time for field, 2nd:  2.231472969055176\n",
      "time for efficiency and field in one step, 1st:  13.595439672470093\n",
      "time for efficiency and field in one step, 2nd:  13.880868196487427\n"
     ]
    }
   ],
   "source": [
    "backend = 2  # JaxMeent\n",
    "device = 0 # CPU;\n",
    "dtype = 0\n",
    "mee = meent.call_mee(backend=backend, grating_type=grating_type, pol=pol, n_I=n_I, n_II=n_II, theta=theta, phi=phi,\n",
    "                     fourier_order=fourier_order, wavelength=wavelength, period=period, ucell=ucell,\n",
    "                     thickness=thickness, device=device, type_complex=dtype)\n",
    "\n",
    "t0 = time.time()\n",
    "de_ri, de_ti = mee.conv_solve()\n",
    "print(f'time for efficiency, 1st: ', time.time() - t0)\n",
    "\n",
    "t0 = time.time()\n",
    "de_ri, de_ti = mee.conv_solve()\n",
    "print(f'time for efficiency, 2nd: ', time.time() - t0)\n",
    "\n",
    "t0 = time.time()\n",
    "field_cell = mee.calculate_field(res_x=res_x, res_y=res_y, res_z=res_z)\n",
    "print(f'time for field, 1st: ', time.time() - t0)\n",
    "\n",
    "t0 = time.time()\n",
    "field_cell = mee.calculate_field(res_x=res_x, res_y=res_y, res_z=res_z)\n",
    "print(f'time for field, 2nd: ', time.time() - t0)\n",
    "\n",
    "t0 = time.time()\n",
    "de_ri, de_ti, field_cell = mee.conv_solve_field(res_x=res_x, res_y=res_y, res_z=res_z)\n",
    "print(f'time for efficiency and field in one step, 1st: ', time.time() - t0)\n",
    "\n",
    "t0 = time.time()\n",
    "de_ri, de_ti, field_cell = mee.conv_solve_field(res_x=res_x, res_y=res_y, res_z=res_z)\n",
    "print(f'time for efficiency and field in one step, 2nd: ', time.time() - t0)\n"
   ],
   "metadata": {
    "collapsed": false
   }
  },
  {
   "cell_type": "markdown",
   "source": [
    "### GPU, 64 bit"
   ],
   "metadata": {
    "collapsed": false
   }
  },
  {
   "cell_type": "code",
   "execution_count": 10,
   "outputs": [
    {
     "ename": "RuntimeError",
     "evalue": "Expected all tensors to be on the same device, but found at least two devices, cuda:0 and cpu! (when checking argument for argument index in method wrapper_CUDA__index_select)",
     "output_type": "error",
     "traceback": [
      "\u001B[0;31m---------------------------------------------------------------------------\u001B[0m",
      "\u001B[0;31mRuntimeError\u001B[0m                              Traceback (most recent call last)",
      "Cell \u001B[0;32mIn[10], line 9\u001B[0m\n\u001B[1;32m      4\u001B[0m mee \u001B[38;5;241m=\u001B[39m meent\u001B[38;5;241m.\u001B[39mcall_mee(backend\u001B[38;5;241m=\u001B[39mbackend, grating_type\u001B[38;5;241m=\u001B[39mgrating_type, pol\u001B[38;5;241m=\u001B[39mpol, n_I\u001B[38;5;241m=\u001B[39mn_I, n_II\u001B[38;5;241m=\u001B[39mn_II, theta\u001B[38;5;241m=\u001B[39mtheta, phi\u001B[38;5;241m=\u001B[39mphi,\n\u001B[1;32m      5\u001B[0m                      fourier_order\u001B[38;5;241m=\u001B[39mfourier_order, wavelength\u001B[38;5;241m=\u001B[39mwavelength, period\u001B[38;5;241m=\u001B[39mperiod, ucell\u001B[38;5;241m=\u001B[39mucell,\n\u001B[1;32m      6\u001B[0m                      thickness\u001B[38;5;241m=\u001B[39mthickness, device\u001B[38;5;241m=\u001B[39mdevice, type_complex\u001B[38;5;241m=\u001B[39mdtype)\n\u001B[1;32m      8\u001B[0m t0 \u001B[38;5;241m=\u001B[39m time\u001B[38;5;241m.\u001B[39mtime()\n\u001B[0;32m----> 9\u001B[0m de_ri, de_ti \u001B[38;5;241m=\u001B[39m \u001B[43mmee\u001B[49m\u001B[38;5;241;43m.\u001B[39;49m\u001B[43mconv_solve\u001B[49m\u001B[43m(\u001B[49m\u001B[43m)\u001B[49m\n\u001B[1;32m     10\u001B[0m \u001B[38;5;28mprint\u001B[39m(\u001B[38;5;124mf\u001B[39m\u001B[38;5;124m'\u001B[39m\u001B[38;5;124mtime for efficiency, 1st: \u001B[39m\u001B[38;5;124m'\u001B[39m, time\u001B[38;5;241m.\u001B[39mtime() \u001B[38;5;241m-\u001B[39m t0)\n\u001B[1;32m     12\u001B[0m t0 \u001B[38;5;241m=\u001B[39m time\u001B[38;5;241m.\u001B[39mtime()\n",
      "File \u001B[0;32m~/meent/meent/on_torch/emsolver/rcwa.py:107\u001B[0m, in \u001B[0;36mRCWATorch.conv_solve\u001B[0;34m(self, **kwargs)\u001B[0m\n\u001B[1;32m    104\u001B[0m [\u001B[38;5;28msetattr\u001B[39m(\u001B[38;5;28mself\u001B[39m, k, v) \u001B[38;5;28;01mfor\u001B[39;00m k, v \u001B[38;5;129;01min\u001B[39;00m kwargs\u001B[38;5;241m.\u001B[39mitems()]  \u001B[38;5;66;03m# needed for optimization\u001B[39;00m\n\u001B[1;32m    106\u001B[0m \u001B[38;5;28;01mif\u001B[39;00m \u001B[38;5;28mself\u001B[39m\u001B[38;5;241m.\u001B[39mfft_type \u001B[38;5;241m==\u001B[39m \u001B[38;5;241m0\u001B[39m:\n\u001B[0;32m--> 107\u001B[0m     E_conv_all, o_E_conv_all \u001B[38;5;241m=\u001B[39m \u001B[43mto_conv_mat_discrete\u001B[49m\u001B[43m(\u001B[49m\u001B[38;5;28;43mself\u001B[39;49m\u001B[38;5;241;43m.\u001B[39;49m\u001B[43mucell\u001B[49m\u001B[43m,\u001B[49m\u001B[43m \u001B[49m\u001B[38;5;28;43mself\u001B[39;49m\u001B[38;5;241;43m.\u001B[39;49m\u001B[43mfourier_order\u001B[49m\u001B[43m[\u001B[49m\u001B[38;5;241;43m0\u001B[39;49m\u001B[43m]\u001B[49m\u001B[43m,\u001B[49m\u001B[43m \u001B[49m\u001B[38;5;28;43mself\u001B[39;49m\u001B[38;5;241;43m.\u001B[39;49m\u001B[43mfourier_order\u001B[49m\u001B[43m[\u001B[49m\u001B[38;5;241;43m1\u001B[39;49m\u001B[43m]\u001B[49m\u001B[43m,\u001B[49m\n\u001B[1;32m    108\u001B[0m \u001B[43m                                                    \u001B[49m\u001B[43mdevice\u001B[49m\u001B[38;5;241;43m=\u001B[39;49m\u001B[38;5;28;43mself\u001B[39;49m\u001B[38;5;241;43m.\u001B[39;49m\u001B[43mdevice\u001B[49m\u001B[43m,\u001B[49m\u001B[43m \u001B[49m\u001B[43mtype_complex\u001B[49m\u001B[38;5;241;43m=\u001B[39;49m\u001B[38;5;28;43mself\u001B[39;49m\u001B[38;5;241;43m.\u001B[39;49m\u001B[43mtype_complex\u001B[49m\u001B[43m,\u001B[49m\n\u001B[1;32m    109\u001B[0m \u001B[43m                                                    \u001B[49m\u001B[43mimprove_dft\u001B[49m\u001B[38;5;241;43m=\u001B[39;49m\u001B[38;5;28;43mself\u001B[39;49m\u001B[38;5;241;43m.\u001B[39;49m\u001B[43mimprove_dft\u001B[49m\u001B[43m)\u001B[49m\n\u001B[1;32m    110\u001B[0m \u001B[38;5;28;01melif\u001B[39;00m \u001B[38;5;28mself\u001B[39m\u001B[38;5;241m.\u001B[39mfft_type \u001B[38;5;241m==\u001B[39m \u001B[38;5;241m1\u001B[39m:\n\u001B[1;32m    111\u001B[0m     E_conv_all, o_E_conv_all \u001B[38;5;241m=\u001B[39m to_conv_mat_continuous(\u001B[38;5;28mself\u001B[39m\u001B[38;5;241m.\u001B[39mucell, \u001B[38;5;28mself\u001B[39m\u001B[38;5;241m.\u001B[39mfourier_order[\u001B[38;5;241m0\u001B[39m], \u001B[38;5;28mself\u001B[39m\u001B[38;5;241m.\u001B[39mfourier_order[\u001B[38;5;241m1\u001B[39m],\n\u001B[1;32m    112\u001B[0m                                                       device\u001B[38;5;241m=\u001B[39m\u001B[38;5;28mself\u001B[39m\u001B[38;5;241m.\u001B[39mdevice, type_complex\u001B[38;5;241m=\u001B[39m\u001B[38;5;28mself\u001B[39m\u001B[38;5;241m.\u001B[39mtype_complex)\n",
      "File \u001B[0;32m~/meent/meent/on_torch/emsolver/convolution_matrix.py:258\u001B[0m, in \u001B[0;36mto_conv_mat_discrete\u001B[0;34m(ucell, fourier_order_x, fourier_order_y, device, type_complex, improve_dft)\u001B[0m\n\u001B[1;32m    256\u001B[0m \u001B[38;5;28;01mif\u001B[39;00m layer\u001B[38;5;241m.\u001B[39mshape[\u001B[38;5;241m0\u001B[39m] \u001B[38;5;241m<\u001B[39m minimum_pattern_size_y:\n\u001B[1;32m    257\u001B[0m     n \u001B[38;5;241m=\u001B[39m torch\u001B[38;5;241m.\u001B[39mdiv(minimum_pattern_size_y, layer\u001B[38;5;241m.\u001B[39mshape[\u001B[38;5;241m0\u001B[39m], rounding_mode\u001B[38;5;241m=\u001B[39m\u001B[38;5;124m'\u001B[39m\u001B[38;5;124mtrunc\u001B[39m\u001B[38;5;124m'\u001B[39m)\n\u001B[0;32m--> 258\u001B[0m     layer \u001B[38;5;241m=\u001B[39m \u001B[43mlayer\u001B[49m\u001B[38;5;241;43m.\u001B[39;49m\u001B[43mrepeat_interleave\u001B[49m\u001B[43m(\u001B[49m\u001B[43mn\u001B[49m\u001B[43m \u001B[49m\u001B[38;5;241;43m+\u001B[39;49m\u001B[43m \u001B[49m\u001B[38;5;241;43m1\u001B[39;49m\u001B[43m,\u001B[49m\u001B[43m \u001B[49m\u001B[43maxis\u001B[49m\u001B[38;5;241;43m=\u001B[39;49m\u001B[38;5;241;43m0\u001B[39;49m\u001B[43m)\u001B[49m\n\u001B[1;32m    259\u001B[0m \u001B[38;5;28;01mif\u001B[39;00m layer\u001B[38;5;241m.\u001B[39mshape[\u001B[38;5;241m1\u001B[39m] \u001B[38;5;241m<\u001B[39m minimum_pattern_size_x:\n\u001B[1;32m    260\u001B[0m     n \u001B[38;5;241m=\u001B[39m torch\u001B[38;5;241m.\u001B[39mdiv(minimum_pattern_size_x, layer\u001B[38;5;241m.\u001B[39mshape[\u001B[38;5;241m1\u001B[39m], rounding_mode\u001B[38;5;241m=\u001B[39m\u001B[38;5;124m'\u001B[39m\u001B[38;5;124mtrunc\u001B[39m\u001B[38;5;124m'\u001B[39m)\n",
      "\u001B[0;31mRuntimeError\u001B[0m: Expected all tensors to be on the same device, but found at least two devices, cuda:0 and cpu! (when checking argument for argument index in method wrapper_CUDA__index_select)"
     ]
    }
   ],
   "source": [
    "backend = 2  # JaxMeent\n",
    "device = 1 # GPU;\n",
    "dtype = 0\n",
    "mee = meent.call_mee(backend=backend, grating_type=grating_type, pol=pol, n_I=n_I, n_II=n_II, theta=theta, phi=phi,\n",
    "                     fourier_order=fourier_order, wavelength=wavelength, period=period, ucell=ucell,\n",
    "                     thickness=thickness, device=device, type_complex=dtype)\n",
    "\n",
    "t0 = time.time()\n",
    "de_ri, de_ti = mee.conv_solve()\n",
    "print(f'time for efficiency, 1st: ', time.time() - t0)\n",
    "\n",
    "t0 = time.time()\n",
    "de_ri, de_ti = mee.conv_solve()\n",
    "print(f'time for efficiency, 2nd: ', time.time() - t0)\n",
    "\n",
    "t0 = time.time()\n",
    "field_cell = mee.calculate_field(res_x=res_x, res_y=res_y, res_z=res_z)\n",
    "print(f'time for field, 1st: ', time.time() - t0)\n",
    "\n",
    "t0 = time.time()\n",
    "field_cell = mee.calculate_field(res_x=res_x, res_y=res_y, res_z=res_z)\n",
    "print(f'time for field, 2nd: ', time.time() - t0)\n",
    "\n",
    "t0 = time.time()\n",
    "de_ri, de_ti, field_cell = mee.conv_solve_field(res_x=res_x, res_y=res_y, res_z=res_z)\n",
    "print(f'time for efficiency and field in one step, 1st: ', time.time() - t0)\n",
    "\n",
    "t0 = time.time()\n",
    "de_ri, de_ti, field_cell = mee.conv_solve_field(res_x=res_x, res_y=res_y, res_z=res_z)\n",
    "print(f'time for efficiency and field in one step, 2nd: ', time.time() - t0)\n"
   ],
   "metadata": {
    "collapsed": false
   }
  },
  {
   "cell_type": "markdown",
   "source": [
    "### CPU, 32 bit"
   ],
   "metadata": {
    "collapsed": false
   }
  },
  {
   "cell_type": "code",
   "execution_count": null,
   "outputs": [],
   "source": [
    "backend = 2  # TorchMeent\n",
    "device = 0  # CPU;\n",
    "dtype = 1  # 32bit\n",
    "mee = meent.call_mee(backend=backend, grating_type=grating_type, pol=pol, n_I=n_I, n_II=n_II, theta=theta, phi=phi,\n",
    "                     fourier_order=fourier_order, wavelength=wavelength, period=period, ucell=ucell,\n",
    "                     thickness=thickness, device=device, type_complex=dtype)\n",
    "\n",
    "t0 = time.time()\n",
    "de_ri, de_ti = mee.conv_solve()\n",
    "print(f'time for efficiency, 1st: ', time.time() - t0)\n",
    "\n",
    "t0 = time.time()\n",
    "de_ri, de_ti = mee.conv_solve()\n",
    "print(f'time for efficiency, 2nd: ', time.time() - t0)\n",
    "\n",
    "t0 = time.time()\n",
    "field_cell = mee.calculate_field(res_x=res_x, res_y=res_y, res_z=res_z)\n",
    "print(f'time for field, 1st: ', time.time() - t0)\n",
    "\n",
    "t0 = time.time()\n",
    "field_cell = mee.calculate_field(res_x=res_x, res_y=res_y, res_z=res_z)\n",
    "print(f'time for field, 2nd: ', time.time() - t0)\n",
    "\n",
    "t0 = time.time()\n",
    "de_ri, de_ti, field_cell = mee.conv_solve_field(res_x=res_x, res_y=res_y, res_z=res_z)\n",
    "print(f'time for efficiency and field in one step, 1st: ', time.time() - t0)\n",
    "\n",
    "t0 = time.time()\n",
    "de_ri, de_ti, field_cell = mee.conv_solve_field(res_x=res_x, res_y=res_y, res_z=res_z)\n",
    "print(f'time for efficiency and field in one step, 2nd: ', time.time() - t0)\n"
   ],
   "metadata": {
    "collapsed": false
   }
  },
  {
   "cell_type": "markdown",
   "source": [
    "### GPU, 32 bit"
   ],
   "metadata": {
    "collapsed": false
   }
  },
  {
   "cell_type": "code",
   "execution_count": null,
   "outputs": [],
   "source": [
    "backend = 2  # TorchMeent\n",
    "device = 1  # CPU;\n",
    "dtype = 1  # 32bit\n",
    "mee = meent.call_mee(backend=backend, grating_type=grating_type, pol=pol, n_I=n_I, n_II=n_II, theta=theta, phi=phi,\n",
    "                     fourier_order=fourier_order, wavelength=wavelength, period=period, ucell=ucell,\n",
    "                     thickness=thickness, device=device, type_complex=dtype)\n",
    "\n",
    "t0 = time.time()\n",
    "de_ri, de_ti = mee.conv_solve()\n",
    "print(f'time for efficiency, 1st: ', time.time() - t0)\n",
    "\n",
    "t0 = time.time()\n",
    "de_ri, de_ti = mee.conv_solve()\n",
    "print(f'time for efficiency, 2nd: ', time.time() - t0)\n",
    "\n",
    "t0 = time.time()\n",
    "field_cell = mee.calculate_field(res_x=res_x, res_y=res_y, res_z=res_z)\n",
    "print(f'time for field, 1st: ', time.time() - t0)\n",
    "\n",
    "t0 = time.time()\n",
    "field_cell = mee.calculate_field(res_x=res_x, res_y=res_y, res_z=res_z)\n",
    "print(f'time for field, 2nd: ', time.time() - t0)\n",
    "\n",
    "t0 = time.time()\n",
    "de_ri, de_ti, field_cell = mee.conv_solve_field(res_x=res_x, res_y=res_y, res_z=res_z)\n",
    "print(f'time for efficiency and field in one step, 1st: ', time.time() - t0)\n",
    "\n",
    "t0 = time.time()\n",
    "de_ri, de_ti, field_cell = mee.conv_solve_field(res_x=res_x, res_y=res_y, res_z=res_z)\n",
    "print(f'time for efficiency and field in one step, 2nd: ', time.time() - t0)\n"
   ],
   "metadata": {
    "collapsed": false
   }
  },
  {
   "cell_type": "code",
   "execution_count": null,
   "outputs": [],
   "source": [],
   "metadata": {
    "collapsed": false
   }
  }
 ],
 "metadata": {
  "kernelspec": {
   "display_name": "Python 3 (ipykernel)",
   "language": "python",
   "name": "python3"
  },
  "language_info": {
   "codemirror_mode": {
    "name": "ipython",
    "version": 3
   },
   "file_extension": ".py",
   "mimetype": "text/x-python",
   "name": "python",
   "nbconvert_exporter": "python",
   "pygments_lexer": "ipython3",
   "version": "3.10.10"
  }
 },
 "nbformat": 4,
 "nbformat_minor": 1
}
