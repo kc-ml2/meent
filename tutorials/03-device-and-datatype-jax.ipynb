{
 "cells": [
  {
   "cell_type": "markdown",
   "metadata": {
    "collapsed": true
   },
   "source": [
    "# Meent Tutorial 3\n",
    "Device - CPU and GPU"
   ]
  },
  {
   "cell_type": "code",
   "execution_count": 1,
   "metadata": {
    "ExecuteTime": {
     "end_time": "2023-04-17T20:56:52.649404Z",
     "start_time": "2023-04-17T20:56:52.161568Z"
    }
   },
   "outputs": [],
   "source": [
    "import os\n",
    "\n",
    "os.environ[\"CUDA_DEVICE_ORDER\"] = \"PCI_BUS_ID\"\n",
    "os.environ[\"CUDA_VISIBLE_DEVICES\"] = '0'\n",
    "\n",
    "import time\n",
    "import numpy as np\n",
    "\n",
    "import meent"
   ]
  },
  {
   "cell_type": "code",
   "execution_count": 2,
   "metadata": {},
   "outputs": [],
   "source": [
    "# experiment options\n",
    "pol = 0  # 0: TE, 1: TM\n",
    "\n",
    "n_top = 1  # n_topncidence\n",
    "n_bot = 1  # n_transmission\n",
    "\n",
    "theta = 20 * np.pi / 180\n",
    "phi = 50 * np.pi / 180\n",
    "\n",
    "wavelength = 900\n",
    "\n",
    "thickness = [500]\n",
    "period = [1000, 1000]\n",
    "\n",
    "fto = [15, 15]\n",
    "# fto = [3, 3]\n",
    "res_x, res_y, res_z = 20, 20, 20\n",
    "\n",
    "ucell = np.array([\n",
    "            [\n",
    "                [0, 0, 0, 1, 1, 1, 1, 1, 1, 1, ],\n",
    "                [0, 0, 0, 1, 1, 1, 1, 1, 1, 1, ],\n",
    "                [0, 0, 0, 1, 1, 1, 1, 1, 1, 1, ],\n",
    "                [0, 0, 0, 1, 1, 1, 1, 1, 1, 1, ],\n",
    "                [0, 0, 0, 1, 1, 1, 1, 1, 1, 1, ],\n",
    "                [0, 0, 0, 1, 1, 0, 0, 0, 0, 0, ],\n",
    "                [0, 0, 0, 1, 1, 0, 0, 0, 0, 0, ],\n",
    "                [0, 0, 0, 1, 1, 0, 0, 0, 0, 0, ],\n",
    "                [0, 0, 0, 1, 1, 0, 0, 0, 0, 0, ],\n",
    "                [0, 0, 0, 1, 1, 0, 0, 0, 0, 0, ],\n",
    "            ],\n",
    "        ]) * 4 + 1"
   ]
  },
  {
   "cell_type": "markdown",
   "metadata": {},
   "source": [
    "## set device"
   ]
  },
  {
   "cell_type": "markdown",
   "metadata": {},
   "source": [
    "1. at initialization"
   ]
  },
  {
   "cell_type": "code",
   "execution_count": 3,
   "metadata": {},
   "outputs": [],
   "source": [
    "backend = 1  # JaxMeent\n",
    "device = 0 # CPU;\n",
    "dtype = 0\n",
    "mee = meent.call_mee(backend=backend, pol=pol, n_top=n_top, n_bot=n_bot, theta=theta, phi=phi,\n",
    "                     fto=fto, wavelength=wavelength, period=period, ucell=ucell,\n",
    "                     thickness=thickness, device=device, type_complex=dtype)\n",
    "\n",
    "    "
   ]
  },
  {
   "cell_type": "markdown",
   "metadata": {},
   "source": [
    "2. after initialization"
   ]
  },
  {
   "cell_type": "code",
   "execution_count": 4,
   "metadata": {},
   "outputs": [],
   "source": [
    "backend = 1  # JaxMeent\n",
    "\n",
    "mee = meent.call_mee(backend=backend, pol=pol, n_top=n_top, n_bot=n_bot, theta=theta, phi=phi,\n",
    "                     fto=fto, wavelength=wavelength, period=period, ucell=ucell,\n",
    "                     thickness=thickness, type_complex=dtype)\n",
    "mee.device = 0"
   ]
  },
  {
   "cell_type": "markdown",
   "metadata": {},
   "source": [
    "# Test"
   ]
  },
  {
   "cell_type": "markdown",
   "metadata": {
    "collapsed": false
   },
   "source": [
    "## JAX"
   ]
  },
  {
   "cell_type": "markdown",
   "metadata": {},
   "source": [
    "### CPU, 64 bit"
   ]
  },
  {
   "cell_type": "code",
   "execution_count": 5,
   "metadata": {},
   "outputs": [
    {
     "name": "stderr",
     "output_type": "stream",
     "text": [
      "/home/yongha/anaconda3/envs/meent/lib/python3.10/site-packages/numpy/core/getlimits.py:500: UserWarning: The value of the smallest subnormal for <class 'numpy.float64'> type is zero.\n",
      "  setattr(self, word, getattr(machar, word).flat[0])\n",
      "/home/yongha/anaconda3/envs/meent/lib/python3.10/site-packages/numpy/core/getlimits.py:89: UserWarning: The value of the smallest subnormal for <class 'numpy.float64'> type is zero.\n",
      "  return self._float_to_str(self.smallest_subnormal)\n"
     ]
    },
    {
     "name": "stdout",
     "output_type": "stream",
     "text": [
      "time for efficiency, 1st:  15.45072317123413\n",
      "time for efficiency, 2nd:  11.552058219909668\n",
      "time for field, 1st:  9.985004425048828\n",
      "time for field, 2nd:  8.36226487159729\n",
      "time for efficiency and field in one step, 1st:  22.077845573425293\n",
      "time for efficiency and field in one step, 2nd:  9.886351823806763\n"
     ]
    }
   ],
   "source": [
    "backend = 1  # JaxMeent\n",
    "device = 0 # CPU;\n",
    "dtype = 0\n",
    "mee = meent.call_mee(backend=backend, pol=pol, n_top=n_top, n_bot=n_bot, theta=theta, phi=phi,\n",
    "                     fto=fto, wavelength=wavelength, period=period, ucell=ucell,\n",
    "                     thickness=thickness, device=device, type_complex=dtype)\n",
    "\n",
    "t0 = time.time()\n",
    "mee.conv_solve()\n",
    "print(f'time for efficiency, 1st: ', time.time() - t0)\n",
    "\n",
    "t0 = time.time()\n",
    "mee.conv_solve()\n",
    "print(f'time for efficiency, 2nd: ', time.time() - t0)\n",
    "\n",
    "t0 = time.time()\n",
    "mee.calculate_field(res_x=res_x, res_y=res_y, res_z=res_z)\n",
    "print(f'time for field, 1st: ', time.time() - t0)\n",
    "\n",
    "t0 = time.time()\n",
    "mee.calculate_field(res_x=res_x, res_y=res_y, res_z=res_z)\n",
    "print(f'time for field, 2nd: ', time.time() - t0)\n",
    "\n",
    "t0 = time.time()\n",
    "mee.conv_solve_field(res_x=res_x, res_y=res_y, res_z=res_z)\n",
    "print(f'time for efficiency and field in one step, 1st: ', time.time() - t0)\n",
    "\n",
    "t0 = time.time()\n",
    "mee.conv_solve_field(res_x=res_x, res_y=res_y, res_z=res_z)\n",
    "print(f'time for efficiency and field in one step, 2nd: ', time.time() - t0)\n"
   ]
  },
  {
   "cell_type": "markdown",
   "metadata": {},
   "source": [
    "### GPU, 64 bit"
   ]
  },
  {
   "cell_type": "code",
   "execution_count": 6,
   "metadata": {},
   "outputs": [
    {
     "name": "stdout",
     "output_type": "stream",
     "text": [
      "time for efficiency, 1st:  16.228806495666504\n",
      "time for efficiency, 2nd:  9.38192367553711\n",
      "time for field, 1st:  8.504980564117432\n",
      "time for field, 2nd:  0.5013375282287598\n",
      "time for efficiency and field in one step, 1st:  13.888967990875244\n",
      "time for efficiency and field in one step, 2nd:  9.839607238769531\n"
     ]
    }
   ],
   "source": [
    "backend = 1  # JaxMeent\n",
    "device = 1 # GPU;\n",
    "dtype = 0\n",
    "mee = meent.call_mee(backend=backend, pol=pol, n_top=n_top, n_bot=n_bot, theta=theta, phi=phi,\n",
    "                     fto=fto, wavelength=wavelength, period=period, ucell=ucell,\n",
    "                     thickness=thickness, device=device, type_complex=dtype)\n",
    "\n",
    "t0 = time.time()\n",
    "mee.conv_solve()\n",
    "print(f'time for efficiency, 1st: ', time.time() - t0)\n",
    "\n",
    "t0 = time.time()\n",
    "mee.conv_solve()\n",
    "print(f'time for efficiency, 2nd: ', time.time() - t0)\n",
    "\n",
    "t0 = time.time()\n",
    "mee.calculate_field(res_x=res_x, res_y=res_y, res_z=res_z)\n",
    "print(f'time for field, 1st: ', time.time() - t0)\n",
    "\n",
    "t0 = time.time()\n",
    "mee.calculate_field(res_x=res_x, res_y=res_y, res_z=res_z)\n",
    "print(f'time for field, 2nd: ', time.time() - t0)\n",
    "\n",
    "t0 = time.time()\n",
    "mee.conv_solve_field(res_x=res_x, res_y=res_y, res_z=res_z)\n",
    "print(f'time for efficiency and field in one step, 1st: ', time.time() - t0)\n",
    "\n",
    "t0 = time.time()\n",
    "mee.conv_solve_field(res_x=res_x, res_y=res_y, res_z=res_z)\n",
    "print(f'time for efficiency and field in one step, 2nd: ', time.time() - t0)\n"
   ]
  },
  {
   "cell_type": "markdown",
   "metadata": {
    "collapsed": false
   },
   "source": [
    "### CPU, 32 bit"
   ]
  },
  {
   "cell_type": "code",
   "execution_count": 7,
   "metadata": {
    "collapsed": false
   },
   "outputs": [
    {
     "name": "stderr",
     "output_type": "stream",
     "text": [
      "/home/yongha/anaconda3/envs/meent/lib/python3.10/site-packages/numpy/core/getlimits.py:500: UserWarning: The value of the smallest subnormal for <class 'numpy.float32'> type is zero.\n",
      "  setattr(self, word, getattr(machar, word).flat[0])\n",
      "/home/yongha/anaconda3/envs/meent/lib/python3.10/site-packages/numpy/core/getlimits.py:89: UserWarning: The value of the smallest subnormal for <class 'numpy.float32'> type is zero.\n",
      "  return self._float_to_str(self.smallest_subnormal)\n"
     ]
    },
    {
     "name": "stdout",
     "output_type": "stream",
     "text": [
      "time for efficiency, 1st:  10.070057392120361\n",
      "time for efficiency, 2nd:  5.8916335105896\n",
      "time for field, 1st:  5.814962148666382\n",
      "time for field, 2nd:  4.369853973388672\n",
      "time for efficiency and field in one step, 1st:  7.839098691940308\n",
      "time for efficiency and field in one step, 2nd:  3.287320137023926\n"
     ]
    }
   ],
   "source": [
    "backend = 1  # JaxMeent\n",
    "device = 0  # CPU;\n",
    "dtype = 1  # 32bit\n",
    "mee = meent.call_mee(backend=backend, pol=pol, n_top=n_top, n_bot=n_bot, theta=theta, phi=phi,\n",
    "                     fto=fto, wavelength=wavelength, period=period, ucell=ucell,\n",
    "                     thickness=thickness, device=device, type_complex=dtype)\n",
    "\n",
    "t0 = time.time()\n",
    "mee.conv_solve()\n",
    "print(f'time for efficiency, 1st: ', time.time() - t0)\n",
    "\n",
    "t0 = time.time()\n",
    "mee.conv_solve()\n",
    "print(f'time for efficiency, 2nd: ', time.time() - t0)\n",
    "\n",
    "t0 = time.time()\n",
    "mee.calculate_field(res_x=res_x, res_y=res_y, res_z=res_z)\n",
    "print(f'time for field, 1st: ', time.time() - t0)\n",
    "\n",
    "t0 = time.time()\n",
    "mee.calculate_field(res_x=res_x, res_y=res_y, res_z=res_z)\n",
    "print(f'time for field, 2nd: ', time.time() - t0)\n",
    "\n",
    "t0 = time.time()\n",
    "mee.conv_solve_field(res_x=res_x, res_y=res_y, res_z=res_z)\n",
    "print(f'time for efficiency and field in one step, 1st: ', time.time() - t0)\n",
    "\n",
    "t0 = time.time()\n",
    "mee.conv_solve_field(res_x=res_x, res_y=res_y, res_z=res_z)\n",
    "print(f'time for efficiency and field in one step, 2nd: ', time.time() - t0)\n"
   ]
  },
  {
   "cell_type": "markdown",
   "metadata": {
    "collapsed": false
   },
   "source": [
    "### GPU, 32 bit"
   ]
  },
  {
   "cell_type": "code",
   "execution_count": 8,
   "metadata": {
    "collapsed": false
   },
   "outputs": [
    {
     "name": "stdout",
     "output_type": "stream",
     "text": [
      "time for efficiency, 1st:  7.133803606033325\n",
      "time for efficiency, 2nd:  3.365471601486206\n",
      "time for field, 1st:  5.952059507369995\n",
      "time for field, 2nd:  0.2004835605621338\n",
      "time for efficiency and field in one step, 1st:  7.279724836349487\n",
      "time for efficiency and field in one step, 2nd:  3.8123528957366943\n"
     ]
    }
   ],
   "source": [
    "backend = 1  # JaxMeent\n",
    "device = 1  # CPU;\n",
    "dtype = 1  # 32bit\n",
    "mee = meent.call_mee(backend=backend, pol=pol, n_top=n_top, n_bot=n_bot, theta=theta, phi=phi,\n",
    "                     fto=fto, wavelength=wavelength, period=period, ucell=ucell,\n",
    "                     thickness=thickness, device=device, type_complex=dtype)\n",
    "\n",
    "t0 = time.time()\n",
    "mee.conv_solve()\n",
    "print(f'time for efficiency, 1st: ', time.time() - t0)\n",
    "\n",
    "t0 = time.time()\n",
    "mee.conv_solve()\n",
    "print(f'time for efficiency, 2nd: ', time.time() - t0)\n",
    "\n",
    "t0 = time.time()\n",
    "mee.calculate_field(res_x=res_x, res_y=res_y, res_z=res_z)\n",
    "print(f'time for field, 1st: ', time.time() - t0)\n",
    "\n",
    "t0 = time.time()\n",
    "mee.calculate_field(res_x=res_x, res_y=res_y, res_z=res_z)\n",
    "print(f'time for field, 2nd: ', time.time() - t0)\n",
    "\n",
    "t0 = time.time()\n",
    "mee.conv_solve_field(res_x=res_x, res_y=res_y, res_z=res_z)\n",
    "print(f'time for efficiency and field in one step, 1st: ', time.time() - t0)\n",
    "\n",
    "t0 = time.time()\n",
    "mee.conv_solve_field(res_x=res_x, res_y=res_y, res_z=res_z)\n",
    "print(f'time for efficiency and field in one step, 2nd: ', time.time() - t0)\n"
   ]
  }
 ],
 "metadata": {
  "kernelspec": {
   "display_name": "Python 3 (ipykernel)",
   "language": "python",
   "name": "python3"
  },
  "language_info": {
   "codemirror_mode": {
    "name": "ipython",
    "version": 3
   },
   "file_extension": ".py",
   "mimetype": "text/x-python",
   "name": "python",
   "nbconvert_exporter": "python",
   "pygments_lexer": "ipython3",
   "version": "3.10.10"
  }
 },
 "nbformat": 4,
 "nbformat_minor": 1
}
