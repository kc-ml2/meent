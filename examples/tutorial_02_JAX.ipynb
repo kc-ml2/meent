{
 "cells": [
  {
   "cell_type": "markdown",
   "source": [
    "# Meent Tutorial 2\n",
    "# UNDER CONSTRUCTION\n",
    "\n",
    "Gradient and Optimization"
   ],
   "metadata": {
    "collapsed": false
   }
  },
  {
   "cell_type": "code",
   "execution_count": 1,
   "outputs": [],
   "source": [
    "import jax\n",
    "import optax\n",
    "import time\n",
    "\n",
    "import jax.numpy as jnp\n",
    "import matplotlib.pyplot as plt\n",
    "\n",
    "import meent\n",
    "from meent.on_jax.optimizer.loss import LossDeflector\n",
    "from meent.on_jax.optimizer.optimizer import OptimizerJax"
   ],
   "metadata": {
    "collapsed": false
   }
  },
  {
   "cell_type": "code",
   "execution_count": 2,
   "outputs": [],
   "source": [
    "backend = 1  # JAX\n",
    "\n",
    "# common\n",
    "pol = 0  # 0: TE, 1: TM\n",
    "\n",
    "n_I = 1  # n_incidence\n",
    "n_II = 1  # n_transmission\n",
    "\n",
    "theta = 20 * jnp.pi / 180\n",
    "phi = 50 * jnp.pi / 180\n",
    "\n",
    "wavelength = 900\n",
    "\n",
    "thickness = [500.]\n",
    "period = [1000.]\n",
    "\n",
    "fourier_order = [4, 2]\n",
    "\n",
    "type_complex = jnp.complex128\n",
    "if type_complex is jnp.complex128:\n",
    "    jax.config.update('jax_enable_x64', True)\n",
    "\n",
    "grating_type = 2"
   ],
   "metadata": {
    "collapsed": false
   }
  },
  {
   "cell_type": "code",
   "execution_count": 3,
   "outputs": [],
   "source": [
    "ucell_1d_s = jnp.array([\n",
    "    [\n",
    "        [0, 1, 0, 1, 1.1, 0, 1, 0, 1, 1, ],\n",
    "    ],\n",
    "], dtype=jnp.float64) * 4. + 1.  # refractive index\n",
    "\n",
    "ucell_2d_s = jnp.array([\n",
    "    [\n",
    "        [0, 1, 0, 1, 1, 0, 1, 0, 1, 1, ],\n",
    "        [1, 1, 1, 1, 1, 1, 1, 0, 1, 1, ],\n",
    "    ],\n",
    "]) * 4 + 1.  # refractive index"
   ],
   "metadata": {
    "collapsed": false
   }
  },
  {
   "cell_type": "markdown",
   "source": [
    "## 2.1 Gradient"
   ],
   "metadata": {
    "collapsed": false
   }
  },
  {
   "cell_type": "code",
   "execution_count": 11,
   "outputs": [],
   "source": [
    "mee = meent.call_mee(backend=backend, grating_type=grating_type, pol=pol, n_I=n_I, n_II=n_II, theta=theta, phi=phi, fourier_order=fourier_order, wavelength=wavelength, period=period, ucell=ucell_2d_s, thickness=thickness, type_complex=type_complex, fft_type=0, improve_dft=True)"
   ],
   "metadata": {
    "collapsed": false
   }
  },
  {
   "cell_type": "code",
   "execution_count": 12,
   "outputs": [
    {
     "name": "stdout",
     "output_type": "stream",
     "text": [
      "1 (Array(0.49917828, dtype=float64), {'thickness': [Array(0.02179398, dtype=float64, weak_type=True)], 'ucell': Array([[[-0.04457337, -0.0672744 ,  0.25881959,  0.22487314,\n",
      "          0.22402433,  0.24415874, -0.01060622,  0.18296631,\n",
      "          0.09376066,  0.13521143],\n",
      "        [-0.18894426, -0.16049066,  0.15925966,  0.94591111,\n",
      "          0.98177941,  0.15896715, -0.07167921,  0.11117953,\n",
      "          0.0299822 , -0.05946715]]], dtype=float64)})\n"
     ]
    }
   ],
   "source": [
    "pois = ['ucell', 'thickness']\n",
    "\n",
    "forward = mee.conv_solve\n",
    "loss_fn = LossDeflector(x_order=0, y_order=0)\n",
    "\n",
    "# case 1: Gradient\n",
    "grad = mee.grad(pois, forward, loss_fn)\n",
    "print(1, grad)\n"
   ],
   "metadata": {
    "collapsed": false
   }
  },
  {
   "cell_type": "code",
   "execution_count": 10,
   "outputs": [
    {
     "name": "stdout",
     "output_type": "stream",
     "text": [
      "step 0, loss: 0.4991782827630329\n",
      "step 0, loss: 0.47707507891838896\n",
      "step 0, loss: 0.45780443170616814\n",
      "step 0, loss: 0.4408010519515172\n",
      "step 0, loss: 0.4257525667309505\n",
      "step 0, loss: 0.4125865561204263\n",
      "3 [Traced<ConcreteArray(499.9990862016176, dtype=float64)>with<JVPTrace(level=2/0)> with\n",
      "  primal = Array(499.9990862, dtype=float64)\n",
      "  tangent = Traced<ShapedArray(float64[])>with<JaxprTrace(level=1/0)> with\n",
      "    pval = (ShapedArray(float64[]), None)\n",
      "    recipe = LambdaBinding()]\n"
     ]
    }
   ],
   "source": [
    "mee = meent.call_mee(backend=backend, grating_type=grating_type, pol=pol, n_I=n_I, n_II=n_II, theta=theta, phi=phi, fourier_order=fourier_order, wavelength=wavelength, period=period, ucell=ucell_2d_s, thickness=thickness, type_complex=type_complex, fft_type=0, improve_dft=True)\n",
    "forward = mee.conv_solve\n",
    "loss_fn = LossDeflector(x_order=0, y_order=0)\n",
    "\n",
    "# case 2: SGD\n",
    "optimizer = optax.sgd(learning_rate=1e-2)\n",
    "mee.fit(pois, forward, loss_fn, optimizer)\n",
    "print(3, mee)\n"
   ],
   "metadata": {
    "collapsed": false
   }
  }
 ],
 "metadata": {
  "kernelspec": {
   "display_name": "Python 3",
   "language": "python",
   "name": "python3"
  },
  "language_info": {
   "codemirror_mode": {
    "name": "ipython",
    "version": 2
   },
   "file_extension": ".py",
   "mimetype": "text/x-python",
   "name": "python",
   "nbconvert_exporter": "python",
   "pygments_lexer": "ipython2",
   "version": "2.7.6"
  }
 },
 "nbformat": 4,
 "nbformat_minor": 0
}
