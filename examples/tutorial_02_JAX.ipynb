{
 "cells": [
  {
   "cell_type": "markdown",
   "source": [
    "# Meent Tutorial 2\n",
    "Gradient and Optimization"
   ],
   "metadata": {
    "collapsed": false
   }
  },
  {
   "cell_type": "code",
   "execution_count": 4,
   "outputs": [],
   "source": [
    "import jax\n",
    "import optax\n",
    "import time\n",
    "\n",
    "import jax.numpy as jnp\n",
    "import matplotlib.pyplot as plt\n",
    "\n",
    "import meent\n",
    "from meent.on_jax.optimizer.loss import LossDeflector\n",
    "from meent.on_jax.optimizer.optimizer import OptimizerJax"
   ],
   "metadata": {
    "collapsed": false
   }
  },
  {
   "cell_type": "code",
   "execution_count": 5,
   "outputs": [],
   "source": [
    "# common\n",
    "pol = 0  # 0: TE, 1: TM\n",
    "\n",
    "n_I = 1  # n_incidence\n",
    "n_II = 1  # n_transmission\n",
    "\n",
    "theta = 20 * jnp.pi / 180\n",
    "phi = 50 * jnp.pi / 180\n",
    "\n",
    "wavelength = 900\n",
    "\n",
    "thickness = [500]\n",
    "period = [1000]\n",
    "\n",
    "fourier_order = [30]\n",
    "\n",
    "type_complex = jnp.complex128\n",
    "\n",
    "grating_type = 0"
   ],
   "metadata": {
    "collapsed": false
   }
  },
  {
   "cell_type": "markdown",
   "source": [
    "## 2.1 Gradient"
   ],
   "metadata": {
    "collapsed": false
   }
  },
  {
   "cell_type": "code",
   "execution_count": null,
   "outputs": [],
   "source": [],
   "metadata": {
    "collapsed": false
   }
  }
 ],
 "metadata": {
  "kernelspec": {
   "display_name": "Python 3",
   "language": "python",
   "name": "python3"
  },
  "language_info": {
   "codemirror_mode": {
    "name": "ipython",
    "version": 2
   },
   "file_extension": ".py",
   "mimetype": "text/x-python",
   "name": "python",
   "nbconvert_exporter": "python",
   "pygments_lexer": "ipython2",
   "version": "2.7.6"
  }
 },
 "nbformat": 4,
 "nbformat_minor": 0
}
