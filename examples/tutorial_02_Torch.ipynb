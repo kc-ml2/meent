{
 "cells": [
  {
   "cell_type": "markdown",
   "source": [
    "# Meent Tutorial 2\n",
    "## PyTorch: Gradient and Optimization"
   ],
   "metadata": {
    "collapsed": false
   }
  },
  {
   "cell_type": "code",
   "execution_count": 1,
   "outputs": [],
   "source": [
    "import torch\n",
    "\n",
    "import meent\n",
    "from meent.on_torch.optimizer.loss import LossDeflector\n",
    "from meent.on_torch.optimizer.optimizer import OptimizerTorch"
   ],
   "metadata": {
    "collapsed": false
   }
  },
  {
   "cell_type": "code",
   "execution_count": 2,
   "outputs": [],
   "source": [
    "backend = 2  # Torch\n",
    "\n",
    "# common\n",
    "pol = 0  # 0: TE, 1: TM\n",
    "\n",
    "n_I = 1  # n_incidence\n",
    "n_II = 1  # n_transmission\n",
    "\n",
    "theta = 20 * torch.pi / 180\n",
    "phi = 50 * torch.pi / 180\n",
    "\n",
    "wavelength = 900\n",
    "\n",
    "thickness = torch.tensor([500.])\n",
    "period = torch.tensor([1000., 1000.])\n",
    "\n",
    "fourier_order = [4, 2]\n",
    "\n",
    "type_complex = torch.complex128\n",
    "device = torch.device('cpu')\n",
    "\n",
    "grating_type = 2"
   ],
   "metadata": {
    "collapsed": false
   }
  },
  {
   "cell_type": "code",
   "execution_count": 3,
   "outputs": [],
   "source": [
    "ucell_1d_s = torch.tensor([\n",
    "    [\n",
    "        [0, 1, 0, 1, 1.1, 0, 1, 0, 1, 1, ],\n",
    "    ],\n",
    "], dtype=torch.float64) * 4. + 1.  # refractive index\n",
    "\n",
    "ucell_2d_s = torch.tensor([\n",
    "    [\n",
    "        [0, 1, 0, 1, 1, 0, 1, 0, 1, 1, ],\n",
    "        [1, 1, 1, 1, 1, 1, 1, 0, 1, 1, ],\n",
    "    ],\n",
    "]) * 4 + 1.  # refractive index"
   ],
   "metadata": {
    "collapsed": false
   }
  },
  {
   "cell_type": "markdown",
   "source": [
    "## 2.1 Gradient"
   ],
   "metadata": {
    "collapsed": false
   }
  },
  {
   "cell_type": "code",
   "execution_count": 4,
   "outputs": [],
   "source": [
    "mee = meent.call_mee(backend=backend, grating_type=grating_type, pol=pol, n_I=n_I, n_II=n_II, theta=theta, phi=phi, fourier_order=fourier_order, wavelength=wavelength, period=period, ucell=ucell_2d_s, thickness=thickness, type_complex=type_complex, device=device, fft_type=0, improve_dft=True)"
   ],
   "metadata": {
    "collapsed": false
   }
  },
  {
   "cell_type": "code",
   "execution_count": 5,
   "outputs": [],
   "source": [
    "pois = ['ucell', 'thickness']\n",
    "\n",
    "forward = mee.conv_solve\n",
    "loss_fn = LossDeflector(x_order=0, y_order=0)"
   ],
   "metadata": {
    "collapsed": false
   }
  },
  {
   "cell_type": "code",
   "execution_count": 6,
   "outputs": [
    {
     "name": "stdout",
     "output_type": "stream",
     "text": [
      "1 {'ucell': tensor([[[-0.2078,  0.0844,  0.2179, -0.1286, -0.0780, -0.1279,  0.3122,\n",
      "           0.0245, -0.1547, -0.1577],\n",
      "         [-0.0771,  0.0381,  0.0450, -0.1212, -0.0914,  0.1777,  0.0569,\n",
      "          -0.0266, -0.0197, -0.0962]]]), 'thickness': tensor([-0.0053])}\n"
     ]
    }
   ],
   "source": [
    "# case 1: Gradient\n",
    "grad = mee.grad(pois, forward, loss_fn)\n",
    "print(1, grad)"
   ],
   "metadata": {
    "collapsed": false
   }
  },
  {
   "cell_type": "code",
   "execution_count": 7,
   "outputs": [
    {
     "name": "stdout",
     "output_type": "stream",
     "text": [
      "step 0, loss: 0.15493761782593868\n",
      "step 1, loss: 0.15111075431034662\n",
      "step 2, loss: 0.14183186997260694\n",
      "step 3, loss: 0.12332711779095337\n",
      "step 4, loss: 0.08856972837925749\n",
      "step 5, loss: 0.07092493684710922\n",
      "step 6, loss: 0.14600607702747972\n",
      "step 7, loss: 0.0869572184627041\n",
      "step 8, loss: 0.08144524682914499\n",
      "step 9, loss: 0.14457611471291892\n",
      "step 10, loss: 0.16933163648063215\n",
      "step 11, loss: 0.15881475429847008\n",
      "step 12, loss: 0.059979157460718927\n",
      "step 13, loss: 0.0897823464124526\n",
      "step 14, loss: 0.07209184286785993\n",
      "step 15, loss: 0.10810032905842401\n",
      "step 16, loss: 0.16805218345285086\n",
      "step 17, loss: 0.13112988778394638\n",
      "step 18, loss: 0.07915957071252011\n",
      "step 19, loss: 0.1901704162249384\n",
      "step 20, loss: 0.1354443989009719\n",
      "step 21, loss: 0.10122597692998171\n",
      "step 22, loss: 0.10255479573012426\n",
      "step 23, loss: 0.12356671105317445\n",
      "step 24, loss: 0.11528691895712162\n",
      "step 25, loss: 0.15758294186009317\n",
      "step 26, loss: 0.13147680376676926\n",
      "step 27, loss: 0.16683191402863354\n",
      "step 28, loss: 0.13521999937865378\n",
      "step 29, loss: 0.09730765735373235\n",
      "step 30, loss: 0.05274438461700026\n",
      "step 31, loss: 0.02594634467252706\n",
      "step 32, loss: 0.1056531453040742\n",
      "step 33, loss: 0.05707170227726235\n",
      "step 34, loss: 0.12506614445017702\n",
      "step 35, loss: 0.1206895444901108\n",
      "step 36, loss: 0.07889533231942918\n",
      "step 37, loss: 0.0609398553571549\n",
      "step 38, loss: 0.04579495135849705\n",
      "step 39, loss: 0.0375193689635088\n",
      "step 40, loss: 0.03385853772206432\n",
      "step 41, loss: 0.03953920075487269\n",
      "step 42, loss: 0.05401284538425202\n",
      "step 43, loss: 0.051532962399752434\n",
      "step 44, loss: 0.03635271460350949\n",
      "step 45, loss: 0.014672865884994089\n",
      "step 46, loss: 0.035914084772176266\n",
      "step 47, loss: 0.030507859093660328\n",
      "step 48, loss: 0.0031749833334072932\n",
      "step 49, loss: 0.03495400578100892\n",
      "step 50, loss: 0.009516624792042582\n",
      "step 51, loss: 0.01231403170523164\n",
      "step 52, loss: 0.0209732270224993\n",
      "step 53, loss: 0.0004865795714494138\n",
      "step 54, loss: 0.006839889617130111\n",
      "step 55, loss: 0.008311135953023777\n",
      "step 56, loss: 0.0026044145581744773\n",
      "step 57, loss: 0.00347265644372339\n",
      "step 58, loss: 0.006312583030459016\n",
      "step 59, loss: 0.008509093214296328\n",
      "step 60, loss: 0.009274689215562789\n",
      "step 61, loss: 0.008723155433816021\n",
      "step 62, loss: 0.00740200437394611\n",
      "step 63, loss: 0.0057364349376972405\n",
      "step 64, loss: 0.003983715334181319\n",
      "step 65, loss: 0.0025702146028398166\n",
      "step 66, loss: 0.0018545834968404181\n",
      "step 67, loss: 0.001582061193878168\n",
      "step 68, loss: 0.0012609224789297607\n",
      "step 69, loss: 0.0008031992655070318\n",
      "step 70, loss: 0.0004051111255907236\n",
      "step 71, loss: 0.00036381976155935446\n",
      "step 72, loss: 0.0008108097010260668\n",
      "step 73, loss: 0.0010825878623994308\n",
      "step 74, loss: 0.0006964791789764758\n",
      "step 75, loss: 0.0007260723519494718\n",
      "step 76, loss: 0.0013222669529853672\n",
      "step 77, loss: 0.0010410984568878815\n",
      "step 78, loss: 0.00047193226445129685\n",
      "step 79, loss: 0.00048705308269477907\n",
      "step 80, loss: 0.0005676093680749137\n",
      "step 81, loss: 0.00039966847655964444\n",
      "step 82, loss: 0.00022919032189019738\n",
      "step 83, loss: 0.0002086064063130412\n",
      "step 84, loss: 0.00027960517873268245\n",
      "step 85, loss: 0.00031839034855976264\n",
      "step 86, loss: 0.0002498464291159759\n",
      "step 87, loss: 0.00012616242086310395\n",
      "step 88, loss: 5.7192624063543535e-05\n",
      "step 89, loss: 7.39476806121416e-05\n",
      "step 90, loss: 0.00011908813428116932\n",
      "step 91, loss: 0.00013710128068287702\n",
      "step 92, loss: 0.00013707193982802603\n",
      "step 93, loss: 0.00015651155345855806\n",
      "step 94, loss: 0.00018136603504734813\n",
      "step 95, loss: 0.00016162919141619986\n",
      "step 96, loss: 0.00010752325667114334\n",
      "step 97, loss: 7.278524207029056e-05\n",
      "step 98, loss: 6.958307640098806e-05\n",
      "step 99, loss: 7.125217472782805e-05\n"
     ]
    }
   ],
   "source": [
    "# case 2: SGD\n",
    "opt_torch = torch.optim.SGD\n",
    "opt_options = {'lr': 1E-2,\n",
    "               'momentum': 0.9,\n",
    "               }\n",
    "\n",
    "mee.fit(pois, forward, loss_fn, opt_torch, opt_options)"
   ],
   "metadata": {
    "collapsed": false
   }
  }
 ],
 "metadata": {
  "kernelspec": {
   "display_name": "Python 3",
   "language": "python",
   "name": "python3"
  },
  "language_info": {
   "codemirror_mode": {
    "name": "ipython",
    "version": 2
   },
   "file_extension": ".py",
   "mimetype": "text/x-python",
   "name": "python",
   "nbconvert_exporter": "python",
   "pygments_lexer": "ipython2",
   "version": "2.7.6"
  }
 },
 "nbformat": 4,
 "nbformat_minor": 0
}
