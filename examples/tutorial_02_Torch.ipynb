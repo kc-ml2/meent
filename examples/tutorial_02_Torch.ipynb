{
 "cells": [
  {
   "cell_type": "markdown",
   "source": [
    "# Meent Tutorial 2\n",
    "## PyTorch: Gradient and Optimization"
   ],
   "metadata": {
    "collapsed": false
   }
  },
  {
   "cell_type": "code",
   "execution_count": null,
   "outputs": [],
   "source": [
    "import torch\n",
    "\n",
    "import meent\n",
    "from meent.on_torch.optimizer.loss import LossDeflector\n",
    "from meent.on_torch.optimizer.optimizer import OptimizerTorch"
   ],
   "metadata": {
    "collapsed": false,
    "pycharm": {
     "is_executing": true
    }
   }
  },
  {
   "cell_type": "code",
   "execution_count": null,
   "outputs": [],
   "source": [
    "backend = 2  # Torch\n",
    "\n",
    "# common\n",
    "pol = 0  # 0: TE, 1: TM\n",
    "\n",
    "n_I = 1  # n_incidence\n",
    "n_II = 1  # n_transmission\n",
    "\n",
    "theta = 0 * torch.pi / 180\n",
    "phi = 0 * torch.pi / 180\n",
    "\n",
    "wavelength = 900\n",
    "\n",
    "thickness = torch.tensor([500., 1000.])\n",
    "period = torch.tensor([1000.])\n",
    "\n",
    "fourier_order = [10]\n",
    "\n",
    "type_complex = torch.complex128\n",
    "device = torch.device('cpu')\n",
    "\n",
    "grating_type = 0"
   ],
   "metadata": {
    "collapsed": false,
    "pycharm": {
     "is_executing": true
    }
   }
  },
  {
   "cell_type": "code",
   "execution_count": null,
   "outputs": [],
   "source": [
    "ucell_1d_m = torch.tensor([\n",
    "    [[0, 0, 0, 1, 1, 1, 1, 0, 0, 0, ]],\n",
    "    [[1, 1, 1, 1, 0, 1, 1, 1, 1, 1, ]],\n",
    "    ]) * 4 + 1.  # refractive index"
   ],
   "metadata": {
    "collapsed": false,
    "pycharm": {
     "is_executing": true
    }
   }
  },
  {
   "cell_type": "markdown",
   "source": [
    "## 2.1 Gradient\n",
    "Gradient can be calculated with the help of `torch.autograd` function.\n",
    "Read this for further information: [A GENTLE INTRODUCTION TO TORCH.AUTOGRAD](https://pytorch.org/tutorials/beginner/blitz/autograd_tutorial.html)\n",
    "\n",
    "Gradient can be utilized to solve optimization problems. Here are examples that show couple of ways to get gradient or optimized values with or without predefined functions of meent."
   ],
   "metadata": {
    "collapsed": false
   }
  },
  {
   "cell_type": "markdown",
   "source": [
    "### 2.1.1 Examples"
   ],
   "metadata": {
    "collapsed": false
   }
  },
  {
   "cell_type": "markdown",
   "source": [
    "Example 1: manually get gradient\n"
   ],
   "metadata": {
    "collapsed": false
   }
  },
  {
   "cell_type": "code",
   "execution_count": null,
   "outputs": [],
   "source": [
    "mee = meent.call_mee(backend=backend, grating_type=grating_type, pol=pol, n_I=n_I, n_II=n_II, theta=theta, phi=phi, fourier_order=fourier_order, wavelength=wavelength, period=period, ucell=ucell_1d_m, thickness=thickness, type_complex=type_complex, device=device, fft_type=0, improve_dft=True)\n",
    "\n",
    "mee.ucell.requires_grad = True\n",
    "mee.thickness.requires_grad = True\n",
    "\n",
    "de_ri, de_ti = mee.conv_solve()\n",
    "loss = de_ti[de_ti.shape[0] // 2 + 1]\n",
    "\n",
    "loss.backward()\n",
    "print('ucell gradient:')\n",
    "print(mee.ucell.grad)\n",
    "print('thickness gradient:')\n",
    "print(mee.thickness.grad)"
   ],
   "metadata": {
    "collapsed": false,
    "pycharm": {
     "is_executing": true
    }
   }
  },
  {
   "cell_type": "markdown",
   "source": [
    "Example 2: using predefined 'grad' function in meent"
   ],
   "metadata": {
    "collapsed": false
   }
  },
  {
   "cell_type": "code",
   "execution_count": null,
   "outputs": [],
   "source": [
    "mee = meent.call_mee(backend=backend, grating_type=grating_type, pol=pol, n_I=n_I, n_II=n_II, theta=theta, phi=phi, fourier_order=fourier_order, wavelength=wavelength, period=period, ucell=ucell_1d_m, thickness=thickness, type_complex=type_complex, device=device, fft_type=0, improve_dft=True)\n",
    "\n",
    "pois = ['ucell', 'thickness']  # Parameter Of Interests\n",
    "\n",
    "forward = mee.conv_solve\n",
    "\n",
    "# can use custom loss function or predefined loss function in meent.\n",
    "\n",
    "# loss_fn = LossDeflector(x_order=1)  # predefined in meent\n",
    "loss_fn = lambda x: x[1][x[1].shape[0] // 2 + 1]  # custom\n",
    "\n",
    "grad = mee.grad(pois, forward, loss_fn)\n",
    "print('ucell gradient:')\n",
    "print(grad['ucell'])\n",
    "print('thickness gradient:')\n",
    "print(grad['thickness'])\n"
   ],
   "metadata": {
    "collapsed": false,
    "pycharm": {
     "is_executing": true
    }
   }
  },
  {
   "cell_type": "markdown",
   "source": [
    "## 2.2 Optimization"
   ],
   "metadata": {
    "collapsed": false
   }
  },
  {
   "cell_type": "markdown",
   "source": [
    "### 2.2.1 Examples"
   ],
   "metadata": {
    "collapsed": false
   }
  },
  {
   "cell_type": "markdown",
   "source": [],
   "metadata": {
    "collapsed": false
   }
  },
  {
   "cell_type": "markdown",
   "source": [
    "Example 1"
   ],
   "metadata": {
    "collapsed": false
   }
  },
  {
   "cell_type": "code",
   "execution_count": null,
   "outputs": [],
   "source": [
    "mee = meent.call_mee(backend=backend, grating_type=grating_type, pol=pol, n_I=n_I, n_II=n_II, theta=theta, phi=phi, fourier_order=fourier_order, wavelength=wavelength, period=period, ucell=ucell_1d_m, thickness=thickness, type_complex=type_complex, device=device, fft_type=0, improve_dft=True)\n",
    "\n",
    "mee.ucell.requires_grad = True\n",
    "mee.thickness.requires_grad = True\n",
    "opt = torch.optim.SGD([mee.ucell, mee.thickness], lr=1E-2, momentum=0.9)\n",
    "\n",
    "for _ in range(3):\n",
    "\n",
    "    de_ri, de_ti = mee.conv_solve()\n",
    "\n",
    "    center = de_ti.shape[0] // 2\n",
    "    loss = de_ti[center + 1]\n",
    "\n",
    "    print(loss)\n",
    "    loss.backward()\n",
    "    opt.step()\n",
    "    opt.zero_grad()"
   ],
   "metadata": {
    "collapsed": false,
    "pycharm": {
     "is_executing": true
    }
   }
  },
  {
   "cell_type": "markdown",
   "source": [
    "Example 2"
   ],
   "metadata": {
    "collapsed": false
   }
  },
  {
   "cell_type": "code",
   "execution_count": null,
   "outputs": [],
   "source": [
    "mee = meent.call_mee(backend=backend, grating_type=grating_type, pol=pol, n_I=n_I, n_II=n_II, theta=theta, phi=phi, fourier_order=fourier_order, wavelength=wavelength, period=period, ucell=ucell_1d_m, thickness=thickness, type_complex=type_complex, device=device, fft_type=0, improve_dft=True)\n",
    "\n",
    "\n",
    "def forward_fn():\n",
    "\n",
    "    de_ri, de_ti = mee.conv_solve()\n",
    "\n",
    "    center = de_ti.shape[0] // 2\n",
    "    loss = de_ti[center + 1]\n",
    "    return loss\n",
    "\n",
    "pois = ['ucell', 'thickness']\n",
    "forward = forward_fn\n",
    "loss_fn = lambda x: x\n",
    "opt_torch = torch.optim.SGD\n",
    "opt_options = {'lr': 1E-2,\n",
    "               'momentum': 0.9,\n",
    "               }\n",
    "\n",
    "mee.fit(pois, forward, loss_fn, opt_torch, opt_options, iteration=3)"
   ],
   "metadata": {
    "collapsed": false,
    "pycharm": {
     "is_executing": true
    }
   }
  },
  {
   "cell_type": "markdown",
   "source": [
    "Example 3"
   ],
   "metadata": {
    "collapsed": false
   }
  },
  {
   "cell_type": "code",
   "execution_count": null,
   "outputs": [],
   "source": [
    "mee = meent.call_mee(backend=backend, grating_type=grating_type, pol=pol, n_I=n_I, n_II=n_II, theta=theta, phi=phi, fourier_order=fourier_order, wavelength=wavelength, period=period, ucell=ucell_1d_m, thickness=thickness, type_complex=type_complex, device=device, fft_type=0, improve_dft=True)\n",
    "\n",
    "pois = ['ucell', 'thickness']\n",
    "\n",
    "forward = mee.conv_solve\n",
    "loss_fn = LossDeflector(1, 0)\n",
    "\n",
    "opt_torch = torch.optim.SGD\n",
    "opt_options = {'lr': 1E-2,\n",
    "               'momentum': 0.9,\n",
    "               }\n",
    "\n",
    "mee.fit(pois, forward, loss_fn, opt_torch, opt_options, iteration=3)"
   ],
   "metadata": {
    "collapsed": false,
    "pycharm": {
     "is_executing": true
    }
   }
  }
 ],
 "metadata": {
  "kernelspec": {
   "display_name": "Python 3",
   "language": "python",
   "name": "python3"
  },
  "language_info": {
   "codemirror_mode": {
    "name": "ipython",
    "version": 2
   },
   "file_extension": ".py",
   "mimetype": "text/x-python",
   "name": "python",
   "nbconvert_exporter": "python",
   "pygments_lexer": "ipython2",
   "version": "2.7.6"
  }
 },
 "nbformat": 4,
 "nbformat_minor": 0
}
