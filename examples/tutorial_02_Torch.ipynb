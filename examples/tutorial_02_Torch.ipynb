{
 "cells": [
  {
   "cell_type": "markdown",
   "source": [
    "# Meent Tutorial 2\n",
    "## Gradient and Optimization with [PyTorch](https://pytorch.org/)"
   ],
   "metadata": {
    "collapsed": false
   }
  },
  {
   "cell_type": "code",
   "execution_count": 1,
   "outputs": [],
   "source": [
    "import torch\n",
    "\n",
    "import meent\n",
    "from meent.on_torch.optimizer.loss import LossDeflector\n",
    "from meent.on_torch.optimizer.optimizer import OptimizerTorch"
   ],
   "metadata": {
    "collapsed": false
   }
  },
  {
   "cell_type": "code",
   "execution_count": 2,
   "outputs": [],
   "source": [
    "backend = 2  # Torch\n",
    "\n",
    "pol = 0  # 0: TE, 1: TM\n",
    "\n",
    "n_I = 1  # n_incidence\n",
    "n_II = 1  # n_transmission\n",
    "\n",
    "theta = 0 * torch.pi / 180  # angle of incidence\n",
    "phi = 0 * torch.pi / 180  # angle of rotation\n",
    "\n",
    "wavelength = 900\n",
    "\n",
    "thickness = torch.tensor([500., 1000.])  # thickness of each layer, from top to bottom.\n",
    "period = torch.tensor([1000.])  # length of the unit cell. Here it's 1D.\n",
    "\n",
    "fourier_order = [10]\n",
    "\n",
    "type_complex = torch.complex128\n",
    "device = torch.device('cpu')\n",
    "\n",
    "grating_type = 0  # grating type: 0 for 1D grating without rotation (phi == 0)"
   ],
   "metadata": {
    "collapsed": false
   }
  },
  {
   "cell_type": "code",
   "execution_count": 3,
   "outputs": [],
   "source": [
    "ucell_1d_m = torch.tensor([\n",
    "    [[0, 0, 0, 1, 1, 1, 1, 0, 0, 0, ]],\n",
    "    [[1, 1, 1, 1, 0, 1, 1, 1, 1, 1, ]],\n",
    "    ]) * 4 + 1.  # refractive index"
   ],
   "metadata": {
    "collapsed": false
   }
  },
  {
   "cell_type": "markdown",
   "source": [
    "## 2.1 Gradient\n",
    "Gradient can be calculated with the help of `torch.autograd` function.\n",
    "Read this for further information: [A GENTLE INTRODUCTION TO TORCH.AUTOGRAD](https://pytorch.org/tutorials/beginner/blitz/autograd_tutorial.html)\n",
    "\n",
    "Gradient can be utilized to solve optimization problems. Here are examples that show couple of ways to get gradient or optimized values with or without predefined functions of meent."
   ],
   "metadata": {
    "collapsed": false
   }
  },
  {
   "cell_type": "markdown",
   "source": [
    "### 2.1.1 Examples"
   ],
   "metadata": {
    "collapsed": false
   }
  },
  {
   "cell_type": "markdown",
   "source": [
    "Example 1: manually get gradient\n"
   ],
   "metadata": {
    "collapsed": false
   }
  },
  {
   "cell_type": "code",
   "execution_count": 4,
   "outputs": [
    {
     "name": "stdout",
     "output_type": "stream",
     "text": [
      "ucell gradient:\n",
      "tensor([[[-0.0512, -0.0253, -0.0073,  0.0787, -0.0184,  0.0945,  0.0878,\n",
      "          -0.0012, -0.0364, -0.0478]],\n",
      "\n",
      "        [[-0.1795, -0.0860, -0.2223, -0.1938,  0.0899,  0.0558, -0.0456,\n",
      "          -0.1359, -0.2983,  0.1288]]])\n",
      "thickness gradient:\n",
      "tensor([ 0.0022, -0.0067])\n"
     ]
    }
   ],
   "source": [
    "mee = meent.call_mee(backend=backend, grating_type=grating_type, pol=pol, n_I=n_I, n_II=n_II, theta=theta, phi=phi, fourier_order=fourier_order, wavelength=wavelength, period=period, ucell=ucell_1d_m, thickness=thickness, type_complex=type_complex, device=device, fft_type=0, improve_dft=True)\n",
    "\n",
    "mee.ucell.requires_grad = True\n",
    "mee.thickness.requires_grad = True\n",
    "\n",
    "de_ri, de_ti = mee.conv_solve()\n",
    "loss = de_ti[de_ti.shape[0] // 2 + 1]\n",
    "\n",
    "loss.backward()\n",
    "print('ucell gradient:')\n",
    "print(mee.ucell.grad)\n",
    "print('thickness gradient:')\n",
    "print(mee.thickness.grad)"
   ],
   "metadata": {
    "collapsed": false
   }
  },
  {
   "cell_type": "markdown",
   "source": [
    "Example 2: using predefined 'grad' function in meent"
   ],
   "metadata": {
    "collapsed": false
   }
  },
  {
   "cell_type": "code",
   "execution_count": 5,
   "outputs": [
    {
     "name": "stdout",
     "output_type": "stream",
     "text": [
      "ucell gradient:\n",
      "tensor([[[-0.0512, -0.0253, -0.0073,  0.0787, -0.0184,  0.0945,  0.0878,\n",
      "          -0.0012, -0.0364, -0.0478]],\n",
      "\n",
      "        [[-0.1795, -0.0860, -0.2223, -0.1938,  0.0899,  0.0558, -0.0456,\n",
      "          -0.1359, -0.2983,  0.1288]]])\n",
      "thickness gradient:\n",
      "tensor([ 0.0022, -0.0067])\n"
     ]
    }
   ],
   "source": [
    "mee = meent.call_mee(backend=backend, grating_type=grating_type, pol=pol, n_I=n_I, n_II=n_II, theta=theta, phi=phi, fourier_order=fourier_order, wavelength=wavelength, period=period, ucell=ucell_1d_m, thickness=thickness, type_complex=type_complex, device=device, fft_type=0, improve_dft=True)\n",
    "\n",
    "pois = ['ucell', 'thickness']  # Parameter Of Interests\n",
    "\n",
    "forward = mee.conv_solve\n",
    "\n",
    "# can use custom loss function or predefined loss function in meent.\n",
    "loss_fn = LossDeflector(x_order=1)  # predefined in meent\n",
    "# loss_fn = lambda x: x[1][x[1].shape[0] // 2 + 1]  # custom\n",
    "\n",
    "grad = mee.grad(pois, forward, loss_fn)\n",
    "print('ucell gradient:')\n",
    "print(grad['ucell'])\n",
    "print('thickness gradient:')\n",
    "print(grad['thickness'])"
   ],
   "metadata": {
    "collapsed": false
   }
  },
  {
   "cell_type": "markdown",
   "source": [
    "## 2.2 Optimization"
   ],
   "metadata": {
    "collapsed": false
   }
  },
  {
   "cell_type": "markdown",
   "source": [
    "### 2.2.1 Examples"
   ],
   "metadata": {
    "collapsed": false
   }
  },
  {
   "cell_type": "markdown",
   "source": [
    "Example 1"
   ],
   "metadata": {
    "collapsed": false
   }
  },
  {
   "cell_type": "code",
   "execution_count": 6,
   "outputs": [
    {
     "name": "stdout",
     "output_type": "stream",
     "text": [
      "ucell final:\n",
      "tensor([[[1.0029, 1.0015, 1.0005, 4.9967, 5.0018, 4.9958, 4.9962, 1.0002,\n",
      "          1.0021, 1.0028]],\n",
      "\n",
      "        [[5.0054, 4.9999, 5.0082, 5.0065, 0.9932, 4.9925, 4.9983, 5.0037,\n",
      "          5.0133, 4.9886]]], requires_grad=True)\n",
      "thickness final:\n",
      "tensor([ 499.9999, 1000.0004], requires_grad=True)\n"
     ]
    }
   ],
   "source": [
    "mee = meent.call_mee(backend=backend, grating_type=grating_type, pol=pol, n_I=n_I, n_II=n_II, theta=theta, phi=phi, fourier_order=fourier_order, wavelength=wavelength, period=period, ucell=ucell_1d_m, thickness=thickness, type_complex=type_complex, device=device, fft_type=0, improve_dft=True)\n",
    "\n",
    "mee.ucell.requires_grad = True\n",
    "mee.thickness.requires_grad = True\n",
    "opt = torch.optim.SGD([mee.ucell, mee.thickness], lr=1E-2, momentum=0.9)\n",
    "\n",
    "for _ in range(3):\n",
    "\n",
    "    de_ri, de_ti = mee.conv_solve()\n",
    "\n",
    "    center = de_ti.shape[0] // 2\n",
    "    loss = de_ti[center + 1]\n",
    "\n",
    "    loss.backward()\n",
    "    opt.step()\n",
    "    opt.zero_grad()\n",
    "\n",
    "print('ucell final:')\n",
    "print(mee.ucell)\n",
    "print('thickness final:')\n",
    "print(mee.thickness)"
   ],
   "metadata": {
    "collapsed": false
   }
  },
  {
   "cell_type": "markdown",
   "source": [
    "Example 2"
   ],
   "metadata": {
    "collapsed": false
   }
  },
  {
   "cell_type": "code",
   "execution_count": 7,
   "outputs": [
    {
     "name": "stderr",
     "output_type": "stream",
     "text": [
      "100%|██████████| 3/3 [00:00<00:00, 183.91it/s]"
     ]
    },
    {
     "name": "stdout",
     "output_type": "stream",
     "text": [
      "ucell final:\n",
      "tensor([[[1.0029, 1.0015, 1.0005, 4.9967, 5.0018, 4.9958, 4.9962, 1.0002,\n",
      "          1.0021, 1.0028]],\n",
      "\n",
      "        [[5.0054, 4.9999, 5.0082, 5.0065, 0.9932, 4.9925, 4.9983, 5.0037,\n",
      "          5.0133, 4.9886]]], requires_grad=True)\n",
      "thickness final:\n",
      "tensor([ 499.9999, 1000.0004], requires_grad=True)\n"
     ]
    },
    {
     "name": "stderr",
     "output_type": "stream",
     "text": [
      "\n"
     ]
    }
   ],
   "source": [
    "mee = meent.call_mee(backend=backend, grating_type=grating_type, pol=pol, n_I=n_I, n_II=n_II, theta=theta, phi=phi, fourier_order=fourier_order, wavelength=wavelength, period=period, ucell=ucell_1d_m, thickness=thickness, type_complex=type_complex, device=device, fft_type=0, improve_dft=True)\n",
    "\n",
    "\n",
    "def forward_fn():\n",
    "\n",
    "    de_ri, de_ti = mee.conv_solve()\n",
    "\n",
    "    center = de_ti.shape[0] // 2\n",
    "    loss = de_ti[center + 1]\n",
    "    return loss\n",
    "\n",
    "pois = ['ucell', 'thickness']\n",
    "forward = forward_fn\n",
    "loss_fn = lambda x: x\n",
    "opt_torch = torch.optim.SGD\n",
    "opt_options = {'lr': 1E-2,\n",
    "               'momentum': 0.9,\n",
    "               }\n",
    "\n",
    "res = mee.fit(pois, forward, loss_fn, opt_torch, opt_options, iteration=3)\n",
    "\n",
    "print('ucell final:')\n",
    "print(res[0])\n",
    "print('thickness final:')\n",
    "print(res[1])"
   ],
   "metadata": {
    "collapsed": false
   }
  },
  {
   "cell_type": "markdown",
   "source": [
    "Example 3"
   ],
   "metadata": {
    "collapsed": false
   }
  },
  {
   "cell_type": "code",
   "execution_count": 8,
   "outputs": [
    {
     "name": "stderr",
     "output_type": "stream",
     "text": [
      "100%|██████████| 3/3 [00:00<00:00, 219.78it/s]"
     ]
    },
    {
     "name": "stdout",
     "output_type": "stream",
     "text": [
      "ucell final:\n",
      "tensor([[[1.0029, 1.0015, 1.0005, 4.9967, 5.0018, 4.9958, 4.9962, 1.0002,\n",
      "          1.0021, 1.0028]],\n",
      "\n",
      "        [[5.0054, 4.9999, 5.0082, 5.0065, 0.9932, 4.9925, 4.9983, 5.0037,\n",
      "          5.0133, 4.9886]]], requires_grad=True)\n",
      "thickness final:\n",
      "tensor([ 499.9999, 1000.0004], requires_grad=True)\n"
     ]
    },
    {
     "name": "stderr",
     "output_type": "stream",
     "text": [
      "\n"
     ]
    }
   ],
   "source": [
    "mee = meent.call_mee(backend=backend, grating_type=grating_type, pol=pol, n_I=n_I, n_II=n_II, theta=theta, phi=phi, fourier_order=fourier_order, wavelength=wavelength, period=period, ucell=ucell_1d_m, thickness=thickness, type_complex=type_complex, device=device, fft_type=0, improve_dft=True)\n",
    "\n",
    "pois = ['ucell', 'thickness']\n",
    "\n",
    "forward = mee.conv_solve\n",
    "loss_fn = LossDeflector(1, 0)\n",
    "\n",
    "opt_torch = torch.optim.SGD\n",
    "opt_options = {'lr': 1E-2,\n",
    "               'momentum': 0.9,\n",
    "               }\n",
    "\n",
    "res = mee.fit(pois, forward, loss_fn, opt_torch, opt_options, iteration=3)\n",
    "\n",
    "print('ucell final:')\n",
    "print(res[0])\n",
    "print('thickness final:')\n",
    "print(res[1])"
   ],
   "metadata": {
    "collapsed": false
   }
  }
 ],
 "metadata": {
  "kernelspec": {
   "display_name": "Python 3",
   "language": "python",
   "name": "python3"
  },
  "language_info": {
   "codemirror_mode": {
    "name": "ipython",
    "version": 2
   },
   "file_extension": ".py",
   "mimetype": "text/x-python",
   "name": "python",
   "nbconvert_exporter": "python",
   "pygments_lexer": "ipython2",
   "version": "2.7.6"
  }
 },
 "nbformat": 4,
 "nbformat_minor": 0
}
