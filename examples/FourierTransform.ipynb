{
 "cells": [
  {
   "cell_type": "code",
   "execution_count": 1,
   "metadata": {
    "collapsed": true,
    "ExecuteTime": {
     "start_time": "2023-05-08T23:09:30.038599Z",
     "end_time": "2023-05-08T23:09:30.444528Z"
    }
   },
   "outputs": [],
   "source": [
    "import numpy as np\n",
    "import matplotlib.pyplot as plt"
   ]
  },
  {
   "cell_type": "code",
   "execution_count": 2,
   "outputs": [],
   "source": [
    "x = np.arange(10)\n",
    "y = np.array([12,12,12,1,1,1,3,3,3,3,3])\n",
    "x_disc = [3, 6]"
   ],
   "metadata": {
    "collapsed": false,
    "ExecuteTime": {
     "start_time": "2023-05-08T23:09:11.587041Z",
     "end_time": "2023-05-08T23:09:30.447857Z"
    }
   }
  },
  {
   "cell_type": "code",
   "execution_count": 3,
   "outputs": [],
   "source": [
    "coeffs = np.fft.fft(y)"
   ],
   "metadata": {
    "collapsed": false,
    "ExecuteTime": {
     "start_time": "2023-05-08T23:09:11.587085Z",
     "end_time": "2023-05-08T23:09:30.450912Z"
    }
   }
  },
  {
   "cell_type": "code",
   "execution_count": 4,
   "outputs": [],
   "source": [
    "plt.plot(range(4), [12,12,12,12], 'g')\n",
    "plt.plot(range(3,7), [1,1,1,1], 'g')\n",
    "plt.plot(range(6,11), [3,3,3,3,3], 'g')\n",
    "plt.plot((x_disc,x_disc), ([y[0], y[3]], [y[3], y[6]]), 'g')\n",
    "plt.show()"
   ],
   "metadata": {
    "collapsed": false,
    "ExecuteTime": {
     "start_time": "2023-05-08T23:09:11.587118Z",
     "end_time": "2023-05-08T23:09:30.524691Z"
    }
   }
  },
  {
   "cell_type": "markdown",
   "source": [
    "# Fourier series"
   ],
   "metadata": {
    "collapsed": false
   }
  },
  {
   "cell_type": "markdown",
   "source": [
    "\\begin{align}\n",
    "    f(x) = \\sum_{n=-N}^{N} c_n \\exp{\\bigg(\\frac{j \\cdot 2\\pi n x}{L}}\\bigg) dx,\n",
    "\\end{align}"
   ],
   "metadata": {
    "collapsed": false
   }
  },
  {
   "cell_type": "markdown",
   "source": [
    "We are interested in $c_n$.\n",
    "\n",
    "And we can calculate it with one of these methods:\n",
    "1. Discrete Fourier series (DFT)\n",
    "2. (Continuous) Fourier series (CFT)\n",
    "3. Improved DFT"
   ],
   "metadata": {
    "collapsed": false
   }
  },
  {
   "cell_type": "markdown",
   "source": [
    "## 1. Discrete Fourier series\n",
    "\\begin{equation}\n",
    "    c_n = \\frac{1}{P}\\sum_{i=0}^{P-1}f_i \\exp{(-j\\cdot nx_i)},\n",
    "\\end{equation}\n",
    "\n",
    "Just put permittivity array into `np.fft.fft` function"
   ],
   "metadata": {
    "collapsed": false
   }
  },
  {
   "cell_type": "code",
   "execution_count": 5,
   "outputs": [],
   "source": [
    "dft_coeff = np.fft.fftshift(np.fft.fft(y))\n",
    "print(dft_coeff)"
   ],
   "metadata": {
    "collapsed": false,
    "ExecuteTime": {
     "start_time": "2023-05-08T23:09:11.695090Z",
     "end_time": "2023-05-08T23:09:30.528887Z"
    }
   }
  },
  {
   "cell_type": "markdown",
   "source": [
    "Here, the result array has 11 elements, which is the size of input array."
   ],
   "metadata": {
    "collapsed": false
   }
  },
  {
   "cell_type": "markdown",
   "source": [
    "## 2. Continuous Fourier series (L is normalized to 1)\n",
    "\\begin{align}\n",
    "    c_n = \\int_{0}^{1}f(x)\\exp{\\big({-j \\cdot 2\\pi nx}}\\big) dx,\n",
    "\\end{align}"
   ],
   "metadata": {
    "collapsed": false
   }
  },
  {
   "cell_type": "markdown",
   "source": [
    "Here, $f(x)$ is $\\varepsilon$ and we know it is piecewise constant. Then formula becomes"
   ],
   "metadata": {
    "collapsed": false
   }
  },
  {
   "cell_type": "markdown",
   "source": [
    "\\begin{align}\n",
    "    c_n =& \\sum_{i=0}^{P-1}\\int_{x_i}^{x_{i+1}}\\varepsilon_p\\cdot \\exp{(-j \\cdot 2\\pi n x)}dx \\\\\n",
    "    =& \\int_{x_0}^{x_1}\\varepsilon_1\\cdot \\exp{(-j \\cdot 2\\pi n x)}dx + \\int_{x_1}^{x_2}\\varepsilon_2\\cdot \\exp{(-j \\cdot 2\\pi n x)}dx + \\cdots + \\int_{x_{P-1}}^{x_P}\\varepsilon_P\\cdot \\exp{(-j \\cdot 2\\pi n x)}dx,\n",
    "\\end{align}\n",
    "which is free from discretization resolution."
   ],
   "metadata": {
    "collapsed": false
   }
  },
  {
   "cell_type": "markdown",
   "source": [
    "## 3. Improved DFT"
   ],
   "metadata": {
    "collapsed": false
   }
  },
  {
   "cell_type": "markdown",
   "source": [
    "Now we extended the input array of DFT (from 11 elements to 33 elements) so we have 33 fourier coefficients as an output."
   ],
   "metadata": {
    "collapsed": false
   }
  },
  {
   "cell_type": "code",
   "execution_count": 6,
   "outputs": [],
   "source": [
    "yy = y.repeat(3)\n",
    "dft_coeff2 = np.fft.fftshift(np.fft.fft(yy))\n",
    "print(dft_coeff2)"
   ],
   "metadata": {
    "collapsed": false,
    "ExecuteTime": {
     "start_time": "2023-05-08T23:09:11.724756Z",
     "end_time": "2023-05-08T23:09:30.533098Z"
    }
   }
  },
  {
   "cell_type": "code",
   "execution_count": 7,
   "outputs": [],
   "source": [
    "plt.plot(np.arange(-len(dft_coeff)//2+1, len(dft_coeff)//2+1), dft_coeff)\n",
    "plt.plot(np.arange(-len(dft_coeff2)//2+1, len(dft_coeff2)//2+1), dft_coeff2)\n",
    "plt.show()"
   ],
   "metadata": {
    "collapsed": false,
    "ExecuteTime": {
     "start_time": "2023-05-08T23:09:11.724891Z",
     "end_time": "2023-05-08T23:09:30.606630Z"
    }
   }
  },
  {
   "cell_type": "markdown",
   "source": [
    "Extended input array (same pattern but with more resolution) makes more Fourier coefficients"
   ],
   "metadata": {
    "collapsed": false
   }
  }
 ],
 "metadata": {
  "kernelspec": {
   "display_name": "Python 3",
   "language": "python",
   "name": "python3"
  },
  "language_info": {
   "codemirror_mode": {
    "name": "ipython",
    "version": 2
   },
   "file_extension": ".py",
   "mimetype": "text/x-python",
   "name": "python",
   "nbconvert_exporter": "python",
   "pygments_lexer": "ipython2",
   "version": "2.7.6"
  }
 },
 "nbformat": 4,
 "nbformat_minor": 0
}
