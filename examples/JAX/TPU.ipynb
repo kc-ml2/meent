{
 "cells": [
  {
   "cell_type": "code",
   "execution_count": 1,
   "metadata": {
    "collapsed": false
   },
   "outputs": [],
   "source": [
    "import jax\n",
    "import jax.numpy as jnp"
   ]
  },
  {
   "cell_type": "code",
   "execution_count": 2,
   "metadata": {},
   "outputs": [],
   "source": [
    "from jax_smi import initialise_tracking\n",
    "initialise_tracking()\n",
    "# some computation..."
   ]
  },
  {
   "cell_type": "code",
   "execution_count": 3,
   "metadata": {},
   "outputs": [
    {
     "data": {
      "text/plain": [
       "[TpuDevice(id=0, process_index=0, coords=(0,0,0), core_on_chip=0),\n",
       " TpuDevice(id=1, process_index=0, coords=(0,0,0), core_on_chip=1),\n",
       " TpuDevice(id=2, process_index=0, coords=(1,0,0), core_on_chip=0),\n",
       " TpuDevice(id=3, process_index=0, coords=(1,0,0), core_on_chip=1),\n",
       " TpuDevice(id=4, process_index=0, coords=(0,1,0), core_on_chip=0),\n",
       " TpuDevice(id=5, process_index=0, coords=(0,1,0), core_on_chip=1),\n",
       " TpuDevice(id=6, process_index=0, coords=(1,1,0), core_on_chip=0),\n",
       " TpuDevice(id=7, process_index=0, coords=(1,1,0), core_on_chip=1)]"
      ]
     },
     "execution_count": 3,
     "metadata": {},
     "output_type": "execute_result"
    }
   ],
   "source": [
    "jax.devices()"
   ]
  },
  {
   "attachments": {},
   "cell_type": "markdown",
   "metadata": {},
   "source": [
    "# Issue: Eigen-decomposition with TPU fails"
   ]
  },
  {
   "cell_type": "code",
   "execution_count": 29,
   "metadata": {},
   "outputs": [
    {
     "ename": "NotImplementedError",
     "evalue": "64-bit types not supported.",
     "output_type": "error",
     "traceback": [
      "\u001B[0;31m---------------------------------------------------------------------------\u001B[0m",
      "\u001B[0;31mJaxStackTraceBeforeTransformation\u001B[0m         Traceback (most recent call last)",
      "File \u001B[0;32m~/miniconda3/envs/meent/lib/python3.10/runpy.py:196\u001B[0m, in \u001B[0;36m_run_module_as_main\u001B[0;34m(***failed resolving arguments***)\u001B[0m\n\u001B[1;32m    195\u001B[0m     sys\u001B[39m.\u001B[39margv[\u001B[39m0\u001B[39m] \u001B[39m=\u001B[39m mod_spec\u001B[39m.\u001B[39morigin\n\u001B[0;32m--> 196\u001B[0m \u001B[39mreturn\u001B[39;00m _run_code(code, main_globals, \u001B[39mNone\u001B[39;00m,\n\u001B[1;32m    197\u001B[0m                  \u001B[39m\"\u001B[39m\u001B[39m__main__\u001B[39m\u001B[39m\"\u001B[39m, mod_spec)\n",
      "File \u001B[0;32m~/miniconda3/envs/meent/lib/python3.10/runpy.py:86\u001B[0m, in \u001B[0;36m_run_code\u001B[0;34m(***failed resolving arguments***)\u001B[0m\n\u001B[1;32m     79\u001B[0m run_globals\u001B[39m.\u001B[39mupdate(\u001B[39m__name__\u001B[39m \u001B[39m=\u001B[39m mod_name,\n\u001B[1;32m     80\u001B[0m                    \u001B[39m__file__\u001B[39m \u001B[39m=\u001B[39m fname,\n\u001B[1;32m     81\u001B[0m                    __cached__ \u001B[39m=\u001B[39m cached,\n\u001B[0;32m   (...)\u001B[0m\n\u001B[1;32m     84\u001B[0m                    __package__ \u001B[39m=\u001B[39m pkg_name,\n\u001B[1;32m     85\u001B[0m                    __spec__ \u001B[39m=\u001B[39m mod_spec)\n\u001B[0;32m---> 86\u001B[0m exec(code, run_globals)\n\u001B[1;32m     87\u001B[0m \u001B[39mreturn\u001B[39;00m run_globals\n",
      "File \u001B[0;32m~/miniconda3/envs/meent/lib/python3.10/site-packages/ipykernel_launcher.py:17\u001B[0m\n\u001B[1;32m     15\u001B[0m \u001B[39mfrom\u001B[39;00m \u001B[39mipykernel\u001B[39;00m \u001B[39mimport\u001B[39;00m kernelapp \u001B[39mas\u001B[39;00m app\n\u001B[0;32m---> 17\u001B[0m app\u001B[39m.\u001B[39mlaunch_new_instance()\n",
      "File \u001B[0;32m~/miniconda3/envs/meent/lib/python3.10/site-packages/traitlets/config/application.py:992\u001B[0m, in \u001B[0;36mApplication.launch_instance\u001B[0;34m(***failed resolving arguments***)\u001B[0m\n\u001B[1;32m    991\u001B[0m app\u001B[39m.\u001B[39minitialize(argv)\n\u001B[0;32m--> 992\u001B[0m app\u001B[39m.\u001B[39mstart()\n",
      "File \u001B[0;32m~/miniconda3/envs/meent/lib/python3.10/site-packages/ipykernel/kernelapp.py:711\u001B[0m, in \u001B[0;36mIPKernelApp.start\u001B[0;34m(***failed resolving arguments***)\u001B[0m\n\u001B[1;32m    710\u001B[0m \u001B[39mtry\u001B[39;00m:\n\u001B[0;32m--> 711\u001B[0m     \u001B[39mself\u001B[39m\u001B[39m.\u001B[39mio_loop\u001B[39m.\u001B[39mstart()\n\u001B[1;32m    712\u001B[0m \u001B[39mexcept\u001B[39;00m \u001B[39mKeyboardInterrupt\u001B[39;00m:\n",
      "File \u001B[0;32m~/miniconda3/envs/meent/lib/python3.10/site-packages/tornado/platform/asyncio.py:215\u001B[0m, in \u001B[0;36mBaseAsyncIOLoop.start\u001B[0;34m(***failed resolving arguments***)\u001B[0m\n\u001B[1;32m    214\u001B[0m     asyncio\u001B[39m.\u001B[39mset_event_loop(\u001B[39mself\u001B[39m\u001B[39m.\u001B[39masyncio_loop)\n\u001B[0;32m--> 215\u001B[0m     \u001B[39mself\u001B[39m\u001B[39m.\u001B[39masyncio_loop\u001B[39m.\u001B[39mrun_forever()\n\u001B[1;32m    216\u001B[0m \u001B[39mfinally\u001B[39;00m:\n",
      "File \u001B[0;32m~/miniconda3/envs/meent/lib/python3.10/asyncio/base_events.py:603\u001B[0m, in \u001B[0;36mBaseEventLoop.run_forever\u001B[0;34m(***failed resolving arguments***)\u001B[0m\n\u001B[1;32m    602\u001B[0m \u001B[39mwhile\u001B[39;00m \u001B[39mTrue\u001B[39;00m:\n\u001B[0;32m--> 603\u001B[0m     \u001B[39mself\u001B[39m\u001B[39m.\u001B[39m_run_once()\n\u001B[1;32m    604\u001B[0m     \u001B[39mif\u001B[39;00m \u001B[39mself\u001B[39m\u001B[39m.\u001B[39m_stopping:\n",
      "File \u001B[0;32m~/miniconda3/envs/meent/lib/python3.10/asyncio/base_events.py:1906\u001B[0m, in \u001B[0;36mBaseEventLoop._run_once\u001B[0;34m(***failed resolving arguments***)\u001B[0m\n\u001B[1;32m   1905\u001B[0m     \u001B[39melse\u001B[39;00m:\n\u001B[0;32m-> 1906\u001B[0m         handle\u001B[39m.\u001B[39m_run()\n\u001B[1;32m   1907\u001B[0m handle \u001B[39m=\u001B[39m \u001B[39mNone\u001B[39;00m\n",
      "File \u001B[0;32m~/miniconda3/envs/meent/lib/python3.10/asyncio/events.py:80\u001B[0m, in \u001B[0;36mHandle._run\u001B[0;34m(***failed resolving arguments***)\u001B[0m\n\u001B[1;32m     79\u001B[0m \u001B[39mtry\u001B[39;00m:\n\u001B[0;32m---> 80\u001B[0m     \u001B[39mself\u001B[39m\u001B[39m.\u001B[39m_context\u001B[39m.\u001B[39mrun(\u001B[39mself\u001B[39m\u001B[39m.\u001B[39m_callback, \u001B[39m*\u001B[39m\u001B[39mself\u001B[39m\u001B[39m.\u001B[39m_args)\n\u001B[1;32m     81\u001B[0m \u001B[39mexcept\u001B[39;00m (\u001B[39mSystemExit\u001B[39;00m, \u001B[39mKeyboardInterrupt\u001B[39;00m):\n",
      "File \u001B[0;32m~/miniconda3/envs/meent/lib/python3.10/site-packages/ipykernel/kernelbase.py:510\u001B[0m, in \u001B[0;36mKernel.dispatch_queue\u001B[0;34m(***failed resolving arguments***)\u001B[0m\n\u001B[1;32m    509\u001B[0m \u001B[39mtry\u001B[39;00m:\n\u001B[0;32m--> 510\u001B[0m     \u001B[39mawait\u001B[39;00m \u001B[39mself\u001B[39m\u001B[39m.\u001B[39mprocess_one()\n\u001B[1;32m    511\u001B[0m \u001B[39mexcept\u001B[39;00m \u001B[39mException\u001B[39;00m:\n",
      "File \u001B[0;32m~/miniconda3/envs/meent/lib/python3.10/site-packages/ipykernel/kernelbase.py:499\u001B[0m, in \u001B[0;36mKernel.process_one\u001B[0;34m(***failed resolving arguments***)\u001B[0m\n\u001B[1;32m    498\u001B[0m         \u001B[39mreturn\u001B[39;00m \u001B[39mNone\u001B[39;00m\n\u001B[0;32m--> 499\u001B[0m \u001B[39mawait\u001B[39;00m dispatch(\u001B[39m*\u001B[39margs)\n",
      "File \u001B[0;32m~/miniconda3/envs/meent/lib/python3.10/site-packages/ipykernel/kernelbase.py:406\u001B[0m, in \u001B[0;36mKernel.dispatch_shell\u001B[0;34m(***failed resolving arguments***)\u001B[0m\n\u001B[1;32m    405\u001B[0m     \u001B[39mif\u001B[39;00m inspect\u001B[39m.\u001B[39misawaitable(result):\n\u001B[0;32m--> 406\u001B[0m         \u001B[39mawait\u001B[39;00m result\n\u001B[1;32m    407\u001B[0m \u001B[39mexcept\u001B[39;00m \u001B[39mException\u001B[39;00m:\n",
      "File \u001B[0;32m~/miniconda3/envs/meent/lib/python3.10/site-packages/ipykernel/kernelbase.py:729\u001B[0m, in \u001B[0;36mKernel.execute_request\u001B[0;34m(***failed resolving arguments***)\u001B[0m\n\u001B[1;32m    728\u001B[0m \u001B[39mif\u001B[39;00m inspect\u001B[39m.\u001B[39misawaitable(reply_content):\n\u001B[0;32m--> 729\u001B[0m     reply_content \u001B[39m=\u001B[39m \u001B[39mawait\u001B[39;00m reply_content\n\u001B[1;32m    731\u001B[0m \u001B[39m# Flush output before sending the reply.\u001B[39;00m\n",
      "File \u001B[0;32m~/miniconda3/envs/meent/lib/python3.10/site-packages/ipykernel/ipkernel.py:411\u001B[0m, in \u001B[0;36mIPythonKernel.do_execute\u001B[0;34m(***failed resolving arguments***)\u001B[0m\n\u001B[1;32m    410\u001B[0m \u001B[39mif\u001B[39;00m with_cell_id:\n\u001B[0;32m--> 411\u001B[0m     res \u001B[39m=\u001B[39m shell\u001B[39m.\u001B[39mrun_cell(\n\u001B[1;32m    412\u001B[0m         code,\n\u001B[1;32m    413\u001B[0m         store_history\u001B[39m=\u001B[39mstore_history,\n\u001B[1;32m    414\u001B[0m         silent\u001B[39m=\u001B[39msilent,\n\u001B[1;32m    415\u001B[0m         cell_id\u001B[39m=\u001B[39mcell_id,\n\u001B[1;32m    416\u001B[0m     )\n\u001B[1;32m    417\u001B[0m \u001B[39melse\u001B[39;00m:\n",
      "File \u001B[0;32m~/miniconda3/envs/meent/lib/python3.10/site-packages/ipykernel/zmqshell.py:531\u001B[0m, in \u001B[0;36mZMQInteractiveShell.run_cell\u001B[0;34m(***failed resolving arguments***)\u001B[0m\n\u001B[1;32m    530\u001B[0m \u001B[39mself\u001B[39m\u001B[39m.\u001B[39m_last_traceback \u001B[39m=\u001B[39m \u001B[39mNone\u001B[39;00m\n\u001B[0;32m--> 531\u001B[0m \u001B[39mreturn\u001B[39;00m \u001B[39msuper\u001B[39m()\u001B[39m.\u001B[39mrun_cell(\u001B[39m*\u001B[39margs, \u001B[39m*\u001B[39m\u001B[39m*\u001B[39mkwargs)\n",
      "File \u001B[0;32m~/miniconda3/envs/meent/lib/python3.10/site-packages/IPython/core/interactiveshell.py:2945\u001B[0m, in \u001B[0;36mInteractiveShell.run_cell\u001B[0;34m(***failed resolving arguments***)\u001B[0m\n\u001B[1;32m   2944\u001B[0m \u001B[39mtry\u001B[39;00m:\n\u001B[0;32m-> 2945\u001B[0m     result \u001B[39m=\u001B[39m \u001B[39mself\u001B[39m\u001B[39m.\u001B[39m_run_cell(\n\u001B[1;32m   2946\u001B[0m         raw_cell, store_history, silent, shell_futures, cell_id\n\u001B[1;32m   2947\u001B[0m     )\n\u001B[1;32m   2948\u001B[0m \u001B[39mfinally\u001B[39;00m:\n",
      "File \u001B[0;32m~/miniconda3/envs/meent/lib/python3.10/site-packages/IPython/core/interactiveshell.py:3000\u001B[0m, in \u001B[0;36mInteractiveShell._run_cell\u001B[0;34m(***failed resolving arguments***)\u001B[0m\n\u001B[1;32m   2999\u001B[0m \u001B[39mtry\u001B[39;00m:\n\u001B[0;32m-> 3000\u001B[0m     \u001B[39mreturn\u001B[39;00m runner(coro)\n\u001B[1;32m   3001\u001B[0m \u001B[39mexcept\u001B[39;00m \u001B[39mBaseException\u001B[39;00m \u001B[39mas\u001B[39;00m e:\n",
      "File \u001B[0;32m~/miniconda3/envs/meent/lib/python3.10/site-packages/IPython/core/async_helpers.py:129\u001B[0m, in \u001B[0;36m_pseudo_sync_runner\u001B[0;34m(***failed resolving arguments***)\u001B[0m\n\u001B[1;32m    128\u001B[0m \u001B[39mtry\u001B[39;00m:\n\u001B[0;32m--> 129\u001B[0m     coro\u001B[39m.\u001B[39msend(\u001B[39mNone\u001B[39;00m)\n\u001B[1;32m    130\u001B[0m \u001B[39mexcept\u001B[39;00m \u001B[39mStopIteration\u001B[39;00m \u001B[39mas\u001B[39;00m exc:\n",
      "File \u001B[0;32m~/miniconda3/envs/meent/lib/python3.10/site-packages/IPython/core/interactiveshell.py:3203\u001B[0m, in \u001B[0;36mInteractiveShell.run_cell_async\u001B[0;34m(***failed resolving arguments***)\u001B[0m\n\u001B[1;32m   3201\u001B[0m interactivity \u001B[39m=\u001B[39m \u001B[39m\"\u001B[39m\u001B[39mnone\u001B[39m\u001B[39m\"\u001B[39m \u001B[39mif\u001B[39;00m silent \u001B[39melse\u001B[39;00m \u001B[39mself\u001B[39m\u001B[39m.\u001B[39mast_node_interactivity\n\u001B[0;32m-> 3203\u001B[0m has_raised \u001B[39m=\u001B[39m \u001B[39mawait\u001B[39;00m \u001B[39mself\u001B[39m\u001B[39m.\u001B[39mrun_ast_nodes(code_ast\u001B[39m.\u001B[39mbody, cell_name,\n\u001B[1;32m   3204\u001B[0m        interactivity\u001B[39m=\u001B[39minteractivity, compiler\u001B[39m=\u001B[39mcompiler, result\u001B[39m=\u001B[39mresult)\n\u001B[1;32m   3206\u001B[0m \u001B[39mself\u001B[39m\u001B[39m.\u001B[39mlast_execution_succeeded \u001B[39m=\u001B[39m \u001B[39mnot\u001B[39;00m has_raised\n",
      "File \u001B[0;32m~/miniconda3/envs/meent/lib/python3.10/site-packages/IPython/core/interactiveshell.py:3382\u001B[0m, in \u001B[0;36mInteractiveShell.run_ast_nodes\u001B[0;34m(***failed resolving arguments***)\u001B[0m\n\u001B[1;32m   3381\u001B[0m     asy \u001B[39m=\u001B[39m compare(code)\n\u001B[0;32m-> 3382\u001B[0m \u001B[39mif\u001B[39;00m \u001B[39mawait\u001B[39;00m \u001B[39mself\u001B[39m\u001B[39m.\u001B[39mrun_code(code, result, async_\u001B[39m=\u001B[39masy):\n\u001B[1;32m   3383\u001B[0m     \u001B[39mreturn\u001B[39;00m \u001B[39mTrue\u001B[39;00m\n",
      "File \u001B[0;32m~/miniconda3/envs/meent/lib/python3.10/site-packages/IPython/core/interactiveshell.py:3442\u001B[0m, in \u001B[0;36mInteractiveShell.run_code\u001B[0;34m(***failed resolving arguments***)\u001B[0m\n\u001B[1;32m   3441\u001B[0m     \u001B[39melse\u001B[39;00m:\n\u001B[0;32m-> 3442\u001B[0m         exec(code_obj, \u001B[39mself\u001B[39m\u001B[39m.\u001B[39muser_global_ns, \u001B[39mself\u001B[39m\u001B[39m.\u001B[39muser_ns)\n\u001B[1;32m   3443\u001B[0m \u001B[39mfinally\u001B[39;00m:\n\u001B[1;32m   3444\u001B[0m     \u001B[39m# Reset our crash handler in place\u001B[39;00m\n",
      "Cell \u001B[0;32mIn[29], line 19\u001B[0m\n\u001B[1;32m     18\u001B[0m X \u001B[39m=\u001B[39m jnp\u001B[39m.\u001B[39marange(\u001B[39m1000\u001B[39m\u001B[39m*\u001B[39m\u001B[39m1000\u001B[39m)\u001B[39m.\u001B[39mreshape((\u001B[39m1000\u001B[39m,\u001B[39m1000\u001B[39m))\n\u001B[0;32m---> 19\u001B[0m eig(X, jnp\u001B[39m.\u001B[39mcomplex64)\n",
      "Cell \u001B[0;32mIn[29], line 16\u001B[0m, in \u001B[0;36meig\u001B[0;34m(***failed resolving arguments***)\u001B[0m\n\u001B[1;32m     15\u001B[0m result_shape_dtype \u001B[39m=\u001B[39m (eigenvalues_shape, eigenvectors_shape)\n\u001B[0;32m---> 16\u001B[0m \u001B[39mreturn\u001B[39;00m jax\u001B[39m.\u001B[39mpure_callback(_eig, result_shape_dtype, X)\n",
      "File \u001B[0;32m~/miniconda3/envs/meent/lib/python3.10/site-packages/jax/_src/callback.py:149\u001B[0m, in \u001B[0;36mpure_callback\u001B[0;34m(***failed resolving arguments***)\u001B[0m\n\u001B[1;32m    148\u001B[0m flat_result_avals, out_tree \u001B[39m=\u001B[39m tree_util\u001B[39m.\u001B[39mtree_flatten(result_avals)\n\u001B[0;32m--> 149\u001B[0m out_flat \u001B[39m=\u001B[39m pure_callback_p\u001B[39m.\u001B[39mbind(\n\u001B[1;32m    150\u001B[0m     \u001B[39m*\u001B[39mflat_args, callback\u001B[39m=\u001B[39m_flat_callback,\n\u001B[1;32m    151\u001B[0m     result_avals\u001B[39m=\u001B[39m\u001B[39mtuple\u001B[39m(flat_result_avals), vectorized\u001B[39m=\u001B[39mvectorized)\n\u001B[1;32m    152\u001B[0m \u001B[39mreturn\u001B[39;00m tree_util\u001B[39m.\u001B[39mtree_unflatten(out_tree, out_flat)\n",
      "\u001B[0;31mJaxStackTraceBeforeTransformation\u001B[0m: NotImplementedError: 64-bit types not supported.\n\nThe preceding stack trace is the source of the JAX operation that, once transformed by JAX, triggered the following exception.\n\n--------------------",
      "\nThe above exception was the direct cause of the following exception:\n",
      "\u001B[0;31mNotImplementedError\u001B[0m                       Traceback (most recent call last)",
      "Cell \u001B[0;32mIn[29], line 19\u001B[0m\n\u001B[1;32m     16\u001B[0m     \u001B[39mreturn\u001B[39;00m jax\u001B[39m.\u001B[39mpure_callback(_eig, result_shape_dtype, X)\n\u001B[1;32m     18\u001B[0m X \u001B[39m=\u001B[39m jnp\u001B[39m.\u001B[39marange(\u001B[39m1000\u001B[39m\u001B[39m*\u001B[39m\u001B[39m1000\u001B[39m)\u001B[39m.\u001B[39mreshape((\u001B[39m1000\u001B[39m,\u001B[39m1000\u001B[39m))\n\u001B[0;32m---> 19\u001B[0m eig(X, jnp\u001B[39m.\u001B[39;49mcomplex64)\n",
      "Cell \u001B[0;32mIn[29], line 16\u001B[0m, in \u001B[0;36meig\u001B[0;34m(X, type_complex)\u001B[0m\n\u001B[1;32m     13\u001B[0m eigenvectors_shape \u001B[39m=\u001B[39m jax\u001B[39m.\u001B[39mShapeDtypeStruct(X\u001B[39m.\u001B[39mshape, type_complex)\n\u001B[1;32m     15\u001B[0m result_shape_dtype \u001B[39m=\u001B[39m (eigenvalues_shape, eigenvectors_shape)\n\u001B[0;32m---> 16\u001B[0m \u001B[39mreturn\u001B[39;00m jax\u001B[39m.\u001B[39;49mpure_callback(_eig, result_shape_dtype, X)\n",
      "File \u001B[0;32m~/miniconda3/envs/meent/lib/python3.10/site-packages/jax/_src/api.py:3415\u001B[0m, in \u001B[0;36mpure_callback\u001B[0;34m(callback, result_shape_dtypes, vectorized, *args, **kwargs)\u001B[0m\n\u001B[1;32m   3364\u001B[0m \u001B[39mdef\u001B[39;00m \u001B[39mpure_callback\u001B[39m(callback: Callable[\u001B[39m.\u001B[39m\u001B[39m.\u001B[39m\u001B[39m.\u001B[39m, Any], result_shape_dtypes: Any,\n\u001B[1;32m   3365\u001B[0m                   \u001B[39m*\u001B[39margs: Any, vectorized: \u001B[39mbool\u001B[39m \u001B[39m=\u001B[39m \u001B[39mFalse\u001B[39;00m, \u001B[39m*\u001B[39m\u001B[39m*\u001B[39mkwargs: Any):\n\u001B[1;32m   3366\u001B[0m   \u001B[39m\"\"\"Applies a functionally pure Python callable. Works under :func:`jit`/:func:`~pmap`/etc.\u001B[39;00m\n\u001B[1;32m   3367\u001B[0m \n\u001B[1;32m   3368\u001B[0m \u001B[39m  ``pure_callback`` enables calling a Python function in JIT-ed JAX functions.\u001B[39;00m\n\u001B[0;32m   (...)\u001B[0m\n\u001B[1;32m   3413\u001B[0m \u001B[39m    The value of ``callback(*args, **kwargs)``.\u001B[39;00m\n\u001B[1;32m   3414\u001B[0m \u001B[39m  \"\"\"\u001B[39;00m\n\u001B[0;32m-> 3415\u001B[0m   \u001B[39mreturn\u001B[39;00m jcb\u001B[39m.\u001B[39;49mpure_callback(callback, result_shape_dtypes, \u001B[39m*\u001B[39;49margs,\n\u001B[1;32m   3416\u001B[0m                            vectorized\u001B[39m=\u001B[39;49mvectorized, \u001B[39m*\u001B[39;49m\u001B[39m*\u001B[39;49mkwargs)\n",
      "File \u001B[0;32m~/miniconda3/envs/meent/lib/python3.10/site-packages/jax/_src/callback.py:149\u001B[0m, in \u001B[0;36mpure_callback\u001B[0;34m(callback, result_shape_dtypes, vectorized, *args, **kwargs)\u001B[0m\n\u001B[1;32m    146\u001B[0m result_avals \u001B[39m=\u001B[39m tree_util\u001B[39m.\u001B[39mtree_map(\n\u001B[1;32m    147\u001B[0m     \u001B[39mlambda\u001B[39;00m x: core\u001B[39m.\u001B[39mShapedArray(x\u001B[39m.\u001B[39mshape, x\u001B[39m.\u001B[39mdtype), result_shape_dtypes)\n\u001B[1;32m    148\u001B[0m flat_result_avals, out_tree \u001B[39m=\u001B[39m tree_util\u001B[39m.\u001B[39mtree_flatten(result_avals)\n\u001B[0;32m--> 149\u001B[0m out_flat \u001B[39m=\u001B[39m pure_callback_p\u001B[39m.\u001B[39;49mbind(\n\u001B[1;32m    150\u001B[0m     \u001B[39m*\u001B[39;49mflat_args, callback\u001B[39m=\u001B[39;49m_flat_callback,\n\u001B[1;32m    151\u001B[0m     result_avals\u001B[39m=\u001B[39;49m\u001B[39mtuple\u001B[39;49m(flat_result_avals), vectorized\u001B[39m=\u001B[39;49mvectorized)\n\u001B[1;32m    152\u001B[0m \u001B[39mreturn\u001B[39;00m tree_util\u001B[39m.\u001B[39mtree_unflatten(out_tree, out_flat)\n",
      "File \u001B[0;32m~/miniconda3/envs/meent/lib/python3.10/site-packages/jax/_src/core.py:343\u001B[0m, in \u001B[0;36mPrimitive.bind\u001B[0;34m(self, *args, **params)\u001B[0m\n\u001B[1;32m    340\u001B[0m \u001B[39mdef\u001B[39;00m \u001B[39mbind\u001B[39m(\u001B[39mself\u001B[39m, \u001B[39m*\u001B[39margs, \u001B[39m*\u001B[39m\u001B[39m*\u001B[39mparams):\n\u001B[1;32m    341\u001B[0m   \u001B[39massert\u001B[39;00m (\u001B[39mnot\u001B[39;00m config\u001B[39m.\u001B[39mjax_enable_checks \u001B[39mor\u001B[39;00m\n\u001B[1;32m    342\u001B[0m           \u001B[39mall\u001B[39m(\u001B[39misinstance\u001B[39m(arg, Tracer) \u001B[39mor\u001B[39;00m valid_jaxtype(arg) \u001B[39mfor\u001B[39;00m arg \u001B[39min\u001B[39;00m args)), args\n\u001B[0;32m--> 343\u001B[0m   \u001B[39mreturn\u001B[39;00m \u001B[39mself\u001B[39;49m\u001B[39m.\u001B[39;49mbind_with_trace(find_top_trace(args), args, params)\n",
      "File \u001B[0;32m~/miniconda3/envs/meent/lib/python3.10/site-packages/jax/_src/core.py:346\u001B[0m, in \u001B[0;36mPrimitive.bind_with_trace\u001B[0;34m(self, trace, args, params)\u001B[0m\n\u001B[1;32m    345\u001B[0m \u001B[39mdef\u001B[39;00m \u001B[39mbind_with_trace\u001B[39m(\u001B[39mself\u001B[39m, trace, args, params):\n\u001B[0;32m--> 346\u001B[0m   out \u001B[39m=\u001B[39m trace\u001B[39m.\u001B[39;49mprocess_primitive(\u001B[39mself\u001B[39;49m, \u001B[39mmap\u001B[39;49m(trace\u001B[39m.\u001B[39;49mfull_raise, args), params)\n\u001B[1;32m    347\u001B[0m   \u001B[39mreturn\u001B[39;00m \u001B[39mmap\u001B[39m(full_lower, out) \u001B[39mif\u001B[39;00m \u001B[39mself\u001B[39m\u001B[39m.\u001B[39mmultiple_results \u001B[39melse\u001B[39;00m full_lower(out)\n",
      "File \u001B[0;32m~/miniconda3/envs/meent/lib/python3.10/site-packages/jax/_src/core.py:728\u001B[0m, in \u001B[0;36mEvalTrace.process_primitive\u001B[0;34m(self, primitive, tracers, params)\u001B[0m\n\u001B[1;32m    727\u001B[0m \u001B[39mdef\u001B[39;00m \u001B[39mprocess_primitive\u001B[39m(\u001B[39mself\u001B[39m, primitive, tracers, params):\n\u001B[0;32m--> 728\u001B[0m   \u001B[39mreturn\u001B[39;00m primitive\u001B[39m.\u001B[39;49mimpl(\u001B[39m*\u001B[39;49mtracers, \u001B[39m*\u001B[39;49m\u001B[39m*\u001B[39;49mparams)\n",
      "File \u001B[0;32m~/miniconda3/envs/meent/lib/python3.10/site-packages/jax/_src/dispatch.py:118\u001B[0m, in \u001B[0;36mapply_primitive\u001B[0;34m(prim, *args, **params)\u001B[0m\n\u001B[1;32m    116\u001B[0m \u001B[39mdef\u001B[39;00m \u001B[39mapply_primitive\u001B[39m(prim, \u001B[39m*\u001B[39margs, \u001B[39m*\u001B[39m\u001B[39m*\u001B[39mparams):\n\u001B[1;32m    117\u001B[0m   \u001B[39m\"\"\"Impl rule that compiles and runs a single primitive 'prim' using XLA.\"\"\"\u001B[39;00m\n\u001B[0;32m--> 118\u001B[0m   compiled_fun \u001B[39m=\u001B[39m xla_primitive_callable(prim, \u001B[39m*\u001B[39;49munsafe_map(arg_spec, args),\n\u001B[1;32m    119\u001B[0m                                         \u001B[39m*\u001B[39;49m\u001B[39m*\u001B[39;49mparams)\n\u001B[1;32m    120\u001B[0m   \u001B[39mreturn\u001B[39;00m compiled_fun(\u001B[39m*\u001B[39margs)\n",
      "File \u001B[0;32m~/miniconda3/envs/meent/lib/python3.10/site-packages/jax/_src/util.py:254\u001B[0m, in \u001B[0;36mcache.<locals>.wrap.<locals>.wrapper\u001B[0;34m(*args, **kwargs)\u001B[0m\n\u001B[1;32m    252\u001B[0m   \u001B[39mreturn\u001B[39;00m f(\u001B[39m*\u001B[39margs, \u001B[39m*\u001B[39m\u001B[39m*\u001B[39mkwargs)\n\u001B[1;32m    253\u001B[0m \u001B[39melse\u001B[39;00m:\n\u001B[0;32m--> 254\u001B[0m   \u001B[39mreturn\u001B[39;00m cached(config\u001B[39m.\u001B[39;49m_trace_context(), \u001B[39m*\u001B[39;49margs, \u001B[39m*\u001B[39;49m\u001B[39m*\u001B[39;49mkwargs)\n",
      "File \u001B[0;32m~/miniconda3/envs/meent/lib/python3.10/site-packages/jax/_src/util.py:247\u001B[0m, in \u001B[0;36mcache.<locals>.wrap.<locals>.cached\u001B[0;34m(_, *args, **kwargs)\u001B[0m\n\u001B[1;32m    245\u001B[0m \u001B[39m@functools\u001B[39m\u001B[39m.\u001B[39mlru_cache(max_size)\n\u001B[1;32m    246\u001B[0m \u001B[39mdef\u001B[39;00m \u001B[39mcached\u001B[39m(_, \u001B[39m*\u001B[39margs, \u001B[39m*\u001B[39m\u001B[39m*\u001B[39mkwargs):\n\u001B[0;32m--> 247\u001B[0m   \u001B[39mreturn\u001B[39;00m f(\u001B[39m*\u001B[39;49margs, \u001B[39m*\u001B[39;49m\u001B[39m*\u001B[39;49mkwargs)\n",
      "File \u001B[0;32m~/miniconda3/envs/meent/lib/python3.10/site-packages/jax/_src/dispatch.py:202\u001B[0m, in \u001B[0;36mxla_primitive_callable\u001B[0;34m(prim, *arg_specs, **params)\u001B[0m\n\u001B[1;32m    200\u001B[0m   \u001B[39melse\u001B[39;00m:\n\u001B[1;32m    201\u001B[0m     \u001B[39mreturn\u001B[39;00m out,\n\u001B[0;32m--> 202\u001B[0m compiled \u001B[39m=\u001B[39m _xla_callable_uncached(lu\u001B[39m.\u001B[39;49mwrap_init(prim_fun), device, \u001B[39mNone\u001B[39;49;00m,\n\u001B[1;32m    203\u001B[0m                                   prim\u001B[39m.\u001B[39;49mname, donated_invars, \u001B[39mFalse\u001B[39;49;00m, \u001B[39m*\u001B[39;49marg_specs)\n\u001B[1;32m    204\u001B[0m \u001B[39mif\u001B[39;00m \u001B[39mnot\u001B[39;00m prim\u001B[39m.\u001B[39mmultiple_results:\n\u001B[1;32m    205\u001B[0m   \u001B[39mreturn\u001B[39;00m \u001B[39mlambda\u001B[39;00m \u001B[39m*\u001B[39margs, \u001B[39m*\u001B[39m\u001B[39m*\u001B[39mkw: compiled(\u001B[39m*\u001B[39margs, \u001B[39m*\u001B[39m\u001B[39m*\u001B[39mkw)[\u001B[39m0\u001B[39m]\n",
      "File \u001B[0;32m~/miniconda3/envs/meent/lib/python3.10/site-packages/jax/_src/dispatch.py:357\u001B[0m, in \u001B[0;36m_xla_callable_uncached\u001B[0;34m(fun, device, backend, name, donated_invars, keep_unused, *arg_specs)\u001B[0m\n\u001B[1;32m    354\u001B[0m \u001B[39mdef\u001B[39;00m \u001B[39m_xla_callable_uncached\u001B[39m(fun: lu\u001B[39m.\u001B[39mWrappedFun, device, backend, name,\n\u001B[1;32m    355\u001B[0m                            donated_invars, keep_unused, \u001B[39m*\u001B[39marg_specs):\n\u001B[1;32m    356\u001B[0m   \u001B[39mif\u001B[39;00m config\u001B[39m.\u001B[39mjax_array:\n\u001B[0;32m--> 357\u001B[0m     computation \u001B[39m=\u001B[39m sharded_lowering(fun, device, backend, name, donated_invars,\n\u001B[1;32m    358\u001B[0m                                    \u001B[39mFalse\u001B[39;49;00m, keep_unused, \u001B[39m*\u001B[39;49marg_specs)\n\u001B[1;32m    359\u001B[0m     \u001B[39mreturn\u001B[39;00m computation\u001B[39m.\u001B[39mcompile(_allow_propagation_to_outputs\u001B[39m=\u001B[39m\u001B[39mTrue\u001B[39;00m)\u001B[39m.\u001B[39munsafe_call\n\u001B[1;32m    360\u001B[0m   \u001B[39melse\u001B[39;00m:\n",
      "File \u001B[0;32m~/miniconda3/envs/meent/lib/python3.10/site-packages/jax/_src/dispatch.py:348\u001B[0m, in \u001B[0;36msharded_lowering\u001B[0;34m(fun, device, backend, name, donated_invars, always_lower, keep_unused, *arg_specs)\u001B[0m\n\u001B[1;32m    343\u001B[0m in_shardings \u001B[39m=\u001B[39m [pxla\u001B[39m.\u001B[39m_UNSPECIFIED \u001B[39mif\u001B[39;00m i \u001B[39mis\u001B[39;00m \u001B[39mNone\u001B[39;00m \u001B[39melse\u001B[39;00m i \u001B[39mfor\u001B[39;00m i \u001B[39min\u001B[39;00m in_shardings]\n\u001B[1;32m    345\u001B[0m \u001B[39m# Pass in a singleton `_UNSPECIFIED` for out_shardings because we don't know\u001B[39;00m\n\u001B[1;32m    346\u001B[0m \u001B[39m# the number of output avals at this stage. lower_sharding_computation will\u001B[39;00m\n\u001B[1;32m    347\u001B[0m \u001B[39m# apply it to all out_avals.\u001B[39;00m\n\u001B[0;32m--> 348\u001B[0m \u001B[39mreturn\u001B[39;00m pxla\u001B[39m.\u001B[39;49mlower_sharding_computation(\n\u001B[1;32m    349\u001B[0m     fun, \u001B[39m'\u001B[39;49m\u001B[39mjit\u001B[39;49m\u001B[39m'\u001B[39;49m, name, in_shardings, pjit\u001B[39m.\u001B[39;49m_UNSPECIFIED, donated_invars,\n\u001B[1;32m    350\u001B[0m     in_avals, in_is_global\u001B[39m=\u001B[39;49m(\u001B[39mTrue\u001B[39;49;00m,) \u001B[39m*\u001B[39;49m \u001B[39mlen\u001B[39;49m(arg_specs), keep_unused\u001B[39m=\u001B[39;49mkeep_unused,\n\u001B[1;32m    351\u001B[0m     always_lower\u001B[39m=\u001B[39;49malways_lower, devices_from_context\u001B[39m=\u001B[39;49mda)\n",
      "File \u001B[0;32m~/miniconda3/envs/meent/lib/python3.10/site-packages/jax/_src/profiler.py:314\u001B[0m, in \u001B[0;36mannotate_function.<locals>.wrapper\u001B[0;34m(*args, **kwargs)\u001B[0m\n\u001B[1;32m    311\u001B[0m \u001B[39m@wraps\u001B[39m(func)\n\u001B[1;32m    312\u001B[0m \u001B[39mdef\u001B[39;00m \u001B[39mwrapper\u001B[39m(\u001B[39m*\u001B[39margs, \u001B[39m*\u001B[39m\u001B[39m*\u001B[39mkwargs):\n\u001B[1;32m    313\u001B[0m   \u001B[39mwith\u001B[39;00m TraceAnnotation(name, \u001B[39m*\u001B[39m\u001B[39m*\u001B[39mdecorator_kwargs):\n\u001B[0;32m--> 314\u001B[0m     \u001B[39mreturn\u001B[39;00m func(\u001B[39m*\u001B[39;49margs, \u001B[39m*\u001B[39;49m\u001B[39m*\u001B[39;49mkwargs)\n\u001B[1;32m    315\u001B[0m   \u001B[39mreturn\u001B[39;00m wrapper\n",
      "File \u001B[0;32m~/miniconda3/envs/meent/lib/python3.10/site-packages/jax/interpreters/pxla.py:2933\u001B[0m, in \u001B[0;36mlower_sharding_computation\u001B[0;34m(fun, api_name, fun_name, in_shardings, out_shardings, donated_invars, global_in_avals, in_is_global, keep_unused, always_lower, devices_from_context)\u001B[0m\n\u001B[1;32m   2929\u001B[0m unordered_effects \u001B[39m=\u001B[39m [eff \u001B[39mfor\u001B[39;00m eff \u001B[39min\u001B[39;00m closed_jaxpr\u001B[39m.\u001B[39meffects\n\u001B[1;32m   2930\u001B[0m                      \u001B[39mif\u001B[39;00m eff \u001B[39mnot\u001B[39;00m \u001B[39min\u001B[39;00m core\u001B[39m.\u001B[39mordered_effects]\n\u001B[1;32m   2931\u001B[0m ordered_effects \u001B[39m=\u001B[39m [eff \u001B[39mfor\u001B[39;00m eff \u001B[39min\u001B[39;00m closed_jaxpr\u001B[39m.\u001B[39meffects\n\u001B[1;32m   2932\u001B[0m                    \u001B[39mif\u001B[39;00m eff \u001B[39min\u001B[39;00m core\u001B[39m.\u001B[39mordered_effects]\n\u001B[0;32m-> 2933\u001B[0m lowering_result \u001B[39m=\u001B[39m mlir\u001B[39m.\u001B[39;49mlower_jaxpr_to_module(\n\u001B[1;32m   2934\u001B[0m     module_name,\n\u001B[1;32m   2935\u001B[0m     closed_jaxpr,\n\u001B[1;32m   2936\u001B[0m     unordered_effects,\n\u001B[1;32m   2937\u001B[0m     ordered_effects,\n\u001B[1;32m   2938\u001B[0m     backend,\n\u001B[1;32m   2939\u001B[0m     backend\u001B[39m.\u001B[39;49mplatform,\n\u001B[1;32m   2940\u001B[0m     axis_ctx,\n\u001B[1;32m   2941\u001B[0m     name_stack,\n\u001B[1;32m   2942\u001B[0m     donated_invars,\n\u001B[1;32m   2943\u001B[0m     replicated_args\u001B[39m=\u001B[39;49mreplicated_args,\n\u001B[1;32m   2944\u001B[0m     arg_shardings\u001B[39m=\u001B[39;49min_op_shardings,\n\u001B[1;32m   2945\u001B[0m     result_shardings\u001B[39m=\u001B[39;49mout_op_shardings)\n\u001B[1;32m   2947\u001B[0m module, keepalive, host_callbacks \u001B[39m=\u001B[39m (\n\u001B[1;32m   2948\u001B[0m     lowering_result\u001B[39m.\u001B[39mmodule, lowering_result\u001B[39m.\u001B[39mkeepalive,\n\u001B[1;32m   2949\u001B[0m     lowering_result\u001B[39m.\u001B[39mhost_callbacks)\n\u001B[1;32m   2951\u001B[0m \u001B[39m# backend and device_assignment is passed through to MeshExecutable because\u001B[39;00m\n\u001B[1;32m   2952\u001B[0m \u001B[39m# if keep_unused=False and all in_shardings are pruned, then there is no way\u001B[39;00m\n\u001B[1;32m   2953\u001B[0m \u001B[39m# to get the device_assignment and backend. So pass it to MeshExecutable\u001B[39;00m\n\u001B[1;32m   2954\u001B[0m \u001B[39m# because we calculate the device_assignment and backend before in_shardings,\u001B[39;00m\n\u001B[1;32m   2955\u001B[0m \u001B[39m# etc are pruned.\u001B[39;00m\n",
      "File \u001B[0;32m~/miniconda3/envs/meent/lib/python3.10/site-packages/jax/interpreters/mlir.py:718\u001B[0m, in \u001B[0;36mlower_jaxpr_to_module\u001B[0;34m(module_name, jaxpr, unordered_effects, ordered_effects, backend_or_name, platform, axis_context, name_stack, donated_args, replicated_args, arg_shardings, result_shardings)\u001B[0m\n\u001B[1;32m    715\u001B[0m   \u001B[39mif\u001B[39;00m unlowerable_effects:\n\u001B[1;32m    716\u001B[0m     \u001B[39mraise\u001B[39;00m \u001B[39mValueError\u001B[39;00m(\n\u001B[1;32m    717\u001B[0m         \u001B[39mf\u001B[39m\u001B[39m'\u001B[39m\u001B[39mCannot lower jaxpr with unlowerable effects: \u001B[39m\u001B[39m{\u001B[39;00munlowerable_effects\u001B[39m}\u001B[39;00m\u001B[39m'\u001B[39m)\n\u001B[0;32m--> 718\u001B[0m   lower_jaxpr_to_fun(\n\u001B[1;32m    719\u001B[0m       ctx, \u001B[39m\"\u001B[39;49m\u001B[39mmain\u001B[39;49m\u001B[39m\"\u001B[39;49m, jaxpr, ordered_effects, public\u001B[39m=\u001B[39;49m\u001B[39mTrue\u001B[39;49;00m, create_tokens\u001B[39m=\u001B[39;49m\u001B[39mTrue\u001B[39;49;00m,\n\u001B[1;32m    720\u001B[0m       replace_tokens_with_dummy\u001B[39m=\u001B[39;49m\u001B[39mTrue\u001B[39;49;00m,\n\u001B[1;32m    721\u001B[0m       num_output_tokens\u001B[39m=\u001B[39;49m\u001B[39m0\u001B[39;49m,\n\u001B[1;32m    722\u001B[0m       replicated_args\u001B[39m=\u001B[39;49mreplicated_args,\n\u001B[1;32m    723\u001B[0m       arg_shardings\u001B[39m=\u001B[39;49marg_shardings, result_shardings\u001B[39m=\u001B[39;49mresult_shardings,\n\u001B[1;32m    724\u001B[0m       input_output_aliases\u001B[39m=\u001B[39;49minput_output_aliases)\n\u001B[1;32m    726\u001B[0m \u001B[39mif\u001B[39;00m \u001B[39mnot\u001B[39;00m ctx\u001B[39m.\u001B[39mmodule\u001B[39m.\u001B[39moperation\u001B[39m.\u001B[39mverify():\n\u001B[1;32m    727\u001B[0m   module_string \u001B[39m=\u001B[39m module_to_string(ctx\u001B[39m.\u001B[39mmodule)\n",
      "File \u001B[0;32m~/miniconda3/envs/meent/lib/python3.10/site-packages/jax/interpreters/mlir.py:1007\u001B[0m, in \u001B[0;36mlower_jaxpr_to_fun\u001B[0;34m(ctx, name, jaxpr, effects, create_tokens, public, replace_tokens_with_dummy, replicated_args, arg_shardings, result_shardings, use_sharding_annotations, input_output_aliases, num_output_tokens, api_name)\u001B[0m\n\u001B[1;32m   1004\u001B[0m     args\u001B[39m.\u001B[39mappend(arg)\n\u001B[1;32m   1005\u001B[0m callee_name_stack \u001B[39m=\u001B[39m xla\u001B[39m.\u001B[39mextend_name_stack(ctx\u001B[39m.\u001B[39mname_stack,\n\u001B[1;32m   1006\u001B[0m                                           util\u001B[39m.\u001B[39mwrap_name(name, api_name))\n\u001B[0;32m-> 1007\u001B[0m out_vals, tokens_out \u001B[39m=\u001B[39m jaxpr_subcomp(ctx\u001B[39m.\u001B[39;49mreplace(name_stack\u001B[39m=\u001B[39;49mcallee_name_stack),\n\u001B[1;32m   1008\u001B[0m                                      jaxpr\u001B[39m.\u001B[39;49mjaxpr, tokens_in, \u001B[39mmap\u001B[39;49m(ir_constants, jaxpr\u001B[39m.\u001B[39;49mconsts),\n\u001B[1;32m   1009\u001B[0m                                      \u001B[39m*\u001B[39;49margs, dim_var_values\u001B[39m=\u001B[39;49mdim_var_values)\n\u001B[1;32m   1010\u001B[0m outs \u001B[39m=\u001B[39m []\n\u001B[1;32m   1011\u001B[0m \u001B[39mif\u001B[39;00m create_tokens:\n",
      "File \u001B[0;32m~/miniconda3/envs/meent/lib/python3.10/site-packages/jax/interpreters/mlir.py:1141\u001B[0m, in \u001B[0;36mjaxpr_subcomp\u001B[0;34m(ctx, jaxpr, tokens, consts, dim_var_values, *args)\u001B[0m\n\u001B[1;32m   1137\u001B[0m   axis_size_env \u001B[39m=\u001B[39m {d: read(d)[\u001B[39m0\u001B[39m]\n\u001B[1;32m   1138\u001B[0m                    \u001B[39mfor\u001B[39;00m a \u001B[39min\u001B[39;00m avals_in \u001B[39mif\u001B[39;00m \u001B[39mtype\u001B[39m(a) \u001B[39mis\u001B[39;00m core\u001B[39m.\u001B[39mDShapedArray\n\u001B[1;32m   1139\u001B[0m                    \u001B[39mfor\u001B[39;00m d \u001B[39min\u001B[39;00m a\u001B[39m.\u001B[39mshape \u001B[39mif\u001B[39;00m \u001B[39mtype\u001B[39m(d) \u001B[39mis\u001B[39;00m core\u001B[39m.\u001B[39mVar}\n\u001B[1;32m   1140\u001B[0m   rule_ctx \u001B[39m=\u001B[39m rule_ctx\u001B[39m.\u001B[39mreplace(axis_size_env\u001B[39m=\u001B[39maxis_size_env)\n\u001B[0;32m-> 1141\u001B[0m ans \u001B[39m=\u001B[39m rule(rule_ctx, \u001B[39m*\u001B[39;49m\u001B[39mmap\u001B[39;49m(_unwrap_singleton_ir_values, in_nodes),\n\u001B[1;32m   1142\u001B[0m            \u001B[39m*\u001B[39;49m\u001B[39m*\u001B[39;49meqn\u001B[39m.\u001B[39;49mparams)\n\u001B[1;32m   1143\u001B[0m \u001B[39mif\u001B[39;00m effects:\n\u001B[1;32m   1144\u001B[0m   \u001B[39m# If there were ordered effects in the primitive, there should be output\u001B[39;00m\n\u001B[1;32m   1145\u001B[0m   \u001B[39m# tokens we need for subsequent ordered effects.\u001B[39;00m\n\u001B[1;32m   1146\u001B[0m   tokens_out \u001B[39m=\u001B[39m rule_ctx\u001B[39m.\u001B[39mtokens_out\n",
      "File \u001B[0;32m~/miniconda3/envs/meent/lib/python3.10/site-packages/jax/_src/callback.py:124\u001B[0m, in \u001B[0;36mpure_callback_lowering\u001B[0;34m(ctx, callback, *args, **params)\u001B[0m\n\u001B[1;32m    121\u001B[0m   sharding \u001B[39m=\u001B[39m xc\u001B[39m.\u001B[39mOpSharding()\n\u001B[1;32m    122\u001B[0m   sharding\u001B[39m.\u001B[39mtype \u001B[39m=\u001B[39m xc\u001B[39m.\u001B[39mOpSharding\u001B[39m.\u001B[39mType\u001B[39m.\u001B[39mMANUAL\n\u001B[0;32m--> 124\u001B[0m result, _, keepalive \u001B[39m=\u001B[39m mlir\u001B[39m.\u001B[39;49memit_python_callback(\n\u001B[1;32m    125\u001B[0m     ctx, _callback, \u001B[39mNone\u001B[39;49;00m, \u001B[39mlist\u001B[39;49m(args), ctx\u001B[39m.\u001B[39;49mavals_in, ctx\u001B[39m.\u001B[39;49mavals_out, \u001B[39mFalse\u001B[39;49;00m,\n\u001B[1;32m    126\u001B[0m     sharding\u001B[39m=\u001B[39;49msharding)\n\u001B[1;32m    127\u001B[0m ctx\u001B[39m.\u001B[39mmodule_context\u001B[39m.\u001B[39madd_keepalive(keepalive)\n\u001B[1;32m    128\u001B[0m \u001B[39mreturn\u001B[39;00m result\n",
      "File \u001B[0;32m~/miniconda3/envs/meent/lib/python3.10/site-packages/jax/interpreters/mlir.py:1815\u001B[0m, in \u001B[0;36memit_python_callback\u001B[0;34m(ctx, callback, token, operands, operand_avals, result_avals, has_side_effect, sharding, operand_layouts, result_layouts)\u001B[0m\n\u001B[1;32m   1812\u001B[0m   \u001B[39mreturn\u001B[39;00m out_vals\n\u001B[1;32m   1814\u001B[0m \u001B[39mif\u001B[39;00m platform \u001B[39m==\u001B[39m \u001B[39m\"\u001B[39m\u001B[39mtpu\u001B[39m\u001B[39m\"\u001B[39m:\n\u001B[0;32m-> 1815\u001B[0m   \u001B[39mreturn\u001B[39;00m _emit_tpu_python_callback(backend, ctx, _wrapped_callback,  token,\n\u001B[1;32m   1816\u001B[0m       operands, operand_avals, operand_shapes, result_avals, result_shapes,\n\u001B[1;32m   1817\u001B[0m       sharding\u001B[39m=\u001B[39;49msharding)\n\u001B[1;32m   1818\u001B[0m result_types \u001B[39m=\u001B[39m util\u001B[39m.\u001B[39mflatten([aval_to_ir_types(aval) \u001B[39mfor\u001B[39;00m aval \u001B[39min\u001B[39;00m result_avals])\n\u001B[1;32m   1819\u001B[0m \u001B[39mif\u001B[39;00m token:\n",
      "File \u001B[0;32m~/miniconda3/envs/meent/lib/python3.10/site-packages/jax/interpreters/mlir.py:1729\u001B[0m, in \u001B[0;36m_emit_tpu_python_callback\u001B[0;34m(backend, ctx, callback, token, operands, operand_avals, operand_shapes, result_avals, result_shapes, sharding)\u001B[0m\n\u001B[1;32m   1726\u001B[0m       \u001B[39mraise\u001B[39;00m \u001B[39mNotImplementedError\u001B[39;00m(\n\u001B[1;32m   1727\u001B[0m           \u001B[39m\"\u001B[39m\u001B[39mCallbacks with zero-dimensional values not supported on TPU.\u001B[39m\u001B[39m\"\u001B[39m)\n\u001B[1;32m   1728\u001B[0m     channel \u001B[39m=\u001B[39m ctx\u001B[39m.\u001B[39mmodule_context\u001B[39m.\u001B[39mnew_channel()\n\u001B[0;32m-> 1729\u001B[0m     token \u001B[39m=\u001B[39m send_to_host(channel, token, operand, operand_aval,\n\u001B[1;32m   1730\u001B[0m                          callback\u001B[39m.\u001B[39;49m\u001B[39m__name__\u001B[39;49m, sharding\u001B[39m=\u001B[39;49msharding)\n\u001B[1;32m   1731\u001B[0m     send_channels\u001B[39m.\u001B[39mappend(channel)\n\u001B[1;32m   1733\u001B[0m recv_channels \u001B[39m=\u001B[39m []\n",
      "File \u001B[0;32m~/miniconda3/envs/meent/lib/python3.10/site-packages/jax/interpreters/mlir.py:1653\u001B[0m, in \u001B[0;36msend_to_host\u001B[0;34m(channel, token, operand, aval, name, sharding)\u001B[0m\n\u001B[1;32m   1651\u001B[0m dtype_str \u001B[39m=\u001B[39m _dtype_to_xla_type_string(aval\u001B[39m.\u001B[39mdtype)\n\u001B[1;32m   1652\u001B[0m \u001B[39mif\u001B[39;00m dtype_str \u001B[39min\u001B[39;00m {\u001B[39m\"\u001B[39m\u001B[39mf64\u001B[39m\u001B[39m\"\u001B[39m, \u001B[39m\"\u001B[39m\u001B[39ms64\u001B[39m\u001B[39m\"\u001B[39m, \u001B[39m\"\u001B[39m\u001B[39mu64\u001B[39m\u001B[39m\"\u001B[39m, \u001B[39m\"\u001B[39m\u001B[39mc64\u001B[39m\u001B[39m\"\u001B[39m, \u001B[39m\"\u001B[39m\u001B[39mc128\u001B[39m\u001B[39m\"\u001B[39m}:\n\u001B[0;32m-> 1653\u001B[0m   \u001B[39mraise\u001B[39;00m \u001B[39mNotImplementedError\u001B[39;00m(\u001B[39m\"\u001B[39m\u001B[39m64-bit types not supported.\u001B[39m\u001B[39m\"\u001B[39m)\n\u001B[1;32m   1654\u001B[0m send_op\u001B[39m.\u001B[39mattributes[\u001B[39m\"\u001B[39m\u001B[39mmhlo.frontend_attributes\u001B[39m\u001B[39m\"\u001B[39m] \u001B[39m=\u001B[39m ir\u001B[39m.\u001B[39mDictAttr\u001B[39m.\u001B[39mget(\n\u001B[1;32m   1655\u001B[0m     \u001B[39mdict\u001B[39m(\n\u001B[1;32m   1656\u001B[0m         _xla_host_transfer_handler_name\u001B[39m=\u001B[39mir\u001B[39m.\u001B[39mStringAttr\u001B[39m.\u001B[39mget(\u001B[39mstr\u001B[39m(name)),\n\u001B[1;32m   1657\u001B[0m         _xla_host_transfer_original_type\u001B[39m=\u001B[39mir\u001B[39m.\u001B[39mStringAttr\u001B[39m.\u001B[39mget(dtype_str),\n\u001B[1;32m   1658\u001B[0m         _xla_host_transfer_rendezvous\u001B[39m=\u001B[39mir\u001B[39m.\u001B[39mStringAttr\u001B[39m.\u001B[39mget(\u001B[39mstr\u001B[39m(name))))\n\u001B[1;32m   1659\u001B[0m \u001B[39mif\u001B[39;00m sharding \u001B[39mis\u001B[39;00m \u001B[39mnot\u001B[39;00m \u001B[39mNone\u001B[39;00m:\n",
      "\u001B[0;31mNotImplementedError\u001B[0m: 64-bit types not supported."
     ]
    }
   ],
   "source": [
    "import jax\n",
    "import jax.numpy as jnp\n",
    "\n",
    "def eig(X, type_complex):\n",
    "    import numpy as np\n",
    "    jax.config.update('jax_enable_x64', True)\n",
    "\n",
    "    type_complex = jnp.complex64\n",
    "    X = jnp.array(X, dtype=jnp.complex64)\n",
    "    _eig = lambda x: jax.jit(np.linalg.eig, device=jax.devices('cpu')[0])(x)\n",
    "\n",
    "    eigenvalues_shape = jax.ShapeDtypeStruct(X.shape[:-1], type_complex)\n",
    "    eigenvectors_shape = jax.ShapeDtypeStruct(X.shape, type_complex)\n",
    "\n",
    "    result_shape_dtype = (eigenvalues_shape, eigenvectors_shape)\n",
    "    return jax.pure_callback(_eig, result_shape_dtype, X)\n",
    "\n",
    "X = jnp.arange(1000*1000).reshape((1000,1000))\n",
    "eig(X, jnp.complex64)\n"
   ]
  },
  {
   "attachments": {},
   "cell_type": "markdown",
   "metadata": {},
   "source": [
    "# Example: Convolve"
   ]
  },
  {
   "cell_type": "code",
   "execution_count": 5,
   "metadata": {},
   "outputs": [],
   "source": [
    "import numpy as np\n",
    "import jax.numpy as jnp\n",
    "\n",
    "size1 = 1000\n",
    "size2 = 2+101\n",
    "\n",
    "x = np.arange(size1)\n",
    "w = np.arange(2, size2, 1)\n",
    "# w = np.array([2., 3., 4.])\n",
    "\n",
    "def convolve(x, w):\n",
    "    output = []\n",
    "    for i in range(size2//2, len(x)-size2//2):\n",
    "        output.append(jnp.dot(x[i-size2//2:i+size2//2-1], w))\n",
    "    return jnp.array(output)\n",
    "\n",
    "# convolve(x, w)"
   ]
  },
  {
   "cell_type": "code",
   "execution_count": 7,
   "metadata": {},
   "outputs": [
    {
     "data": {
      "text/plain": [
       "array([[   0,    1,    2, ...,  997,  998,  999],\n",
       "       [1000, 1001, 1002, ..., 1997, 1998, 1999],\n",
       "       [2000, 2001, 2002, ..., 2997, 2998, 2999],\n",
       "       ...,\n",
       "       [5000, 5001, 5002, ..., 5997, 5998, 5999],\n",
       "       [6000, 6001, 6002, ..., 6997, 6998, 6999],\n",
       "       [7000, 7001, 7002, ..., 7997, 7998, 7999]])"
      ]
     },
     "execution_count": 7,
     "metadata": {},
     "output_type": "execute_result"
    }
   ],
   "source": [
    "n_devices = jax.local_device_count()\n",
    "xs = np.arange(size1 * n_devices).reshape(-1, size1)\n",
    "ws = np.stack([w] * n_devices)"
   ]
  },
  {
   "cell_type": "code",
   "execution_count": 15,
   "metadata": {},
   "outputs": [
    {
     "data": {
      "text/plain": [
       "Array([[  348450,   353702,   358954, ...,  5048990,  5054242,  5059494],\n",
       "       [ 5600450,  5605702,  5610954, ..., 10300990, 10306242, 10311494],\n",
       "       [10852450, 10857702, 10862954, ..., 15552990, 15558242, 15563494],\n",
       "       ...,\n",
       "       [26608450, 26613702, 26618954, ..., 31308990, 31314242, 31319494],\n",
       "       [31860450, 31865702, 31870954, ..., 36560990, 36566242, 36571494],\n",
       "       [37112450, 37117702, 37122954, ..., 41812990, 41818242, 41823494]],      dtype=int32)"
      ]
     },
     "execution_count": 15,
     "metadata": {},
     "output_type": "execute_result"
    }
   ],
   "source": [
    "jax.vmap(jax.jit(convolve))(xs, ws)"
   ]
  },
  {
   "cell_type": "code",
   "execution_count": 2,
   "metadata": {},
   "outputs": [
    {
     "ename": "NameError",
     "evalue": "name 'jax' is not defined",
     "output_type": "error",
     "traceback": [
      "\u001B[0;31m---------------------------------------------------------------------------\u001B[0m",
      "\u001B[0;31mNameError\u001B[0m                                 Traceback (most recent call last)",
      "Cell \u001B[0;32mIn[2], line 1\u001B[0m\n\u001B[0;32m----> 1\u001B[0m \u001B[43mjax\u001B[49m\u001B[38;5;241m.\u001B[39mvmap(convolve)(xs\u001B[38;5;241m+\u001B[39m\u001B[38;5;241m3\u001B[39m, ws)\n",
      "\u001B[0;31mNameError\u001B[0m: name 'jax' is not defined"
     ]
    }
   ],
   "source": [
    "jax.vmap(convolve)(xs+3, ws)"
   ]
  },
  {
   "cell_type": "code",
   "execution_count": 1,
   "metadata": {},
   "outputs": [
    {
     "ename": "NameError",
     "evalue": "name 'jax' is not defined",
     "output_type": "error",
     "traceback": [
      "\u001B[0;31m---------------------------------------------------------------------------\u001B[0m",
      "\u001B[0;31mNameError\u001B[0m                                 Traceback (most recent call last)",
      "Cell \u001B[0;32mIn[1], line 1\u001B[0m\n\u001B[0;32m----> 1\u001B[0m \u001B[43mget_ipython\u001B[49m\u001B[43m(\u001B[49m\u001B[43m)\u001B[49m\u001B[38;5;241;43m.\u001B[39;49m\u001B[43mrun_line_magic\u001B[49m\u001B[43m(\u001B[49m\u001B[38;5;124;43m'\u001B[39;49m\u001B[38;5;124;43mtimeit\u001B[39;49m\u001B[38;5;124;43m'\u001B[39;49m\u001B[43m,\u001B[49m\u001B[43m \u001B[49m\u001B[38;5;124;43m'\u001B[39;49m\u001B[38;5;124;43mjax.pmap(convolve)(xs+10, ws+3)\u001B[39;49m\u001B[38;5;124;43m'\u001B[39;49m\u001B[43m)\u001B[49m\n",
      "File \u001B[0;32m~/anaconda3/envs/meent/lib/python3.10/site-packages/IPython/core/interactiveshell.py:2364\u001B[0m, in \u001B[0;36mInteractiveShell.run_line_magic\u001B[0;34m(self, magic_name, line, _stack_depth)\u001B[0m\n\u001B[1;32m   2362\u001B[0m     kwargs[\u001B[38;5;124m'\u001B[39m\u001B[38;5;124mlocal_ns\u001B[39m\u001B[38;5;124m'\u001B[39m] \u001B[38;5;241m=\u001B[39m \u001B[38;5;28mself\u001B[39m\u001B[38;5;241m.\u001B[39mget_local_scope(stack_depth)\n\u001B[1;32m   2363\u001B[0m \u001B[38;5;28;01mwith\u001B[39;00m \u001B[38;5;28mself\u001B[39m\u001B[38;5;241m.\u001B[39mbuiltin_trap:\n\u001B[0;32m-> 2364\u001B[0m     result \u001B[38;5;241m=\u001B[39m \u001B[43mfn\u001B[49m\u001B[43m(\u001B[49m\u001B[38;5;241;43m*\u001B[39;49m\u001B[43margs\u001B[49m\u001B[43m,\u001B[49m\u001B[43m \u001B[49m\u001B[38;5;241;43m*\u001B[39;49m\u001B[38;5;241;43m*\u001B[39;49m\u001B[43mkwargs\u001B[49m\u001B[43m)\u001B[49m\n\u001B[1;32m   2365\u001B[0m \u001B[38;5;28;01mreturn\u001B[39;00m result\n",
      "File \u001B[0;32m~/anaconda3/envs/meent/lib/python3.10/site-packages/IPython/core/magics/execution.py:1162\u001B[0m, in \u001B[0;36mExecutionMagics.timeit\u001B[0;34m(self, line, cell, local_ns)\u001B[0m\n\u001B[1;32m   1160\u001B[0m \u001B[38;5;28;01mfor\u001B[39;00m index \u001B[38;5;129;01min\u001B[39;00m \u001B[38;5;28mrange\u001B[39m(\u001B[38;5;241m0\u001B[39m, \u001B[38;5;241m10\u001B[39m):\n\u001B[1;32m   1161\u001B[0m     number \u001B[38;5;241m=\u001B[39m \u001B[38;5;241m10\u001B[39m \u001B[38;5;241m*\u001B[39m\u001B[38;5;241m*\u001B[39m index\n\u001B[0;32m-> 1162\u001B[0m     time_number \u001B[38;5;241m=\u001B[39m \u001B[43mtimer\u001B[49m\u001B[38;5;241;43m.\u001B[39;49m\u001B[43mtimeit\u001B[49m\u001B[43m(\u001B[49m\u001B[43mnumber\u001B[49m\u001B[43m)\u001B[49m\n\u001B[1;32m   1163\u001B[0m     \u001B[38;5;28;01mif\u001B[39;00m time_number \u001B[38;5;241m>\u001B[39m\u001B[38;5;241m=\u001B[39m \u001B[38;5;241m0.2\u001B[39m:\n\u001B[1;32m   1164\u001B[0m         \u001B[38;5;28;01mbreak\u001B[39;00m\n",
      "File \u001B[0;32m~/anaconda3/envs/meent/lib/python3.10/site-packages/IPython/core/magics/execution.py:156\u001B[0m, in \u001B[0;36mTimer.timeit\u001B[0;34m(self, number)\u001B[0m\n\u001B[1;32m    154\u001B[0m gc\u001B[38;5;241m.\u001B[39mdisable()\n\u001B[1;32m    155\u001B[0m \u001B[38;5;28;01mtry\u001B[39;00m:\n\u001B[0;32m--> 156\u001B[0m     timing \u001B[38;5;241m=\u001B[39m \u001B[38;5;28;43mself\u001B[39;49m\u001B[38;5;241;43m.\u001B[39;49m\u001B[43minner\u001B[49m\u001B[43m(\u001B[49m\u001B[43mit\u001B[49m\u001B[43m,\u001B[49m\u001B[43m \u001B[49m\u001B[38;5;28;43mself\u001B[39;49m\u001B[38;5;241;43m.\u001B[39;49m\u001B[43mtimer\u001B[49m\u001B[43m)\u001B[49m\n\u001B[1;32m    157\u001B[0m \u001B[38;5;28;01mfinally\u001B[39;00m:\n\u001B[1;32m    158\u001B[0m     \u001B[38;5;28;01mif\u001B[39;00m gcold:\n",
      "File \u001B[0;32m<magic-timeit>:1\u001B[0m, in \u001B[0;36minner\u001B[0;34m(_it, _timer)\u001B[0m\n",
      "\u001B[0;31mNameError\u001B[0m: name 'jax' is not defined"
     ]
    }
   ],
   "source": [
    "%timeit jax.pmap(convolve)(xs+10, ws+3)"
   ]
  },
  {
   "cell_type": "code",
   "execution_count": null,
   "metadata": {},
   "outputs": [],
   "source": []
  }
 ],
 "metadata": {
  "kernelspec": {
   "display_name": "Python 3",
   "language": "python",
   "name": "python3"
  },
  "language_info": {
   "codemirror_mode": {
    "name": "ipython",
    "version": 3
   },
   "file_extension": ".py",
   "mimetype": "text/x-python",
   "name": "python",
   "nbconvert_exporter": "python",
   "pygments_lexer": "ipython3",
   "version": "3.10.9"
  },
  "orig_nbformat": 4,
  "vscode": {
   "interpreter": {
    "hash": "cd0aa00d5cdaaeff5f3cedf2cc0d40cb6da86309f6d4e370d2dba6a09b8c2970"
   }
  }
 },
 "nbformat": 4,
 "nbformat_minor": 2
}
