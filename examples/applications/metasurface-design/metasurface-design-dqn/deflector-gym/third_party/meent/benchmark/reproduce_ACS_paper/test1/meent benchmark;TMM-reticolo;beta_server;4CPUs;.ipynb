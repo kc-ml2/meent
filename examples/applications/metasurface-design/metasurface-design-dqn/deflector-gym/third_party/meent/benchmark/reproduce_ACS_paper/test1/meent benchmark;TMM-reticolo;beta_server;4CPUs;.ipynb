{
 "cells": [
  {
   "cell_type": "code",
   "execution_count": 2,
   "id": "be4dd126",
   "metadata": {},
   "outputs": [],
   "source": [
    "import pandas as pd\n",
    "import numpy as np\n",
    "import matplotlib.pyplot as plt"
   ]
  },
  {
   "cell_type": "code",
   "execution_count": 3,
   "id": "e59f8007",
   "metadata": {},
   "outputs": [],
   "source": [
    "import matplotlib.pylab as pylab\n",
    "params = {'legend.fontsize': 'x-large',\n",
    "          'figure.figsize': (15, 5),\n",
    "         'axes.labelsize': 'xx-large',\n",
    "         'axes.titlesize':'xx-large',\n",
    "         'xtick.labelsize':'xx-large',\n",
    "         'ytick.labelsize':'xx-large'}\n",
    "pylab.rcParams.update(params)"
   ]
  },
  {
   "cell_type": "code",
   "execution_count": 4,
   "id": "e0eaf6c4",
   "metadata": {},
   "outputs": [],
   "source": [
    "# 4 CPUs\n",
    "file = '/home/yongha/mcwa/1DFreeFormDQN/experiments/DQN/2022_09_16_14_07_47/wl900.0_angle60.0_ncells64/comp_table.csv'\n",
    "df = pd.read_csv(file)\n",
    "df.drop('Unnamed: 0', axis=1, inplace=True)"
   ]
  },
  {
   "cell_type": "code",
   "execution_count": 5,
   "id": "6aab5fbb",
   "metadata": {},
   "outputs": [
    {
     "data": {
      "text/html": [
       "<div>\n",
       "<style scoped>\n",
       "    .dataframe tbody tr th:only-of-type {\n",
       "        vertical-align: middle;\n",
       "    }\n",
       "\n",
       "    .dataframe tbody tr th {\n",
       "        vertical-align: top;\n",
       "    }\n",
       "\n",
       "    .dataframe thead th {\n",
       "        text-align: right;\n",
       "    }\n",
       "</style>\n",
       "<table border=\"1\" class=\"dataframe\">\n",
       "  <thead>\n",
       "    <tr style=\"text-align: right;\">\n",
       "      <th></th>\n",
       "      <th>reti-1</th>\n",
       "      <th>reti0</th>\n",
       "      <th>reti+1</th>\n",
       "      <th>mcwat-1</th>\n",
       "      <th>mcwat0</th>\n",
       "      <th>mcwat+1</th>\n",
       "      <th>mcwas-1</th>\n",
       "      <th>mcwas0</th>\n",
       "      <th>mcwas+1</th>\n",
       "      <th>t_reti</th>\n",
       "      <th>tpr_reti</th>\n",
       "      <th>t_mcwat</th>\n",
       "      <th>tpr_mcwat</th>\n",
       "      <th>t_mcwas</th>\n",
       "      <th>tpr_mcwas</th>\n",
       "    </tr>\n",
       "  </thead>\n",
       "  <tbody>\n",
       "    <tr>\n",
       "      <th>count</th>\n",
       "      <td>608609.000000</td>\n",
       "      <td>6.086090e+05</td>\n",
       "      <td>608609.000000</td>\n",
       "      <td>608609.000000</td>\n",
       "      <td>6.086090e+05</td>\n",
       "      <td>608609.000000</td>\n",
       "      <td>608609.000000</td>\n",
       "      <td>6.086090e+05</td>\n",
       "      <td>608609.000000</td>\n",
       "      <td>608609.000000</td>\n",
       "      <td>608609.000000</td>\n",
       "      <td>608609.000000</td>\n",
       "      <td>608609.000000</td>\n",
       "      <td>608609.000000</td>\n",
       "      <td>608609.000000</td>\n",
       "    </tr>\n",
       "    <tr>\n",
       "      <th>mean</th>\n",
       "      <td>0.126804</td>\n",
       "      <td>4.578344e-01</td>\n",
       "      <td>0.235288</td>\n",
       "      <td>0.126996</td>\n",
       "      <td>4.570581e-01</td>\n",
       "      <td>0.235501</td>\n",
       "      <td>0.126996</td>\n",
       "      <td>4.570581e-01</td>\n",
       "      <td>0.235501</td>\n",
       "      <td>0.138211</td>\n",
       "      <td>0.238614</td>\n",
       "      <td>0.024074</td>\n",
       "      <td>0.084647</td>\n",
       "      <td>0.038791</td>\n",
       "      <td>0.154944</td>\n",
       "    </tr>\n",
       "    <tr>\n",
       "      <th>std</th>\n",
       "      <td>0.121978</td>\n",
       "      <td>3.324059e-01</td>\n",
       "      <td>0.243418</td>\n",
       "      <td>0.122085</td>\n",
       "      <td>3.320994e-01</td>\n",
       "      <td>0.243354</td>\n",
       "      <td>0.122085</td>\n",
       "      <td>3.320994e-01</td>\n",
       "      <td>0.243354</td>\n",
       "      <td>0.027136</td>\n",
       "      <td>0.124969</td>\n",
       "      <td>0.004540</td>\n",
       "      <td>0.017736</td>\n",
       "      <td>0.009043</td>\n",
       "      <td>0.036032</td>\n",
       "    </tr>\n",
       "    <tr>\n",
       "      <th>min</th>\n",
       "      <td>0.000000</td>\n",
       "      <td>1.768111e-07</td>\n",
       "      <td>0.000000</td>\n",
       "      <td>0.000000</td>\n",
       "      <td>1.826128e-07</td>\n",
       "      <td>0.000000</td>\n",
       "      <td>0.000000</td>\n",
       "      <td>1.826128e-07</td>\n",
       "      <td>0.000000</td>\n",
       "      <td>0.106503</td>\n",
       "      <td>0.001686</td>\n",
       "      <td>0.012113</td>\n",
       "      <td>0.041964</td>\n",
       "      <td>0.031588</td>\n",
       "      <td>0.126286</td>\n",
       "    </tr>\n",
       "    <tr>\n",
       "      <th>25%</th>\n",
       "      <td>0.034155</td>\n",
       "      <td>1.249704e-01</td>\n",
       "      <td>0.049999</td>\n",
       "      <td>0.034261</td>\n",
       "      <td>1.246108e-01</td>\n",
       "      <td>0.050159</td>\n",
       "      <td>0.034261</td>\n",
       "      <td>1.246108e-01</td>\n",
       "      <td>0.050159</td>\n",
       "      <td>0.123665</td>\n",
       "      <td>0.149388</td>\n",
       "      <td>0.021382</td>\n",
       "      <td>0.073447</td>\n",
       "      <td>0.032864</td>\n",
       "      <td>0.131376</td>\n",
       "    </tr>\n",
       "    <tr>\n",
       "      <th>50%</th>\n",
       "      <td>0.088853</td>\n",
       "      <td>4.421429e-01</td>\n",
       "      <td>0.145052</td>\n",
       "      <td>0.089048</td>\n",
       "      <td>4.405023e-01</td>\n",
       "      <td>0.145436</td>\n",
       "      <td>0.089048</td>\n",
       "      <td>4.405023e-01</td>\n",
       "      <td>0.145436</td>\n",
       "      <td>0.125269</td>\n",
       "      <td>0.324188</td>\n",
       "      <td>0.022774</td>\n",
       "      <td>0.078817</td>\n",
       "      <td>0.033321</td>\n",
       "      <td>0.133198</td>\n",
       "    </tr>\n",
       "    <tr>\n",
       "      <th>75%</th>\n",
       "      <td>0.184268</td>\n",
       "      <td>7.891907e-01</td>\n",
       "      <td>0.338785</td>\n",
       "      <td>0.184561</td>\n",
       "      <td>7.879953e-01</td>\n",
       "      <td>0.339122</td>\n",
       "      <td>0.184561</td>\n",
       "      <td>7.879953e-01</td>\n",
       "      <td>0.339122</td>\n",
       "      <td>0.136313</td>\n",
       "      <td>0.328138</td>\n",
       "      <td>0.024308</td>\n",
       "      <td>0.084765</td>\n",
       "      <td>0.041600</td>\n",
       "      <td>0.165721</td>\n",
       "    </tr>\n",
       "    <tr>\n",
       "      <th>max</th>\n",
       "      <td>0.955434</td>\n",
       "      <td>9.989689e-01</td>\n",
       "      <td>0.989897</td>\n",
       "      <td>0.954781</td>\n",
       "      <td>9.990001e-01</td>\n",
       "      <td>0.989790</td>\n",
       "      <td>0.954781</td>\n",
       "      <td>9.990001e-01</td>\n",
       "      <td>0.989790</td>\n",
       "      <td>0.505572</td>\n",
       "      <td>0.343524</td>\n",
       "      <td>0.072359</td>\n",
       "      <td>0.236092</td>\n",
       "      <td>0.118583</td>\n",
       "      <td>0.410744</td>\n",
       "    </tr>\n",
       "  </tbody>\n",
       "</table>\n",
       "</div>"
      ],
      "text/plain": [
       "              reti-1         reti0         reti+1        mcwat-1  \\\n",
       "count  608609.000000  6.086090e+05  608609.000000  608609.000000   \n",
       "mean        0.126804  4.578344e-01       0.235288       0.126996   \n",
       "std         0.121978  3.324059e-01       0.243418       0.122085   \n",
       "min         0.000000  1.768111e-07       0.000000       0.000000   \n",
       "25%         0.034155  1.249704e-01       0.049999       0.034261   \n",
       "50%         0.088853  4.421429e-01       0.145052       0.089048   \n",
       "75%         0.184268  7.891907e-01       0.338785       0.184561   \n",
       "max         0.955434  9.989689e-01       0.989897       0.954781   \n",
       "\n",
       "             mcwat0        mcwat+1        mcwas-1        mcwas0  \\\n",
       "count  6.086090e+05  608609.000000  608609.000000  6.086090e+05   \n",
       "mean   4.570581e-01       0.235501       0.126996  4.570581e-01   \n",
       "std    3.320994e-01       0.243354       0.122085  3.320994e-01   \n",
       "min    1.826128e-07       0.000000       0.000000  1.826128e-07   \n",
       "25%    1.246108e-01       0.050159       0.034261  1.246108e-01   \n",
       "50%    4.405023e-01       0.145436       0.089048  4.405023e-01   \n",
       "75%    7.879953e-01       0.339122       0.184561  7.879953e-01   \n",
       "max    9.990001e-01       0.989790       0.954781  9.990001e-01   \n",
       "\n",
       "             mcwas+1         t_reti       tpr_reti        t_mcwat  \\\n",
       "count  608609.000000  608609.000000  608609.000000  608609.000000   \n",
       "mean        0.235501       0.138211       0.238614       0.024074   \n",
       "std         0.243354       0.027136       0.124969       0.004540   \n",
       "min         0.000000       0.106503       0.001686       0.012113   \n",
       "25%         0.050159       0.123665       0.149388       0.021382   \n",
       "50%         0.145436       0.125269       0.324188       0.022774   \n",
       "75%         0.339122       0.136313       0.328138       0.024308   \n",
       "max         0.989790       0.505572       0.343524       0.072359   \n",
       "\n",
       "           tpr_mcwat        t_mcwas      tpr_mcwas  \n",
       "count  608609.000000  608609.000000  608609.000000  \n",
       "mean        0.084647       0.038791       0.154944  \n",
       "std         0.017736       0.009043       0.036032  \n",
       "min         0.041964       0.031588       0.126286  \n",
       "25%         0.073447       0.032864       0.131376  \n",
       "50%         0.078817       0.033321       0.133198  \n",
       "75%         0.084765       0.041600       0.165721  \n",
       "max         0.236092       0.118583       0.410744  "
      ]
     },
     "execution_count": 5,
     "metadata": {},
     "output_type": "execute_result"
    }
   ],
   "source": [
    "df.describe()"
   ]
  },
  {
   "cell_type": "markdown",
   "id": "451e4637",
   "metadata": {},
   "source": [
    "# TMM to reticolo"
   ]
  },
  {
   "cell_type": "code",
   "execution_count": 6,
   "id": "8918cfb3",
   "metadata": {},
   "outputs": [],
   "source": [
    "A, B = 'mcwat', 'reti'"
   ]
  },
  {
   "cell_type": "code",
   "execution_count": 7,
   "id": "ac352e88",
   "metadata": {},
   "outputs": [],
   "source": [
    "df['gap-1'] = df[f'{A}-1'] - df[f'{B}-1']\n",
    "df['gap0'] = df[f'{A}0'] - df[f'{B}0']\n",
    "df['gap+1'] = df[f'{A}+1'] - df[f'{B}+1']\n",
    "df['t_gap'] = df[f't_{A}'] - df[f't_{B}']\n",
    "df['tpr_gap'] = df[f'tpr_{A}'] - df[f'tpr_{B}']"
   ]
  },
  {
   "cell_type": "markdown",
   "id": "7254e794",
   "metadata": {},
   "source": [
    "# Benchmark"
   ]
  },
  {
   "cell_type": "markdown",
   "id": "5f188f36",
   "metadata": {},
   "source": [
    "## difference in transmittance"
   ]
  },
  {
   "cell_type": "code",
   "execution_count": 8,
   "id": "18ba2600",
   "metadata": {},
   "outputs": [
    {
     "data": {
      "image/png": "[encoded data removed]",
      "text/plain": [
       "<Figure size 1440x360 with 2 Axes>"
      ]
     },
     "metadata": {
      "needs_background": "light"
     },
     "output_type": "display_data"
    }
   ],
   "source": [
    "fig, axes = plt.subplots(1,2, figsize=(20,5))\n",
    "axes[0].hist([df['gap-1'], df['gap0'], df['gap+1']], bins=100)\n",
    "axes[1].hist([df['gap-1'], df['gap0'], df['gap+1']], bins=100)\n",
    "axes[1].set_yscale('log')\n",
    "plt.show()"
   ]
  },
  {
   "cell_type": "code",
   "execution_count": 9,
   "id": "4db88574",
   "metadata": {},
   "outputs": [
    {
     "data": {
      "text/html": [
       "<div>\n",
       "<style scoped>\n",
       "    .dataframe tbody tr th:only-of-type {\n",
       "        vertical-align: middle;\n",
       "    }\n",
       "\n",
       "    .dataframe tbody tr th {\n",
       "        vertical-align: top;\n",
       "    }\n",
       "\n",
       "    .dataframe thead th {\n",
       "        text-align: right;\n",
       "    }\n",
       "</style>\n",
       "<table border=\"1\" class=\"dataframe\">\n",
       "  <thead>\n",
       "    <tr style=\"text-align: right;\">\n",
       "      <th></th>\n",
       "      <th>count</th>\n",
       "      <th>mean</th>\n",
       "      <th>std</th>\n",
       "      <th>min</th>\n",
       "      <th>25%</th>\n",
       "      <th>50%</th>\n",
       "      <th>75%</th>\n",
       "      <th>max</th>\n",
       "    </tr>\n",
       "  </thead>\n",
       "  <tbody>\n",
       "    <tr>\n",
       "      <th>gap-1</th>\n",
       "      <td>608609.0</td>\n",
       "      <td>0.000192</td>\n",
       "      <td>0.001232</td>\n",
       "      <td>-0.228532</td>\n",
       "      <td>-0.000074</td>\n",
       "      <td>0.000183</td>\n",
       "      <td>0.000546</td>\n",
       "      <td>0.127314</td>\n",
       "    </tr>\n",
       "    <tr>\n",
       "      <th>gap0</th>\n",
       "      <td>608609.0</td>\n",
       "      <td>-0.000776</td>\n",
       "      <td>0.002054</td>\n",
       "      <td>-0.163046</td>\n",
       "      <td>-0.001501</td>\n",
       "      <td>-0.000760</td>\n",
       "      <td>-0.000187</td>\n",
       "      <td>0.309667</td>\n",
       "    </tr>\n",
       "    <tr>\n",
       "      <th>gap+1</th>\n",
       "      <td>608609.0</td>\n",
       "      <td>0.000214</td>\n",
       "      <td>0.001351</td>\n",
       "      <td>-0.135228</td>\n",
       "      <td>-0.000011</td>\n",
       "      <td>0.000229</td>\n",
       "      <td>0.000638</td>\n",
       "      <td>0.167910</td>\n",
       "    </tr>\n",
       "  </tbody>\n",
       "</table>\n",
       "</div>"
      ],
      "text/plain": [
       "          count      mean       std       min       25%       50%       75%  \\\n",
       "gap-1  608609.0  0.000192  0.001232 -0.228532 -0.000074  0.000183  0.000546   \n",
       "gap0   608609.0 -0.000776  0.002054 -0.163046 -0.001501 -0.000760 -0.000187   \n",
       "gap+1  608609.0  0.000214  0.001351 -0.135228 -0.000011  0.000229  0.000638   \n",
       "\n",
       "            max  \n",
       "gap-1  0.127314  \n",
       "gap0   0.309667  \n",
       "gap+1  0.167910  "
      ]
     },
     "execution_count": 9,
     "metadata": {},
     "output_type": "execute_result"
    }
   ],
   "source": [
    "df[['gap-1','gap0','gap+1']].describe().T"
   ]
  },
  {
   "cell_type": "code",
   "execution_count": 10,
   "id": "fa815cff",
   "metadata": {},
   "outputs": [
    {
     "data": {
      "text/plain": [
       "count    1.825827e+06\n",
       "mean    -1.235426e-04\n",
       "std      1.653576e-03\n",
       "min     -2.285318e-01\n",
       "25%     -6.400461e-04\n",
       "50%      4.427665e-05\n",
       "75%      4.426475e-04\n",
       "max      3.096669e-01\n",
       "dtype: float64"
      ]
     },
     "execution_count": 10,
     "metadata": {},
     "output_type": "execute_result"
    }
   ],
   "source": [
    "pd.concat([df['gap-1'], df['gap0'], df['gap+1']]).describe()"
   ]
  },
  {
   "cell_type": "code",
   "execution_count": 28,
   "id": "8752be1e",
   "metadata": {},
   "outputs": [
    {
     "data": {
      "text/plain": [
       "99.04947182838242"
      ]
     },
     "execution_count": 28,
     "metadata": {},
     "output_type": "execute_result"
    }
   ],
   "source": [
    "a=pd.concat([df['gap-1'], df['gap0'], df['gap+1']])\n",
    "cut = 0.005\n",
    "b=a[abs(a) < cut]\n",
    "b.count()/a.count() *100"
   ]
  },
  {
   "cell_type": "code",
   "execution_count": 12,
   "id": "95ca97c8",
   "metadata": {},
   "outputs": [
    {
     "data": {
      "text/html": [
       "<div>\n",
       "<style scoped>\n",
       "    .dataframe tbody tr th:only-of-type {\n",
       "        vertical-align: middle;\n",
       "    }\n",
       "\n",
       "    .dataframe tbody tr th {\n",
       "        vertical-align: top;\n",
       "    }\n",
       "\n",
       "    .dataframe thead th {\n",
       "        text-align: right;\n",
       "    }\n",
       "</style>\n",
       "<table border=\"1\" class=\"dataframe\">\n",
       "  <thead>\n",
       "    <tr style=\"text-align: right;\">\n",
       "      <th></th>\n",
       "      <th>mcwat-1</th>\n",
       "      <th>reti-1</th>\n",
       "      <th>gap-1</th>\n",
       "    </tr>\n",
       "  </thead>\n",
       "  <tbody>\n",
       "    <tr>\n",
       "      <th>480529</th>\n",
       "      <td>0.094510</td>\n",
       "      <td>0.323042</td>\n",
       "      <td>-0.228532</td>\n",
       "    </tr>\n",
       "    <tr>\n",
       "      <th>42308</th>\n",
       "      <td>0.092712</td>\n",
       "      <td>0.252867</td>\n",
       "      <td>-0.160155</td>\n",
       "    </tr>\n",
       "    <tr>\n",
       "      <th>366731</th>\n",
       "      <td>0.148927</td>\n",
       "      <td>0.260372</td>\n",
       "      <td>-0.111446</td>\n",
       "    </tr>\n",
       "    <tr>\n",
       "      <th>567410</th>\n",
       "      <td>0.281742</td>\n",
       "      <td>0.367697</td>\n",
       "      <td>-0.085956</td>\n",
       "    </tr>\n",
       "    <tr>\n",
       "      <th>406805</th>\n",
       "      <td>0.196346</td>\n",
       "      <td>0.271126</td>\n",
       "      <td>-0.074780</td>\n",
       "    </tr>\n",
       "    <tr>\n",
       "      <th>...</th>\n",
       "      <td>...</td>\n",
       "      <td>...</td>\n",
       "      <td>...</td>\n",
       "    </tr>\n",
       "    <tr>\n",
       "      <th>346430</th>\n",
       "      <td>0.444971</td>\n",
       "      <td>0.382783</td>\n",
       "      <td>0.062188</td>\n",
       "    </tr>\n",
       "    <tr>\n",
       "      <th>319463</th>\n",
       "      <td>0.090466</td>\n",
       "      <td>0.027256</td>\n",
       "      <td>0.063209</td>\n",
       "    </tr>\n",
       "    <tr>\n",
       "      <th>145225</th>\n",
       "      <td>0.463249</td>\n",
       "      <td>0.393278</td>\n",
       "      <td>0.069971</td>\n",
       "    </tr>\n",
       "    <tr>\n",
       "      <th>496101</th>\n",
       "      <td>0.422662</td>\n",
       "      <td>0.334733</td>\n",
       "      <td>0.087930</td>\n",
       "    </tr>\n",
       "    <tr>\n",
       "      <th>173898</th>\n",
       "      <td>0.186712</td>\n",
       "      <td>0.059398</td>\n",
       "      <td>0.127314</td>\n",
       "    </tr>\n",
       "  </tbody>\n",
       "</table>\n",
       "<p>814 rows × 3 columns</p>\n",
       "</div>"
      ],
      "text/plain": [
       "         mcwat-1    reti-1     gap-1\n",
       "480529  0.094510  0.323042 -0.228532\n",
       "42308   0.092712  0.252867 -0.160155\n",
       "366731  0.148927  0.260372 -0.111446\n",
       "567410  0.281742  0.367697 -0.085956\n",
       "406805  0.196346  0.271126 -0.074780\n",
       "...          ...       ...       ...\n",
       "346430  0.444971  0.382783  0.062188\n",
       "319463  0.090466  0.027256  0.063209\n",
       "145225  0.463249  0.393278  0.069971\n",
       "496101  0.422662  0.334733  0.087930\n",
       "173898  0.186712  0.059398  0.127314\n",
       "\n",
       "[814 rows x 3 columns]"
      ]
     },
     "execution_count": 12,
     "metadata": {},
     "output_type": "execute_result"
    }
   ],
   "source": [
    "df[abs(df['gap-1'])>cut][[f'{A}-1', f'{B}-1', 'gap-1']].sort_values('gap-1')"
   ]
  },
  {
   "cell_type": "code",
   "execution_count": 13,
   "id": "5874eab7",
   "metadata": {},
   "outputs": [
    {
     "data": {
      "text/html": [
       "<div>\n",
       "<style scoped>\n",
       "    .dataframe tbody tr th:only-of-type {\n",
       "        vertical-align: middle;\n",
       "    }\n",
       "\n",
       "    .dataframe tbody tr th {\n",
       "        vertical-align: top;\n",
       "    }\n",
       "\n",
       "    .dataframe thead th {\n",
       "        text-align: right;\n",
       "    }\n",
       "</style>\n",
       "<table border=\"1\" class=\"dataframe\">\n",
       "  <thead>\n",
       "    <tr style=\"text-align: right;\">\n",
       "      <th></th>\n",
       "      <th>mcwat0</th>\n",
       "      <th>reti0</th>\n",
       "      <th>gap0</th>\n",
       "    </tr>\n",
       "  </thead>\n",
       "  <tbody>\n",
       "    <tr>\n",
       "      <th>384373</th>\n",
       "      <td>0.481271</td>\n",
       "      <td>0.644317</td>\n",
       "      <td>-0.163046</td>\n",
       "    </tr>\n",
       "    <tr>\n",
       "      <th>220106</th>\n",
       "      <td>0.364626</td>\n",
       "      <td>0.518056</td>\n",
       "      <td>-0.153430</td>\n",
       "    </tr>\n",
       "    <tr>\n",
       "      <th>214278</th>\n",
       "      <td>0.299640</td>\n",
       "      <td>0.451038</td>\n",
       "      <td>-0.151398</td>\n",
       "    </tr>\n",
       "    <tr>\n",
       "      <th>173898</th>\n",
       "      <td>0.183208</td>\n",
       "      <td>0.330409</td>\n",
       "      <td>-0.147201</td>\n",
       "    </tr>\n",
       "    <tr>\n",
       "      <th>78914</th>\n",
       "      <td>0.410306</td>\n",
       "      <td>0.552522</td>\n",
       "      <td>-0.142217</td>\n",
       "    </tr>\n",
       "    <tr>\n",
       "      <th>...</th>\n",
       "      <td>...</td>\n",
       "      <td>...</td>\n",
       "      <td>...</td>\n",
       "    </tr>\n",
       "    <tr>\n",
       "      <th>42140</th>\n",
       "      <td>0.425227</td>\n",
       "      <td>0.305553</td>\n",
       "      <td>0.119674</td>\n",
       "    </tr>\n",
       "    <tr>\n",
       "      <th>478509</th>\n",
       "      <td>0.291000</td>\n",
       "      <td>0.163725</td>\n",
       "      <td>0.127275</td>\n",
       "    </tr>\n",
       "    <tr>\n",
       "      <th>406805</th>\n",
       "      <td>0.364522</td>\n",
       "      <td>0.227963</td>\n",
       "      <td>0.136558</td>\n",
       "    </tr>\n",
       "    <tr>\n",
       "      <th>366731</th>\n",
       "      <td>0.381150</td>\n",
       "      <td>0.212253</td>\n",
       "      <td>0.168897</td>\n",
       "    </tr>\n",
       "    <tr>\n",
       "      <th>480529</th>\n",
       "      <td>0.503051</td>\n",
       "      <td>0.193384</td>\n",
       "      <td>0.309667</td>\n",
       "    </tr>\n",
       "  </tbody>\n",
       "</table>\n",
       "<p>2772 rows × 3 columns</p>\n",
       "</div>"
      ],
      "text/plain": [
       "          mcwat0     reti0      gap0\n",
       "384373  0.481271  0.644317 -0.163046\n",
       "220106  0.364626  0.518056 -0.153430\n",
       "214278  0.299640  0.451038 -0.151398\n",
       "173898  0.183208  0.330409 -0.147201\n",
       "78914   0.410306  0.552522 -0.142217\n",
       "...          ...       ...       ...\n",
       "42140   0.425227  0.305553  0.119674\n",
       "478509  0.291000  0.163725  0.127275\n",
       "406805  0.364522  0.227963  0.136558\n",
       "366731  0.381150  0.212253  0.168897\n",
       "480529  0.503051  0.193384  0.309667\n",
       "\n",
       "[2772 rows x 3 columns]"
      ]
     },
     "execution_count": 13,
     "metadata": {},
     "output_type": "execute_result"
    }
   ],
   "source": [
    "df[abs(df['gap0'])>cut][[f'{A}0', f'{B}0', 'gap0']].sort_values('gap0')"
   ]
  },
  {
   "cell_type": "code",
   "execution_count": 14,
   "id": "82c4681f",
   "metadata": {},
   "outputs": [
    {
     "data": {
      "text/html": [
       "<div>\n",
       "<style scoped>\n",
       "    .dataframe tbody tr th:only-of-type {\n",
       "        vertical-align: middle;\n",
       "    }\n",
       "\n",
       "    .dataframe tbody tr th {\n",
       "        vertical-align: top;\n",
       "    }\n",
       "\n",
       "    .dataframe thead th {\n",
       "        text-align: right;\n",
       "    }\n",
       "</style>\n",
       "<table border=\"1\" class=\"dataframe\">\n",
       "  <thead>\n",
       "    <tr style=\"text-align: right;\">\n",
       "      <th></th>\n",
       "      <th>mcwat+1</th>\n",
       "      <th>reti+1</th>\n",
       "      <th>gap+1</th>\n",
       "    </tr>\n",
       "  </thead>\n",
       "  <tbody>\n",
       "    <tr>\n",
       "      <th>419167</th>\n",
       "      <td>0.219235</td>\n",
       "      <td>0.354463</td>\n",
       "      <td>-0.135228</td>\n",
       "    </tr>\n",
       "    <tr>\n",
       "      <th>42308</th>\n",
       "      <td>0.106590</td>\n",
       "      <td>0.232044</td>\n",
       "      <td>-0.125454</td>\n",
       "    </tr>\n",
       "    <tr>\n",
       "      <th>145225</th>\n",
       "      <td>0.181995</td>\n",
       "      <td>0.254182</td>\n",
       "      <td>-0.072186</td>\n",
       "    </tr>\n",
       "    <tr>\n",
       "      <th>513333</th>\n",
       "      <td>0.303447</td>\n",
       "      <td>0.369786</td>\n",
       "      <td>-0.066338</td>\n",
       "    </tr>\n",
       "    <tr>\n",
       "      <th>520885</th>\n",
       "      <td>0.294091</td>\n",
       "      <td>0.357196</td>\n",
       "      <td>-0.063105</td>\n",
       "    </tr>\n",
       "    <tr>\n",
       "      <th>...</th>\n",
       "      <td>...</td>\n",
       "      <td>...</td>\n",
       "      <td>...</td>\n",
       "    </tr>\n",
       "    <tr>\n",
       "      <th>98752</th>\n",
       "      <td>0.113956</td>\n",
       "      <td>0.049898</td>\n",
       "      <td>0.064059</td>\n",
       "    </tr>\n",
       "    <tr>\n",
       "      <th>208066</th>\n",
       "      <td>0.111853</td>\n",
       "      <td>0.037305</td>\n",
       "      <td>0.074548</td>\n",
       "    </tr>\n",
       "    <tr>\n",
       "      <th>240597</th>\n",
       "      <td>0.401517</td>\n",
       "      <td>0.326221</td>\n",
       "      <td>0.075296</td>\n",
       "    </tr>\n",
       "    <tr>\n",
       "      <th>478509</th>\n",
       "      <td>0.157208</td>\n",
       "      <td>0.066974</td>\n",
       "      <td>0.090234</td>\n",
       "    </tr>\n",
       "    <tr>\n",
       "      <th>355072</th>\n",
       "      <td>0.289106</td>\n",
       "      <td>0.121195</td>\n",
       "      <td>0.167910</td>\n",
       "    </tr>\n",
       "  </tbody>\n",
       "</table>\n",
       "<p>1000 rows × 3 columns</p>\n",
       "</div>"
      ],
      "text/plain": [
       "         mcwat+1    reti+1     gap+1\n",
       "419167  0.219235  0.354463 -0.135228\n",
       "42308   0.106590  0.232044 -0.125454\n",
       "145225  0.181995  0.254182 -0.072186\n",
       "513333  0.303447  0.369786 -0.066338\n",
       "520885  0.294091  0.357196 -0.063105\n",
       "...          ...       ...       ...\n",
       "98752   0.113956  0.049898  0.064059\n",
       "208066  0.111853  0.037305  0.074548\n",
       "240597  0.401517  0.326221  0.075296\n",
       "478509  0.157208  0.066974  0.090234\n",
       "355072  0.289106  0.121195  0.167910\n",
       "\n",
       "[1000 rows x 3 columns]"
      ]
     },
     "execution_count": 14,
     "metadata": {},
     "output_type": "execute_result"
    }
   ],
   "source": [
    "df[abs(df['gap+1'])>cut][[f'{A}+1', f'{B}+1', 'gap+1']].sort_values('gap+1')"
   ]
  },
  {
   "cell_type": "markdown",
   "id": "bcd36ccf",
   "metadata": {},
   "source": [
    "## Normalized abs(difference in transmittance) "
   ]
  },
  {
   "cell_type": "code",
   "execution_count": 15,
   "id": "6336d074",
   "metadata": {},
   "outputs": [],
   "source": [
    "cut = 0.01"
   ]
  },
  {
   "cell_type": "code",
   "execution_count": 16,
   "id": "e1ea0306",
   "metadata": {},
   "outputs": [
    {
     "data": {
      "image/png": "[encoded data removed]",
      "text/plain": [
       "<Figure size 1440x360 with 2 Axes>"
      ]
     },
     "metadata": {
      "needs_background": "light"
     },
     "output_type": "display_data"
    }
   ],
   "source": [
    "fig, axes = plt.subplots(1,2, figsize=(20,5))\n",
    "axes[0].axvline(cut, c='r')\n",
    "axes[1].axvline(cut, c='r')\n",
    "\n",
    "axes[0].hist([abs(df['gap-1']/df[f'{A}-1']), abs(df['gap0']/df[f'{A}0']), abs(df['gap+1']/df[f'{A}+1'])], bins=np.logspace(np.log10(1E-16), np.log10(20),100))\n",
    "axes[0].set_xscale('log')\n",
    "\n",
    "axes[1].hist([abs(df['gap-1']/df[f'{A}-1']), abs(df['gap0']/df[f'{A}0']), abs(df['gap+1']/df[f'{A}+1'])], bins=np.logspace(np.log10(1E-16), np.log10(20),100))\n",
    "axes[1].set_xscale('log')\n",
    "axes[1].set_yscale('log')\n",
    "\n",
    "plt.show()"
   ]
  },
  {
   "cell_type": "markdown",
   "id": "f8eafbfd",
   "metadata": {},
   "source": [
    "right side of vertical red line: normalized error >= 1 %\n",
    "\n",
    "orange is 0th order"
   ]
  },
  {
   "cell_type": "code",
   "execution_count": 17,
   "id": "eb759049",
   "metadata": {},
   "outputs": [
    {
     "data": {
      "text/html": [
       "<div>\n",
       "<style scoped>\n",
       "    .dataframe tbody tr th:only-of-type {\n",
       "        vertical-align: middle;\n",
       "    }\n",
       "\n",
       "    .dataframe tbody tr th {\n",
       "        vertical-align: top;\n",
       "    }\n",
       "\n",
       "    .dataframe thead th {\n",
       "        text-align: right;\n",
       "    }\n",
       "</style>\n",
       "<table border=\"1\" class=\"dataframe\">\n",
       "  <thead>\n",
       "    <tr style=\"text-align: right;\">\n",
       "      <th></th>\n",
       "      <th>mcwat-1</th>\n",
       "      <th>reti-1</th>\n",
       "      <th>gap-1</th>\n",
       "    </tr>\n",
       "  </thead>\n",
       "  <tbody>\n",
       "    <tr>\n",
       "      <th>480529</th>\n",
       "      <td>0.094510</td>\n",
       "      <td>0.323042</td>\n",
       "      <td>-0.228532</td>\n",
       "    </tr>\n",
       "    <tr>\n",
       "      <th>42308</th>\n",
       "      <td>0.092712</td>\n",
       "      <td>0.252867</td>\n",
       "      <td>-0.160155</td>\n",
       "    </tr>\n",
       "    <tr>\n",
       "      <th>366731</th>\n",
       "      <td>0.148927</td>\n",
       "      <td>0.260372</td>\n",
       "      <td>-0.111446</td>\n",
       "    </tr>\n",
       "    <tr>\n",
       "      <th>567410</th>\n",
       "      <td>0.281742</td>\n",
       "      <td>0.367697</td>\n",
       "      <td>-0.085956</td>\n",
       "    </tr>\n",
       "    <tr>\n",
       "      <th>406805</th>\n",
       "      <td>0.196346</td>\n",
       "      <td>0.271126</td>\n",
       "      <td>-0.074780</td>\n",
       "    </tr>\n",
       "    <tr>\n",
       "      <th>...</th>\n",
       "      <td>...</td>\n",
       "      <td>...</td>\n",
       "      <td>...</td>\n",
       "    </tr>\n",
       "    <tr>\n",
       "      <th>346430</th>\n",
       "      <td>0.444971</td>\n",
       "      <td>0.382783</td>\n",
       "      <td>0.062188</td>\n",
       "    </tr>\n",
       "    <tr>\n",
       "      <th>319463</th>\n",
       "      <td>0.090466</td>\n",
       "      <td>0.027256</td>\n",
       "      <td>0.063209</td>\n",
       "    </tr>\n",
       "    <tr>\n",
       "      <th>145225</th>\n",
       "      <td>0.463249</td>\n",
       "      <td>0.393278</td>\n",
       "      <td>0.069971</td>\n",
       "    </tr>\n",
       "    <tr>\n",
       "      <th>496101</th>\n",
       "      <td>0.422662</td>\n",
       "      <td>0.334733</td>\n",
       "      <td>0.087930</td>\n",
       "    </tr>\n",
       "    <tr>\n",
       "      <th>173898</th>\n",
       "      <td>0.186712</td>\n",
       "      <td>0.059398</td>\n",
       "      <td>0.127314</td>\n",
       "    </tr>\n",
       "  </tbody>\n",
       "</table>\n",
       "<p>91720 rows × 3 columns</p>\n",
       "</div>"
      ],
      "text/plain": [
       "         mcwat-1    reti-1     gap-1\n",
       "480529  0.094510  0.323042 -0.228532\n",
       "42308   0.092712  0.252867 -0.160155\n",
       "366731  0.148927  0.260372 -0.111446\n",
       "567410  0.281742  0.367697 -0.085956\n",
       "406805  0.196346  0.271126 -0.074780\n",
       "...          ...       ...       ...\n",
       "346430  0.444971  0.382783  0.062188\n",
       "319463  0.090466  0.027256  0.063209\n",
       "145225  0.463249  0.393278  0.069971\n",
       "496101  0.422662  0.334733  0.087930\n",
       "173898  0.186712  0.059398  0.127314\n",
       "\n",
       "[91720 rows x 3 columns]"
      ]
     },
     "execution_count": 17,
     "metadata": {},
     "output_type": "execute_result"
    }
   ],
   "source": [
    "df[abs(df['gap-1']/df[f'{A}-1'])>cut][[f'{A}-1', f'{B}-1', 'gap-1']].sort_values('gap-1')"
   ]
  },
  {
   "cell_type": "code",
   "execution_count": 18,
   "id": "708847ad",
   "metadata": {},
   "outputs": [
    {
     "data": {
      "text/html": [
       "<div>\n",
       "<style scoped>\n",
       "    .dataframe tbody tr th:only-of-type {\n",
       "        vertical-align: middle;\n",
       "    }\n",
       "\n",
       "    .dataframe tbody tr th {\n",
       "        vertical-align: top;\n",
       "    }\n",
       "\n",
       "    .dataframe thead th {\n",
       "        text-align: right;\n",
       "    }\n",
       "</style>\n",
       "<table border=\"1\" class=\"dataframe\">\n",
       "  <thead>\n",
       "    <tr style=\"text-align: right;\">\n",
       "      <th></th>\n",
       "      <th>mcwat0</th>\n",
       "      <th>reti0</th>\n",
       "      <th>gap0</th>\n",
       "    </tr>\n",
       "  </thead>\n",
       "  <tbody>\n",
       "    <tr>\n",
       "      <th>384373</th>\n",
       "      <td>0.481271</td>\n",
       "      <td>0.644317</td>\n",
       "      <td>-0.163046</td>\n",
       "    </tr>\n",
       "    <tr>\n",
       "      <th>220106</th>\n",
       "      <td>0.364626</td>\n",
       "      <td>0.518056</td>\n",
       "      <td>-0.153430</td>\n",
       "    </tr>\n",
       "    <tr>\n",
       "      <th>214278</th>\n",
       "      <td>0.299640</td>\n",
       "      <td>0.451038</td>\n",
       "      <td>-0.151398</td>\n",
       "    </tr>\n",
       "    <tr>\n",
       "      <th>173898</th>\n",
       "      <td>0.183208</td>\n",
       "      <td>0.330409</td>\n",
       "      <td>-0.147201</td>\n",
       "    </tr>\n",
       "    <tr>\n",
       "      <th>78914</th>\n",
       "      <td>0.410306</td>\n",
       "      <td>0.552522</td>\n",
       "      <td>-0.142217</td>\n",
       "    </tr>\n",
       "    <tr>\n",
       "      <th>...</th>\n",
       "      <td>...</td>\n",
       "      <td>...</td>\n",
       "      <td>...</td>\n",
       "    </tr>\n",
       "    <tr>\n",
       "      <th>42140</th>\n",
       "      <td>0.425227</td>\n",
       "      <td>0.305553</td>\n",
       "      <td>0.119674</td>\n",
       "    </tr>\n",
       "    <tr>\n",
       "      <th>478509</th>\n",
       "      <td>0.291000</td>\n",
       "      <td>0.163725</td>\n",
       "      <td>0.127275</td>\n",
       "    </tr>\n",
       "    <tr>\n",
       "      <th>406805</th>\n",
       "      <td>0.364522</td>\n",
       "      <td>0.227963</td>\n",
       "      <td>0.136558</td>\n",
       "    </tr>\n",
       "    <tr>\n",
       "      <th>366731</th>\n",
       "      <td>0.381150</td>\n",
       "      <td>0.212253</td>\n",
       "      <td>0.168897</td>\n",
       "    </tr>\n",
       "    <tr>\n",
       "      <th>480529</th>\n",
       "      <td>0.503051</td>\n",
       "      <td>0.193384</td>\n",
       "      <td>0.309667</td>\n",
       "    </tr>\n",
       "  </tbody>\n",
       "</table>\n",
       "<p>102128 rows × 3 columns</p>\n",
       "</div>"
      ],
      "text/plain": [
       "          mcwat0     reti0      gap0\n",
       "384373  0.481271  0.644317 -0.163046\n",
       "220106  0.364626  0.518056 -0.153430\n",
       "214278  0.299640  0.451038 -0.151398\n",
       "173898  0.183208  0.330409 -0.147201\n",
       "78914   0.410306  0.552522 -0.142217\n",
       "...          ...       ...       ...\n",
       "42140   0.425227  0.305553  0.119674\n",
       "478509  0.291000  0.163725  0.127275\n",
       "406805  0.364522  0.227963  0.136558\n",
       "366731  0.381150  0.212253  0.168897\n",
       "480529  0.503051  0.193384  0.309667\n",
       "\n",
       "[102128 rows x 3 columns]"
      ]
     },
     "execution_count": 18,
     "metadata": {},
     "output_type": "execute_result"
    }
   ],
   "source": [
    "df[abs(df['gap0']/df[f'{A}0'])>cut][[f'{A}0', f'{B}0', 'gap0']].sort_values('gap0')"
   ]
  },
  {
   "cell_type": "code",
   "execution_count": 19,
   "id": "473d6247",
   "metadata": {},
   "outputs": [
    {
     "data": {
      "text/html": [
       "<div>\n",
       "<style scoped>\n",
       "    .dataframe tbody tr th:only-of-type {\n",
       "        vertical-align: middle;\n",
       "    }\n",
       "\n",
       "    .dataframe tbody tr th {\n",
       "        vertical-align: top;\n",
       "    }\n",
       "\n",
       "    .dataframe thead th {\n",
       "        text-align: right;\n",
       "    }\n",
       "</style>\n",
       "<table border=\"1\" class=\"dataframe\">\n",
       "  <thead>\n",
       "    <tr style=\"text-align: right;\">\n",
       "      <th></th>\n",
       "      <th>mcwat+1</th>\n",
       "      <th>reti+1</th>\n",
       "      <th>gap+1</th>\n",
       "    </tr>\n",
       "  </thead>\n",
       "  <tbody>\n",
       "    <tr>\n",
       "      <th>419167</th>\n",
       "      <td>0.219235</td>\n",
       "      <td>0.354463</td>\n",
       "      <td>-0.135228</td>\n",
       "    </tr>\n",
       "    <tr>\n",
       "      <th>42308</th>\n",
       "      <td>0.106590</td>\n",
       "      <td>0.232044</td>\n",
       "      <td>-0.125454</td>\n",
       "    </tr>\n",
       "    <tr>\n",
       "      <th>145225</th>\n",
       "      <td>0.181995</td>\n",
       "      <td>0.254182</td>\n",
       "      <td>-0.072186</td>\n",
       "    </tr>\n",
       "    <tr>\n",
       "      <th>513333</th>\n",
       "      <td>0.303447</td>\n",
       "      <td>0.369786</td>\n",
       "      <td>-0.066338</td>\n",
       "    </tr>\n",
       "    <tr>\n",
       "      <th>520885</th>\n",
       "      <td>0.294091</td>\n",
       "      <td>0.357196</td>\n",
       "      <td>-0.063105</td>\n",
       "    </tr>\n",
       "    <tr>\n",
       "      <th>...</th>\n",
       "      <td>...</td>\n",
       "      <td>...</td>\n",
       "      <td>...</td>\n",
       "    </tr>\n",
       "    <tr>\n",
       "      <th>98752</th>\n",
       "      <td>0.113956</td>\n",
       "      <td>0.049898</td>\n",
       "      <td>0.064059</td>\n",
       "    </tr>\n",
       "    <tr>\n",
       "      <th>208066</th>\n",
       "      <td>0.111853</td>\n",
       "      <td>0.037305</td>\n",
       "      <td>0.074548</td>\n",
       "    </tr>\n",
       "    <tr>\n",
       "      <th>240597</th>\n",
       "      <td>0.401517</td>\n",
       "      <td>0.326221</td>\n",
       "      <td>0.075296</td>\n",
       "    </tr>\n",
       "    <tr>\n",
       "      <th>478509</th>\n",
       "      <td>0.157208</td>\n",
       "      <td>0.066974</td>\n",
       "      <td>0.090234</td>\n",
       "    </tr>\n",
       "    <tr>\n",
       "      <th>355072</th>\n",
       "      <td>0.289106</td>\n",
       "      <td>0.121195</td>\n",
       "      <td>0.167910</td>\n",
       "    </tr>\n",
       "  </tbody>\n",
       "</table>\n",
       "<p>57343 rows × 3 columns</p>\n",
       "</div>"
      ],
      "text/plain": [
       "         mcwat+1    reti+1     gap+1\n",
       "419167  0.219235  0.354463 -0.135228\n",
       "42308   0.106590  0.232044 -0.125454\n",
       "145225  0.181995  0.254182 -0.072186\n",
       "513333  0.303447  0.369786 -0.066338\n",
       "520885  0.294091  0.357196 -0.063105\n",
       "...          ...       ...       ...\n",
       "98752   0.113956  0.049898  0.064059\n",
       "208066  0.111853  0.037305  0.074548\n",
       "240597  0.401517  0.326221  0.075296\n",
       "478509  0.157208  0.066974  0.090234\n",
       "355072  0.289106  0.121195  0.167910\n",
       "\n",
       "[57343 rows x 3 columns]"
      ]
     },
     "execution_count": 19,
     "metadata": {},
     "output_type": "execute_result"
    }
   ],
   "source": [
    "df[abs(df['gap+1']/df[f'{A}+1'])>cut][[f'{A}+1', f'{B}+1', 'gap+1']].sort_values('gap+1')"
   ]
  },
  {
   "cell_type": "markdown",
   "id": "648d88ee",
   "metadata": {},
   "source": [
    "# benchmark - simulation time"
   ]
  },
  {
   "cell_type": "markdown",
   "id": "cede83a9",
   "metadata": {},
   "source": [
    "## run time by time.time()"
   ]
  },
  {
   "cell_type": "code",
   "execution_count": 20,
   "id": "25a72d12",
   "metadata": {},
   "outputs": [
    {
     "data": {
      "image/png": "[encoded data removed]",
      "text/plain": [
       "<Figure size 1440x360 with 2 Axes>"
      ]
     },
     "metadata": {
      "needs_background": "light"
     },
     "output_type": "display_data"
    }
   ],
   "source": [
    "fig, axes = plt.subplots(1,2, figsize=(20,5))\n",
    "axes[0].hist([df[f't_{A}'],df[f't_{B}']], bins=100)\n",
    "axes[1].hist([df[f't_{A}'],df[f't_{B}']], bins=100, log=True)\n",
    "plt.show()"
   ]
  },
  {
   "cell_type": "markdown",
   "id": "7fa5d789",
   "metadata": {},
   "source": [
    "Blue is  meent-TMM, Oragne is reticolo with octave"
   ]
  },
  {
   "cell_type": "markdown",
   "id": "3a2ab4cf",
   "metadata": {},
   "source": [
    "## reticolo time / meent time"
   ]
  },
  {
   "cell_type": "code",
   "execution_count": 21,
   "id": "11ea8ef4",
   "metadata": {},
   "outputs": [
    {
     "data": {
      "image/png": "[encoded data removed]",
      "text/plain": [
       "<Figure size 1440x360 with 2 Axes>"
      ]
     },
     "metadata": {
      "needs_background": "light"
     },
     "output_type": "display_data"
    }
   ],
   "source": [
    "fig, axes = plt.subplots(1,2, figsize=(20,5))\n",
    "axes[0].axvline(1, c='r')\n",
    "axes[1].axvline(1, c='r')\n",
    "axes[0].hist((df[f't_{B}'])/df[f't_{A}'], bins=100)\n",
    "axes[1].hist((df[f't_{B}'])/df[f't_{A}'], bins=100)\n",
    "axes[1].set_yscale('log')\n",
    "plt.show()"
   ]
  },
  {
   "cell_type": "code",
   "execution_count": 22,
   "id": "92fd0482",
   "metadata": {},
   "outputs": [
    {
     "data": {
      "text/html": [
       "<div>\n",
       "<style scoped>\n",
       "    .dataframe tbody tr th:only-of-type {\n",
       "        vertical-align: middle;\n",
       "    }\n",
       "\n",
       "    .dataframe tbody tr th {\n",
       "        vertical-align: top;\n",
       "    }\n",
       "\n",
       "    .dataframe thead th {\n",
       "        text-align: right;\n",
       "    }\n",
       "</style>\n",
       "<table border=\"1\" class=\"dataframe\">\n",
       "  <thead>\n",
       "    <tr style=\"text-align: right;\">\n",
       "      <th></th>\n",
       "      <th>count</th>\n",
       "      <th>mean</th>\n",
       "      <th>std</th>\n",
       "      <th>min</th>\n",
       "      <th>25%</th>\n",
       "      <th>50%</th>\n",
       "      <th>75%</th>\n",
       "      <th>max</th>\n",
       "    </tr>\n",
       "  </thead>\n",
       "  <tbody>\n",
       "    <tr>\n",
       "      <th>0</th>\n",
       "      <td>608609.0</td>\n",
       "      <td>5.921889</td>\n",
       "      <td>1.533199</td>\n",
       "      <td>1.727486</td>\n",
       "      <td>5.224651</td>\n",
       "      <td>5.660964</td>\n",
       "      <td>6.373768</td>\n",
       "      <td>24.769837</td>\n",
       "    </tr>\n",
       "  </tbody>\n",
       "</table>\n",
       "</div>"
      ],
      "text/plain": [
       "      count      mean       std       min       25%       50%       75%  \\\n",
       "0  608609.0  5.921889  1.533199  1.727486  5.224651  5.660964  6.373768   \n",
       "\n",
       "         max  \n",
       "0  24.769837  "
      ]
     },
     "execution_count": 22,
     "metadata": {},
     "output_type": "execute_result"
    }
   ],
   "source": [
    "pd.DataFrame((df[f't_{B}']/df[f't_{A}']).describe()).T"
   ]
  },
  {
   "cell_type": "markdown",
   "id": "e99f3aca",
   "metadata": {},
   "source": [
    "meent-TMM is faster 5.7 times than reticolo.\n",
    "\n",
    "right side of red line: TMM is faster"
   ]
  },
  {
   "cell_type": "markdown",
   "id": "6bb674a5",
   "metadata": {},
   "source": [
    "## time.process_time()"
   ]
  },
  {
   "cell_type": "code",
   "execution_count": 23,
   "id": "45fb27af",
   "metadata": {
    "scrolled": true
   },
   "outputs": [
    {
     "data": {
      "image/png": "[encoded data removed]",
      "text/plain": [
       "<Figure size 1440x360 with 2 Axes>"
      ]
     },
     "metadata": {
      "needs_background": "light"
     },
     "output_type": "display_data"
    }
   ],
   "source": [
    "fig, axes = plt.subplots(1,2, figsize=(20,5))\n",
    "axes[0].hist([df[f'tpr_{A}'],df[f'tpr_{B}']], bins=100)\n",
    "axes[1].hist([df[f'tpr_{A}'],df[f'tpr_{B}']], bins=100, log=True)\n",
    "plt.show()"
   ]
  },
  {
   "cell_type": "code",
   "execution_count": 24,
   "id": "78e0d498",
   "metadata": {
    "scrolled": true
   },
   "outputs": [
    {
     "data": {
      "image/png": "[encoded data removed]",
      "text/plain": [
       "<Figure size 1440x360 with 2 Axes>"
      ]
     },
     "metadata": {
      "needs_background": "light"
     },
     "output_type": "display_data"
    }
   ],
   "source": [
    "fig, axes = plt.subplots(1,2, figsize=(20,5))\n",
    "axes[0].axvline(1, c='r')\n",
    "axes[1].axvline(1, c='r')\n",
    "axes[0].hist((df[f'tpr_{B}'])/df[f'tpr_{A}'], bins=100)\n",
    "axes[1].hist((df[f'tpr_{B}'])/df[f'tpr_{A}'], bins=100)\n",
    "axes[1].set_yscale('log')\n",
    "plt.show()"
   ]
  },
  {
   "cell_type": "code",
   "execution_count": 25,
   "id": "4d06b75f",
   "metadata": {},
   "outputs": [
    {
     "data": {
      "text/html": [
       "<div>\n",
       "<style scoped>\n",
       "    .dataframe tbody tr th:only-of-type {\n",
       "        vertical-align: middle;\n",
       "    }\n",
       "\n",
       "    .dataframe tbody tr th {\n",
       "        vertical-align: top;\n",
       "    }\n",
       "\n",
       "    .dataframe thead th {\n",
       "        text-align: right;\n",
       "    }\n",
       "</style>\n",
       "<table border=\"1\" class=\"dataframe\">\n",
       "  <thead>\n",
       "    <tr style=\"text-align: right;\">\n",
       "      <th></th>\n",
       "      <th>count</th>\n",
       "      <th>mean</th>\n",
       "      <th>std</th>\n",
       "      <th>min</th>\n",
       "      <th>25%</th>\n",
       "      <th>50%</th>\n",
       "      <th>75%</th>\n",
       "      <th>max</th>\n",
       "    </tr>\n",
       "  </thead>\n",
       "  <tbody>\n",
       "    <tr>\n",
       "      <th>0</th>\n",
       "      <td>608609.0</td>\n",
       "      <td>2.929905</td>\n",
       "      <td>1.646764</td>\n",
       "      <td>0.009937</td>\n",
       "      <td>1.728631</td>\n",
       "      <td>3.438433</td>\n",
       "      <td>4.262212</td>\n",
       "      <td>7.676966</td>\n",
       "    </tr>\n",
       "  </tbody>\n",
       "</table>\n",
       "</div>"
      ],
      "text/plain": [
       "      count      mean       std       min       25%       50%       75%  \\\n",
       "0  608609.0  2.929905  1.646764  0.009937  1.728631  3.438433  4.262212   \n",
       "\n",
       "        max  \n",
       "0  7.676966  "
      ]
     },
     "execution_count": 25,
     "metadata": {},
     "output_type": "execute_result"
    }
   ],
   "source": [
    "pd.DataFrame((df[f'tpr_{B}']/df[f'tpr_{A}']).describe()).T"
   ]
  },
  {
   "cell_type": "markdown",
   "id": "63cab322",
   "metadata": {},
   "source": [
    "hard to tell..."
   ]
  }
 ],
 "metadata": {
  "kernelspec": {
   "display_name": "Python 3 (ipykernel)",
   "language": "python",
   "name": "python3"
  },
  "language_info": {
   "codemirror_mode": {
    "name": "ipython",
    "version": 3
   },
   "file_extension": ".py",
   "mimetype": "text/x-python",
   "name": "python",
   "nbconvert_exporter": "python",
   "pygments_lexer": "ipython3",
   "version": "3.9.12"
  }
 },
 "nbformat": 4,
 "nbformat_minor": 5
}
