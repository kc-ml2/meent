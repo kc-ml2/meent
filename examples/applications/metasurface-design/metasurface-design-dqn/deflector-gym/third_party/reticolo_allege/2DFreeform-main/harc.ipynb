{
 "metadata": {
  "language_info": {
   "codemirror_mode": {
    "name": "ipython",
    "version": 3
   },
   "file_extension": ".py",
   "mimetype": "text/x-python",
   "name": "python",
   "nbconvert_exporter": "python",
   "pygments_lexer": "ipython3",
   "version": "3.6.9"
  },
  "orig_nbformat": 4,
  "kernelspec": {
   "name": "python3",
   "display_name": "Python 3.6.9 64-bit"
  },
  "interpreter": {
   "hash": "31f2aee4e71d21fbe5cf8b01ff0e069b9275f58929596ceb00d14d90e3e16cd6"
  }
 },
 "nbformat": 4,
 "nbformat_minor": 2,
 "cells": [
  {
   "cell_type": "code",
   "execution_count": 18,
   "metadata": {},
   "outputs": [
    {
     "output_type": "stream",
     "name": "stdout",
     "text": [
      "x:  128  y:  256\n",
      "time8\n",
      "52.260446071624756\n",
      "eff8\n",
      "1.5986232555119457\n"
     ]
    }
   ],
   "source": [
    "import numpy as np\n",
    "import S4\n",
    "import matplotlib.pyplot as plt\n",
    "import time\n",
    "\n",
    "\n",
    "#variables setting\n",
    "grating_thickness = 325e-9\n",
    "nG = 100\n",
    "wl = 1250e-9\n",
    "ang = 55\n",
    "ncells = 64\n",
    "period = abs(wl/np.sin(ang/180*np.pi))\n",
    "freq = 3e8/wl\n",
    "S = S4.New(Lattice=((period,0),(0,period/2)), NumBasis=nG)\n",
    "\n",
    "# Permittivities & thickness[um]\n",
    "eps_SiO2 = 1.4504**2\n",
    "eps_Si = 3.5750**2   #shd be altered\n",
    "\n",
    "\n",
    "#import & save the structure\n",
    "gratingMatrix = np.load('struct.npy')\n",
    "np.savetxt('gratingMatrix.csv',gratingMatrix,delimiter=\",\")\n",
    "\n",
    "xnum = np.shape(gratingMatrix)[0]\n",
    "ynum = np.shape(gratingMatrix)[1]\n",
    "print('x: ', xnum, ' y: ', ynum)\n",
    "\n",
    "\n",
    "start = time.time()\n",
    "\n",
    "S.SetFrequency(freq)\n",
    "S.SetMaterial(Name = 'SiO2', Epsilon = eps_SiO2)\n",
    "S.SetMaterial(Name = 'Vacuum', Epsilon = 1)\n",
    "S.SetMaterial(Name = 'Si', Epsilon = eps_Si)\n",
    "\n",
    "#S.AddLayer(Name = 'toptop', Thickness = 0, Material= 'Vacuum')\n",
    "S.AddLayer(Name = 'top', Thickness = 0, Material= 'SiO2')\n",
    "S.AddLayer(Name = 'grating', Thickness = grating_thickness, Material = 'Vacuum')\n",
    "S.AddLayer(Name = 'bottom', Thickness = 0, Material = 'Vacuum')\n",
    "\n",
    "S.SetExcitationPlanewave(\n",
    "        IncidenceAngles = (0,0),\n",
    "        sAmplitude = 1,\n",
    "        pAmplitude = 0\n",
    "        )\n",
    "\n",
    "\n",
    "S.SetOptions( # these are the defaults\n",
    "    Verbosity = 1,\n",
    "    LatticeTruncation = 'Circular',\n",
    "    DiscretizedEpsilon = False,\n",
    "    DiscretizationResolution = 8,\n",
    "    PolarizationDecomposition = True,\n",
    "    PolarizationBasis = 'Normal',\n",
    "    LanczosSmoothing = False,\n",
    "    SubpixelSmoothing = False,\n",
    "    ConserveMemory = False\n",
    "    )\n",
    "\n",
    "for i1 in range(xnum):\n",
    "    for i2 in range(ynum):\n",
    "        if gratingMatrix[i1][i2]:\n",
    "            S.SetRegionRectangle(\n",
    "                        Layer='grating',\n",
    "                        Material = 'Si',\n",
    "                        #Center = ((i1-(howMany-1)/2)*period/howMany,(i2-(howMany-1)/2)*period/howMany),\n",
    "                        Center = (-period/2+period/(2*xnum) + i1*(period/xnum), -period/4+period/(4*ynum) + i2*(period/ynum)),\n",
    "                        Angle = 0,\n",
    "                        Halfwidths = (period/(2*xnum), period/(4*ynum))\n",
    "                        )\n",
    "    \n",
    "P_reflection = np.asarray(S.GetPowerFluxByOrder(Layer = 'top', zOffset = 0))\n",
    "P_transmission = np.asarray(S.GetPowerFluxByOrder(Layer = 'bottom', zOffset = 0))\n",
    "efficiency = np.real(P_transmission[1,0])*100\n",
    "end = time.time()\n",
    "\n",
    "timecost = end - start\n",
    "\n",
    "print('time8')\n",
    "print(timecost)\n",
    "print('eff8')\n",
    "print(efficiency)\n"
   ]
  },
  {
   "cell_type": "code",
   "execution_count": 20,
   "metadata": {},
   "outputs": [
    {
     "output_type": "execute_result",
     "data": {
      "text/plain": [
       "128"
      ]
     },
     "metadata": {},
     "execution_count": 20
    }
   ],
   "source": [
    "xnum"
   ]
  },
  {
   "cell_type": "code",
   "execution_count": 19,
   "metadata": {},
   "outputs": [
    {
     "output_type": "execute_result",
     "data": {
      "text/plain": [
       "array([[0.03493671+0.j, 0.        +0.j],\n",
       "       [0.01598623+0.j, 0.        +0.j],\n",
       "       [0.01154604+0.j, 0.        +0.j],\n",
       "       [0.02376859+0.j, 0.        +0.j],\n",
       "       [0.01566413+0.j, 0.        +0.j],\n",
       "       [0.01711273+0.j, 0.        +0.j],\n",
       "       [0.00994617+0.j, 0.        +0.j],\n",
       "       [0.01821953+0.j, 0.        +0.j],\n",
       "       [0.01627451+0.j, 0.        +0.j],\n",
       "       [0.00219683+0.j, 0.        +0.j],\n",
       "       [0.00865157+0.j, 0.        +0.j],\n",
       "       [0.00129511+0.j, 0.        +0.j],\n",
       "       [0.00389218+0.j, 0.        +0.j],\n",
       "       [0.00181934+0.j, 0.        +0.j],\n",
       "       [0.01856284+0.j, 0.        +0.j],\n",
       "       [0.00702148+0.j, 0.        +0.j],\n",
       "       [0.01520565+0.j, 0.        +0.j],\n",
       "       [0.0032908 +0.j, 0.        +0.j],\n",
       "       [0.00114558+0.j, 0.        +0.j],\n",
       "       [0.01925134+0.j, 0.        +0.j],\n",
       "       [0.00385691+0.j, 0.        +0.j],\n",
       "       [0.01619233+0.j, 0.        +0.j],\n",
       "       [0.02070319+0.j, 0.        +0.j],\n",
       "       [0.00261669+0.j, 0.        +0.j],\n",
       "       [0.01303472+0.j, 0.        +0.j],\n",
       "       [0.00805976+0.j, 0.        +0.j],\n",
       "       [0.02143007+0.j, 0.        +0.j],\n",
       "       [0.00900154+0.j, 0.        +0.j],\n",
       "       [0.00966984+0.j, 0.        +0.j],\n",
       "       [0.02410728+0.j, 0.        +0.j],\n",
       "       [0.01559054+0.j, 0.        +0.j],\n",
       "       [0.01032688+0.j, 0.        +0.j],\n",
       "       [0.00972547+0.j, 0.        +0.j],\n",
       "       [0.01518419+0.j, 0.        +0.j],\n",
       "       [0.00441511+0.j, 0.        +0.j],\n",
       "       [0.00447285+0.j, 0.        +0.j],\n",
       "       [0.01005725+0.j, 0.        +0.j],\n",
       "       [0.01035247+0.j, 0.        +0.j],\n",
       "       [0.00434547+0.j, 0.        +0.j],\n",
       "       [0.00860385+0.j, 0.        +0.j],\n",
       "       [0.01233197+0.j, 0.        +0.j],\n",
       "       [0.00730423+0.j, 0.        +0.j],\n",
       "       [0.01457756+0.j, 0.        +0.j],\n",
       "       [0.01406496+0.j, 0.        +0.j],\n",
       "       [0.00528766+0.j, 0.        +0.j],\n",
       "       [0.00096013+0.j, 0.        +0.j],\n",
       "       [0.00819408+0.j, 0.        +0.j],\n",
       "       [0.00669183+0.j, 0.        +0.j],\n",
       "       [0.00399269+0.j, 0.        +0.j],\n",
       "       [0.00878257+0.j, 0.        +0.j],\n",
       "       [0.00995638+0.j, 0.        +0.j],\n",
       "       [0.00393262+0.j, 0.        +0.j],\n",
       "       [0.0045352 +0.j, 0.        +0.j],\n",
       "       [0.00531212+0.j, 0.        +0.j],\n",
       "       [0.00805209+0.j, 0.        +0.j],\n",
       "       [0.00461239+0.j, 0.        +0.j],\n",
       "       [0.01192556+0.j, 0.        +0.j],\n",
       "       [0.01775524+0.j, 0.        +0.j],\n",
       "       [0.02291789+0.j, 0.        +0.j],\n",
       "       [0.00332697+0.j, 0.        +0.j],\n",
       "       [0.00607585+0.j, 0.        +0.j],\n",
       "       [0.00585686+0.j, 0.        +0.j],\n",
       "       [0.00797144+0.j, 0.        +0.j],\n",
       "       [0.00241747+0.j, 0.        +0.j],\n",
       "       [0.00116348+0.j, 0.        +0.j],\n",
       "       [0.01231968+0.j, 0.        +0.j],\n",
       "       [0.00855761+0.j, 0.        +0.j],\n",
       "       [0.00213959+0.j, 0.        +0.j],\n",
       "       [0.00152968+0.j, 0.        +0.j],\n",
       "       [0.00465481+0.j, 0.        +0.j],\n",
       "       [0.00559539+0.j, 0.        +0.j],\n",
       "       [0.00450405+0.j, 0.        +0.j],\n",
       "       [0.00345101+0.j, 0.        +0.j],\n",
       "       [0.01021936+0.j, 0.        +0.j],\n",
       "       [0.00232443+0.j, 0.        +0.j],\n",
       "       [0.01194113+0.j, 0.        +0.j],\n",
       "       [0.00271687+0.j, 0.        +0.j],\n",
       "       [0.00291526+0.j, 0.        +0.j],\n",
       "       [0.00600462+0.j, 0.        +0.j],\n",
       "       [0.01075632+0.j, 0.        +0.j],\n",
       "       [0.00063857+0.j, 0.        +0.j],\n",
       "       [0.00069522+0.j, 0.        +0.j],\n",
       "       [0.01122652+0.j, 0.        +0.j],\n",
       "       [0.02150025+0.j, 0.        +0.j],\n",
       "       [0.00452622+0.j, 0.        +0.j],\n",
       "       [0.00513081+0.j, 0.        +0.j],\n",
       "       [0.00579695+0.j, 0.        +0.j],\n",
       "       [0.00070981+0.j, 0.        +0.j],\n",
       "       [0.00908094+0.j, 0.        +0.j],\n",
       "       [0.00512753+0.j, 0.        +0.j],\n",
       "       [0.00285836+0.j, 0.        +0.j],\n",
       "       [0.00996833+0.j, 0.        +0.j],\n",
       "       [0.00183456+0.j, 0.        +0.j],\n",
       "       [0.00297821+0.j, 0.        +0.j],\n",
       "       [0.00303992+0.j, 0.        +0.j],\n",
       "       [0.01440705+0.j, 0.        +0.j],\n",
       "       [0.00425312+0.j, 0.        +0.j]])"
      ]
     },
     "metadata": {},
     "execution_count": 19
    }
   ],
   "source": [
    "P_transmission"
   ]
  },
  {
   "cell_type": "code",
   "execution_count": 12,
   "metadata": {},
   "outputs": [
    {
     "output_type": "stream",
     "name": "stdout",
     "text": [
      "[[0. 0. 0. ... 0. 0. 0.]\n [0. 0. 0. ... 0. 0. 0.]\n [0. 0. 0. ... 0. 0. 0.]\n ...\n [0. 0. 0. ... 0. 0. 0.]\n [0. 0. 0. ... 0. 0. 0.]\n [0. 0. 0. ... 0. 0. 0.]]\n"
     ]
    }
   ],
   "source": [
    "print (gratingMatrix)"
   ]
  },
  {
   "cell_type": "code",
   "execution_count": null,
   "metadata": {},
   "outputs": [],
   "source": []
  }
 ]
}