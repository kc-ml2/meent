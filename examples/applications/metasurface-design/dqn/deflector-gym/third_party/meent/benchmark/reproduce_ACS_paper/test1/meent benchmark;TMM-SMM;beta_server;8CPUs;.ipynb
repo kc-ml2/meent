{
 "cells": [
  {
   "cell_type": "code",
   "execution_count": 1,
   "id": "be4dd126",
   "metadata": {},
   "outputs": [],
   "source": [
    "import pandas as pd\n",
    "import numpy as np\n",
    "import matplotlib.pyplot as plt"
   ]
  },
  {
   "cell_type": "code",
   "execution_count": 2,
   "id": "e59f8007",
   "metadata": {},
   "outputs": [],
   "source": [
    "import matplotlib.pylab as pylab\n",
    "params = {'legend.fontsize': 'x-large',\n",
    "          'figure.figsize': (15, 5),\n",
    "         'axes.labelsize': 'xx-large',\n",
    "         'axes.titlesize':'xx-large',\n",
    "         'xtick.labelsize':'xx-large',\n",
    "         'ytick.labelsize':'xx-large'}\n",
    "pylab.rcParams.update(params)"
   ]
  },
  {
   "cell_type": "code",
   "execution_count": 3,
   "id": "e0eaf6c4",
   "metadata": {},
   "outputs": [],
   "source": [
    "# 4 CPUs\n",
    "file = '/home/yongha/mcwa/1DFreeFormDQN/experiments/DQN/2022_09_16_14_07_55/wl900.0_angle60.0_ncells64/comp_table.csv'\n",
    "df = pd.read_csv(file)\n",
    "df.drop('Unnamed: 0', axis=1, inplace=True)"
   ]
  },
  {
   "cell_type": "code",
   "execution_count": 4,
   "id": "6aab5fbb",
   "metadata": {},
   "outputs": [
    {
     "data": {
      "text/html": [
       "<div>\n",
       "<style scoped>\n",
       "    .dataframe tbody tr th:only-of-type {\n",
       "        vertical-align: middle;\n",
       "    }\n",
       "\n",
       "    .dataframe tbody tr th {\n",
       "        vertical-align: top;\n",
       "    }\n",
       "\n",
       "    .dataframe thead th {\n",
       "        text-align: right;\n",
       "    }\n",
       "</style>\n",
       "<table border=\"1\" class=\"dataframe\">\n",
       "  <thead>\n",
       "    <tr style=\"text-align: right;\">\n",
       "      <th></th>\n",
       "      <th>reti-1</th>\n",
       "      <th>reti0</th>\n",
       "      <th>reti+1</th>\n",
       "      <th>mcwat-1</th>\n",
       "      <th>mcwat0</th>\n",
       "      <th>mcwat+1</th>\n",
       "      <th>mcwas-1</th>\n",
       "      <th>mcwas0</th>\n",
       "      <th>mcwas+1</th>\n",
       "      <th>t_reti</th>\n",
       "      <th>tpr_reti</th>\n",
       "      <th>t_mcwat</th>\n",
       "      <th>tpr_mcwat</th>\n",
       "      <th>t_mcwas</th>\n",
       "      <th>tpr_mcwas</th>\n",
       "    </tr>\n",
       "  </thead>\n",
       "  <tbody>\n",
       "    <tr>\n",
       "      <th>count</th>\n",
       "      <td>667378.000000</td>\n",
       "      <td>6.673780e+05</td>\n",
       "      <td>667378.000000</td>\n",
       "      <td>667378.000000</td>\n",
       "      <td>6.673780e+05</td>\n",
       "      <td>667378.000000</td>\n",
       "      <td>667378.000000</td>\n",
       "      <td>6.673780e+05</td>\n",
       "      <td>667378.000000</td>\n",
       "      <td>667378.000000</td>\n",
       "      <td>667378.000000</td>\n",
       "      <td>667378.000000</td>\n",
       "      <td>667378.000000</td>\n",
       "      <td>667378.000000</td>\n",
       "      <td>667378.000000</td>\n",
       "    </tr>\n",
       "    <tr>\n",
       "      <th>mean</th>\n",
       "      <td>0.095369</td>\n",
       "      <td>6.292963e-01</td>\n",
       "      <td>0.139751</td>\n",
       "      <td>0.095547</td>\n",
       "      <td>6.285545e-01</td>\n",
       "      <td>0.139954</td>\n",
       "      <td>0.095547</td>\n",
       "      <td>6.285545e-01</td>\n",
       "      <td>0.139954</td>\n",
       "      <td>0.170328</td>\n",
       "      <td>0.547150</td>\n",
       "      <td>0.040612</td>\n",
       "      <td>0.291288</td>\n",
       "      <td>0.114737</td>\n",
       "      <td>0.888279</td>\n",
       "    </tr>\n",
       "    <tr>\n",
       "      <th>std</th>\n",
       "      <td>0.108292</td>\n",
       "      <td>3.184689e-01</td>\n",
       "      <td>0.188423</td>\n",
       "      <td>0.108353</td>\n",
       "      <td>3.183310e-01</td>\n",
       "      <td>0.188437</td>\n",
       "      <td>0.108353</td>\n",
       "      <td>3.183310e-01</td>\n",
       "      <td>0.188437</td>\n",
       "      <td>0.035719</td>\n",
       "      <td>0.299666</td>\n",
       "      <td>0.006523</td>\n",
       "      <td>0.050345</td>\n",
       "      <td>0.015841</td>\n",
       "      <td>0.121565</td>\n",
       "    </tr>\n",
       "    <tr>\n",
       "      <th>min</th>\n",
       "      <td>0.000000</td>\n",
       "      <td>1.988258e-07</td>\n",
       "      <td>0.000000</td>\n",
       "      <td>0.000000</td>\n",
       "      <td>2.255145e-07</td>\n",
       "      <td>0.000000</td>\n",
       "      <td>0.000000</td>\n",
       "      <td>2.255145e-07</td>\n",
       "      <td>0.000000</td>\n",
       "      <td>0.106895</td>\n",
       "      <td>0.001674</td>\n",
       "      <td>0.023385</td>\n",
       "      <td>0.166779</td>\n",
       "      <td>0.080572</td>\n",
       "      <td>0.625968</td>\n",
       "    </tr>\n",
       "    <tr>\n",
       "      <th>25%</th>\n",
       "      <td>0.021797</td>\n",
       "      <td>3.508678e-01</td>\n",
       "      <td>0.024484</td>\n",
       "      <td>0.021887</td>\n",
       "      <td>3.497859e-01</td>\n",
       "      <td>0.024585</td>\n",
       "      <td>0.021887</td>\n",
       "      <td>3.497859e-01</td>\n",
       "      <td>0.024585</td>\n",
       "      <td>0.141522</td>\n",
       "      <td>0.315213</td>\n",
       "      <td>0.035029</td>\n",
       "      <td>0.248189</td>\n",
       "      <td>0.103475</td>\n",
       "      <td>0.801204</td>\n",
       "    </tr>\n",
       "    <tr>\n",
       "      <th>50%</th>\n",
       "      <td>0.056098</td>\n",
       "      <td>7.721961e-01</td>\n",
       "      <td>0.065385</td>\n",
       "      <td>0.056298</td>\n",
       "      <td>7.709889e-01</td>\n",
       "      <td>0.065651</td>\n",
       "      <td>0.056298</td>\n",
       "      <td>7.709889e-01</td>\n",
       "      <td>0.065651</td>\n",
       "      <td>0.149786</td>\n",
       "      <td>0.749442</td>\n",
       "      <td>0.039526</td>\n",
       "      <td>0.278881</td>\n",
       "      <td>0.114902</td>\n",
       "      <td>0.890562</td>\n",
       "    </tr>\n",
       "    <tr>\n",
       "      <th>75%</th>\n",
       "      <td>0.128185</td>\n",
       "      <td>8.942982e-01</td>\n",
       "      <td>0.169839</td>\n",
       "      <td>0.128532</td>\n",
       "      <td>8.936676e-01</td>\n",
       "      <td>0.170226</td>\n",
       "      <td>0.128532</td>\n",
       "      <td>8.936676e-01</td>\n",
       "      <td>0.170226</td>\n",
       "      <td>0.187373</td>\n",
       "      <td>0.761636</td>\n",
       "      <td>0.046053</td>\n",
       "      <td>0.334283</td>\n",
       "      <td>0.125251</td>\n",
       "      <td>0.968384</td>\n",
       "    </tr>\n",
       "    <tr>\n",
       "      <th>max</th>\n",
       "      <td>0.981848</td>\n",
       "      <td>9.981713e-01</td>\n",
       "      <td>0.983145</td>\n",
       "      <td>0.981273</td>\n",
       "      <td>9.981820e-01</td>\n",
       "      <td>0.982961</td>\n",
       "      <td>0.981273</td>\n",
       "      <td>9.981820e-01</td>\n",
       "      <td>0.982961</td>\n",
       "      <td>0.616250</td>\n",
       "      <td>0.801606</td>\n",
       "      <td>0.089144</td>\n",
       "      <td>0.635602</td>\n",
       "      <td>0.369626</td>\n",
       "      <td>2.010462</td>\n",
       "    </tr>\n",
       "  </tbody>\n",
       "</table>\n",
       "</div>"
      ],
      "text/plain": [
       "              reti-1         reti0         reti+1        mcwat-1  \\\n",
       "count  667378.000000  6.673780e+05  667378.000000  667378.000000   \n",
       "mean        0.095369  6.292963e-01       0.139751       0.095547   \n",
       "std         0.108292  3.184689e-01       0.188423       0.108353   \n",
       "min         0.000000  1.988258e-07       0.000000       0.000000   \n",
       "25%         0.021797  3.508678e-01       0.024484       0.021887   \n",
       "50%         0.056098  7.721961e-01       0.065385       0.056298   \n",
       "75%         0.128185  8.942982e-01       0.169839       0.128532   \n",
       "max         0.981848  9.981713e-01       0.983145       0.981273   \n",
       "\n",
       "             mcwat0        mcwat+1        mcwas-1        mcwas0  \\\n",
       "count  6.673780e+05  667378.000000  667378.000000  6.673780e+05   \n",
       "mean   6.285545e-01       0.139954       0.095547  6.285545e-01   \n",
       "std    3.183310e-01       0.188437       0.108353  3.183310e-01   \n",
       "min    2.255145e-07       0.000000       0.000000  2.255145e-07   \n",
       "25%    3.497859e-01       0.024585       0.021887  3.497859e-01   \n",
       "50%    7.709889e-01       0.065651       0.056298  7.709889e-01   \n",
       "75%    8.936676e-01       0.170226       0.128532  8.936676e-01   \n",
       "max    9.981820e-01       0.982961       0.981273  9.981820e-01   \n",
       "\n",
       "             mcwas+1         t_reti       tpr_reti        t_mcwat  \\\n",
       "count  667378.000000  667378.000000  667378.000000  667378.000000   \n",
       "mean        0.139954       0.170328       0.547150       0.040612   \n",
       "std         0.188437       0.035719       0.299666       0.006523   \n",
       "min         0.000000       0.106895       0.001674       0.023385   \n",
       "25%         0.024585       0.141522       0.315213       0.035029   \n",
       "50%         0.065651       0.149786       0.749442       0.039526   \n",
       "75%         0.170226       0.187373       0.761636       0.046053   \n",
       "max         0.982961       0.616250       0.801606       0.089144   \n",
       "\n",
       "           tpr_mcwat        t_mcwas      tpr_mcwas  \n",
       "count  667378.000000  667378.000000  667378.000000  \n",
       "mean        0.291288       0.114737       0.888279  \n",
       "std         0.050345       0.015841       0.121565  \n",
       "min         0.166779       0.080572       0.625968  \n",
       "25%         0.248189       0.103475       0.801204  \n",
       "50%         0.278881       0.114902       0.890562  \n",
       "75%         0.334283       0.125251       0.968384  \n",
       "max         0.635602       0.369626       2.010462  "
      ]
     },
     "execution_count": 4,
     "metadata": {},
     "output_type": "execute_result"
    }
   ],
   "source": [
    "df.describe()"
   ]
  },
  {
   "cell_type": "markdown",
   "id": "451e4637",
   "metadata": {},
   "source": [
    "# TMM to SMM"
   ]
  },
  {
   "cell_type": "code",
   "execution_count": 5,
   "id": "8918cfb3",
   "metadata": {},
   "outputs": [],
   "source": [
    "A, B = 'mcwat', 'mcwas'"
   ]
  },
  {
   "cell_type": "code",
   "execution_count": 6,
   "id": "ac352e88",
   "metadata": {},
   "outputs": [],
   "source": [
    "df['gap-1'] = df[f'{A}-1'] - df[f'{B}-1']\n",
    "df['gap0'] = df[f'{A}0'] - df[f'{B}0']\n",
    "df['gap+1'] = df[f'{A}+1'] - df[f'{B}+1']\n",
    "df['t_gap'] = df[f't_{A}'] - df[f't_{B}']\n",
    "df['tpr_gap'] = df[f'tpr_{A}'] - df[f'tpr_{B}']"
   ]
  },
  {
   "cell_type": "markdown",
   "id": "7254e794",
   "metadata": {},
   "source": [
    "# Benchmark"
   ]
  },
  {
   "cell_type": "markdown",
   "id": "5f188f36",
   "metadata": {},
   "source": [
    "## difference in transmittance"
   ]
  },
  {
   "cell_type": "code",
   "execution_count": 7,
   "id": "18ba2600",
   "metadata": {},
   "outputs": [
    {
     "data": {
      "image/png": "[encoded data removed]",
      "text/plain": [
       "<Figure size 1440x360 with 2 Axes>"
      ]
     },
     "metadata": {
      "needs_background": "light"
     },
     "output_type": "display_data"
    }
   ],
   "source": [
    "fig, axes = plt.subplots(1,2, figsize=(20,5))\n",
    "axes[0].hist([df['gap-1'], df['gap0'], df['gap+1']], bins=100)\n",
    "axes[1].hist([df['gap-1'], df['gap0'], df['gap+1']], bins=100)\n",
    "axes[1].set_yscale('log')\n",
    "plt.show()"
   ]
  },
  {
   "cell_type": "code",
   "execution_count": 8,
   "id": "4db88574",
   "metadata": {},
   "outputs": [
    {
     "data": {
      "text/html": [
       "<div>\n",
       "<style scoped>\n",
       "    .dataframe tbody tr th:only-of-type {\n",
       "        vertical-align: middle;\n",
       "    }\n",
       "\n",
       "    .dataframe tbody tr th {\n",
       "        vertical-align: top;\n",
       "    }\n",
       "\n",
       "    .dataframe thead th {\n",
       "        text-align: right;\n",
       "    }\n",
       "</style>\n",
       "<table border=\"1\" class=\"dataframe\">\n",
       "  <thead>\n",
       "    <tr style=\"text-align: right;\">\n",
       "      <th></th>\n",
       "      <th>count</th>\n",
       "      <th>mean</th>\n",
       "      <th>std</th>\n",
       "      <th>min</th>\n",
       "      <th>25%</th>\n",
       "      <th>50%</th>\n",
       "      <th>75%</th>\n",
       "      <th>max</th>\n",
       "    </tr>\n",
       "  </thead>\n",
       "  <tbody>\n",
       "    <tr>\n",
       "      <th>gap-1</th>\n",
       "      <td>667378.0</td>\n",
       "      <td>-1.727269e-17</td>\n",
       "      <td>6.930526e-14</td>\n",
       "      <td>-1.966033e-11</td>\n",
       "      <td>-7.896461e-15</td>\n",
       "      <td>0.000000e+00</td>\n",
       "      <td>7.896461e-15</td>\n",
       "      <td>5.201228e-12</td>\n",
       "    </tr>\n",
       "    <tr>\n",
       "      <th>gap0</th>\n",
       "      <td>667378.0</td>\n",
       "      <td>-1.372482e-16</td>\n",
       "      <td>1.339811e-13</td>\n",
       "      <td>-1.848022e-11</td>\n",
       "      <td>-3.214096e-14</td>\n",
       "      <td>-1.006140e-16</td>\n",
       "      <td>3.197442e-14</td>\n",
       "      <td>2.558151e-11</td>\n",
       "    </tr>\n",
       "    <tr>\n",
       "      <th>gap+1</th>\n",
       "      <td>667378.0</td>\n",
       "      <td>-9.535141e-17</td>\n",
       "      <td>7.213721e-14</td>\n",
       "      <td>-1.198236e-11</td>\n",
       "      <td>-8.604228e-15</td>\n",
       "      <td>0.000000e+00</td>\n",
       "      <td>8.507084e-15</td>\n",
       "      <td>7.755574e-12</td>\n",
       "    </tr>\n",
       "  </tbody>\n",
       "</table>\n",
       "</div>"
      ],
      "text/plain": [
       "          count          mean           std           min           25%  \\\n",
       "gap-1  667378.0 -1.727269e-17  6.930526e-14 -1.966033e-11 -7.896461e-15   \n",
       "gap0   667378.0 -1.372482e-16  1.339811e-13 -1.848022e-11 -3.214096e-14   \n",
       "gap+1  667378.0 -9.535141e-17  7.213721e-14 -1.198236e-11 -8.604228e-15   \n",
       "\n",
       "                50%           75%           max  \n",
       "gap-1  0.000000e+00  7.896461e-15  5.201228e-12  \n",
       "gap0  -1.006140e-16  3.197442e-14  2.558151e-11  \n",
       "gap+1  0.000000e+00  8.507084e-15  7.755574e-12  "
      ]
     },
     "execution_count": 8,
     "metadata": {},
     "output_type": "execute_result"
    }
   ],
   "source": [
    "df[['gap-1','gap0','gap+1']].describe().T"
   ]
  },
  {
   "cell_type": "code",
   "execution_count": 9,
   "id": "fa815cff",
   "metadata": {},
   "outputs": [
    {
     "data": {
      "text/plain": [
       "count    2.002134e+06\n",
       "mean    -8.329076e-17\n",
       "std      9.653654e-14\n",
       "min     -1.966033e-11\n",
       "25%     -1.301736e-14\n",
       "50%      0.000000e+00\n",
       "75%      1.298961e-14\n",
       "max      2.558151e-11\n",
       "dtype: float64"
      ]
     },
     "execution_count": 9,
     "metadata": {},
     "output_type": "execute_result"
    }
   ],
   "source": [
    "pd.concat([df['gap-1'], df['gap0'], df['gap+1']]).describe()"
   ]
  },
  {
   "cell_type": "code",
   "execution_count": 10,
   "id": "8752be1e",
   "metadata": {},
   "outputs": [
    {
     "data": {
      "text/plain": [
       "100.0"
      ]
     },
     "execution_count": 10,
     "metadata": {},
     "output_type": "execute_result"
    }
   ],
   "source": [
    "a=pd.concat([df['gap-1'], df['gap0'], df['gap+1']])\n",
    "cut = 0.01\n",
    "b=a[abs(a) < cut]\n",
    "b.count()/a.count() *100"
   ]
  },
  {
   "cell_type": "code",
   "execution_count": 11,
   "id": "95ca97c8",
   "metadata": {},
   "outputs": [
    {
     "data": {
      "text/html": [
       "<div>\n",
       "<style scoped>\n",
       "    .dataframe tbody tr th:only-of-type {\n",
       "        vertical-align: middle;\n",
       "    }\n",
       "\n",
       "    .dataframe tbody tr th {\n",
       "        vertical-align: top;\n",
       "    }\n",
       "\n",
       "    .dataframe thead th {\n",
       "        text-align: right;\n",
       "    }\n",
       "</style>\n",
       "<table border=\"1\" class=\"dataframe\">\n",
       "  <thead>\n",
       "    <tr style=\"text-align: right;\">\n",
       "      <th></th>\n",
       "      <th>mcwat-1</th>\n",
       "      <th>mcwas-1</th>\n",
       "      <th>gap-1</th>\n",
       "    </tr>\n",
       "  </thead>\n",
       "  <tbody>\n",
       "  </tbody>\n",
       "</table>\n",
       "</div>"
      ],
      "text/plain": [
       "Empty DataFrame\n",
       "Columns: [mcwat-1, mcwas-1, gap-1]\n",
       "Index: []"
      ]
     },
     "execution_count": 11,
     "metadata": {},
     "output_type": "execute_result"
    }
   ],
   "source": [
    "df[abs(df['gap-1'])>cut][[f'{A}-1', f'{B}-1', 'gap-1']].sort_values('gap-1')"
   ]
  },
  {
   "cell_type": "code",
   "execution_count": 12,
   "id": "5874eab7",
   "metadata": {},
   "outputs": [
    {
     "data": {
      "text/html": [
       "<div>\n",
       "<style scoped>\n",
       "    .dataframe tbody tr th:only-of-type {\n",
       "        vertical-align: middle;\n",
       "    }\n",
       "\n",
       "    .dataframe tbody tr th {\n",
       "        vertical-align: top;\n",
       "    }\n",
       "\n",
       "    .dataframe thead th {\n",
       "        text-align: right;\n",
       "    }\n",
       "</style>\n",
       "<table border=\"1\" class=\"dataframe\">\n",
       "  <thead>\n",
       "    <tr style=\"text-align: right;\">\n",
       "      <th></th>\n",
       "      <th>mcwat0</th>\n",
       "      <th>mcwas0</th>\n",
       "      <th>gap0</th>\n",
       "    </tr>\n",
       "  </thead>\n",
       "  <tbody>\n",
       "  </tbody>\n",
       "</table>\n",
       "</div>"
      ],
      "text/plain": [
       "Empty DataFrame\n",
       "Columns: [mcwat0, mcwas0, gap0]\n",
       "Index: []"
      ]
     },
     "execution_count": 12,
     "metadata": {},
     "output_type": "execute_result"
    }
   ],
   "source": [
    "df[abs(df['gap0'])>cut][[f'{A}0', f'{B}0', 'gap0']].sort_values('gap0')"
   ]
  },
  {
   "cell_type": "code",
   "execution_count": 13,
   "id": "82c4681f",
   "metadata": {},
   "outputs": [
    {
     "data": {
      "text/html": [
       "<div>\n",
       "<style scoped>\n",
       "    .dataframe tbody tr th:only-of-type {\n",
       "        vertical-align: middle;\n",
       "    }\n",
       "\n",
       "    .dataframe tbody tr th {\n",
       "        vertical-align: top;\n",
       "    }\n",
       "\n",
       "    .dataframe thead th {\n",
       "        text-align: right;\n",
       "    }\n",
       "</style>\n",
       "<table border=\"1\" class=\"dataframe\">\n",
       "  <thead>\n",
       "    <tr style=\"text-align: right;\">\n",
       "      <th></th>\n",
       "      <th>mcwat+1</th>\n",
       "      <th>mcwas+1</th>\n",
       "      <th>gap+1</th>\n",
       "    </tr>\n",
       "  </thead>\n",
       "  <tbody>\n",
       "  </tbody>\n",
       "</table>\n",
       "</div>"
      ],
      "text/plain": [
       "Empty DataFrame\n",
       "Columns: [mcwat+1, mcwas+1, gap+1]\n",
       "Index: []"
      ]
     },
     "execution_count": 13,
     "metadata": {},
     "output_type": "execute_result"
    }
   ],
   "source": [
    "df[abs(df['gap+1'])>cut][[f'{A}+1', f'{B}+1', 'gap+1']].sort_values('gap+1')"
   ]
  },
  {
   "cell_type": "markdown",
   "id": "bcd36ccf",
   "metadata": {},
   "source": [
    "## Normalized abs(difference in transmittance) "
   ]
  },
  {
   "cell_type": "code",
   "execution_count": 14,
   "id": "d0b4a13f",
   "metadata": {},
   "outputs": [],
   "source": [
    "cut = 0.01"
   ]
  },
  {
   "cell_type": "code",
   "execution_count": 15,
   "id": "e1ea0306",
   "metadata": {},
   "outputs": [
    {
     "data": {
      "image/png": "[encoded data removed]",
      "text/plain": [
       "<Figure size 1440x360 with 2 Axes>"
      ]
     },
     "metadata": {
      "needs_background": "light"
     },
     "output_type": "display_data"
    }
   ],
   "source": [
    "fig, axes = plt.subplots(1,2, figsize=(20,5))\n",
    "axes[0].axvline(cut, c='r')\n",
    "axes[1].axvline(cut, c='r')\n",
    "\n",
    "axes[0].hist([abs(df['gap-1']/df[f'{A}-1']), abs(df['gap0']/df[f'{A}0']), abs(df['gap+1']/df[f'{A}+1'])], bins=np.logspace(np.log10(1E-16), np.log10(20),100))\n",
    "axes[0].set_xscale('log')\n",
    "\n",
    "axes[1].hist([abs(df['gap-1']/df[f'{A}-1']), abs(df['gap0']/df[f'{A}0']), abs(df['gap+1']/df[f'{A}+1'])], bins=np.logspace(np.log10(1E-16), np.log10(20),100))\n",
    "axes[1].set_xscale('log')\n",
    "axes[1].set_yscale('log')\n",
    "\n",
    "plt.show()"
   ]
  },
  {
   "cell_type": "markdown",
   "id": "f8eafbfd",
   "metadata": {},
   "source": [
    "right side of vertical red line: normalized error >= 1 %\n",
    "\n",
    "orange is 0th order"
   ]
  },
  {
   "cell_type": "code",
   "execution_count": 16,
   "id": "eb759049",
   "metadata": {},
   "outputs": [
    {
     "data": {
      "text/html": [
       "<div>\n",
       "<style scoped>\n",
       "    .dataframe tbody tr th:only-of-type {\n",
       "        vertical-align: middle;\n",
       "    }\n",
       "\n",
       "    .dataframe tbody tr th {\n",
       "        vertical-align: top;\n",
       "    }\n",
       "\n",
       "    .dataframe thead th {\n",
       "        text-align: right;\n",
       "    }\n",
       "</style>\n",
       "<table border=\"1\" class=\"dataframe\">\n",
       "  <thead>\n",
       "    <tr style=\"text-align: right;\">\n",
       "      <th></th>\n",
       "      <th>mcwat-1</th>\n",
       "      <th>mcwas-1</th>\n",
       "      <th>gap-1</th>\n",
       "    </tr>\n",
       "  </thead>\n",
       "  <tbody>\n",
       "    <tr>\n",
       "      <th>329858</th>\n",
       "      <td>2.373935e-30</td>\n",
       "      <td>2.869381e-29</td>\n",
       "      <td>-2.631987e-29</td>\n",
       "    </tr>\n",
       "    <tr>\n",
       "      <th>7958</th>\n",
       "      <td>2.302872e-31</td>\n",
       "      <td>2.758670e-30</td>\n",
       "      <td>-2.528382e-30</td>\n",
       "    </tr>\n",
       "    <tr>\n",
       "      <th>54531</th>\n",
       "      <td>2.302872e-31</td>\n",
       "      <td>2.758670e-30</td>\n",
       "      <td>-2.528382e-30</td>\n",
       "    </tr>\n",
       "    <tr>\n",
       "      <th>535535</th>\n",
       "      <td>6.407064e-33</td>\n",
       "      <td>9.099297e-31</td>\n",
       "      <td>-9.035226e-31</td>\n",
       "    </tr>\n",
       "    <tr>\n",
       "      <th>83007</th>\n",
       "      <td>4.203941e-31</td>\n",
       "      <td>1.173520e-30</td>\n",
       "      <td>-7.531262e-31</td>\n",
       "    </tr>\n",
       "    <tr>\n",
       "      <th>79807</th>\n",
       "      <td>4.203941e-31</td>\n",
       "      <td>1.173520e-30</td>\n",
       "      <td>-7.531262e-31</td>\n",
       "    </tr>\n",
       "    <tr>\n",
       "      <th>164627</th>\n",
       "      <td>1.958375e-31</td>\n",
       "      <td>9.283327e-31</td>\n",
       "      <td>-7.324952e-31</td>\n",
       "    </tr>\n",
       "    <tr>\n",
       "      <th>58869</th>\n",
       "      <td>1.958375e-31</td>\n",
       "      <td>9.283327e-31</td>\n",
       "      <td>-7.324952e-31</td>\n",
       "    </tr>\n",
       "    <tr>\n",
       "      <th>157244</th>\n",
       "      <td>4.961964e-31</td>\n",
       "      <td>1.077038e-30</td>\n",
       "      <td>-5.808420e-31</td>\n",
       "    </tr>\n",
       "    <tr>\n",
       "      <th>1868</th>\n",
       "      <td>4.961964e-31</td>\n",
       "      <td>1.077038e-30</td>\n",
       "      <td>-5.808420e-31</td>\n",
       "    </tr>\n",
       "    <tr>\n",
       "      <th>74521</th>\n",
       "      <td>3.196301e-31</td>\n",
       "      <td>7.786527e-31</td>\n",
       "      <td>-4.590226e-31</td>\n",
       "    </tr>\n",
       "    <tr>\n",
       "      <th>94327</th>\n",
       "      <td>3.196301e-31</td>\n",
       "      <td>7.786527e-31</td>\n",
       "      <td>-4.590226e-31</td>\n",
       "    </tr>\n",
       "    <tr>\n",
       "      <th>60851</th>\n",
       "      <td>1.491581e-30</td>\n",
       "      <td>1.730252e-30</td>\n",
       "      <td>-2.386711e-31</td>\n",
       "    </tr>\n",
       "    <tr>\n",
       "      <th>115727</th>\n",
       "      <td>1.491581e-30</td>\n",
       "      <td>1.730252e-30</td>\n",
       "      <td>-2.386711e-31</td>\n",
       "    </tr>\n",
       "    <tr>\n",
       "      <th>86937</th>\n",
       "      <td>1.955989e-31</td>\n",
       "      <td>2.637040e-31</td>\n",
       "      <td>-6.810507e-32</td>\n",
       "    </tr>\n",
       "    <tr>\n",
       "      <th>213230</th>\n",
       "      <td>2.300345e-30</td>\n",
       "      <td>2.243589e-30</td>\n",
       "      <td>5.675609e-32</td>\n",
       "    </tr>\n",
       "    <tr>\n",
       "      <th>166684</th>\n",
       "      <td>1.054626e-30</td>\n",
       "      <td>8.723291e-31</td>\n",
       "      <td>1.822973e-31</td>\n",
       "    </tr>\n",
       "    <tr>\n",
       "      <th>15278</th>\n",
       "      <td>7.705386e-31</td>\n",
       "      <td>4.758377e-31</td>\n",
       "      <td>2.947010e-31</td>\n",
       "    </tr>\n",
       "    <tr>\n",
       "      <th>31535</th>\n",
       "      <td>1.301857e-30</td>\n",
       "      <td>5.706280e-31</td>\n",
       "      <td>7.312289e-31</td>\n",
       "    </tr>\n",
       "    <tr>\n",
       "      <th>248417</th>\n",
       "      <td>1.301857e-30</td>\n",
       "      <td>5.706280e-31</td>\n",
       "      <td>7.312289e-31</td>\n",
       "    </tr>\n",
       "    <tr>\n",
       "      <th>419123</th>\n",
       "      <td>4.475153e-30</td>\n",
       "      <td>3.594513e-30</td>\n",
       "      <td>8.806396e-31</td>\n",
       "    </tr>\n",
       "    <tr>\n",
       "      <th>142465</th>\n",
       "      <td>1.899759e-30</td>\n",
       "      <td>9.818008e-31</td>\n",
       "      <td>9.179585e-31</td>\n",
       "    </tr>\n",
       "    <tr>\n",
       "      <th>8453</th>\n",
       "      <td>1.745009e-30</td>\n",
       "      <td>4.306614e-31</td>\n",
       "      <td>1.314348e-30</td>\n",
       "    </tr>\n",
       "    <tr>\n",
       "      <th>48232</th>\n",
       "      <td>2.593114e-30</td>\n",
       "      <td>2.206789e-31</td>\n",
       "      <td>2.372435e-30</td>\n",
       "    </tr>\n",
       "    <tr>\n",
       "      <th>452289</th>\n",
       "      <td>2.593114e-30</td>\n",
       "      <td>2.206789e-31</td>\n",
       "      <td>2.372435e-30</td>\n",
       "    </tr>\n",
       "    <tr>\n",
       "      <th>377892</th>\n",
       "      <td>5.960797e-30</td>\n",
       "      <td>7.699900e-31</td>\n",
       "      <td>5.190807e-30</td>\n",
       "    </tr>\n",
       "    <tr>\n",
       "      <th>6212</th>\n",
       "      <td>6.141080e-30</td>\n",
       "      <td>9.862220e-32</td>\n",
       "      <td>6.042457e-30</td>\n",
       "    </tr>\n",
       "    <tr>\n",
       "      <th>238038</th>\n",
       "      <td>9.378739e-30</td>\n",
       "      <td>9.061853e-31</td>\n",
       "      <td>8.472554e-30</td>\n",
       "    </tr>\n",
       "  </tbody>\n",
       "</table>\n",
       "</div>"
      ],
      "text/plain": [
       "             mcwat-1       mcwas-1         gap-1\n",
       "329858  2.373935e-30  2.869381e-29 -2.631987e-29\n",
       "7958    2.302872e-31  2.758670e-30 -2.528382e-30\n",
       "54531   2.302872e-31  2.758670e-30 -2.528382e-30\n",
       "535535  6.407064e-33  9.099297e-31 -9.035226e-31\n",
       "83007   4.203941e-31  1.173520e-30 -7.531262e-31\n",
       "79807   4.203941e-31  1.173520e-30 -7.531262e-31\n",
       "164627  1.958375e-31  9.283327e-31 -7.324952e-31\n",
       "58869   1.958375e-31  9.283327e-31 -7.324952e-31\n",
       "157244  4.961964e-31  1.077038e-30 -5.808420e-31\n",
       "1868    4.961964e-31  1.077038e-30 -5.808420e-31\n",
       "74521   3.196301e-31  7.786527e-31 -4.590226e-31\n",
       "94327   3.196301e-31  7.786527e-31 -4.590226e-31\n",
       "60851   1.491581e-30  1.730252e-30 -2.386711e-31\n",
       "115727  1.491581e-30  1.730252e-30 -2.386711e-31\n",
       "86937   1.955989e-31  2.637040e-31 -6.810507e-32\n",
       "213230  2.300345e-30  2.243589e-30  5.675609e-32\n",
       "166684  1.054626e-30  8.723291e-31  1.822973e-31\n",
       "15278   7.705386e-31  4.758377e-31  2.947010e-31\n",
       "31535   1.301857e-30  5.706280e-31  7.312289e-31\n",
       "248417  1.301857e-30  5.706280e-31  7.312289e-31\n",
       "419123  4.475153e-30  3.594513e-30  8.806396e-31\n",
       "142465  1.899759e-30  9.818008e-31  9.179585e-31\n",
       "8453    1.745009e-30  4.306614e-31  1.314348e-30\n",
       "48232   2.593114e-30  2.206789e-31  2.372435e-30\n",
       "452289  2.593114e-30  2.206789e-31  2.372435e-30\n",
       "377892  5.960797e-30  7.699900e-31  5.190807e-30\n",
       "6212    6.141080e-30  9.862220e-32  6.042457e-30\n",
       "238038  9.378739e-30  9.061853e-31  8.472554e-30"
      ]
     },
     "execution_count": 16,
     "metadata": {},
     "output_type": "execute_result"
    }
   ],
   "source": [
    "df[abs(df['gap-1']/df[f'{A}-1'])>cut][[f'{A}-1', f'{B}-1', 'gap-1']].sort_values('gap-1')"
   ]
  },
  {
   "cell_type": "code",
   "execution_count": 17,
   "id": "708847ad",
   "metadata": {},
   "outputs": [
    {
     "data": {
      "text/html": [
       "<div>\n",
       "<style scoped>\n",
       "    .dataframe tbody tr th:only-of-type {\n",
       "        vertical-align: middle;\n",
       "    }\n",
       "\n",
       "    .dataframe tbody tr th {\n",
       "        vertical-align: top;\n",
       "    }\n",
       "\n",
       "    .dataframe thead th {\n",
       "        text-align: right;\n",
       "    }\n",
       "</style>\n",
       "<table border=\"1\" class=\"dataframe\">\n",
       "  <thead>\n",
       "    <tr style=\"text-align: right;\">\n",
       "      <th></th>\n",
       "      <th>mcwat0</th>\n",
       "      <th>mcwas0</th>\n",
       "      <th>gap0</th>\n",
       "    </tr>\n",
       "  </thead>\n",
       "  <tbody>\n",
       "  </tbody>\n",
       "</table>\n",
       "</div>"
      ],
      "text/plain": [
       "Empty DataFrame\n",
       "Columns: [mcwat0, mcwas0, gap0]\n",
       "Index: []"
      ]
     },
     "execution_count": 17,
     "metadata": {},
     "output_type": "execute_result"
    }
   ],
   "source": [
    "df[abs(df['gap0']/df[f'{A}0'])>cut][[f'{A}0', f'{B}0', 'gap0']].sort_values('gap0')"
   ]
  },
  {
   "cell_type": "code",
   "execution_count": 18,
   "id": "473d6247",
   "metadata": {},
   "outputs": [
    {
     "data": {
      "text/html": [
       "<div>\n",
       "<style scoped>\n",
       "    .dataframe tbody tr th:only-of-type {\n",
       "        vertical-align: middle;\n",
       "    }\n",
       "\n",
       "    .dataframe tbody tr th {\n",
       "        vertical-align: top;\n",
       "    }\n",
       "\n",
       "    .dataframe thead th {\n",
       "        text-align: right;\n",
       "    }\n",
       "</style>\n",
       "<table border=\"1\" class=\"dataframe\">\n",
       "  <thead>\n",
       "    <tr style=\"text-align: right;\">\n",
       "      <th></th>\n",
       "      <th>mcwat+1</th>\n",
       "      <th>mcwas+1</th>\n",
       "      <th>gap+1</th>\n",
       "    </tr>\n",
       "  </thead>\n",
       "  <tbody>\n",
       "    <tr>\n",
       "      <th>329858</th>\n",
       "      <td>3.283359e-30</td>\n",
       "      <td>4.757259e-29</td>\n",
       "      <td>-4.428923e-29</td>\n",
       "    </tr>\n",
       "    <tr>\n",
       "      <th>238038</th>\n",
       "      <td>8.517369e-30</td>\n",
       "      <td>2.656676e-29</td>\n",
       "      <td>-1.804939e-29</td>\n",
       "    </tr>\n",
       "    <tr>\n",
       "      <th>7958</th>\n",
       "      <td>5.313359e-31</td>\n",
       "      <td>2.776086e-30</td>\n",
       "      <td>-2.244750e-30</td>\n",
       "    </tr>\n",
       "    <tr>\n",
       "      <th>54531</th>\n",
       "      <td>5.313359e-31</td>\n",
       "      <td>2.776086e-30</td>\n",
       "      <td>-2.244750e-30</td>\n",
       "    </tr>\n",
       "    <tr>\n",
       "      <th>213230</th>\n",
       "      <td>1.071285e-30</td>\n",
       "      <td>1.639090e-30</td>\n",
       "      <td>-5.678050e-31</td>\n",
       "    </tr>\n",
       "    <tr>\n",
       "      <th>535535</th>\n",
       "      <td>4.629253e-33</td>\n",
       "      <td>5.150923e-31</td>\n",
       "      <td>-5.104631e-31</td>\n",
       "    </tr>\n",
       "    <tr>\n",
       "      <th>94327</th>\n",
       "      <td>4.442361e-32</td>\n",
       "      <td>3.928026e-31</td>\n",
       "      <td>-3.483790e-31</td>\n",
       "    </tr>\n",
       "    <tr>\n",
       "      <th>74521</th>\n",
       "      <td>4.442361e-32</td>\n",
       "      <td>3.928026e-31</td>\n",
       "      <td>-3.483790e-31</td>\n",
       "    </tr>\n",
       "    <tr>\n",
       "      <th>83007</th>\n",
       "      <td>5.531235e-31</td>\n",
       "      <td>8.059506e-31</td>\n",
       "      <td>-2.528271e-31</td>\n",
       "    </tr>\n",
       "    <tr>\n",
       "      <th>79807</th>\n",
       "      <td>5.531235e-31</td>\n",
       "      <td>8.059506e-31</td>\n",
       "      <td>-2.528271e-31</td>\n",
       "    </tr>\n",
       "    <tr>\n",
       "      <th>157244</th>\n",
       "      <td>1.700904e-31</td>\n",
       "      <td>4.174720e-31</td>\n",
       "      <td>-2.473816e-31</td>\n",
       "    </tr>\n",
       "    <tr>\n",
       "      <th>1868</th>\n",
       "      <td>1.700904e-31</td>\n",
       "      <td>4.174720e-31</td>\n",
       "      <td>-2.473816e-31</td>\n",
       "    </tr>\n",
       "    <tr>\n",
       "      <th>86937</th>\n",
       "      <td>4.231023e-31</td>\n",
       "      <td>1.867103e-31</td>\n",
       "      <td>2.363920e-31</td>\n",
       "    </tr>\n",
       "    <tr>\n",
       "      <th>58869</th>\n",
       "      <td>1.051158e-30</td>\n",
       "      <td>5.297572e-31</td>\n",
       "      <td>5.214007e-31</td>\n",
       "    </tr>\n",
       "    <tr>\n",
       "      <th>164627</th>\n",
       "      <td>1.051158e-30</td>\n",
       "      <td>5.297572e-31</td>\n",
       "      <td>5.214007e-31</td>\n",
       "    </tr>\n",
       "    <tr>\n",
       "      <th>452289</th>\n",
       "      <td>5.582731e-31</td>\n",
       "      <td>3.335962e-32</td>\n",
       "      <td>5.249135e-31</td>\n",
       "    </tr>\n",
       "    <tr>\n",
       "      <th>48232</th>\n",
       "      <td>5.582731e-31</td>\n",
       "      <td>3.335962e-32</td>\n",
       "      <td>5.249135e-31</td>\n",
       "    </tr>\n",
       "    <tr>\n",
       "      <th>31535</th>\n",
       "      <td>9.806826e-31</td>\n",
       "      <td>4.223764e-31</td>\n",
       "      <td>5.583062e-31</td>\n",
       "    </tr>\n",
       "    <tr>\n",
       "      <th>248417</th>\n",
       "      <td>9.806826e-31</td>\n",
       "      <td>4.223764e-31</td>\n",
       "      <td>5.583062e-31</td>\n",
       "    </tr>\n",
       "    <tr>\n",
       "      <th>15278</th>\n",
       "      <td>6.526745e-31</td>\n",
       "      <td>8.500116e-32</td>\n",
       "      <td>5.676734e-31</td>\n",
       "    </tr>\n",
       "    <tr>\n",
       "      <th>115727</th>\n",
       "      <td>1.740438e-30</td>\n",
       "      <td>1.157433e-30</td>\n",
       "      <td>5.830052e-31</td>\n",
       "    </tr>\n",
       "    <tr>\n",
       "      <th>60851</th>\n",
       "      <td>1.740438e-30</td>\n",
       "      <td>1.157433e-30</td>\n",
       "      <td>5.830052e-31</td>\n",
       "    </tr>\n",
       "    <tr>\n",
       "      <th>142465</th>\n",
       "      <td>1.901181e-30</td>\n",
       "      <td>1.256133e-30</td>\n",
       "      <td>6.450478e-31</td>\n",
       "    </tr>\n",
       "    <tr>\n",
       "      <th>166684</th>\n",
       "      <td>1.458433e-30</td>\n",
       "      <td>5.728963e-31</td>\n",
       "      <td>8.855366e-31</td>\n",
       "    </tr>\n",
       "    <tr>\n",
       "      <th>8453</th>\n",
       "      <td>1.584302e-30</td>\n",
       "      <td>2.986411e-31</td>\n",
       "      <td>1.285661e-30</td>\n",
       "    </tr>\n",
       "    <tr>\n",
       "      <th>377892</th>\n",
       "      <td>7.327101e-30</td>\n",
       "      <td>8.525944e-31</td>\n",
       "      <td>6.474506e-30</td>\n",
       "    </tr>\n",
       "    <tr>\n",
       "      <th>6212</th>\n",
       "      <td>6.682170e-30</td>\n",
       "      <td>2.357533e-32</td>\n",
       "      <td>6.658594e-30</td>\n",
       "    </tr>\n",
       "    <tr>\n",
       "      <th>419123</th>\n",
       "      <td>1.276023e-29</td>\n",
       "      <td>1.254993e-30</td>\n",
       "      <td>1.150523e-29</td>\n",
       "    </tr>\n",
       "  </tbody>\n",
       "</table>\n",
       "</div>"
      ],
      "text/plain": [
       "             mcwat+1       mcwas+1         gap+1\n",
       "329858  3.283359e-30  4.757259e-29 -4.428923e-29\n",
       "238038  8.517369e-30  2.656676e-29 -1.804939e-29\n",
       "7958    5.313359e-31  2.776086e-30 -2.244750e-30\n",
       "54531   5.313359e-31  2.776086e-30 -2.244750e-30\n",
       "213230  1.071285e-30  1.639090e-30 -5.678050e-31\n",
       "535535  4.629253e-33  5.150923e-31 -5.104631e-31\n",
       "94327   4.442361e-32  3.928026e-31 -3.483790e-31\n",
       "74521   4.442361e-32  3.928026e-31 -3.483790e-31\n",
       "83007   5.531235e-31  8.059506e-31 -2.528271e-31\n",
       "79807   5.531235e-31  8.059506e-31 -2.528271e-31\n",
       "157244  1.700904e-31  4.174720e-31 -2.473816e-31\n",
       "1868    1.700904e-31  4.174720e-31 -2.473816e-31\n",
       "86937   4.231023e-31  1.867103e-31  2.363920e-31\n",
       "58869   1.051158e-30  5.297572e-31  5.214007e-31\n",
       "164627  1.051158e-30  5.297572e-31  5.214007e-31\n",
       "452289  5.582731e-31  3.335962e-32  5.249135e-31\n",
       "48232   5.582731e-31  3.335962e-32  5.249135e-31\n",
       "31535   9.806826e-31  4.223764e-31  5.583062e-31\n",
       "248417  9.806826e-31  4.223764e-31  5.583062e-31\n",
       "15278   6.526745e-31  8.500116e-32  5.676734e-31\n",
       "115727  1.740438e-30  1.157433e-30  5.830052e-31\n",
       "60851   1.740438e-30  1.157433e-30  5.830052e-31\n",
       "142465  1.901181e-30  1.256133e-30  6.450478e-31\n",
       "166684  1.458433e-30  5.728963e-31  8.855366e-31\n",
       "8453    1.584302e-30  2.986411e-31  1.285661e-30\n",
       "377892  7.327101e-30  8.525944e-31  6.474506e-30\n",
       "6212    6.682170e-30  2.357533e-32  6.658594e-30\n",
       "419123  1.276023e-29  1.254993e-30  1.150523e-29"
      ]
     },
     "execution_count": 18,
     "metadata": {},
     "output_type": "execute_result"
    }
   ],
   "source": [
    "df[abs(df['gap+1']/df[f'{A}+1'])>cut][[f'{A}+1', f'{B}+1', 'gap+1']].sort_values('gap+1')"
   ]
  },
  {
   "cell_type": "markdown",
   "id": "648d88ee",
   "metadata": {},
   "source": [
    "# benchmark - simulation time"
   ]
  },
  {
   "cell_type": "markdown",
   "id": "cede83a9",
   "metadata": {},
   "source": [
    "## run time by time.time()"
   ]
  },
  {
   "cell_type": "code",
   "execution_count": 19,
   "id": "25a72d12",
   "metadata": {},
   "outputs": [
    {
     "data": {
      "image/png": "[encoded data removed]",
      "text/plain": [
       "<Figure size 1440x360 with 2 Axes>"
      ]
     },
     "metadata": {
      "needs_background": "light"
     },
     "output_type": "display_data"
    }
   ],
   "source": [
    "fig, axes = plt.subplots(1,2, figsize=(20,5))\n",
    "axes[0].hist([df[f't_{A}'],df[f't_{B}']], bins=100)\n",
    "axes[1].hist([df[f't_{A}'],df[f't_{B}']], bins=100, log=True)\n",
    "plt.show()"
   ]
  },
  {
   "cell_type": "markdown",
   "id": "7fa5d789",
   "metadata": {},
   "source": [
    "Blue is  meent-TMM, Oragne is meent-SMM"
   ]
  },
  {
   "cell_type": "markdown",
   "id": "3a2ab4cf",
   "metadata": {},
   "source": [
    "## SMM time / TMM time"
   ]
  },
  {
   "cell_type": "code",
   "execution_count": 20,
   "id": "11ea8ef4",
   "metadata": {},
   "outputs": [
    {
     "data": {
      "image/png": "[encoded data removed]",
      "text/plain": [
       "<Figure size 1440x360 with 2 Axes>"
      ]
     },
     "metadata": {
      "needs_background": "light"
     },
     "output_type": "display_data"
    }
   ],
   "source": [
    "fig, axes = plt.subplots(1,2, figsize=(20,5))\n",
    "axes[0].axvline(1, c='r')\n",
    "axes[1].axvline(1, c='r')\n",
    "axes[0].hist((df[f't_{B}'])/df[f't_{A}'], bins=100)\n",
    "axes[1].hist((df[f't_{B}'])/df[f't_{A}'], bins=100)\n",
    "axes[1].set_yscale('log')\n",
    "plt.show()"
   ]
  },
  {
   "cell_type": "code",
   "execution_count": 21,
   "id": "92fd0482",
   "metadata": {},
   "outputs": [
    {
     "data": {
      "text/html": [
       "<div>\n",
       "<style scoped>\n",
       "    .dataframe tbody tr th:only-of-type {\n",
       "        vertical-align: middle;\n",
       "    }\n",
       "\n",
       "    .dataframe tbody tr th {\n",
       "        vertical-align: top;\n",
       "    }\n",
       "\n",
       "    .dataframe thead th {\n",
       "        text-align: right;\n",
       "    }\n",
       "</style>\n",
       "<table border=\"1\" class=\"dataframe\">\n",
       "  <thead>\n",
       "    <tr style=\"text-align: right;\">\n",
       "      <th></th>\n",
       "      <th>count</th>\n",
       "      <th>mean</th>\n",
       "      <th>std</th>\n",
       "      <th>min</th>\n",
       "      <th>25%</th>\n",
       "      <th>50%</th>\n",
       "      <th>75%</th>\n",
       "      <th>max</th>\n",
       "    </tr>\n",
       "  </thead>\n",
       "  <tbody>\n",
       "    <tr>\n",
       "      <th>0</th>\n",
       "      <td>667378.0</td>\n",
       "      <td>2.871407</td>\n",
       "      <td>0.449369</td>\n",
       "      <td>0.968381</td>\n",
       "      <td>2.509736</td>\n",
       "      <td>2.922914</td>\n",
       "      <td>3.220868</td>\n",
       "      <td>8.037431</td>\n",
       "    </tr>\n",
       "  </tbody>\n",
       "</table>\n",
       "</div>"
      ],
      "text/plain": [
       "      count      mean       std       min       25%       50%       75%  \\\n",
       "0  667378.0  2.871407  0.449369  0.968381  2.509736  2.922914  3.220868   \n",
       "\n",
       "        max  \n",
       "0  8.037431  "
      ]
     },
     "execution_count": 21,
     "metadata": {},
     "output_type": "execute_result"
    }
   ],
   "source": [
    "pd.DataFrame((df[f't_{B}']/df[f't_{A}']).describe()).T"
   ]
  },
  {
   "cell_type": "markdown",
   "id": "e99f3aca",
   "metadata": {},
   "source": [
    "meent-TMM is faster 2.9 times than SMM.\n",
    "\n",
    "right side of red line: TMM is faster"
   ]
  },
  {
   "cell_type": "markdown",
   "id": "6bb674a5",
   "metadata": {},
   "source": [
    "## time.process_time()"
   ]
  },
  {
   "cell_type": "code",
   "execution_count": 22,
   "id": "45fb27af",
   "metadata": {
    "scrolled": true
   },
   "outputs": [
    {
     "data": {
      "image/png": "[encoded data removed]",
      "text/plain": [
       "<Figure size 1440x360 with 2 Axes>"
      ]
     },
     "metadata": {
      "needs_background": "light"
     },
     "output_type": "display_data"
    }
   ],
   "source": [
    "fig, axes = plt.subplots(1,2, figsize=(20,5))\n",
    "axes[0].hist([df[f'tpr_{A}'],df[f'tpr_{B}']], bins=100)\n",
    "axes[1].hist([df[f'tpr_{A}'],df[f'tpr_{B}']], bins=100, log=True)\n",
    "plt.show()"
   ]
  },
  {
   "cell_type": "code",
   "execution_count": 23,
   "id": "78e0d498",
   "metadata": {
    "scrolled": true
   },
   "outputs": [
    {
     "data": {
      "image/png": "[encoded data removed]",
      "text/plain": [
       "<Figure size 1440x360 with 2 Axes>"
      ]
     },
     "metadata": {
      "needs_background": "light"
     },
     "output_type": "display_data"
    }
   ],
   "source": [
    "fig, axes = plt.subplots(1,2, figsize=(20,5))\n",
    "axes[0].axvline(1, c='r')\n",
    "axes[1].axvline(1, c='r')\n",
    "axes[0].hist((df[f'tpr_{B}'])/df[f'tpr_{A}'], bins=100)\n",
    "axes[1].hist((df[f'tpr_{B}'])/df[f'tpr_{A}'], bins=100)\n",
    "axes[1].set_yscale('log')\n",
    "plt.show()"
   ]
  },
  {
   "cell_type": "code",
   "execution_count": 24,
   "id": "4d06b75f",
   "metadata": {},
   "outputs": [
    {
     "data": {
      "text/html": [
       "<div>\n",
       "<style scoped>\n",
       "    .dataframe tbody tr th:only-of-type {\n",
       "        vertical-align: middle;\n",
       "    }\n",
       "\n",
       "    .dataframe tbody tr th {\n",
       "        vertical-align: top;\n",
       "    }\n",
       "\n",
       "    .dataframe thead th {\n",
       "        text-align: right;\n",
       "    }\n",
       "</style>\n",
       "<table border=\"1\" class=\"dataframe\">\n",
       "  <thead>\n",
       "    <tr style=\"text-align: right;\">\n",
       "      <th></th>\n",
       "      <th>count</th>\n",
       "      <th>mean</th>\n",
       "      <th>std</th>\n",
       "      <th>min</th>\n",
       "      <th>25%</th>\n",
       "      <th>50%</th>\n",
       "      <th>75%</th>\n",
       "      <th>max</th>\n",
       "    </tr>\n",
       "  </thead>\n",
       "  <tbody>\n",
       "    <tr>\n",
       "      <th>0</th>\n",
       "      <td>667378.0</td>\n",
       "      <td>3.109187</td>\n",
       "      <td>0.503799</td>\n",
       "      <td>1.157268</td>\n",
       "      <td>2.688363</td>\n",
       "      <td>3.17979</td>\n",
       "      <td>3.517226</td>\n",
       "      <td>6.058321</td>\n",
       "    </tr>\n",
       "  </tbody>\n",
       "</table>\n",
       "</div>"
      ],
      "text/plain": [
       "      count      mean       std       min       25%      50%       75%  \\\n",
       "0  667378.0  3.109187  0.503799  1.157268  2.688363  3.17979  3.517226   \n",
       "\n",
       "        max  \n",
       "0  6.058321  "
      ]
     },
     "execution_count": 24,
     "metadata": {},
     "output_type": "execute_result"
    }
   ],
   "source": [
    "pd.DataFrame((df[f'tpr_{B}']/df[f'tpr_{A}']).describe()).T"
   ]
  },
  {
   "cell_type": "markdown",
   "id": "63cab322",
   "metadata": {},
   "source": [
    "hard to tell..."
   ]
  }
 ],
 "metadata": {
  "kernelspec": {
   "display_name": "Python 3 (ipykernel)",
   "language": "python",
   "name": "python3"
  },
  "language_info": {
   "codemirror_mode": {
    "name": "ipython",
    "version": 3
   },
   "file_extension": ".py",
   "mimetype": "text/x-python",
   "name": "python",
   "nbconvert_exporter": "python",
   "pygments_lexer": "ipython3",
   "version": "3.9.12"
  }
 },
 "nbformat": 4,
 "nbformat_minor": 5
}
