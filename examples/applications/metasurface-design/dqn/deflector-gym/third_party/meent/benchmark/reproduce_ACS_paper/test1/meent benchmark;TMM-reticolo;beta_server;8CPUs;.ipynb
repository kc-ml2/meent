{
 "cells": [
  {
   "cell_type": "code",
   "execution_count": 1,
   "id": "be4dd126",
   "metadata": {},
   "outputs": [],
   "source": [
    "import pandas as pd\n",
    "import numpy as np\n",
    "import matplotlib.pyplot as plt"
   ]
  },
  {
   "cell_type": "code",
   "execution_count": 2,
   "id": "e59f8007",
   "metadata": {},
   "outputs": [],
   "source": [
    "import matplotlib.pylab as pylab\n",
    "params = {'legend.fontsize': 'x-large',\n",
    "          'figure.figsize': (15, 5),\n",
    "         'axes.labelsize': 'xx-large',\n",
    "         'axes.titlesize':'xx-large',\n",
    "         'xtick.labelsize':'xx-large',\n",
    "         'ytick.labelsize':'xx-large'}\n",
    "pylab.rcParams.update(params)"
   ]
  },
  {
   "cell_type": "code",
   "execution_count": 3,
   "id": "e0eaf6c4",
   "metadata": {},
   "outputs": [],
   "source": [
    "# 4 CPUs\n",
    "file = '/home/yongha/mcwa/1DFreeFormDQN/experiments/DQN/2022_09_16_14_07_55/wl900.0_angle60.0_ncells64/comp_table.csv'\n",
    "df = pd.read_csv(file)\n",
    "df.drop('Unnamed: 0', axis=1, inplace=True)"
   ]
  },
  {
   "cell_type": "code",
   "execution_count": 4,
   "id": "6aab5fbb",
   "metadata": {},
   "outputs": [
    {
     "data": {
      "text/html": [
       "<div>\n",
       "<style scoped>\n",
       "    .dataframe tbody tr th:only-of-type {\n",
       "        vertical-align: middle;\n",
       "    }\n",
       "\n",
       "    .dataframe tbody tr th {\n",
       "        vertical-align: top;\n",
       "    }\n",
       "\n",
       "    .dataframe thead th {\n",
       "        text-align: right;\n",
       "    }\n",
       "</style>\n",
       "<table border=\"1\" class=\"dataframe\">\n",
       "  <thead>\n",
       "    <tr style=\"text-align: right;\">\n",
       "      <th></th>\n",
       "      <th>reti-1</th>\n",
       "      <th>reti0</th>\n",
       "      <th>reti+1</th>\n",
       "      <th>mcwat-1</th>\n",
       "      <th>mcwat0</th>\n",
       "      <th>mcwat+1</th>\n",
       "      <th>mcwas-1</th>\n",
       "      <th>mcwas0</th>\n",
       "      <th>mcwas+1</th>\n",
       "      <th>t_reti</th>\n",
       "      <th>tpr_reti</th>\n",
       "      <th>t_mcwat</th>\n",
       "      <th>tpr_mcwat</th>\n",
       "      <th>t_mcwas</th>\n",
       "      <th>tpr_mcwas</th>\n",
       "    </tr>\n",
       "  </thead>\n",
       "  <tbody>\n",
       "    <tr>\n",
       "      <th>count</th>\n",
       "      <td>667378.000000</td>\n",
       "      <td>6.673780e+05</td>\n",
       "      <td>667378.000000</td>\n",
       "      <td>667378.000000</td>\n",
       "      <td>6.673780e+05</td>\n",
       "      <td>667378.000000</td>\n",
       "      <td>667378.000000</td>\n",
       "      <td>6.673780e+05</td>\n",
       "      <td>667378.000000</td>\n",
       "      <td>667378.000000</td>\n",
       "      <td>667378.000000</td>\n",
       "      <td>667378.000000</td>\n",
       "      <td>667378.000000</td>\n",
       "      <td>667378.000000</td>\n",
       "      <td>667378.000000</td>\n",
       "    </tr>\n",
       "    <tr>\n",
       "      <th>mean</th>\n",
       "      <td>0.095369</td>\n",
       "      <td>6.292963e-01</td>\n",
       "      <td>0.139751</td>\n",
       "      <td>0.095547</td>\n",
       "      <td>6.285545e-01</td>\n",
       "      <td>0.139954</td>\n",
       "      <td>0.095547</td>\n",
       "      <td>6.285545e-01</td>\n",
       "      <td>0.139954</td>\n",
       "      <td>0.170328</td>\n",
       "      <td>0.547150</td>\n",
       "      <td>0.040612</td>\n",
       "      <td>0.291288</td>\n",
       "      <td>0.114737</td>\n",
       "      <td>0.888279</td>\n",
       "    </tr>\n",
       "    <tr>\n",
       "      <th>std</th>\n",
       "      <td>0.108292</td>\n",
       "      <td>3.184689e-01</td>\n",
       "      <td>0.188423</td>\n",
       "      <td>0.108353</td>\n",
       "      <td>3.183310e-01</td>\n",
       "      <td>0.188437</td>\n",
       "      <td>0.108353</td>\n",
       "      <td>3.183310e-01</td>\n",
       "      <td>0.188437</td>\n",
       "      <td>0.035719</td>\n",
       "      <td>0.299666</td>\n",
       "      <td>0.006523</td>\n",
       "      <td>0.050345</td>\n",
       "      <td>0.015841</td>\n",
       "      <td>0.121565</td>\n",
       "    </tr>\n",
       "    <tr>\n",
       "      <th>min</th>\n",
       "      <td>0.000000</td>\n",
       "      <td>1.988258e-07</td>\n",
       "      <td>0.000000</td>\n",
       "      <td>0.000000</td>\n",
       "      <td>2.255145e-07</td>\n",
       "      <td>0.000000</td>\n",
       "      <td>0.000000</td>\n",
       "      <td>2.255145e-07</td>\n",
       "      <td>0.000000</td>\n",
       "      <td>0.106895</td>\n",
       "      <td>0.001674</td>\n",
       "      <td>0.023385</td>\n",
       "      <td>0.166779</td>\n",
       "      <td>0.080572</td>\n",
       "      <td>0.625968</td>\n",
       "    </tr>\n",
       "    <tr>\n",
       "      <th>25%</th>\n",
       "      <td>0.021797</td>\n",
       "      <td>3.508678e-01</td>\n",
       "      <td>0.024484</td>\n",
       "      <td>0.021887</td>\n",
       "      <td>3.497859e-01</td>\n",
       "      <td>0.024585</td>\n",
       "      <td>0.021887</td>\n",
       "      <td>3.497859e-01</td>\n",
       "      <td>0.024585</td>\n",
       "      <td>0.141522</td>\n",
       "      <td>0.315213</td>\n",
       "      <td>0.035029</td>\n",
       "      <td>0.248189</td>\n",
       "      <td>0.103475</td>\n",
       "      <td>0.801204</td>\n",
       "    </tr>\n",
       "    <tr>\n",
       "      <th>50%</th>\n",
       "      <td>0.056098</td>\n",
       "      <td>7.721961e-01</td>\n",
       "      <td>0.065385</td>\n",
       "      <td>0.056298</td>\n",
       "      <td>7.709889e-01</td>\n",
       "      <td>0.065651</td>\n",
       "      <td>0.056298</td>\n",
       "      <td>7.709889e-01</td>\n",
       "      <td>0.065651</td>\n",
       "      <td>0.149786</td>\n",
       "      <td>0.749442</td>\n",
       "      <td>0.039526</td>\n",
       "      <td>0.278881</td>\n",
       "      <td>0.114902</td>\n",
       "      <td>0.890562</td>\n",
       "    </tr>\n",
       "    <tr>\n",
       "      <th>75%</th>\n",
       "      <td>0.128185</td>\n",
       "      <td>8.942982e-01</td>\n",
       "      <td>0.169839</td>\n",
       "      <td>0.128532</td>\n",
       "      <td>8.936676e-01</td>\n",
       "      <td>0.170226</td>\n",
       "      <td>0.128532</td>\n",
       "      <td>8.936676e-01</td>\n",
       "      <td>0.170226</td>\n",
       "      <td>0.187373</td>\n",
       "      <td>0.761636</td>\n",
       "      <td>0.046053</td>\n",
       "      <td>0.334283</td>\n",
       "      <td>0.125251</td>\n",
       "      <td>0.968384</td>\n",
       "    </tr>\n",
       "    <tr>\n",
       "      <th>max</th>\n",
       "      <td>0.981848</td>\n",
       "      <td>9.981713e-01</td>\n",
       "      <td>0.983145</td>\n",
       "      <td>0.981273</td>\n",
       "      <td>9.981820e-01</td>\n",
       "      <td>0.982961</td>\n",
       "      <td>0.981273</td>\n",
       "      <td>9.981820e-01</td>\n",
       "      <td>0.982961</td>\n",
       "      <td>0.616250</td>\n",
       "      <td>0.801606</td>\n",
       "      <td>0.089144</td>\n",
       "      <td>0.635602</td>\n",
       "      <td>0.369626</td>\n",
       "      <td>2.010462</td>\n",
       "    </tr>\n",
       "  </tbody>\n",
       "</table>\n",
       "</div>"
      ],
      "text/plain": [
       "              reti-1         reti0         reti+1        mcwat-1  \\\n",
       "count  667378.000000  6.673780e+05  667378.000000  667378.000000   \n",
       "mean        0.095369  6.292963e-01       0.139751       0.095547   \n",
       "std         0.108292  3.184689e-01       0.188423       0.108353   \n",
       "min         0.000000  1.988258e-07       0.000000       0.000000   \n",
       "25%         0.021797  3.508678e-01       0.024484       0.021887   \n",
       "50%         0.056098  7.721961e-01       0.065385       0.056298   \n",
       "75%         0.128185  8.942982e-01       0.169839       0.128532   \n",
       "max         0.981848  9.981713e-01       0.983145       0.981273   \n",
       "\n",
       "             mcwat0        mcwat+1        mcwas-1        mcwas0  \\\n",
       "count  6.673780e+05  667378.000000  667378.000000  6.673780e+05   \n",
       "mean   6.285545e-01       0.139954       0.095547  6.285545e-01   \n",
       "std    3.183310e-01       0.188437       0.108353  3.183310e-01   \n",
       "min    2.255145e-07       0.000000       0.000000  2.255145e-07   \n",
       "25%    3.497859e-01       0.024585       0.021887  3.497859e-01   \n",
       "50%    7.709889e-01       0.065651       0.056298  7.709889e-01   \n",
       "75%    8.936676e-01       0.170226       0.128532  8.936676e-01   \n",
       "max    9.981820e-01       0.982961       0.981273  9.981820e-01   \n",
       "\n",
       "             mcwas+1         t_reti       tpr_reti        t_mcwat  \\\n",
       "count  667378.000000  667378.000000  667378.000000  667378.000000   \n",
       "mean        0.139954       0.170328       0.547150       0.040612   \n",
       "std         0.188437       0.035719       0.299666       0.006523   \n",
       "min         0.000000       0.106895       0.001674       0.023385   \n",
       "25%         0.024585       0.141522       0.315213       0.035029   \n",
       "50%         0.065651       0.149786       0.749442       0.039526   \n",
       "75%         0.170226       0.187373       0.761636       0.046053   \n",
       "max         0.982961       0.616250       0.801606       0.089144   \n",
       "\n",
       "           tpr_mcwat        t_mcwas      tpr_mcwas  \n",
       "count  667378.000000  667378.000000  667378.000000  \n",
       "mean        0.291288       0.114737       0.888279  \n",
       "std         0.050345       0.015841       0.121565  \n",
       "min         0.166779       0.080572       0.625968  \n",
       "25%         0.248189       0.103475       0.801204  \n",
       "50%         0.278881       0.114902       0.890562  \n",
       "75%         0.334283       0.125251       0.968384  \n",
       "max         0.635602       0.369626       2.010462  "
      ]
     },
     "execution_count": 4,
     "metadata": {},
     "output_type": "execute_result"
    }
   ],
   "source": [
    "df.describe()"
   ]
  },
  {
   "cell_type": "markdown",
   "id": "451e4637",
   "metadata": {},
   "source": [
    "# TMM to reticolo"
   ]
  },
  {
   "cell_type": "code",
   "execution_count": 5,
   "id": "8918cfb3",
   "metadata": {},
   "outputs": [],
   "source": [
    "A, B = 'mcwat', 'reti'"
   ]
  },
  {
   "cell_type": "code",
   "execution_count": 6,
   "id": "ac352e88",
   "metadata": {},
   "outputs": [],
   "source": [
    "df['gap-1'] = df[f'{A}-1'] - df[f'{B}-1']\n",
    "df['gap0'] = df[f'{A}0'] - df[f'{B}0']\n",
    "df['gap+1'] = df[f'{A}+1'] - df[f'{B}+1']\n",
    "df['t_gap'] = df[f't_{A}'] - df[f't_{B}']\n",
    "df['tpr_gap'] = df[f'tpr_{A}'] - df[f'tpr_{B}']"
   ]
  },
  {
   "cell_type": "markdown",
   "id": "7254e794",
   "metadata": {},
   "source": [
    "# Benchmark"
   ]
  },
  {
   "cell_type": "markdown",
   "id": "5f188f36",
   "metadata": {},
   "source": [
    "## difference in transmittance"
   ]
  },
  {
   "cell_type": "code",
   "execution_count": 7,
   "id": "18ba2600",
   "metadata": {},
   "outputs": [
    {
     "data": {
      "image/png": "[encoded data removed]",
      "text/plain": [
       "<Figure size 1440x360 with 2 Axes>"
      ]
     },
     "metadata": {
      "needs_background": "light"
     },
     "output_type": "display_data"
    }
   ],
   "source": [
    "fig, axes = plt.subplots(1,2, figsize=(20,5))\n",
    "axes[0].hist([df['gap-1'], df['gap0'], df['gap+1']], bins=100)\n",
    "axes[1].hist([df['gap-1'], df['gap0'], df['gap+1']], bins=100)\n",
    "axes[1].set_yscale('log')\n",
    "plt.show()"
   ]
  },
  {
   "cell_type": "code",
   "execution_count": 8,
   "id": "4db88574",
   "metadata": {},
   "outputs": [
    {
     "data": {
      "text/html": [
       "<div>\n",
       "<style scoped>\n",
       "    .dataframe tbody tr th:only-of-type {\n",
       "        vertical-align: middle;\n",
       "    }\n",
       "\n",
       "    .dataframe tbody tr th {\n",
       "        vertical-align: top;\n",
       "    }\n",
       "\n",
       "    .dataframe thead th {\n",
       "        text-align: right;\n",
       "    }\n",
       "</style>\n",
       "<table border=\"1\" class=\"dataframe\">\n",
       "  <thead>\n",
       "    <tr style=\"text-align: right;\">\n",
       "      <th></th>\n",
       "      <th>count</th>\n",
       "      <th>mean</th>\n",
       "      <th>std</th>\n",
       "      <th>min</th>\n",
       "      <th>25%</th>\n",
       "      <th>50%</th>\n",
       "      <th>75%</th>\n",
       "      <th>max</th>\n",
       "    </tr>\n",
       "  </thead>\n",
       "  <tbody>\n",
       "    <tr>\n",
       "      <th>gap-1</th>\n",
       "      <td>667378.0</td>\n",
       "      <td>0.000178</td>\n",
       "      <td>0.001073</td>\n",
       "      <td>-0.187932</td>\n",
       "      <td>0.000020</td>\n",
       "      <td>0.000159</td>\n",
       "      <td>0.000413</td>\n",
       "      <td>0.168734</td>\n",
       "    </tr>\n",
       "    <tr>\n",
       "      <th>gap0</th>\n",
       "      <td>667378.0</td>\n",
       "      <td>-0.000742</td>\n",
       "      <td>0.002213</td>\n",
       "      <td>-0.262931</td>\n",
       "      <td>-0.001250</td>\n",
       "      <td>-0.000701</td>\n",
       "      <td>-0.000291</td>\n",
       "      <td>0.285523</td>\n",
       "    </tr>\n",
       "    <tr>\n",
       "      <th>gap+1</th>\n",
       "      <td>667378.0</td>\n",
       "      <td>0.000202</td>\n",
       "      <td>0.001140</td>\n",
       "      <td>-0.124551</td>\n",
       "      <td>0.000029</td>\n",
       "      <td>0.000182</td>\n",
       "      <td>0.000469</td>\n",
       "      <td>0.079139</td>\n",
       "    </tr>\n",
       "  </tbody>\n",
       "</table>\n",
       "</div>"
      ],
      "text/plain": [
       "          count      mean       std       min       25%       50%       75%  \\\n",
       "gap-1  667378.0  0.000178  0.001073 -0.187932  0.000020  0.000159  0.000413   \n",
       "gap0   667378.0 -0.000742  0.002213 -0.262931 -0.001250 -0.000701 -0.000291   \n",
       "gap+1  667378.0  0.000202  0.001140 -0.124551  0.000029  0.000182  0.000469   \n",
       "\n",
       "            max  \n",
       "gap-1  0.168734  \n",
       "gap0   0.285523  \n",
       "gap+1  0.079139  "
      ]
     },
     "execution_count": 8,
     "metadata": {},
     "output_type": "execute_result"
    }
   ],
   "source": [
    "df[['gap-1','gap0','gap+1']].describe().T"
   ]
  },
  {
   "cell_type": "code",
   "execution_count": 9,
   "id": "fa815cff",
   "metadata": {},
   "outputs": [
    {
     "data": {
      "text/plain": [
       "count    2.002134e+06\n",
       "mean    -1.204672e-04\n",
       "std      1.625361e-03\n",
       "min     -2.629313e-01\n",
       "25%     -5.555230e-04\n",
       "50%      5.120539e-05\n",
       "75%      3.213138e-04\n",
       "max      2.855234e-01\n",
       "dtype: float64"
      ]
     },
     "execution_count": 9,
     "metadata": {},
     "output_type": "execute_result"
    }
   ],
   "source": [
    "pd.concat([df['gap-1'], df['gap0'], df['gap+1']]).describe()"
   ]
  },
  {
   "cell_type": "code",
   "execution_count": 10,
   "id": "8752be1e",
   "metadata": {},
   "outputs": [
    {
     "data": {
      "text/plain": [
       "99.75885729926168"
      ]
     },
     "execution_count": 10,
     "metadata": {},
     "output_type": "execute_result"
    }
   ],
   "source": [
    "a=pd.concat([df['gap-1'], df['gap0'], df['gap+1']])\n",
    "cut = 0.01\n",
    "b=a[abs(a) < cut]\n",
    "b.count()/a.count() *100"
   ]
  },
  {
   "cell_type": "code",
   "execution_count": 11,
   "id": "95ca97c8",
   "metadata": {},
   "outputs": [
    {
     "data": {
      "text/html": [
       "<div>\n",
       "<style scoped>\n",
       "    .dataframe tbody tr th:only-of-type {\n",
       "        vertical-align: middle;\n",
       "    }\n",
       "\n",
       "    .dataframe tbody tr th {\n",
       "        vertical-align: top;\n",
       "    }\n",
       "\n",
       "    .dataframe thead th {\n",
       "        text-align: right;\n",
       "    }\n",
       "</style>\n",
       "<table border=\"1\" class=\"dataframe\">\n",
       "  <thead>\n",
       "    <tr style=\"text-align: right;\">\n",
       "      <th></th>\n",
       "      <th>mcwat-1</th>\n",
       "      <th>reti-1</th>\n",
       "      <th>gap-1</th>\n",
       "    </tr>\n",
       "  </thead>\n",
       "  <tbody>\n",
       "    <tr>\n",
       "      <th>241525</th>\n",
       "      <td>0.075502</td>\n",
       "      <td>0.263434</td>\n",
       "      <td>-0.187932</td>\n",
       "    </tr>\n",
       "    <tr>\n",
       "      <th>560673</th>\n",
       "      <td>0.131213</td>\n",
       "      <td>0.259047</td>\n",
       "      <td>-0.127833</td>\n",
       "    </tr>\n",
       "    <tr>\n",
       "      <th>362868</th>\n",
       "      <td>0.032820</td>\n",
       "      <td>0.157709</td>\n",
       "      <td>-0.124889</td>\n",
       "    </tr>\n",
       "    <tr>\n",
       "      <th>8598</th>\n",
       "      <td>0.194691</td>\n",
       "      <td>0.296532</td>\n",
       "      <td>-0.101841</td>\n",
       "    </tr>\n",
       "    <tr>\n",
       "      <th>94343</th>\n",
       "      <td>0.160148</td>\n",
       "      <td>0.222406</td>\n",
       "      <td>-0.062258</td>\n",
       "    </tr>\n",
       "    <tr>\n",
       "      <th>...</th>\n",
       "      <td>...</td>\n",
       "      <td>...</td>\n",
       "      <td>...</td>\n",
       "    </tr>\n",
       "    <tr>\n",
       "      <th>503803</th>\n",
       "      <td>0.143552</td>\n",
       "      <td>0.081735</td>\n",
       "      <td>0.061817</td>\n",
       "    </tr>\n",
       "    <tr>\n",
       "      <th>297665</th>\n",
       "      <td>0.367187</td>\n",
       "      <td>0.299073</td>\n",
       "      <td>0.068114</td>\n",
       "    </tr>\n",
       "    <tr>\n",
       "      <th>371226</th>\n",
       "      <td>0.239978</td>\n",
       "      <td>0.159604</td>\n",
       "      <td>0.080373</td>\n",
       "    </tr>\n",
       "    <tr>\n",
       "      <th>340653</th>\n",
       "      <td>0.391709</td>\n",
       "      <td>0.308912</td>\n",
       "      <td>0.082797</td>\n",
       "    </tr>\n",
       "    <tr>\n",
       "      <th>14545</th>\n",
       "      <td>0.339909</td>\n",
       "      <td>0.171175</td>\n",
       "      <td>0.168734</td>\n",
       "    </tr>\n",
       "  </tbody>\n",
       "</table>\n",
       "<p>706 rows × 3 columns</p>\n",
       "</div>"
      ],
      "text/plain": [
       "         mcwat-1    reti-1     gap-1\n",
       "241525  0.075502  0.263434 -0.187932\n",
       "560673  0.131213  0.259047 -0.127833\n",
       "362868  0.032820  0.157709 -0.124889\n",
       "8598    0.194691  0.296532 -0.101841\n",
       "94343   0.160148  0.222406 -0.062258\n",
       "...          ...       ...       ...\n",
       "503803  0.143552  0.081735  0.061817\n",
       "297665  0.367187  0.299073  0.068114\n",
       "371226  0.239978  0.159604  0.080373\n",
       "340653  0.391709  0.308912  0.082797\n",
       "14545   0.339909  0.171175  0.168734\n",
       "\n",
       "[706 rows x 3 columns]"
      ]
     },
     "execution_count": 11,
     "metadata": {},
     "output_type": "execute_result"
    }
   ],
   "source": [
    "df[abs(df['gap-1'])>cut][[f'{A}-1', f'{B}-1', 'gap-1']].sort_values('gap-1')"
   ]
  },
  {
   "cell_type": "code",
   "execution_count": 12,
   "id": "5874eab7",
   "metadata": {},
   "outputs": [
    {
     "data": {
      "text/html": [
       "<div>\n",
       "<style scoped>\n",
       "    .dataframe tbody tr th:only-of-type {\n",
       "        vertical-align: middle;\n",
       "    }\n",
       "\n",
       "    .dataframe tbody tr th {\n",
       "        vertical-align: top;\n",
       "    }\n",
       "\n",
       "    .dataframe thead th {\n",
       "        text-align: right;\n",
       "    }\n",
       "</style>\n",
       "<table border=\"1\" class=\"dataframe\">\n",
       "  <thead>\n",
       "    <tr style=\"text-align: right;\">\n",
       "      <th></th>\n",
       "      <th>mcwat0</th>\n",
       "      <th>reti0</th>\n",
       "      <th>gap0</th>\n",
       "    </tr>\n",
       "  </thead>\n",
       "  <tbody>\n",
       "    <tr>\n",
       "      <th>433783</th>\n",
       "      <td>0.409047</td>\n",
       "      <td>0.671978</td>\n",
       "      <td>-0.262931</td>\n",
       "    </tr>\n",
       "    <tr>\n",
       "      <th>91477</th>\n",
       "      <td>0.321987</td>\n",
       "      <td>0.559847</td>\n",
       "      <td>-0.237859</td>\n",
       "    </tr>\n",
       "    <tr>\n",
       "      <th>126418</th>\n",
       "      <td>0.339299</td>\n",
       "      <td>0.467182</td>\n",
       "      <td>-0.127883</td>\n",
       "    </tr>\n",
       "    <tr>\n",
       "      <th>35117</th>\n",
       "      <td>0.447913</td>\n",
       "      <td>0.575617</td>\n",
       "      <td>-0.127704</td>\n",
       "    </tr>\n",
       "    <tr>\n",
       "      <th>2262</th>\n",
       "      <td>0.291351</td>\n",
       "      <td>0.410486</td>\n",
       "      <td>-0.119135</td>\n",
       "    </tr>\n",
       "    <tr>\n",
       "      <th>...</th>\n",
       "      <td>...</td>\n",
       "      <td>...</td>\n",
       "      <td>...</td>\n",
       "    </tr>\n",
       "    <tr>\n",
       "      <th>566538</th>\n",
       "      <td>0.396592</td>\n",
       "      <td>0.225450</td>\n",
       "      <td>0.171142</td>\n",
       "    </tr>\n",
       "    <tr>\n",
       "      <th>47133</th>\n",
       "      <td>0.386221</td>\n",
       "      <td>0.185373</td>\n",
       "      <td>0.200848</td>\n",
       "    </tr>\n",
       "    <tr>\n",
       "      <th>182526</th>\n",
       "      <td>0.266695</td>\n",
       "      <td>0.056015</td>\n",
       "      <td>0.210680</td>\n",
       "    </tr>\n",
       "    <tr>\n",
       "      <th>365886</th>\n",
       "      <td>0.524767</td>\n",
       "      <td>0.247758</td>\n",
       "      <td>0.277008</td>\n",
       "    </tr>\n",
       "    <tr>\n",
       "      <th>61715</th>\n",
       "      <td>0.594596</td>\n",
       "      <td>0.309072</td>\n",
       "      <td>0.285523</td>\n",
       "    </tr>\n",
       "  </tbody>\n",
       "</table>\n",
       "<p>3319 rows × 3 columns</p>\n",
       "</div>"
      ],
      "text/plain": [
       "          mcwat0     reti0      gap0\n",
       "433783  0.409047  0.671978 -0.262931\n",
       "91477   0.321987  0.559847 -0.237859\n",
       "126418  0.339299  0.467182 -0.127883\n",
       "35117   0.447913  0.575617 -0.127704\n",
       "2262    0.291351  0.410486 -0.119135\n",
       "...          ...       ...       ...\n",
       "566538  0.396592  0.225450  0.171142\n",
       "47133   0.386221  0.185373  0.200848\n",
       "182526  0.266695  0.056015  0.210680\n",
       "365886  0.524767  0.247758  0.277008\n",
       "61715   0.594596  0.309072  0.285523\n",
       "\n",
       "[3319 rows x 3 columns]"
      ]
     },
     "execution_count": 12,
     "metadata": {},
     "output_type": "execute_result"
    }
   ],
   "source": [
    "df[abs(df['gap0'])>cut][[f'{A}0', f'{B}0', 'gap0']].sort_values('gap0')"
   ]
  },
  {
   "cell_type": "code",
   "execution_count": 13,
   "id": "82c4681f",
   "metadata": {},
   "outputs": [
    {
     "data": {
      "text/html": [
       "<div>\n",
       "<style scoped>\n",
       "    .dataframe tbody tr th:only-of-type {\n",
       "        vertical-align: middle;\n",
       "    }\n",
       "\n",
       "    .dataframe tbody tr th {\n",
       "        vertical-align: top;\n",
       "    }\n",
       "\n",
       "    .dataframe thead th {\n",
       "        text-align: right;\n",
       "    }\n",
       "</style>\n",
       "<table border=\"1\" class=\"dataframe\">\n",
       "  <thead>\n",
       "    <tr style=\"text-align: right;\">\n",
       "      <th></th>\n",
       "      <th>mcwat+1</th>\n",
       "      <th>reti+1</th>\n",
       "      <th>gap+1</th>\n",
       "    </tr>\n",
       "  </thead>\n",
       "  <tbody>\n",
       "    <tr>\n",
       "      <th>61715</th>\n",
       "      <td>0.127966</td>\n",
       "      <td>0.252517</td>\n",
       "      <td>-0.124551</td>\n",
       "    </tr>\n",
       "    <tr>\n",
       "      <th>362868</th>\n",
       "      <td>0.117850</td>\n",
       "      <td>0.223635</td>\n",
       "      <td>-0.105785</td>\n",
       "    </tr>\n",
       "    <tr>\n",
       "      <th>337372</th>\n",
       "      <td>0.118047</td>\n",
       "      <td>0.221387</td>\n",
       "      <td>-0.103340</td>\n",
       "    </tr>\n",
       "    <tr>\n",
       "      <th>241525</th>\n",
       "      <td>0.279980</td>\n",
       "      <td>0.382212</td>\n",
       "      <td>-0.102233</td>\n",
       "    </tr>\n",
       "    <tr>\n",
       "      <th>340653</th>\n",
       "      <td>0.219399</td>\n",
       "      <td>0.317528</td>\n",
       "      <td>-0.098129</td>\n",
       "    </tr>\n",
       "    <tr>\n",
       "      <th>...</th>\n",
       "      <td>...</td>\n",
       "      <td>...</td>\n",
       "      <td>...</td>\n",
       "    </tr>\n",
       "    <tr>\n",
       "      <th>498808</th>\n",
       "      <td>0.205916</td>\n",
       "      <td>0.151678</td>\n",
       "      <td>0.054237</td>\n",
       "    </tr>\n",
       "    <tr>\n",
       "      <th>299633</th>\n",
       "      <td>0.431886</td>\n",
       "      <td>0.367173</td>\n",
       "      <td>0.064713</td>\n",
       "    </tr>\n",
       "    <tr>\n",
       "      <th>36752</th>\n",
       "      <td>0.656827</td>\n",
       "      <td>0.585366</td>\n",
       "      <td>0.071461</td>\n",
       "    </tr>\n",
       "    <tr>\n",
       "      <th>126418</th>\n",
       "      <td>0.240599</td>\n",
       "      <td>0.163585</td>\n",
       "      <td>0.077014</td>\n",
       "    </tr>\n",
       "    <tr>\n",
       "      <th>663549</th>\n",
       "      <td>0.233030</td>\n",
       "      <td>0.153891</td>\n",
       "      <td>0.079139</td>\n",
       "    </tr>\n",
       "  </tbody>\n",
       "</table>\n",
       "<p>803 rows × 3 columns</p>\n",
       "</div>"
      ],
      "text/plain": [
       "         mcwat+1    reti+1     gap+1\n",
       "61715   0.127966  0.252517 -0.124551\n",
       "362868  0.117850  0.223635 -0.105785\n",
       "337372  0.118047  0.221387 -0.103340\n",
       "241525  0.279980  0.382212 -0.102233\n",
       "340653  0.219399  0.317528 -0.098129\n",
       "...          ...       ...       ...\n",
       "498808  0.205916  0.151678  0.054237\n",
       "299633  0.431886  0.367173  0.064713\n",
       "36752   0.656827  0.585366  0.071461\n",
       "126418  0.240599  0.163585  0.077014\n",
       "663549  0.233030  0.153891  0.079139\n",
       "\n",
       "[803 rows x 3 columns]"
      ]
     },
     "execution_count": 13,
     "metadata": {},
     "output_type": "execute_result"
    }
   ],
   "source": [
    "df[abs(df['gap+1'])>cut][[f'{A}+1', f'{B}+1', 'gap+1']].sort_values('gap+1')"
   ]
  },
  {
   "cell_type": "markdown",
   "id": "bcd36ccf",
   "metadata": {},
   "source": [
    "## Normalized abs(difference in transmittance) "
   ]
  },
  {
   "cell_type": "code",
   "execution_count": 14,
   "id": "6336d074",
   "metadata": {},
   "outputs": [],
   "source": [
    "cut = 0.01"
   ]
  },
  {
   "cell_type": "code",
   "execution_count": 15,
   "id": "e1ea0306",
   "metadata": {},
   "outputs": [
    {
     "data": {
      "image/png": "[encoded data removed]",
      "text/plain": [
       "<Figure size 1440x360 with 2 Axes>"
      ]
     },
     "metadata": {
      "needs_background": "light"
     },
     "output_type": "display_data"
    }
   ],
   "source": [
    "fig, axes = plt.subplots(1,2, figsize=(20,5))\n",
    "axes[0].axvline(cut, c='r')\n",
    "axes[1].axvline(cut, c='r')\n",
    "\n",
    "axes[0].hist([abs(df['gap-1']/df[f'{A}-1']), abs(df['gap0']/df[f'{A}0']), abs(df['gap+1']/df[f'{A}+1'])], bins=np.logspace(np.log10(1E-16), np.log10(20),100))\n",
    "axes[0].set_xscale('log')\n",
    "\n",
    "axes[1].hist([abs(df['gap-1']/df[f'{A}-1']), abs(df['gap0']/df[f'{A}0']), abs(df['gap+1']/df[f'{A}+1'])], bins=np.logspace(np.log10(1E-16), np.log10(20),100))\n",
    "axes[1].set_xscale('log')\n",
    "axes[1].set_yscale('log')\n",
    "\n",
    "plt.show()"
   ]
  },
  {
   "cell_type": "markdown",
   "id": "f8eafbfd",
   "metadata": {},
   "source": [
    "right side of vertical red line: normalized error >= 1 %\n",
    "\n",
    "orange is 0th order"
   ]
  },
  {
   "cell_type": "code",
   "execution_count": 16,
   "id": "eb759049",
   "metadata": {},
   "outputs": [
    {
     "data": {
      "text/html": [
       "<div>\n",
       "<style scoped>\n",
       "    .dataframe tbody tr th:only-of-type {\n",
       "        vertical-align: middle;\n",
       "    }\n",
       "\n",
       "    .dataframe tbody tr th {\n",
       "        vertical-align: top;\n",
       "    }\n",
       "\n",
       "    .dataframe thead th {\n",
       "        text-align: right;\n",
       "    }\n",
       "</style>\n",
       "<table border=\"1\" class=\"dataframe\">\n",
       "  <thead>\n",
       "    <tr style=\"text-align: right;\">\n",
       "      <th></th>\n",
       "      <th>mcwat-1</th>\n",
       "      <th>reti-1</th>\n",
       "      <th>gap-1</th>\n",
       "    </tr>\n",
       "  </thead>\n",
       "  <tbody>\n",
       "    <tr>\n",
       "      <th>241525</th>\n",
       "      <td>0.075502</td>\n",
       "      <td>0.263434</td>\n",
       "      <td>-0.187932</td>\n",
       "    </tr>\n",
       "    <tr>\n",
       "      <th>560673</th>\n",
       "      <td>0.131213</td>\n",
       "      <td>0.259047</td>\n",
       "      <td>-0.127833</td>\n",
       "    </tr>\n",
       "    <tr>\n",
       "      <th>362868</th>\n",
       "      <td>0.032820</td>\n",
       "      <td>0.157709</td>\n",
       "      <td>-0.124889</td>\n",
       "    </tr>\n",
       "    <tr>\n",
       "      <th>8598</th>\n",
       "      <td>0.194691</td>\n",
       "      <td>0.296532</td>\n",
       "      <td>-0.101841</td>\n",
       "    </tr>\n",
       "    <tr>\n",
       "      <th>94343</th>\n",
       "      <td>0.160148</td>\n",
       "      <td>0.222406</td>\n",
       "      <td>-0.062258</td>\n",
       "    </tr>\n",
       "    <tr>\n",
       "      <th>...</th>\n",
       "      <td>...</td>\n",
       "      <td>...</td>\n",
       "      <td>...</td>\n",
       "    </tr>\n",
       "    <tr>\n",
       "      <th>503803</th>\n",
       "      <td>0.143552</td>\n",
       "      <td>0.081735</td>\n",
       "      <td>0.061817</td>\n",
       "    </tr>\n",
       "    <tr>\n",
       "      <th>297665</th>\n",
       "      <td>0.367187</td>\n",
       "      <td>0.299073</td>\n",
       "      <td>0.068114</td>\n",
       "    </tr>\n",
       "    <tr>\n",
       "      <th>371226</th>\n",
       "      <td>0.239978</td>\n",
       "      <td>0.159604</td>\n",
       "      <td>0.080373</td>\n",
       "    </tr>\n",
       "    <tr>\n",
       "      <th>340653</th>\n",
       "      <td>0.391709</td>\n",
       "      <td>0.308912</td>\n",
       "      <td>0.082797</td>\n",
       "    </tr>\n",
       "    <tr>\n",
       "      <th>14545</th>\n",
       "      <td>0.339909</td>\n",
       "      <td>0.171175</td>\n",
       "      <td>0.168734</td>\n",
       "    </tr>\n",
       "  </tbody>\n",
       "</table>\n",
       "<p>78833 rows × 3 columns</p>\n",
       "</div>"
      ],
      "text/plain": [
       "         mcwat-1    reti-1     gap-1\n",
       "241525  0.075502  0.263434 -0.187932\n",
       "560673  0.131213  0.259047 -0.127833\n",
       "362868  0.032820  0.157709 -0.124889\n",
       "8598    0.194691  0.296532 -0.101841\n",
       "94343   0.160148  0.222406 -0.062258\n",
       "...          ...       ...       ...\n",
       "503803  0.143552  0.081735  0.061817\n",
       "297665  0.367187  0.299073  0.068114\n",
       "371226  0.239978  0.159604  0.080373\n",
       "340653  0.391709  0.308912  0.082797\n",
       "14545   0.339909  0.171175  0.168734\n",
       "\n",
       "[78833 rows x 3 columns]"
      ]
     },
     "execution_count": 16,
     "metadata": {},
     "output_type": "execute_result"
    }
   ],
   "source": [
    "df[abs(df['gap-1']/df[f'{A}-1'])>cut][[f'{A}-1', f'{B}-1', 'gap-1']].sort_values('gap-1')"
   ]
  },
  {
   "cell_type": "code",
   "execution_count": 17,
   "id": "708847ad",
   "metadata": {},
   "outputs": [
    {
     "data": {
      "text/html": [
       "<div>\n",
       "<style scoped>\n",
       "    .dataframe tbody tr th:only-of-type {\n",
       "        vertical-align: middle;\n",
       "    }\n",
       "\n",
       "    .dataframe tbody tr th {\n",
       "        vertical-align: top;\n",
       "    }\n",
       "\n",
       "    .dataframe thead th {\n",
       "        text-align: right;\n",
       "    }\n",
       "</style>\n",
       "<table border=\"1\" class=\"dataframe\">\n",
       "  <thead>\n",
       "    <tr style=\"text-align: right;\">\n",
       "      <th></th>\n",
       "      <th>mcwat0</th>\n",
       "      <th>reti0</th>\n",
       "      <th>gap0</th>\n",
       "    </tr>\n",
       "  </thead>\n",
       "  <tbody>\n",
       "    <tr>\n",
       "      <th>433783</th>\n",
       "      <td>0.409047</td>\n",
       "      <td>0.671978</td>\n",
       "      <td>-0.262931</td>\n",
       "    </tr>\n",
       "    <tr>\n",
       "      <th>91477</th>\n",
       "      <td>0.321987</td>\n",
       "      <td>0.559847</td>\n",
       "      <td>-0.237859</td>\n",
       "    </tr>\n",
       "    <tr>\n",
       "      <th>126418</th>\n",
       "      <td>0.339299</td>\n",
       "      <td>0.467182</td>\n",
       "      <td>-0.127883</td>\n",
       "    </tr>\n",
       "    <tr>\n",
       "      <th>35117</th>\n",
       "      <td>0.447913</td>\n",
       "      <td>0.575617</td>\n",
       "      <td>-0.127704</td>\n",
       "    </tr>\n",
       "    <tr>\n",
       "      <th>2262</th>\n",
       "      <td>0.291351</td>\n",
       "      <td>0.410486</td>\n",
       "      <td>-0.119135</td>\n",
       "    </tr>\n",
       "    <tr>\n",
       "      <th>...</th>\n",
       "      <td>...</td>\n",
       "      <td>...</td>\n",
       "      <td>...</td>\n",
       "    </tr>\n",
       "    <tr>\n",
       "      <th>566538</th>\n",
       "      <td>0.396592</td>\n",
       "      <td>0.225450</td>\n",
       "      <td>0.171142</td>\n",
       "    </tr>\n",
       "    <tr>\n",
       "      <th>47133</th>\n",
       "      <td>0.386221</td>\n",
       "      <td>0.185373</td>\n",
       "      <td>0.200848</td>\n",
       "    </tr>\n",
       "    <tr>\n",
       "      <th>182526</th>\n",
       "      <td>0.266695</td>\n",
       "      <td>0.056015</td>\n",
       "      <td>0.210680</td>\n",
       "    </tr>\n",
       "    <tr>\n",
       "      <th>365886</th>\n",
       "      <td>0.524767</td>\n",
       "      <td>0.247758</td>\n",
       "      <td>0.277008</td>\n",
       "    </tr>\n",
       "    <tr>\n",
       "      <th>61715</th>\n",
       "      <td>0.594596</td>\n",
       "      <td>0.309072</td>\n",
       "      <td>0.285523</td>\n",
       "    </tr>\n",
       "  </tbody>\n",
       "</table>\n",
       "<p>61722 rows × 3 columns</p>\n",
       "</div>"
      ],
      "text/plain": [
       "          mcwat0     reti0      gap0\n",
       "433783  0.409047  0.671978 -0.262931\n",
       "91477   0.321987  0.559847 -0.237859\n",
       "126418  0.339299  0.467182 -0.127883\n",
       "35117   0.447913  0.575617 -0.127704\n",
       "2262    0.291351  0.410486 -0.119135\n",
       "...          ...       ...       ...\n",
       "566538  0.396592  0.225450  0.171142\n",
       "47133   0.386221  0.185373  0.200848\n",
       "182526  0.266695  0.056015  0.210680\n",
       "365886  0.524767  0.247758  0.277008\n",
       "61715   0.594596  0.309072  0.285523\n",
       "\n",
       "[61722 rows x 3 columns]"
      ]
     },
     "execution_count": 17,
     "metadata": {},
     "output_type": "execute_result"
    }
   ],
   "source": [
    "df[abs(df['gap0']/df[f'{A}0'])>cut][[f'{A}0', f'{B}0', 'gap0']].sort_values('gap0')"
   ]
  },
  {
   "cell_type": "code",
   "execution_count": 18,
   "id": "473d6247",
   "metadata": {},
   "outputs": [
    {
     "data": {
      "text/html": [
       "<div>\n",
       "<style scoped>\n",
       "    .dataframe tbody tr th:only-of-type {\n",
       "        vertical-align: middle;\n",
       "    }\n",
       "\n",
       "    .dataframe tbody tr th {\n",
       "        vertical-align: top;\n",
       "    }\n",
       "\n",
       "    .dataframe thead th {\n",
       "        text-align: right;\n",
       "    }\n",
       "</style>\n",
       "<table border=\"1\" class=\"dataframe\">\n",
       "  <thead>\n",
       "    <tr style=\"text-align: right;\">\n",
       "      <th></th>\n",
       "      <th>mcwat+1</th>\n",
       "      <th>reti+1</th>\n",
       "      <th>gap+1</th>\n",
       "    </tr>\n",
       "  </thead>\n",
       "  <tbody>\n",
       "    <tr>\n",
       "      <th>61715</th>\n",
       "      <td>0.127966</td>\n",
       "      <td>0.252517</td>\n",
       "      <td>-0.124551</td>\n",
       "    </tr>\n",
       "    <tr>\n",
       "      <th>362868</th>\n",
       "      <td>0.117850</td>\n",
       "      <td>0.223635</td>\n",
       "      <td>-0.105785</td>\n",
       "    </tr>\n",
       "    <tr>\n",
       "      <th>337372</th>\n",
       "      <td>0.118047</td>\n",
       "      <td>0.221387</td>\n",
       "      <td>-0.103340</td>\n",
       "    </tr>\n",
       "    <tr>\n",
       "      <th>241525</th>\n",
       "      <td>0.279980</td>\n",
       "      <td>0.382212</td>\n",
       "      <td>-0.102233</td>\n",
       "    </tr>\n",
       "    <tr>\n",
       "      <th>340653</th>\n",
       "      <td>0.219399</td>\n",
       "      <td>0.317528</td>\n",
       "      <td>-0.098129</td>\n",
       "    </tr>\n",
       "    <tr>\n",
       "      <th>...</th>\n",
       "      <td>...</td>\n",
       "      <td>...</td>\n",
       "      <td>...</td>\n",
       "    </tr>\n",
       "    <tr>\n",
       "      <th>498808</th>\n",
       "      <td>0.205916</td>\n",
       "      <td>0.151678</td>\n",
       "      <td>0.054237</td>\n",
       "    </tr>\n",
       "    <tr>\n",
       "      <th>299633</th>\n",
       "      <td>0.431886</td>\n",
       "      <td>0.367173</td>\n",
       "      <td>0.064713</td>\n",
       "    </tr>\n",
       "    <tr>\n",
       "      <th>36752</th>\n",
       "      <td>0.656827</td>\n",
       "      <td>0.585366</td>\n",
       "      <td>0.071461</td>\n",
       "    </tr>\n",
       "    <tr>\n",
       "      <th>126418</th>\n",
       "      <td>0.240599</td>\n",
       "      <td>0.163585</td>\n",
       "      <td>0.077014</td>\n",
       "    </tr>\n",
       "    <tr>\n",
       "      <th>663549</th>\n",
       "      <td>0.233030</td>\n",
       "      <td>0.153891</td>\n",
       "      <td>0.079139</td>\n",
       "    </tr>\n",
       "  </tbody>\n",
       "</table>\n",
       "<p>62156 rows × 3 columns</p>\n",
       "</div>"
      ],
      "text/plain": [
       "         mcwat+1    reti+1     gap+1\n",
       "61715   0.127966  0.252517 -0.124551\n",
       "362868  0.117850  0.223635 -0.105785\n",
       "337372  0.118047  0.221387 -0.103340\n",
       "241525  0.279980  0.382212 -0.102233\n",
       "340653  0.219399  0.317528 -0.098129\n",
       "...          ...       ...       ...\n",
       "498808  0.205916  0.151678  0.054237\n",
       "299633  0.431886  0.367173  0.064713\n",
       "36752   0.656827  0.585366  0.071461\n",
       "126418  0.240599  0.163585  0.077014\n",
       "663549  0.233030  0.153891  0.079139\n",
       "\n",
       "[62156 rows x 3 columns]"
      ]
     },
     "execution_count": 18,
     "metadata": {},
     "output_type": "execute_result"
    }
   ],
   "source": [
    "df[abs(df['gap+1']/df[f'{A}+1'])>cut][[f'{A}+1', f'{B}+1', 'gap+1']].sort_values('gap+1')"
   ]
  },
  {
   "cell_type": "markdown",
   "id": "648d88ee",
   "metadata": {},
   "source": [
    "# benchmark - simulation time"
   ]
  },
  {
   "cell_type": "markdown",
   "id": "cede83a9",
   "metadata": {},
   "source": [
    "## run time by time.time()"
   ]
  },
  {
   "cell_type": "code",
   "execution_count": 19,
   "id": "25a72d12",
   "metadata": {},
   "outputs": [
    {
     "data": {
      "image/png": "[encoded data removed]",
      "text/plain": [
       "<Figure size 1440x360 with 2 Axes>"
      ]
     },
     "metadata": {
      "needs_background": "light"
     },
     "output_type": "display_data"
    }
   ],
   "source": [
    "fig, axes = plt.subplots(1,2, figsize=(20,5))\n",
    "axes[0].hist([df[f't_{A}'],df[f't_{B}']], bins=100)\n",
    "axes[1].hist([df[f't_{A}'],df[f't_{B}']], bins=100, log=True)\n",
    "plt.show()"
   ]
  },
  {
   "cell_type": "markdown",
   "id": "7fa5d789",
   "metadata": {},
   "source": [
    "Blue is  meent with TMM, Oragne is reticolo with octave"
   ]
  },
  {
   "cell_type": "markdown",
   "id": "3a2ab4cf",
   "metadata": {},
   "source": [
    "## reticolo time / meent time"
   ]
  },
  {
   "cell_type": "code",
   "execution_count": 20,
   "id": "11ea8ef4",
   "metadata": {},
   "outputs": [
    {
     "data": {
      "image/png": "[encoded data removed]",
      "text/plain": [
       "<Figure size 1440x360 with 2 Axes>"
      ]
     },
     "metadata": {
      "needs_background": "light"
     },
     "output_type": "display_data"
    }
   ],
   "source": [
    "fig, axes = plt.subplots(1,2, figsize=(20,5))\n",
    "axes[0].axvline(1, c='r')\n",
    "axes[1].axvline(1, c='r')\n",
    "axes[0].hist((df[f't_{B}'])/df[f't_{A}'], bins=100)\n",
    "axes[1].hist((df[f't_{B}'])/df[f't_{A}'], bins=100)\n",
    "axes[1].set_yscale('log')\n",
    "plt.show()"
   ]
  },
  {
   "cell_type": "code",
   "execution_count": 21,
   "id": "92fd0482",
   "metadata": {},
   "outputs": [
    {
     "data": {
      "text/html": [
       "<div>\n",
       "<style scoped>\n",
       "    .dataframe tbody tr th:only-of-type {\n",
       "        vertical-align: middle;\n",
       "    }\n",
       "\n",
       "    .dataframe tbody tr th {\n",
       "        vertical-align: top;\n",
       "    }\n",
       "\n",
       "    .dataframe thead th {\n",
       "        text-align: right;\n",
       "    }\n",
       "</style>\n",
       "<table border=\"1\" class=\"dataframe\">\n",
       "  <thead>\n",
       "    <tr style=\"text-align: right;\">\n",
       "      <th></th>\n",
       "      <th>count</th>\n",
       "      <th>mean</th>\n",
       "      <th>std</th>\n",
       "      <th>min</th>\n",
       "      <th>25%</th>\n",
       "      <th>50%</th>\n",
       "      <th>75%</th>\n",
       "      <th>max</th>\n",
       "    </tr>\n",
       "  </thead>\n",
       "  <tbody>\n",
       "    <tr>\n",
       "      <th>0</th>\n",
       "      <td>667378.0</td>\n",
       "      <td>4.302717</td>\n",
       "      <td>1.136425</td>\n",
       "      <td>1.575415</td>\n",
       "      <td>3.486391</td>\n",
       "      <td>4.078842</td>\n",
       "      <td>4.96622</td>\n",
       "      <td>19.231572</td>\n",
       "    </tr>\n",
       "  </tbody>\n",
       "</table>\n",
       "</div>"
      ],
      "text/plain": [
       "      count      mean       std       min       25%       50%      75%  \\\n",
       "0  667378.0  4.302717  1.136425  1.575415  3.486391  4.078842  4.96622   \n",
       "\n",
       "         max  \n",
       "0  19.231572  "
      ]
     },
     "execution_count": 21,
     "metadata": {},
     "output_type": "execute_result"
    }
   ],
   "source": [
    "pd.DataFrame((df[f't_{B}']/df[f't_{A}']).describe()).T"
   ]
  },
  {
   "cell_type": "markdown",
   "id": "e99f3aca",
   "metadata": {},
   "source": [
    "meent-TMM is faster 4.1 times than reticolo.\n",
    "\n",
    "right side of red line: TMM is faster"
   ]
  },
  {
   "cell_type": "markdown",
   "id": "6bb674a5",
   "metadata": {},
   "source": [
    "## time.process_time()"
   ]
  },
  {
   "cell_type": "code",
   "execution_count": 22,
   "id": "45fb27af",
   "metadata": {
    "scrolled": true
   },
   "outputs": [
    {
     "data": {
      "image/png": "[encoded data removed]",
      "text/plain": [
       "<Figure size 1440x360 with 2 Axes>"
      ]
     },
     "metadata": {
      "needs_background": "light"
     },
     "output_type": "display_data"
    }
   ],
   "source": [
    "fig, axes = plt.subplots(1,2, figsize=(20,5))\n",
    "axes[0].hist([df[f'tpr_{A}'],df[f'tpr_{B}']], bins=100)\n",
    "axes[1].hist([df[f'tpr_{A}'],df[f'tpr_{B}']], bins=100, log=True)\n",
    "plt.show()"
   ]
  },
  {
   "cell_type": "code",
   "execution_count": 23,
   "id": "78e0d498",
   "metadata": {
    "scrolled": true
   },
   "outputs": [
    {
     "data": {
      "image/png": "[encoded data removed]",
      "text/plain": [
       "<Figure size 1440x360 with 2 Axes>"
      ]
     },
     "metadata": {
      "needs_background": "light"
     },
     "output_type": "display_data"
    }
   ],
   "source": [
    "fig, axes = plt.subplots(1,2, figsize=(20,5))\n",
    "axes[0].axvline(1, c='r')\n",
    "axes[1].axvline(1, c='r')\n",
    "axes[0].hist((df[f'tpr_{B}'])/df[f'tpr_{A}'], bins=100)\n",
    "axes[1].hist((df[f'tpr_{B}'])/df[f'tpr_{A}'], bins=100)\n",
    "axes[1].set_yscale('log')\n",
    "plt.show()"
   ]
  },
  {
   "cell_type": "code",
   "execution_count": 24,
   "id": "4d06b75f",
   "metadata": {},
   "outputs": [
    {
     "data": {
      "text/html": [
       "<div>\n",
       "<style scoped>\n",
       "    .dataframe tbody tr th:only-of-type {\n",
       "        vertical-align: middle;\n",
       "    }\n",
       "\n",
       "    .dataframe tbody tr th {\n",
       "        vertical-align: top;\n",
       "    }\n",
       "\n",
       "    .dataframe thead th {\n",
       "        text-align: right;\n",
       "    }\n",
       "</style>\n",
       "<table border=\"1\" class=\"dataframe\">\n",
       "  <thead>\n",
       "    <tr style=\"text-align: right;\">\n",
       "      <th></th>\n",
       "      <th>count</th>\n",
       "      <th>mean</th>\n",
       "      <th>std</th>\n",
       "      <th>min</th>\n",
       "      <th>25%</th>\n",
       "      <th>50%</th>\n",
       "      <th>75%</th>\n",
       "      <th>max</th>\n",
       "    </tr>\n",
       "  </thead>\n",
       "  <tbody>\n",
       "    <tr>\n",
       "      <th>0</th>\n",
       "      <td>667378.0</td>\n",
       "      <td>1.945885</td>\n",
       "      <td>1.137751</td>\n",
       "      <td>0.003806</td>\n",
       "      <td>1.034694</td>\n",
       "      <td>2.23744</td>\n",
       "      <td>2.880849</td>\n",
       "      <td>4.501983</td>\n",
       "    </tr>\n",
       "  </tbody>\n",
       "</table>\n",
       "</div>"
      ],
      "text/plain": [
       "      count      mean       std       min       25%      50%       75%  \\\n",
       "0  667378.0  1.945885  1.137751  0.003806  1.034694  2.23744  2.880849   \n",
       "\n",
       "        max  \n",
       "0  4.501983  "
      ]
     },
     "execution_count": 24,
     "metadata": {},
     "output_type": "execute_result"
    }
   ],
   "source": [
    "pd.DataFrame((df[f'tpr_{B}']/df[f'tpr_{A}']).describe()).T"
   ]
  },
  {
   "cell_type": "markdown",
   "id": "63cab322",
   "metadata": {},
   "source": [
    "hard to tell..."
   ]
  }
 ],
 "metadata": {
  "kernelspec": {
   "display_name": "Python 3 (ipykernel)",
   "language": "python",
   "name": "python3"
  },
  "language_info": {
   "codemirror_mode": {
    "name": "ipython",
    "version": 3
   },
   "file_extension": ".py",
   "mimetype": "text/x-python",
   "name": "python",
   "nbconvert_exporter": "python",
   "pygments_lexer": "ipython3",
   "version": "3.9.12"
  }
 },
 "nbformat": 4,
 "nbformat_minor": 5
}
