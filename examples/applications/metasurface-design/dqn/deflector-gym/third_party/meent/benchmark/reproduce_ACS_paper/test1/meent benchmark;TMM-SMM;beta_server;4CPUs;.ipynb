{
 "cells": [
  {
   "cell_type": "code",
   "execution_count": 1,
   "id": "be4dd126",
   "metadata": {},
   "outputs": [],
   "source": [
    "import pandas as pd\n",
    "import numpy as np\n",
    "import matplotlib.pyplot as plt"
   ]
  },
  {
   "cell_type": "code",
   "execution_count": 2,
   "id": "e59f8007",
   "metadata": {},
   "outputs": [],
   "source": [
    "import matplotlib.pylab as pylab\n",
    "params = {'legend.fontsize': 'x-large',\n",
    "          'figure.figsize': (15, 5),\n",
    "         'axes.labelsize': 'xx-large',\n",
    "         'axes.titlesize':'xx-large',\n",
    "         'xtick.labelsize':'xx-large',\n",
    "         'ytick.labelsize':'xx-large'}\n",
    "pylab.rcParams.update(params)"
   ]
  },
  {
   "cell_type": "code",
   "execution_count": 3,
   "id": "e0eaf6c4",
   "metadata": {},
   "outputs": [],
   "source": [
    "# 4 CPUs\n",
    "file = '/home/yongha/mcwa/1DFreeFormDQN/experiments/DQN/2022_09_16_14_07_47/wl900.0_angle60.0_ncells64/comp_table.csv'\n",
    "df = pd.read_csv(file)\n",
    "df.drop('Unnamed: 0', axis=1, inplace=True)"
   ]
  },
  {
   "cell_type": "code",
   "execution_count": 4,
   "id": "6aab5fbb",
   "metadata": {},
   "outputs": [
    {
     "data": {
      "text/html": [
       "<div>\n",
       "<style scoped>\n",
       "    .dataframe tbody tr th:only-of-type {\n",
       "        vertical-align: middle;\n",
       "    }\n",
       "\n",
       "    .dataframe tbody tr th {\n",
       "        vertical-align: top;\n",
       "    }\n",
       "\n",
       "    .dataframe thead th {\n",
       "        text-align: right;\n",
       "    }\n",
       "</style>\n",
       "<table border=\"1\" class=\"dataframe\">\n",
       "  <thead>\n",
       "    <tr style=\"text-align: right;\">\n",
       "      <th></th>\n",
       "      <th>reti-1</th>\n",
       "      <th>reti0</th>\n",
       "      <th>reti+1</th>\n",
       "      <th>mcwat-1</th>\n",
       "      <th>mcwat0</th>\n",
       "      <th>mcwat+1</th>\n",
       "      <th>mcwas-1</th>\n",
       "      <th>mcwas0</th>\n",
       "      <th>mcwas+1</th>\n",
       "      <th>t_reti</th>\n",
       "      <th>tpr_reti</th>\n",
       "      <th>t_mcwat</th>\n",
       "      <th>tpr_mcwat</th>\n",
       "      <th>t_mcwas</th>\n",
       "      <th>tpr_mcwas</th>\n",
       "    </tr>\n",
       "  </thead>\n",
       "  <tbody>\n",
       "    <tr>\n",
       "      <th>count</th>\n",
       "      <td>608609.000000</td>\n",
       "      <td>6.086090e+05</td>\n",
       "      <td>608609.000000</td>\n",
       "      <td>608609.000000</td>\n",
       "      <td>6.086090e+05</td>\n",
       "      <td>608609.000000</td>\n",
       "      <td>608609.000000</td>\n",
       "      <td>6.086090e+05</td>\n",
       "      <td>608609.000000</td>\n",
       "      <td>608609.000000</td>\n",
       "      <td>608609.000000</td>\n",
       "      <td>608609.000000</td>\n",
       "      <td>608609.000000</td>\n",
       "      <td>608609.000000</td>\n",
       "      <td>608609.000000</td>\n",
       "    </tr>\n",
       "    <tr>\n",
       "      <th>mean</th>\n",
       "      <td>0.126804</td>\n",
       "      <td>4.578344e-01</td>\n",
       "      <td>0.235288</td>\n",
       "      <td>0.126996</td>\n",
       "      <td>4.570581e-01</td>\n",
       "      <td>0.235501</td>\n",
       "      <td>0.126996</td>\n",
       "      <td>4.570581e-01</td>\n",
       "      <td>0.235501</td>\n",
       "      <td>0.138211</td>\n",
       "      <td>0.238614</td>\n",
       "      <td>0.024074</td>\n",
       "      <td>0.084647</td>\n",
       "      <td>0.038791</td>\n",
       "      <td>0.154944</td>\n",
       "    </tr>\n",
       "    <tr>\n",
       "      <th>std</th>\n",
       "      <td>0.121978</td>\n",
       "      <td>3.324059e-01</td>\n",
       "      <td>0.243418</td>\n",
       "      <td>0.122085</td>\n",
       "      <td>3.320994e-01</td>\n",
       "      <td>0.243354</td>\n",
       "      <td>0.122085</td>\n",
       "      <td>3.320994e-01</td>\n",
       "      <td>0.243354</td>\n",
       "      <td>0.027136</td>\n",
       "      <td>0.124969</td>\n",
       "      <td>0.004540</td>\n",
       "      <td>0.017736</td>\n",
       "      <td>0.009043</td>\n",
       "      <td>0.036032</td>\n",
       "    </tr>\n",
       "    <tr>\n",
       "      <th>min</th>\n",
       "      <td>0.000000</td>\n",
       "      <td>1.768111e-07</td>\n",
       "      <td>0.000000</td>\n",
       "      <td>0.000000</td>\n",
       "      <td>1.826128e-07</td>\n",
       "      <td>0.000000</td>\n",
       "      <td>0.000000</td>\n",
       "      <td>1.826128e-07</td>\n",
       "      <td>0.000000</td>\n",
       "      <td>0.106503</td>\n",
       "      <td>0.001686</td>\n",
       "      <td>0.012113</td>\n",
       "      <td>0.041964</td>\n",
       "      <td>0.031588</td>\n",
       "      <td>0.126286</td>\n",
       "    </tr>\n",
       "    <tr>\n",
       "      <th>25%</th>\n",
       "      <td>0.034155</td>\n",
       "      <td>1.249704e-01</td>\n",
       "      <td>0.049999</td>\n",
       "      <td>0.034261</td>\n",
       "      <td>1.246108e-01</td>\n",
       "      <td>0.050159</td>\n",
       "      <td>0.034261</td>\n",
       "      <td>1.246108e-01</td>\n",
       "      <td>0.050159</td>\n",
       "      <td>0.123665</td>\n",
       "      <td>0.149388</td>\n",
       "      <td>0.021382</td>\n",
       "      <td>0.073447</td>\n",
       "      <td>0.032864</td>\n",
       "      <td>0.131376</td>\n",
       "    </tr>\n",
       "    <tr>\n",
       "      <th>50%</th>\n",
       "      <td>0.088853</td>\n",
       "      <td>4.421429e-01</td>\n",
       "      <td>0.145052</td>\n",
       "      <td>0.089048</td>\n",
       "      <td>4.405023e-01</td>\n",
       "      <td>0.145436</td>\n",
       "      <td>0.089048</td>\n",
       "      <td>4.405023e-01</td>\n",
       "      <td>0.145436</td>\n",
       "      <td>0.125269</td>\n",
       "      <td>0.324188</td>\n",
       "      <td>0.022774</td>\n",
       "      <td>0.078817</td>\n",
       "      <td>0.033321</td>\n",
       "      <td>0.133198</td>\n",
       "    </tr>\n",
       "    <tr>\n",
       "      <th>75%</th>\n",
       "      <td>0.184268</td>\n",
       "      <td>7.891907e-01</td>\n",
       "      <td>0.338785</td>\n",
       "      <td>0.184561</td>\n",
       "      <td>7.879953e-01</td>\n",
       "      <td>0.339122</td>\n",
       "      <td>0.184561</td>\n",
       "      <td>7.879953e-01</td>\n",
       "      <td>0.339122</td>\n",
       "      <td>0.136313</td>\n",
       "      <td>0.328138</td>\n",
       "      <td>0.024308</td>\n",
       "      <td>0.084765</td>\n",
       "      <td>0.041600</td>\n",
       "      <td>0.165721</td>\n",
       "    </tr>\n",
       "    <tr>\n",
       "      <th>max</th>\n",
       "      <td>0.955434</td>\n",
       "      <td>9.989689e-01</td>\n",
       "      <td>0.989897</td>\n",
       "      <td>0.954781</td>\n",
       "      <td>9.990001e-01</td>\n",
       "      <td>0.989790</td>\n",
       "      <td>0.954781</td>\n",
       "      <td>9.990001e-01</td>\n",
       "      <td>0.989790</td>\n",
       "      <td>0.505572</td>\n",
       "      <td>0.343524</td>\n",
       "      <td>0.072359</td>\n",
       "      <td>0.236092</td>\n",
       "      <td>0.118583</td>\n",
       "      <td>0.410744</td>\n",
       "    </tr>\n",
       "  </tbody>\n",
       "</table>\n",
       "</div>"
      ],
      "text/plain": [
       "              reti-1         reti0         reti+1        mcwat-1  \\\n",
       "count  608609.000000  6.086090e+05  608609.000000  608609.000000   \n",
       "mean        0.126804  4.578344e-01       0.235288       0.126996   \n",
       "std         0.121978  3.324059e-01       0.243418       0.122085   \n",
       "min         0.000000  1.768111e-07       0.000000       0.000000   \n",
       "25%         0.034155  1.249704e-01       0.049999       0.034261   \n",
       "50%         0.088853  4.421429e-01       0.145052       0.089048   \n",
       "75%         0.184268  7.891907e-01       0.338785       0.184561   \n",
       "max         0.955434  9.989689e-01       0.989897       0.954781   \n",
       "\n",
       "             mcwat0        mcwat+1        mcwas-1        mcwas0  \\\n",
       "count  6.086090e+05  608609.000000  608609.000000  6.086090e+05   \n",
       "mean   4.570581e-01       0.235501       0.126996  4.570581e-01   \n",
       "std    3.320994e-01       0.243354       0.122085  3.320994e-01   \n",
       "min    1.826128e-07       0.000000       0.000000  1.826128e-07   \n",
       "25%    1.246108e-01       0.050159       0.034261  1.246108e-01   \n",
       "50%    4.405023e-01       0.145436       0.089048  4.405023e-01   \n",
       "75%    7.879953e-01       0.339122       0.184561  7.879953e-01   \n",
       "max    9.990001e-01       0.989790       0.954781  9.990001e-01   \n",
       "\n",
       "             mcwas+1         t_reti       tpr_reti        t_mcwat  \\\n",
       "count  608609.000000  608609.000000  608609.000000  608609.000000   \n",
       "mean        0.235501       0.138211       0.238614       0.024074   \n",
       "std         0.243354       0.027136       0.124969       0.004540   \n",
       "min         0.000000       0.106503       0.001686       0.012113   \n",
       "25%         0.050159       0.123665       0.149388       0.021382   \n",
       "50%         0.145436       0.125269       0.324188       0.022774   \n",
       "75%         0.339122       0.136313       0.328138       0.024308   \n",
       "max         0.989790       0.505572       0.343524       0.072359   \n",
       "\n",
       "           tpr_mcwat        t_mcwas      tpr_mcwas  \n",
       "count  608609.000000  608609.000000  608609.000000  \n",
       "mean        0.084647       0.038791       0.154944  \n",
       "std         0.017736       0.009043       0.036032  \n",
       "min         0.041964       0.031588       0.126286  \n",
       "25%         0.073447       0.032864       0.131376  \n",
       "50%         0.078817       0.033321       0.133198  \n",
       "75%         0.084765       0.041600       0.165721  \n",
       "max         0.236092       0.118583       0.410744  "
      ]
     },
     "execution_count": 4,
     "metadata": {},
     "output_type": "execute_result"
    }
   ],
   "source": [
    "df.describe()"
   ]
  },
  {
   "cell_type": "markdown",
   "id": "451e4637",
   "metadata": {},
   "source": [
    "# TMM to SMM"
   ]
  },
  {
   "cell_type": "code",
   "execution_count": 5,
   "id": "8918cfb3",
   "metadata": {},
   "outputs": [],
   "source": [
    "A, B = 'mcwat', 'mcwas'"
   ]
  },
  {
   "cell_type": "code",
   "execution_count": 6,
   "id": "ac352e88",
   "metadata": {},
   "outputs": [],
   "source": [
    "df['gap-1'] = df[f'{A}-1'] - df[f'{B}-1']\n",
    "df['gap0'] = df[f'{A}0'] - df[f'{B}0']\n",
    "df['gap+1'] = df[f'{A}+1'] - df[f'{B}+1']\n",
    "df['t_gap'] = df[f't_{A}'] - df[f't_{B}']\n",
    "df['tpr_gap'] = df[f'tpr_{A}'] - df[f'tpr_{B}']"
   ]
  },
  {
   "cell_type": "markdown",
   "id": "7254e794",
   "metadata": {},
   "source": [
    "# Benchmark"
   ]
  },
  {
   "cell_type": "markdown",
   "id": "5f188f36",
   "metadata": {},
   "source": [
    "## difference in transmittance"
   ]
  },
  {
   "cell_type": "code",
   "execution_count": 7,
   "id": "18ba2600",
   "metadata": {},
   "outputs": [
    {
     "data": {
      "image/png": "[encoded data removed]",
      "text/plain": [
       "<Figure size 1440x360 with 2 Axes>"
      ]
     },
     "metadata": {
      "needs_background": "light"
     },
     "output_type": "display_data"
    }
   ],
   "source": [
    "fig, axes = plt.subplots(1,2, figsize=(20,5))\n",
    "axes[0].hist([df['gap-1'], df['gap0'], df['gap+1']], bins=100)\n",
    "axes[1].hist([df['gap-1'], df['gap0'], df['gap+1']], bins=100)\n",
    "axes[1].set_yscale('log')\n",
    "plt.show()"
   ]
  },
  {
   "cell_type": "code",
   "execution_count": 8,
   "id": "4db88574",
   "metadata": {},
   "outputs": [
    {
     "data": {
      "text/html": [
       "<div>\n",
       "<style scoped>\n",
       "    .dataframe tbody tr th:only-of-type {\n",
       "        vertical-align: middle;\n",
       "    }\n",
       "\n",
       "    .dataframe tbody tr th {\n",
       "        vertical-align: top;\n",
       "    }\n",
       "\n",
       "    .dataframe thead th {\n",
       "        text-align: right;\n",
       "    }\n",
       "</style>\n",
       "<table border=\"1\" class=\"dataframe\">\n",
       "  <thead>\n",
       "    <tr style=\"text-align: right;\">\n",
       "      <th></th>\n",
       "      <th>count</th>\n",
       "      <th>mean</th>\n",
       "      <th>std</th>\n",
       "      <th>min</th>\n",
       "      <th>25%</th>\n",
       "      <th>50%</th>\n",
       "      <th>75%</th>\n",
       "      <th>max</th>\n",
       "    </tr>\n",
       "  </thead>\n",
       "  <tbody>\n",
       "    <tr>\n",
       "      <th>gap-1</th>\n",
       "      <td>608609.0</td>\n",
       "      <td>1.433553e-16</td>\n",
       "      <td>6.613813e-14</td>\n",
       "      <td>-7.188805e-12</td>\n",
       "      <td>-1.140060e-14</td>\n",
       "      <td>0.000000e+00</td>\n",
       "      <td>1.137979e-14</td>\n",
       "      <td>5.397710e-12</td>\n",
       "    </tr>\n",
       "    <tr>\n",
       "      <th>gap0</th>\n",
       "      <td>608609.0</td>\n",
       "      <td>1.824867e-16</td>\n",
       "      <td>1.069800e-13</td>\n",
       "      <td>-2.428047e-11</td>\n",
       "      <td>-2.581269e-14</td>\n",
       "      <td>9.714451e-17</td>\n",
       "      <td>2.609024e-14</td>\n",
       "      <td>1.492390e-11</td>\n",
       "    </tr>\n",
       "    <tr>\n",
       "      <th>gap+1</th>\n",
       "      <td>608609.0</td>\n",
       "      <td>-1.037970e-16</td>\n",
       "      <td>8.033756e-14</td>\n",
       "      <td>-1.020509e-11</td>\n",
       "      <td>-1.437739e-14</td>\n",
       "      <td>0.000000e+00</td>\n",
       "      <td>1.426637e-14</td>\n",
       "      <td>1.155848e-11</td>\n",
       "    </tr>\n",
       "  </tbody>\n",
       "</table>\n",
       "</div>"
      ],
      "text/plain": [
       "          count          mean           std           min           25%  \\\n",
       "gap-1  608609.0  1.433553e-16  6.613813e-14 -7.188805e-12 -1.140060e-14   \n",
       "gap0   608609.0  1.824867e-16  1.069800e-13 -2.428047e-11 -2.581269e-14   \n",
       "gap+1  608609.0 -1.037970e-16  8.033756e-14 -1.020509e-11 -1.437739e-14   \n",
       "\n",
       "                50%           75%           max  \n",
       "gap-1  0.000000e+00  1.137979e-14  5.397710e-12  \n",
       "gap0   9.714451e-17  2.609024e-14  1.492390e-11  \n",
       "gap+1  0.000000e+00  1.426637e-14  1.155848e-11  "
      ]
     },
     "execution_count": 8,
     "metadata": {},
     "output_type": "execute_result"
    }
   ],
   "source": [
    "df[['gap-1','gap0','gap+1']].describe().T"
   ]
  },
  {
   "cell_type": "code",
   "execution_count": 9,
   "id": "fa815cff",
   "metadata": {},
   "outputs": [
    {
     "data": {
      "text/plain": [
       "count    1.825827e+06\n",
       "mean     7.401502e-17\n",
       "std      8.616482e-14\n",
       "min     -2.428047e-11\n",
       "25%     -1.620926e-14\n",
       "50%      0.000000e+00\n",
       "75%      1.620926e-14\n",
       "max      1.492390e-11\n",
       "dtype: float64"
      ]
     },
     "execution_count": 9,
     "metadata": {},
     "output_type": "execute_result"
    }
   ],
   "source": [
    "pd.concat([df['gap-1'], df['gap0'], df['gap+1']]).describe()"
   ]
  },
  {
   "cell_type": "code",
   "execution_count": 46,
   "id": "8752be1e",
   "metadata": {},
   "outputs": [
    {
     "data": {
      "text/plain": [
       "99.00390343663446"
      ]
     },
     "execution_count": 46,
     "metadata": {},
     "output_type": "execute_result"
    }
   ],
   "source": [
    "a=pd.concat([df['gap-1'], df['gap0'], df['gap+1']])\n",
    "cut = 2.6E-13\n",
    "b=a[abs(a) < cut]\n",
    "b.count()/a.count() *100"
   ]
  },
  {
   "cell_type": "code",
   "execution_count": 26,
   "id": "95ca97c8",
   "metadata": {},
   "outputs": [
    {
     "data": {
      "text/html": [
       "<div>\n",
       "<style scoped>\n",
       "    .dataframe tbody tr th:only-of-type {\n",
       "        vertical-align: middle;\n",
       "    }\n",
       "\n",
       "    .dataframe tbody tr th {\n",
       "        vertical-align: top;\n",
       "    }\n",
       "\n",
       "    .dataframe thead th {\n",
       "        text-align: right;\n",
       "    }\n",
       "</style>\n",
       "<table border=\"1\" class=\"dataframe\">\n",
       "  <thead>\n",
       "    <tr style=\"text-align: right;\">\n",
       "      <th></th>\n",
       "      <th>mcwat-1</th>\n",
       "      <th>mcwas-1</th>\n",
       "      <th>gap-1</th>\n",
       "    </tr>\n",
       "  </thead>\n",
       "  <tbody>\n",
       "  </tbody>\n",
       "</table>\n",
       "</div>"
      ],
      "text/plain": [
       "Empty DataFrame\n",
       "Columns: [mcwat-1, mcwas-1, gap-1]\n",
       "Index: []"
      ]
     },
     "execution_count": 26,
     "metadata": {},
     "output_type": "execute_result"
    }
   ],
   "source": [
    "df[abs(df['gap-1'])>cut][[f'{A}-1', f'{B}-1', 'gap-1']].sort_values('gap-1')"
   ]
  },
  {
   "cell_type": "code",
   "execution_count": 27,
   "id": "5874eab7",
   "metadata": {},
   "outputs": [
    {
     "data": {
      "text/html": [
       "<div>\n",
       "<style scoped>\n",
       "    .dataframe tbody tr th:only-of-type {\n",
       "        vertical-align: middle;\n",
       "    }\n",
       "\n",
       "    .dataframe tbody tr th {\n",
       "        vertical-align: top;\n",
       "    }\n",
       "\n",
       "    .dataframe thead th {\n",
       "        text-align: right;\n",
       "    }\n",
       "</style>\n",
       "<table border=\"1\" class=\"dataframe\">\n",
       "  <thead>\n",
       "    <tr style=\"text-align: right;\">\n",
       "      <th></th>\n",
       "      <th>mcwat0</th>\n",
       "      <th>mcwas0</th>\n",
       "      <th>gap0</th>\n",
       "    </tr>\n",
       "  </thead>\n",
       "  <tbody>\n",
       "  </tbody>\n",
       "</table>\n",
       "</div>"
      ],
      "text/plain": [
       "Empty DataFrame\n",
       "Columns: [mcwat0, mcwas0, gap0]\n",
       "Index: []"
      ]
     },
     "execution_count": 27,
     "metadata": {},
     "output_type": "execute_result"
    }
   ],
   "source": [
    "df[abs(df['gap0'])>cut][[f'{A}0', f'{B}0', 'gap0']].sort_values('gap0')"
   ]
  },
  {
   "cell_type": "code",
   "execution_count": 28,
   "id": "82c4681f",
   "metadata": {},
   "outputs": [
    {
     "data": {
      "text/html": [
       "<div>\n",
       "<style scoped>\n",
       "    .dataframe tbody tr th:only-of-type {\n",
       "        vertical-align: middle;\n",
       "    }\n",
       "\n",
       "    .dataframe tbody tr th {\n",
       "        vertical-align: top;\n",
       "    }\n",
       "\n",
       "    .dataframe thead th {\n",
       "        text-align: right;\n",
       "    }\n",
       "</style>\n",
       "<table border=\"1\" class=\"dataframe\">\n",
       "  <thead>\n",
       "    <tr style=\"text-align: right;\">\n",
       "      <th></th>\n",
       "      <th>mcwat+1</th>\n",
       "      <th>mcwas+1</th>\n",
       "      <th>gap+1</th>\n",
       "    </tr>\n",
       "  </thead>\n",
       "  <tbody>\n",
       "  </tbody>\n",
       "</table>\n",
       "</div>"
      ],
      "text/plain": [
       "Empty DataFrame\n",
       "Columns: [mcwat+1, mcwas+1, gap+1]\n",
       "Index: []"
      ]
     },
     "execution_count": 28,
     "metadata": {},
     "output_type": "execute_result"
    }
   ],
   "source": [
    "df[abs(df['gap+1'])>cut][[f'{A}+1', f'{B}+1', 'gap+1']].sort_values('gap+1')"
   ]
  },
  {
   "cell_type": "markdown",
   "id": "bcd36ccf",
   "metadata": {},
   "source": [
    "## Normalized abs(difference in transmittance) "
   ]
  },
  {
   "cell_type": "code",
   "execution_count": 33,
   "id": "affa41e3",
   "metadata": {},
   "outputs": [],
   "source": [
    "cut = 0.01"
   ]
  },
  {
   "cell_type": "code",
   "execution_count": 29,
   "id": "e1ea0306",
   "metadata": {},
   "outputs": [
    {
     "data": {
      "image/png": "[encoded data removed]",
      "text/plain": [
       "<Figure size 1440x360 with 2 Axes>"
      ]
     },
     "metadata": {
      "needs_background": "light"
     },
     "output_type": "display_data"
    }
   ],
   "source": [
    "fig, axes = plt.subplots(1,2, figsize=(20,5))\n",
    "axes[0].axvline(cut, c='r')\n",
    "axes[1].axvline(cut, c='r')\n",
    "\n",
    "axes[0].hist([abs(df['gap-1']/df[f'{A}-1']), abs(df['gap0']/df[f'{A}0']), abs(df['gap+1']/df[f'{A}+1'])], bins=np.logspace(np.log10(1E-16), np.log10(20),100))\n",
    "axes[0].set_xscale('log')\n",
    "\n",
    "axes[1].hist([abs(df['gap-1']/df[f'{A}-1']), abs(df['gap0']/df[f'{A}0']), abs(df['gap+1']/df[f'{A}+1'])], bins=np.logspace(np.log10(1E-16), np.log10(20),100))\n",
    "axes[1].set_xscale('log')\n",
    "axes[1].set_yscale('log')\n",
    "\n",
    "plt.show()"
   ]
  },
  {
   "cell_type": "markdown",
   "id": "f8eafbfd",
   "metadata": {},
   "source": [
    "right side of vertical red line: normalized error >= 1 %\n",
    "\n",
    "orange is 0th order"
   ]
  },
  {
   "cell_type": "code",
   "execution_count": 30,
   "id": "eb759049",
   "metadata": {},
   "outputs": [
    {
     "data": {
      "text/html": [
       "<div>\n",
       "<style scoped>\n",
       "    .dataframe tbody tr th:only-of-type {\n",
       "        vertical-align: middle;\n",
       "    }\n",
       "\n",
       "    .dataframe tbody tr th {\n",
       "        vertical-align: top;\n",
       "    }\n",
       "\n",
       "    .dataframe thead th {\n",
       "        text-align: right;\n",
       "    }\n",
       "</style>\n",
       "<table border=\"1\" class=\"dataframe\">\n",
       "  <thead>\n",
       "    <tr style=\"text-align: right;\">\n",
       "      <th></th>\n",
       "      <th>mcwat-1</th>\n",
       "      <th>mcwas-1</th>\n",
       "      <th>gap-1</th>\n",
       "    </tr>\n",
       "  </thead>\n",
       "  <tbody>\n",
       "    <tr>\n",
       "      <th>15408</th>\n",
       "      <td>2.123246e-28</td>\n",
       "      <td>2.616370e-28</td>\n",
       "      <td>-4.931233e-29</td>\n",
       "    </tr>\n",
       "    <tr>\n",
       "      <th>397025</th>\n",
       "      <td>4.608935e-30</td>\n",
       "      <td>3.878159e-29</td>\n",
       "      <td>-3.417266e-29</td>\n",
       "    </tr>\n",
       "    <tr>\n",
       "      <th>409624</th>\n",
       "      <td>1.696826e-29</td>\n",
       "      <td>3.716373e-29</td>\n",
       "      <td>-2.019547e-29</td>\n",
       "    </tr>\n",
       "    <tr>\n",
       "      <th>8472</th>\n",
       "      <td>2.514653e-32</td>\n",
       "      <td>4.611096e-30</td>\n",
       "      <td>-4.585950e-30</td>\n",
       "    </tr>\n",
       "    <tr>\n",
       "      <th>187144</th>\n",
       "      <td>2.514653e-32</td>\n",
       "      <td>4.611096e-30</td>\n",
       "      <td>-4.585950e-30</td>\n",
       "    </tr>\n",
       "    <tr>\n",
       "      <th>370407</th>\n",
       "      <td>1.882113e-31</td>\n",
       "      <td>2.080262e-30</td>\n",
       "      <td>-1.892051e-30</td>\n",
       "    </tr>\n",
       "    <tr>\n",
       "      <th>21469</th>\n",
       "      <td>1.882113e-31</td>\n",
       "      <td>2.080262e-30</td>\n",
       "      <td>-1.892051e-30</td>\n",
       "    </tr>\n",
       "    <tr>\n",
       "      <th>211535</th>\n",
       "      <td>5.233428e-31</td>\n",
       "      <td>2.394893e-30</td>\n",
       "      <td>-1.871550e-30</td>\n",
       "    </tr>\n",
       "    <tr>\n",
       "      <th>363501</th>\n",
       "      <td>1.662338e-31</td>\n",
       "      <td>2.028611e-30</td>\n",
       "      <td>-1.862378e-30</td>\n",
       "    </tr>\n",
       "    <tr>\n",
       "      <th>82988</th>\n",
       "      <td>1.662338e-31</td>\n",
       "      <td>2.028611e-30</td>\n",
       "      <td>-1.862378e-30</td>\n",
       "    </tr>\n",
       "    <tr>\n",
       "      <th>263149</th>\n",
       "      <td>4.410890e-31</td>\n",
       "      <td>1.295928e-30</td>\n",
       "      <td>-8.548389e-31</td>\n",
       "    </tr>\n",
       "    <tr>\n",
       "      <th>3105</th>\n",
       "      <td>2.062383e-31</td>\n",
       "      <td>7.328936e-31</td>\n",
       "      <td>-5.266554e-31</td>\n",
       "    </tr>\n",
       "    <tr>\n",
       "      <th>496193</th>\n",
       "      <td>2.062383e-31</td>\n",
       "      <td>7.328936e-31</td>\n",
       "      <td>-5.266554e-31</td>\n",
       "    </tr>\n",
       "    <tr>\n",
       "      <th>6223</th>\n",
       "      <td>1.258185e-31</td>\n",
       "      <td>6.481429e-31</td>\n",
       "      <td>-5.223243e-31</td>\n",
       "    </tr>\n",
       "    <tr>\n",
       "      <th>435866</th>\n",
       "      <td>1.258185e-31</td>\n",
       "      <td>6.481429e-31</td>\n",
       "      <td>-5.223243e-31</td>\n",
       "    </tr>\n",
       "    <tr>\n",
       "      <th>82242</th>\n",
       "      <td>6.023164e-31</td>\n",
       "      <td>9.440379e-31</td>\n",
       "      <td>-3.417215e-31</td>\n",
       "    </tr>\n",
       "    <tr>\n",
       "      <th>367359</th>\n",
       "      <td>2.514878e-31</td>\n",
       "      <td>5.797769e-31</td>\n",
       "      <td>-3.282891e-31</td>\n",
       "    </tr>\n",
       "    <tr>\n",
       "      <th>79794</th>\n",
       "      <td>4.287140e-31</td>\n",
       "      <td>5.349227e-31</td>\n",
       "      <td>-1.062087e-31</td>\n",
       "    </tr>\n",
       "    <tr>\n",
       "      <th>7475</th>\n",
       "      <td>4.287140e-31</td>\n",
       "      <td>5.349227e-31</td>\n",
       "      <td>-1.062087e-31</td>\n",
       "    </tr>\n",
       "    <tr>\n",
       "      <th>10575</th>\n",
       "      <td>3.172932e-31</td>\n",
       "      <td>3.696333e-31</td>\n",
       "      <td>-5.234004e-32</td>\n",
       "    </tr>\n",
       "    <tr>\n",
       "      <th>16394</th>\n",
       "      <td>1.054765e-30</td>\n",
       "      <td>9.806301e-31</td>\n",
       "      <td>7.413443e-32</td>\n",
       "    </tr>\n",
       "    <tr>\n",
       "      <th>186659</th>\n",
       "      <td>1.054765e-30</td>\n",
       "      <td>9.806301e-31</td>\n",
       "      <td>7.413443e-32</td>\n",
       "    </tr>\n",
       "    <tr>\n",
       "      <th>409622</th>\n",
       "      <td>2.276992e-30</td>\n",
       "      <td>1.679564e-30</td>\n",
       "      <td>5.974282e-31</td>\n",
       "    </tr>\n",
       "    <tr>\n",
       "      <th>379535</th>\n",
       "      <td>1.922641e-30</td>\n",
       "      <td>1.133604e-30</td>\n",
       "      <td>7.890369e-31</td>\n",
       "    </tr>\n",
       "    <tr>\n",
       "      <th>7226</th>\n",
       "      <td>4.596980e-30</td>\n",
       "      <td>1.816898e-31</td>\n",
       "      <td>4.415290e-30</td>\n",
       "    </tr>\n",
       "    <tr>\n",
       "      <th>297570</th>\n",
       "      <td>1.926582e-29</td>\n",
       "      <td>1.411984e-29</td>\n",
       "      <td>5.145981e-30</td>\n",
       "    </tr>\n",
       "  </tbody>\n",
       "</table>\n",
       "</div>"
      ],
      "text/plain": [
       "             mcwat-1       mcwas-1         gap-1\n",
       "15408   2.123246e-28  2.616370e-28 -4.931233e-29\n",
       "397025  4.608935e-30  3.878159e-29 -3.417266e-29\n",
       "409624  1.696826e-29  3.716373e-29 -2.019547e-29\n",
       "8472    2.514653e-32  4.611096e-30 -4.585950e-30\n",
       "187144  2.514653e-32  4.611096e-30 -4.585950e-30\n",
       "370407  1.882113e-31  2.080262e-30 -1.892051e-30\n",
       "21469   1.882113e-31  2.080262e-30 -1.892051e-30\n",
       "211535  5.233428e-31  2.394893e-30 -1.871550e-30\n",
       "363501  1.662338e-31  2.028611e-30 -1.862378e-30\n",
       "82988   1.662338e-31  2.028611e-30 -1.862378e-30\n",
       "263149  4.410890e-31  1.295928e-30 -8.548389e-31\n",
       "3105    2.062383e-31  7.328936e-31 -5.266554e-31\n",
       "496193  2.062383e-31  7.328936e-31 -5.266554e-31\n",
       "6223    1.258185e-31  6.481429e-31 -5.223243e-31\n",
       "435866  1.258185e-31  6.481429e-31 -5.223243e-31\n",
       "82242   6.023164e-31  9.440379e-31 -3.417215e-31\n",
       "367359  2.514878e-31  5.797769e-31 -3.282891e-31\n",
       "79794   4.287140e-31  5.349227e-31 -1.062087e-31\n",
       "7475    4.287140e-31  5.349227e-31 -1.062087e-31\n",
       "10575   3.172932e-31  3.696333e-31 -5.234004e-32\n",
       "16394   1.054765e-30  9.806301e-31  7.413443e-32\n",
       "186659  1.054765e-30  9.806301e-31  7.413443e-32\n",
       "409622  2.276992e-30  1.679564e-30  5.974282e-31\n",
       "379535  1.922641e-30  1.133604e-30  7.890369e-31\n",
       "7226    4.596980e-30  1.816898e-31  4.415290e-30\n",
       "297570  1.926582e-29  1.411984e-29  5.145981e-30"
      ]
     },
     "execution_count": 30,
     "metadata": {},
     "output_type": "execute_result"
    }
   ],
   "source": [
    "df[abs(df['gap-1']/df[f'{A}-1'])>cut][[f'{A}-1', f'{B}-1', 'gap-1']].sort_values('gap-1')"
   ]
  },
  {
   "cell_type": "code",
   "execution_count": 31,
   "id": "708847ad",
   "metadata": {},
   "outputs": [
    {
     "data": {
      "text/html": [
       "<div>\n",
       "<style scoped>\n",
       "    .dataframe tbody tr th:only-of-type {\n",
       "        vertical-align: middle;\n",
       "    }\n",
       "\n",
       "    .dataframe tbody tr th {\n",
       "        vertical-align: top;\n",
       "    }\n",
       "\n",
       "    .dataframe thead th {\n",
       "        text-align: right;\n",
       "    }\n",
       "</style>\n",
       "<table border=\"1\" class=\"dataframe\">\n",
       "  <thead>\n",
       "    <tr style=\"text-align: right;\">\n",
       "      <th></th>\n",
       "      <th>mcwat0</th>\n",
       "      <th>mcwas0</th>\n",
       "      <th>gap0</th>\n",
       "    </tr>\n",
       "  </thead>\n",
       "  <tbody>\n",
       "  </tbody>\n",
       "</table>\n",
       "</div>"
      ],
      "text/plain": [
       "Empty DataFrame\n",
       "Columns: [mcwat0, mcwas0, gap0]\n",
       "Index: []"
      ]
     },
     "execution_count": 31,
     "metadata": {},
     "output_type": "execute_result"
    }
   ],
   "source": [
    "df[abs(df['gap0']/df[f'{A}0'])>cut][[f'{A}0', f'{B}0', 'gap0']].sort_values('gap0')"
   ]
  },
  {
   "cell_type": "code",
   "execution_count": 32,
   "id": "473d6247",
   "metadata": {},
   "outputs": [
    {
     "data": {
      "text/html": [
       "<div>\n",
       "<style scoped>\n",
       "    .dataframe tbody tr th:only-of-type {\n",
       "        vertical-align: middle;\n",
       "    }\n",
       "\n",
       "    .dataframe tbody tr th {\n",
       "        vertical-align: top;\n",
       "    }\n",
       "\n",
       "    .dataframe thead th {\n",
       "        text-align: right;\n",
       "    }\n",
       "</style>\n",
       "<table border=\"1\" class=\"dataframe\">\n",
       "  <thead>\n",
       "    <tr style=\"text-align: right;\">\n",
       "      <th></th>\n",
       "      <th>mcwat+1</th>\n",
       "      <th>mcwas+1</th>\n",
       "      <th>gap+1</th>\n",
       "    </tr>\n",
       "  </thead>\n",
       "  <tbody>\n",
       "    <tr>\n",
       "      <th>409624</th>\n",
       "      <td>2.444636e-29</td>\n",
       "      <td>2.108036e-28</td>\n",
       "      <td>-1.863573e-28</td>\n",
       "    </tr>\n",
       "    <tr>\n",
       "      <th>8472</th>\n",
       "      <td>3.626643e-31</td>\n",
       "      <td>4.753130e-30</td>\n",
       "      <td>-4.390465e-30</td>\n",
       "    </tr>\n",
       "    <tr>\n",
       "      <th>187144</th>\n",
       "      <td>3.626643e-31</td>\n",
       "      <td>4.753130e-30</td>\n",
       "      <td>-4.390465e-30</td>\n",
       "    </tr>\n",
       "    <tr>\n",
       "      <th>363501</th>\n",
       "      <td>2.494161e-31</td>\n",
       "      <td>2.238260e-30</td>\n",
       "      <td>-1.988844e-30</td>\n",
       "    </tr>\n",
       "    <tr>\n",
       "      <th>82988</th>\n",
       "      <td>2.494161e-31</td>\n",
       "      <td>2.238260e-30</td>\n",
       "      <td>-1.988844e-30</td>\n",
       "    </tr>\n",
       "    <tr>\n",
       "      <th>211535</th>\n",
       "      <td>4.125377e-31</td>\n",
       "      <td>1.888210e-30</td>\n",
       "      <td>-1.475672e-30</td>\n",
       "    </tr>\n",
       "    <tr>\n",
       "      <th>7475</th>\n",
       "      <td>1.234651e-31</td>\n",
       "      <td>1.458717e-30</td>\n",
       "      <td>-1.335252e-30</td>\n",
       "    </tr>\n",
       "    <tr>\n",
       "      <th>79794</th>\n",
       "      <td>1.234651e-31</td>\n",
       "      <td>1.458717e-30</td>\n",
       "      <td>-1.335252e-30</td>\n",
       "    </tr>\n",
       "    <tr>\n",
       "      <th>370407</th>\n",
       "      <td>3.936793e-32</td>\n",
       "      <td>1.326363e-30</td>\n",
       "      <td>-1.286995e-30</td>\n",
       "    </tr>\n",
       "    <tr>\n",
       "      <th>21469</th>\n",
       "      <td>3.936793e-32</td>\n",
       "      <td>1.326363e-30</td>\n",
       "      <td>-1.286995e-30</td>\n",
       "    </tr>\n",
       "    <tr>\n",
       "      <th>186659</th>\n",
       "      <td>3.136694e-31</td>\n",
       "      <td>1.521044e-30</td>\n",
       "      <td>-1.207375e-30</td>\n",
       "    </tr>\n",
       "    <tr>\n",
       "      <th>16394</th>\n",
       "      <td>3.136694e-31</td>\n",
       "      <td>1.521044e-30</td>\n",
       "      <td>-1.207375e-30</td>\n",
       "    </tr>\n",
       "    <tr>\n",
       "      <th>367359</th>\n",
       "      <td>1.217827e-31</td>\n",
       "      <td>1.085985e-30</td>\n",
       "      <td>-9.642020e-31</td>\n",
       "    </tr>\n",
       "    <tr>\n",
       "      <th>263149</th>\n",
       "      <td>8.160898e-31</td>\n",
       "      <td>1.644837e-30</td>\n",
       "      <td>-8.287471e-31</td>\n",
       "    </tr>\n",
       "    <tr>\n",
       "      <th>3105</th>\n",
       "      <td>5.636041e-32</td>\n",
       "      <td>8.692807e-31</td>\n",
       "      <td>-8.129203e-31</td>\n",
       "    </tr>\n",
       "    <tr>\n",
       "      <th>496193</th>\n",
       "      <td>5.636041e-32</td>\n",
       "      <td>8.692807e-31</td>\n",
       "      <td>-8.129203e-31</td>\n",
       "    </tr>\n",
       "    <tr>\n",
       "      <th>82242</th>\n",
       "      <td>5.092136e-31</td>\n",
       "      <td>5.396045e-31</td>\n",
       "      <td>-3.039097e-32</td>\n",
       "    </tr>\n",
       "    <tr>\n",
       "      <th>10575</th>\n",
       "      <td>4.247095e-31</td>\n",
       "      <td>3.205230e-31</td>\n",
       "      <td>1.041865e-31</td>\n",
       "    </tr>\n",
       "    <tr>\n",
       "      <th>6223</th>\n",
       "      <td>4.977607e-31</td>\n",
       "      <td>2.674493e-31</td>\n",
       "      <td>2.303114e-31</td>\n",
       "    </tr>\n",
       "    <tr>\n",
       "      <th>435866</th>\n",
       "      <td>4.977607e-31</td>\n",
       "      <td>2.674493e-31</td>\n",
       "      <td>2.303114e-31</td>\n",
       "    </tr>\n",
       "    <tr>\n",
       "      <th>409622</th>\n",
       "      <td>1.612030e-30</td>\n",
       "      <td>1.348762e-30</td>\n",
       "      <td>2.632683e-31</td>\n",
       "    </tr>\n",
       "    <tr>\n",
       "      <th>379535</th>\n",
       "      <td>2.730919e-30</td>\n",
       "      <td>1.734309e-30</td>\n",
       "      <td>9.966103e-31</td>\n",
       "    </tr>\n",
       "    <tr>\n",
       "      <th>7226</th>\n",
       "      <td>3.598600e-30</td>\n",
       "      <td>2.285761e-31</td>\n",
       "      <td>3.370024e-30</td>\n",
       "    </tr>\n",
       "    <tr>\n",
       "      <th>397025</th>\n",
       "      <td>1.603381e-28</td>\n",
       "      <td>8.719050e-29</td>\n",
       "      <td>7.314755e-29</td>\n",
       "    </tr>\n",
       "    <tr>\n",
       "      <th>297570</th>\n",
       "      <td>1.382635e-28</td>\n",
       "      <td>1.507796e-29</td>\n",
       "      <td>1.231855e-28</td>\n",
       "    </tr>\n",
       "    <tr>\n",
       "      <th>15408</th>\n",
       "      <td>5.874451e-28</td>\n",
       "      <td>4.514179e-28</td>\n",
       "      <td>1.360272e-28</td>\n",
       "    </tr>\n",
       "  </tbody>\n",
       "</table>\n",
       "</div>"
      ],
      "text/plain": [
       "             mcwat+1       mcwas+1         gap+1\n",
       "409624  2.444636e-29  2.108036e-28 -1.863573e-28\n",
       "8472    3.626643e-31  4.753130e-30 -4.390465e-30\n",
       "187144  3.626643e-31  4.753130e-30 -4.390465e-30\n",
       "363501  2.494161e-31  2.238260e-30 -1.988844e-30\n",
       "82988   2.494161e-31  2.238260e-30 -1.988844e-30\n",
       "211535  4.125377e-31  1.888210e-30 -1.475672e-30\n",
       "7475    1.234651e-31  1.458717e-30 -1.335252e-30\n",
       "79794   1.234651e-31  1.458717e-30 -1.335252e-30\n",
       "370407  3.936793e-32  1.326363e-30 -1.286995e-30\n",
       "21469   3.936793e-32  1.326363e-30 -1.286995e-30\n",
       "186659  3.136694e-31  1.521044e-30 -1.207375e-30\n",
       "16394   3.136694e-31  1.521044e-30 -1.207375e-30\n",
       "367359  1.217827e-31  1.085985e-30 -9.642020e-31\n",
       "263149  8.160898e-31  1.644837e-30 -8.287471e-31\n",
       "3105    5.636041e-32  8.692807e-31 -8.129203e-31\n",
       "496193  5.636041e-32  8.692807e-31 -8.129203e-31\n",
       "82242   5.092136e-31  5.396045e-31 -3.039097e-32\n",
       "10575   4.247095e-31  3.205230e-31  1.041865e-31\n",
       "6223    4.977607e-31  2.674493e-31  2.303114e-31\n",
       "435866  4.977607e-31  2.674493e-31  2.303114e-31\n",
       "409622  1.612030e-30  1.348762e-30  2.632683e-31\n",
       "379535  2.730919e-30  1.734309e-30  9.966103e-31\n",
       "7226    3.598600e-30  2.285761e-31  3.370024e-30\n",
       "397025  1.603381e-28  8.719050e-29  7.314755e-29\n",
       "297570  1.382635e-28  1.507796e-29  1.231855e-28\n",
       "15408   5.874451e-28  4.514179e-28  1.360272e-28"
      ]
     },
     "execution_count": 32,
     "metadata": {},
     "output_type": "execute_result"
    }
   ],
   "source": [
    "df[abs(df['gap+1']/df[f'{A}+1'])>cut][[f'{A}+1', f'{B}+1', 'gap+1']].sort_values('gap+1')"
   ]
  },
  {
   "cell_type": "markdown",
   "id": "648d88ee",
   "metadata": {},
   "source": [
    "# benchmark - simulation time"
   ]
  },
  {
   "cell_type": "markdown",
   "id": "cede83a9",
   "metadata": {},
   "source": [
    "## run time by time.time()"
   ]
  },
  {
   "cell_type": "code",
   "execution_count": 18,
   "id": "25a72d12",
   "metadata": {},
   "outputs": [
    {
     "data": {
      "image/png": "[encoded data removed]",
      "text/plain": [
       "<Figure size 1440x360 with 2 Axes>"
      ]
     },
     "metadata": {
      "needs_background": "light"
     },
     "output_type": "display_data"
    }
   ],
   "source": [
    "fig, axes = plt.subplots(1,2, figsize=(20,5))\n",
    "axes[0].hist([df[f't_{A}'],df[f't_{B}']], bins=100)\n",
    "axes[1].hist([df[f't_{A}'],df[f't_{B}']], bins=100, log=True)\n",
    "plt.show()"
   ]
  },
  {
   "cell_type": "markdown",
   "id": "7fa5d789",
   "metadata": {},
   "source": [
    "Blue is  meent-TMM, Oragne is meent-SMM"
   ]
  },
  {
   "cell_type": "markdown",
   "id": "3a2ab4cf",
   "metadata": {},
   "source": [
    "## SMM time / TMM time"
   ]
  },
  {
   "cell_type": "code",
   "execution_count": 19,
   "id": "11ea8ef4",
   "metadata": {},
   "outputs": [
    {
     "data": {
      "image/png": "[encoded data removed]",
      "text/plain": [
       "<Figure size 1440x360 with 2 Axes>"
      ]
     },
     "metadata": {
      "needs_background": "light"
     },
     "output_type": "display_data"
    }
   ],
   "source": [
    "fig, axes = plt.subplots(1,2, figsize=(20,5))\n",
    "axes[0].axvline(1, c='r')\n",
    "axes[1].axvline(1, c='r')\n",
    "axes[0].hist((df[f't_{B}'])/df[f't_{A}'], bins=100)\n",
    "axes[1].hist((df[f't_{B}'])/df[f't_{A}'], bins=100)\n",
    "axes[1].set_yscale('log')\n",
    "plt.show()"
   ]
  },
  {
   "cell_type": "code",
   "execution_count": 20,
   "id": "92fd0482",
   "metadata": {},
   "outputs": [
    {
     "data": {
      "text/html": [
       "<div>\n",
       "<style scoped>\n",
       "    .dataframe tbody tr th:only-of-type {\n",
       "        vertical-align: middle;\n",
       "    }\n",
       "\n",
       "    .dataframe tbody tr th {\n",
       "        vertical-align: top;\n",
       "    }\n",
       "\n",
       "    .dataframe thead th {\n",
       "        text-align: right;\n",
       "    }\n",
       "</style>\n",
       "<table border=\"1\" class=\"dataframe\">\n",
       "  <thead>\n",
       "    <tr style=\"text-align: right;\">\n",
       "      <th></th>\n",
       "      <th>count</th>\n",
       "      <th>mean</th>\n",
       "      <th>std</th>\n",
       "      <th>min</th>\n",
       "      <th>25%</th>\n",
       "      <th>50%</th>\n",
       "      <th>75%</th>\n",
       "      <th>max</th>\n",
       "    </tr>\n",
       "  </thead>\n",
       "  <tbody>\n",
       "    <tr>\n",
       "      <th>0</th>\n",
       "      <td>608609.0</td>\n",
       "      <td>1.61174</td>\n",
       "      <td>0.198551</td>\n",
       "      <td>0.567782</td>\n",
       "      <td>1.464237</td>\n",
       "      <td>1.573006</td>\n",
       "      <td>1.747178</td>\n",
       "      <td>4.066429</td>\n",
       "    </tr>\n",
       "  </tbody>\n",
       "</table>\n",
       "</div>"
      ],
      "text/plain": [
       "      count     mean       std       min       25%       50%       75%  \\\n",
       "0  608609.0  1.61174  0.198551  0.567782  1.464237  1.573006  1.747178   \n",
       "\n",
       "        max  \n",
       "0  4.066429  "
      ]
     },
     "execution_count": 20,
     "metadata": {},
     "output_type": "execute_result"
    }
   ],
   "source": [
    "pd.DataFrame((df[f't_{B}']/df[f't_{A}']).describe()).T"
   ]
  },
  {
   "cell_type": "markdown",
   "id": "e99f3aca",
   "metadata": {},
   "source": [
    "meent-TMM is faster 1.6 times than SMM.\n",
    "\n",
    "right side of red line: TMM is faster"
   ]
  },
  {
   "cell_type": "markdown",
   "id": "6bb674a5",
   "metadata": {},
   "source": [
    "## time.process_time()"
   ]
  },
  {
   "cell_type": "code",
   "execution_count": 21,
   "id": "45fb27af",
   "metadata": {
    "scrolled": true
   },
   "outputs": [
    {
     "data": {
      "image/png": "[encoded data removed]",
      "text/plain": [
       "<Figure size 1440x360 with 2 Axes>"
      ]
     },
     "metadata": {
      "needs_background": "light"
     },
     "output_type": "display_data"
    }
   ],
   "source": [
    "fig, axes = plt.subplots(1,2, figsize=(20,5))\n",
    "axes[0].hist([df[f'tpr_{A}'],df[f'tpr_{B}']], bins=100)\n",
    "axes[1].hist([df[f'tpr_{A}'],df[f'tpr_{B}']], bins=100, log=True)\n",
    "plt.show()"
   ]
  },
  {
   "cell_type": "code",
   "execution_count": 22,
   "id": "78e0d498",
   "metadata": {
    "scrolled": true
   },
   "outputs": [
    {
     "data": {
      "image/png": "[encoded data removed]",
      "text/plain": [
       "<Figure size 1440x360 with 2 Axes>"
      ]
     },
     "metadata": {
      "needs_background": "light"
     },
     "output_type": "display_data"
    }
   ],
   "source": [
    "fig, axes = plt.subplots(1,2, figsize=(20,5))\n",
    "axes[0].axvline(1, c='r')\n",
    "axes[1].axvline(1, c='r')\n",
    "axes[0].hist((df[f'tpr_{B}'])/df[f'tpr_{A}'], bins=100)\n",
    "axes[1].hist((df[f'tpr_{B}'])/df[f'tpr_{A}'], bins=100)\n",
    "axes[1].set_yscale('log')\n",
    "plt.show()"
   ]
  },
  {
   "cell_type": "code",
   "execution_count": 23,
   "id": "4d06b75f",
   "metadata": {},
   "outputs": [
    {
     "data": {
      "text/html": [
       "<div>\n",
       "<style scoped>\n",
       "    .dataframe tbody tr th:only-of-type {\n",
       "        vertical-align: middle;\n",
       "    }\n",
       "\n",
       "    .dataframe tbody tr th {\n",
       "        vertical-align: top;\n",
       "    }\n",
       "\n",
       "    .dataframe thead th {\n",
       "        text-align: right;\n",
       "    }\n",
       "</style>\n",
       "<table border=\"1\" class=\"dataframe\">\n",
       "  <thead>\n",
       "    <tr style=\"text-align: right;\">\n",
       "      <th></th>\n",
       "      <th>count</th>\n",
       "      <th>mean</th>\n",
       "      <th>std</th>\n",
       "      <th>min</th>\n",
       "      <th>25%</th>\n",
       "      <th>50%</th>\n",
       "      <th>75%</th>\n",
       "      <th>max</th>\n",
       "    </tr>\n",
       "  </thead>\n",
       "  <tbody>\n",
       "    <tr>\n",
       "      <th>0</th>\n",
       "      <td>608609.0</td>\n",
       "      <td>1.835199</td>\n",
       "      <td>0.207671</td>\n",
       "      <td>0.749124</td>\n",
       "      <td>1.688946</td>\n",
       "      <td>1.82247</td>\n",
       "      <td>1.955753</td>\n",
       "      <td>4.260806</td>\n",
       "    </tr>\n",
       "  </tbody>\n",
       "</table>\n",
       "</div>"
      ],
      "text/plain": [
       "      count      mean       std       min       25%      50%       75%  \\\n",
       "0  608609.0  1.835199  0.207671  0.749124  1.688946  1.82247  1.955753   \n",
       "\n",
       "        max  \n",
       "0  4.260806  "
      ]
     },
     "execution_count": 23,
     "metadata": {},
     "output_type": "execute_result"
    }
   ],
   "source": [
    "pd.DataFrame((df[f'tpr_{B}']/df[f'tpr_{A}']).describe()).T"
   ]
  },
  {
   "cell_type": "markdown",
   "id": "63cab322",
   "metadata": {},
   "source": [
    "hard to tell..."
   ]
  }
 ],
 "metadata": {
  "kernelspec": {
   "display_name": "Python 3 (ipykernel)",
   "language": "python",
   "name": "python3"
  },
  "language_info": {
   "codemirror_mode": {
    "name": "ipython",
    "version": 3
   },
   "file_extension": ".py",
   "mimetype": "text/x-python",
   "name": "python",
   "nbconvert_exporter": "python",
   "pygments_lexer": "ipython3",
   "version": "3.9.12"
  }
 },
 "nbformat": 4,
 "nbformat_minor": 5
}
