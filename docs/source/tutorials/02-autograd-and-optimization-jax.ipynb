{
 "cells": [
  {
   "cell_type": "markdown",
   "metadata": {},
   "source": [
    "# Meent Tutorial 2\n",
    "## Gradient and Optimization with [JAX](https://jax.readthedocs.io) and [Optax](https://optax.readthedocs.io/)"
   ]
  },
  {
   "cell_type": "code",
   "execution_count": 1,
   "metadata": {},
   "outputs": [],
   "source": [
    "import jax\n",
    "import optax\n",
    "\n",
    "import jax.numpy as jnp\n",
    "\n",
    "import meent\n",
    "from meent.on_jax.optimizer.loss import LossDeflector"
   ]
  },
  {
   "cell_type": "code",
   "execution_count": 2,
   "metadata": {},
   "outputs": [],
   "source": [
    "backend = 1  # JAX\n",
    "\n",
    "# common\n",
    "pol = 0  # 0: TE, 1: TM\n",
    "\n",
    "n_I = 1  # n_incidence\n",
    "n_II = 1  # n_transmission\n",
    "\n",
    "theta = 0 * jnp.pi / 180  # angle of incidence\n",
    "phi = 0 * jnp.pi / 180  # angle of rotation\n",
    "\n",
    "wavelength = 900\n",
    "\n",
    "thickness = [500., 1000.]  # thickness of each layer, from top to bottom.\n",
    "period = [1000.]  # length of the unit cell. Here it's 1D.\n",
    "\n",
    "fourier_order = [10]\n",
    "\n",
    "type_complex = jnp.complex128\n",
    "\n",
    "grating_type = 0  # grating type: 0 for 1D grating without rotation (phi == 0)"
   ]
  },
  {
   "cell_type": "code",
   "execution_count": 3,
   "metadata": {},
   "outputs": [],
   "source": [
    "ucell_1d_m = jnp.array([\n",
    "    [[0, 0, 0, 1, 1, 1, 1, 0, 0, 0, ]],\n",
    "    [[1, 1, 1, 1, 0, 1, 1, 1, 1, 1, ]],\n",
    "    ]) * 4. + 1.  # refractive index"
   ]
  },
  {
   "cell_type": "markdown",
   "metadata": {},
   "source": [
    "## 2.1 Gradient\n",
    "\n",
    "Gradient can be calculated with the help of `jax.value_and_grad` function.\n",
    "Read this for further information: [Automatic Differentiation](https://jax.readthedocs.io/en/latest/jax-101/04-advanced-autodiff.html)\n",
    "\n",
    "Optax is used for optimization. Like PyTorch, Optax also provides various loss functions and optimizers so users easily can utilize well-established implementations. Refer this tutorial: [Learn Optax](https://optax.readthedocs.io/en/latest/optax-101.html)\n",
    "\n",
    "\n",
    "Gradient can be utilized to solve optimization problems. Here are examples that show couple of ways to get gradient or optimized values with or without predefined functions of meent."
   ]
  },
  {
   "cell_type": "markdown",
   "metadata": {},
   "source": [
    "### 2.1.1 Examples"
   ]
  },
  {
   "cell_type": "code",
   "execution_count": 4,
   "metadata": {},
   "outputs": [
    {
     "name": "stdout",
     "output_type": "stream",
     "text": [
      "ucell gradient:\n",
      "[[[-0.05115948 -0.02534053 -0.00729983  0.07873275 -0.01842706\n",
      "    0.09449833  0.08780079 -0.001232   -0.03641673 -0.04781187]]\n",
      "\n",
      " [[-0.1795402  -0.08599972 -0.2222932  -0.19380002  0.08989283\n",
      "    0.05578499 -0.04559217 -0.13589897 -0.29833958  0.12877706]]]\n",
      "thickness gradient:\n",
      "[Array(0.00222085, dtype=float64, weak_type=True), Array(-0.00671622, dtype=float64, weak_type=True)]\n"
     ]
    }
   ],
   "source": [
    "mee = meent.call_mee(backend=backend, grating_type=grating_type, pol=pol, n_I=n_I, n_II=n_II, theta=theta, phi=phi, fourier_order=fourier_order, wavelength=wavelength, period=period, ucell=ucell_1d_m, thickness=thickness, type_complex=type_complex, fft_type=0, improve_dft=True)\n",
    "\n",
    "pois = ['ucell', 'thickness']\n",
    "forward = mee.conv_solve\n",
    "loss_fn = LossDeflector(x_order=1, y_order=0)\n",
    "\n",
    "# case 1: Gradient\n",
    "grad = mee.grad(pois, forward, loss_fn)\n",
    "\n",
    "print('ucell gradient:')\n",
    "print(grad['ucell'])\n",
    "print('thickness gradient:')\n",
    "print(grad['thickness'])"
   ]
  },
  {
   "cell_type": "markdown",
   "metadata": {},
   "source": [
    "## 2.2 Optimization"
   ]
  },
  {
   "cell_type": "markdown",
   "metadata": {},
   "source": [
    "### 2.2.1 Examples"
   ]
  },
  {
   "cell_type": "markdown",
   "metadata": {},
   "source": [
    "Example 1"
   ]
  },
  {
   "cell_type": "code",
   "execution_count": 5,
   "metadata": {},
   "outputs": [
    {
     "name": "stderr",
     "output_type": "stream",
     "text": [
      "100%|██████████| 3/3 [00:04<00:00,  1.59s/it]"
     ]
    },
    {
     "name": "stdout",
     "output_type": "stream",
     "text": [
      "ucell final:\n",
      "[[[1.00286486 1.00145571 1.00050162 4.9966673  5.00175321 4.99580683\n",
      "   4.99617408 1.00015106 1.00214675 1.00275149]]\n",
      "\n",
      " [[5.00542326 4.99990074 5.00824614 5.00650358 0.99324857 4.99253641\n",
      "   4.99834413 5.00367486 5.01333385 4.98859416]]]\n",
      "thickness final:\n",
      "[Array(499.9998925, dtype=float64), Array(1000.00039494, dtype=float64)]\n"
     ]
    },
    {
     "name": "stderr",
     "output_type": "stream",
     "text": [
      "\n"
     ]
    }
   ],
   "source": [
    "mee = meent.call_mee(backend=backend, grating_type=grating_type, pol=pol, n_I=n_I, n_II=n_II, theta=theta, phi=phi, fourier_order=fourier_order, wavelength=wavelength, period=period, ucell=ucell_1d_m, thickness=thickness, type_complex=type_complex, fft_type=0, improve_dft=True)\n",
    "\n",
    "pois = ['ucell', 'thickness']\n",
    "forward = mee.conv_solve\n",
    "loss_fn = LossDeflector(x_order=1, y_order=0)\n",
    "\n",
    "# case 2: SGD\n",
    "optimizer = optax.sgd(learning_rate=1e-2, momentum=0.9)\n",
    "res = mee.fit(pois, forward, loss_fn, optimizer, iteration=3)\n",
    "\n",
    "print('ucell final:')\n",
    "print(res['ucell'])\n",
    "print('thickness final:')\n",
    "print(res['thickness'])"
   ]
  }
 ],
 "metadata": {
  "kernelspec": {
   "display_name": "Python 3 (ipykernel)",
   "language": "python",
   "name": "python3"
  },
  "language_info": {
   "codemirror_mode": {
    "name": "ipython",
    "version": 3
   },
   "file_extension": ".py",
   "mimetype": "text/x-python",
   "name": "python",
   "nbconvert_exporter": "python",
   "pygments_lexer": "ipython3",
   "version": "3.10.10"
  }
 },
 "nbformat": 4,
 "nbformat_minor": 1
}
